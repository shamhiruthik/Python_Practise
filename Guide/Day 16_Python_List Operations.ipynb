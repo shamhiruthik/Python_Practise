{
 "cells": [
  {
   "cell_type": "markdown",
   "metadata": {},
   "source": [
    "# Python List\n",
    "\n",
    "In this session, we'll learn everything about Python lists Operations\n"
   ]
  },
  {
   "cell_type": "markdown",
   "metadata": {},
   "source": [
    "## Python List Operations\n",
    "\n"
   ]
  },
  {
   "cell_type": "markdown",
   "metadata": {},
   "source": [
    "### Add/Change List Elements\n"
   ]
  },
  {
   "cell_type": "code",
   "execution_count": 1,
   "metadata": {
    "ExecuteTime": {
     "end_time": "2021-10-03T09:17:25.010562Z",
     "start_time": "2021-10-03T09:17:24.992012Z"
    }
   },
   "outputs": [
    {
     "name": "stdout",
     "output_type": "stream",
     "text": [
      "[1, 4, 6, 8]\n",
      "[1, 3, 5, 7]\n"
     ]
    }
   ],
   "source": [
    "# Example: Correcting mistake values in a list\n",
    "\n",
    "odd = [2, 4, 6, 8]\n",
    "  \n",
    "odd[0] = 1            # ▶ [1, 4, 6, 8] ∵ update 1st element         \n",
    "print(odd)\n",
    "\n",
    "odd[1:4] = [3, 5, 7]  # ▶ [1, 3, 5, 7] ∵ update 2nd to 4th elements\n",
    "print(odd)  "
   ]
  },
  {
   "cell_type": "code",
   "execution_count": 2,
   "metadata": {
    "ExecuteTime": {
     "end_time": "2021-10-03T09:17:25.296700Z",
     "start_time": "2021-10-03T09:17:25.276192Z"
    },
    "scrolled": false
   },
   "outputs": [
    {
     "name": "stdout",
     "output_type": "stream",
     "text": [
      "[5, 10, 15, 20, 25]\n",
      "[5, 10, 'Multiple of 5', 20, 25]\n"
     ]
    }
   ],
   "source": [
    "# Example:\n",
    "\n",
    "data1=[5,10,15,20,25]\n",
    "print(data1) # ▶ [5, 10, 15, 20, 25]\n",
    "\n",
    "data1[2]=\"Multiple of 5\"  # we are modifying the 3rd element using its index [2] \n",
    "print(data1) # ▶ [5, 10, 'Multiple of 5', 20, 25]"
   ]
  },
  {
   "cell_type": "code",
   "execution_count": 3,
   "metadata": {
    "ExecuteTime": {
     "end_time": "2021-10-03T09:17:26.102368Z",
     "start_time": "2021-10-03T09:17:26.088696Z"
    },
    "scrolled": true
   },
   "outputs": [
    {
     "name": "stdout",
     "output_type": "stream",
     "text": [
      "[1, 3, 5, 7]\n",
      "[1, 3, 5, 7, 9, 11, 13]\n"
     ]
    }
   ],
   "source": [
    "# Example: Appending and Extending lists in Python\n",
    "\n",
    "odd = [1, 3, 5]\n",
    "\n",
    "odd.append(7)\n",
    "print(odd)  # ▶ [1, 3, 5, 7]\n",
    "\n",
    "odd.extend([9, 11, 13])\n",
    "print(odd)  # ▶ [1, 3, 5, 7, 9, 11, 13]"
   ]
  },
  {
   "cell_type": "code",
   "execution_count": 4,
   "metadata": {
    "ExecuteTime": {
     "end_time": "2021-10-03T09:17:26.411450Z",
     "start_time": "2021-10-03T09:17:26.383133Z"
    }
   },
   "outputs": [
    {
     "name": "stdout",
     "output_type": "stream",
     "text": [
      "['a', 'b', 'c', 1.5, 'x', ['y', 'z']]\n"
     ]
    }
   ],
   "source": [
    "# Example:\n",
    "\n",
    "list1=['a','b','c']\n",
    "list1.append(1.5)\n",
    "list1.append('x')\n",
    "list1.append(['y','z']) # append list into list as single object\n",
    "print(list1)  # ▶ ['a', 'b', 'c', 1.5, 'x', ['y', 'z']]"
   ]
  },
  {
   "cell_type": "code",
   "execution_count": 5,
   "metadata": {
    "ExecuteTime": {
     "end_time": "2021-10-03T09:17:27.189775Z",
     "start_time": "2021-10-03T09:17:27.169273Z"
    }
   },
   "outputs": [
    {
     "name": "stdout",
     "output_type": "stream",
     "text": [
      "[1, 3, 5, 9, 7, 5]\n"
     ]
    }
   ],
   "source": [
    "# Example: Concatenating and repeating lists\n",
    "\n",
    "odd = [1, 3, 5]\n",
    "print(odd + [9, 7, 5]) # ▶ [1, 3, 5, 9, 7, 5] "
   ]
  },
  {
   "cell_type": "code",
   "execution_count": 6,
   "metadata": {
    "ExecuteTime": {
     "end_time": "2021-10-03T09:17:27.402669Z",
     "start_time": "2021-10-03T09:17:27.383145Z"
    },
    "scrolled": false
   },
   "outputs": [
    {
     "name": "stdout",
     "output_type": "stream",
     "text": [
      "['a', 'b', 'c', 'x', 'y', 'z']\n"
     ]
    }
   ],
   "source": [
    "# Example:\n",
    "\n",
    "list1=['a','b','c']\n",
    "list2=['x','y','z']\n",
    "list3=list1+list2\n",
    "print(list3)  # ▶ ['a', 'b', 'c', 'x', 'y', 'z']"
   ]
  },
  {
   "cell_type": "code",
   "execution_count": 7,
   "metadata": {
    "ExecuteTime": {
     "end_time": "2021-10-03T09:17:27.828941Z",
     "start_time": "2021-10-03T09:17:27.750817Z"
    },
    "scrolled": true
   },
   "outputs": [
    {
     "ename": "TypeError",
     "evalue": "can only concatenate list (not \"str\") to list",
     "output_type": "error",
     "traceback": [
      "\u001b[1;31m---------------------------------------------------------------------------\u001b[0m",
      "\u001b[1;31mTypeError\u001b[0m                                 Traceback (most recent call last)",
      "\u001b[1;32m~\\AppData\\Local\\Temp/ipykernel_17120/1305928048.py\u001b[0m in \u001b[0;36m<module>\u001b[1;34m\u001b[0m\n\u001b[0;32m      3\u001b[0m \u001b[0mlist1\u001b[0m\u001b[1;33m=\u001b[0m\u001b[1;33m[\u001b[0m\u001b[1;34m'a'\u001b[0m\u001b[1;33m,\u001b[0m\u001b[1;34m'b'\u001b[0m\u001b[1;33m,\u001b[0m\u001b[1;34m'c'\u001b[0m\u001b[1;33m]\u001b[0m\u001b[1;33m\u001b[0m\u001b[1;33m\u001b[0m\u001b[0m\n\u001b[0;32m      4\u001b[0m \u001b[0ma\u001b[0m\u001b[1;33m=\u001b[0m\u001b[1;34m'x'\u001b[0m\u001b[1;33m\u001b[0m\u001b[1;33m\u001b[0m\u001b[0m\n\u001b[1;32m----> 5\u001b[1;33m \u001b[0mprint\u001b[0m\u001b[1;33m(\u001b[0m\u001b[0mlist1\u001b[0m\u001b[1;33m+\u001b[0m\u001b[0ma\u001b[0m\u001b[1;33m)\u001b[0m  \u001b[1;31m# ▶ TypeError: can only concatenate list (not \"str\") to list\u001b[0m\u001b[1;33m\u001b[0m\u001b[1;33m\u001b[0m\u001b[0m\n\u001b[0m",
      "\u001b[1;31mTypeError\u001b[0m: can only concatenate list (not \"str\") to list"
     ]
    }
   ],
   "source": [
    "# Example:\n",
    "\n",
    "list1=['a','b','c']\n",
    "a='x'\n",
    "print(list1+a)  # ▶ TypeError: can only concatenate list (not \"str\") to list"
   ]
  },
  {
   "cell_type": "code",
   "execution_count": 8,
   "metadata": {
    "ExecuteTime": {
     "end_time": "2021-10-03T09:17:28.334314Z",
     "start_time": "2021-10-03T09:17:28.322599Z"
    }
   },
   "outputs": [
    {
     "name": "stdout",
     "output_type": "stream",
     "text": [
      "[1, 3, 5, 9, 7, 5]\n",
      "['re', 're', 're']\n"
     ]
    }
   ],
   "source": [
    "# Example: Concatenating and repeating lists\n",
    "\n",
    "odd = [1, 3, 5]\n",
    "\n",
    "print(odd + [9, 7, 5])  # ▶ [1, 3, 5, 9, 7, 5]\n",
    "print([\"re\"] * 3)       # ▶ ['re', 're', 're']"
   ]
  },
  {
   "cell_type": "code",
   "execution_count": 9,
   "metadata": {
    "ExecuteTime": {
     "end_time": "2021-10-03T09:17:28.534510Z",
     "start_time": "2021-10-03T09:17:28.519867Z"
    }
   },
   "outputs": [
    {
     "name": "stdout",
     "output_type": "stream",
     "text": [
      "['a', 'b', 'c', 'a', 'b', 'c', 'a', 'b', 'c']\n",
      "['re', 're', 're']\n"
     ]
    }
   ],
   "source": [
    "# Example:\n",
    "\n",
    "list1=['a','b','c']\n",
    "print(list1*3)    # ▶ quux ∵ \n",
    "print([\"re\"] * 3) # ▶ quux ∵ "
   ]
  },
  {
   "cell_type": "code",
   "execution_count": 10,
   "metadata": {
    "ExecuteTime": {
     "end_time": "2021-10-03T09:17:29.052094Z",
     "start_time": "2021-10-03T09:17:29.043306Z"
    }
   },
   "outputs": [
    {
     "name": "stdout",
     "output_type": "stream",
     "text": [
      "[1, 3, 9]\n",
      "[1, 3, 5, 7, 9]\n"
     ]
    }
   ],
   "source": [
    "# Example: Demonstration of list insert() method\n",
    "\n",
    "odd = [1, 9]\n",
    "odd.insert(1,3)\n",
    "print(odd)  # ▶ [1, 3, 9] \n",
    "\n",
    "odd[2:2] = [5, 7]\n",
    "print(odd)  # ▶ [1, 3, 5, 7, 9]"
   ]
  },
  {
   "cell_type": "markdown",
   "metadata": {},
   "source": [
    "### Delete/Remove List Elements\n",
    "\n"
   ]
  },
  {
   "cell_type": "code",
   "execution_count": 11,
   "metadata": {
    "ExecuteTime": {
     "end_time": "2021-10-03T09:17:29.481784Z",
     "start_time": "2021-10-03T09:17:29.461278Z"
    },
    "scrolled": true
   },
   "outputs": [
    {
     "name": "stdout",
     "output_type": "stream",
     "text": [
      "['p', 'r', 'b', 'l', 'e', 'm']\n",
      "['p', 'm']\n"
     ]
    },
    {
     "ename": "NameError",
     "evalue": "name 'my_list' is not defined",
     "output_type": "error",
     "traceback": [
      "\u001b[1;31m---------------------------------------------------------------------------\u001b[0m",
      "\u001b[1;31mNameError\u001b[0m                                 Traceback (most recent call last)",
      "\u001b[1;32m~\\AppData\\Local\\Temp/ipykernel_17120/2528350536.py\u001b[0m in \u001b[0;36m<module>\u001b[1;34m\u001b[0m\n\u001b[0;32m     10\u001b[0m \u001b[1;33m\u001b[0m\u001b[0m\n\u001b[0;32m     11\u001b[0m \u001b[1;32mdel\u001b[0m \u001b[0mmy_list\u001b[0m      \u001b[1;31m# delete entire list\u001b[0m\u001b[1;33m\u001b[0m\u001b[1;33m\u001b[0m\u001b[0m\n\u001b[1;32m---> 12\u001b[1;33m \u001b[0mprint\u001b[0m\u001b[1;33m(\u001b[0m\u001b[0mmy_list\u001b[0m\u001b[1;33m)\u001b[0m   \u001b[1;31m# ▶ NameError: name 'my_list' is not defined\u001b[0m\u001b[1;33m\u001b[0m\u001b[1;33m\u001b[0m\u001b[0m\n\u001b[0m",
      "\u001b[1;31mNameError\u001b[0m: name 'my_list' is not defined"
     ]
    }
   ],
   "source": [
    "# Example: Deleting list items\n",
    "\n",
    "my_list = ['p', 'r', 'o', 'b', 'l', 'e', 'm']\n",
    "\n",
    "del my_list[2]  # delete one item\n",
    "print(my_list)  # ▶ ['p', 'r', 'b', 'l', 'e', 'm'] \n",
    "\n",
    "del my_list[1:5]  # delete multiple items\n",
    "print(my_list)  # ▶ ['p', 'm']\n",
    "\n",
    "del my_list      # delete entire list\n",
    "print(my_list)   # ▶ NameError: name 'my_list' is not defined"
   ]
  },
  {
   "cell_type": "code",
   "execution_count": 12,
   "metadata": {
    "ExecuteTime": {
     "end_time": "2021-10-03T09:17:29.698583Z",
     "start_time": "2021-10-03T09:17:29.687842Z"
    },
    "scrolled": true
   },
   "outputs": [
    {
     "name": "stdout",
     "output_type": "stream",
     "text": [
      "data in list :  ['a', 'b', 'c']\n",
      "new data in list :  ['a', 'b']\n"
     ]
    }
   ],
   "source": [
    "# Example:\n",
    "\n",
    "list1=['a','b','c']\n",
    "print(\"data in list : \",list1)      # ▶ data in list :  ['a', 'b', 'c']\n",
    "\n",
    "del(list1[2])\n",
    "print(\"new data in list : \",list1)  # ▶ new data in list :  ['a', 'b']"
   ]
  },
  {
   "cell_type": "code",
   "execution_count": 13,
   "metadata": {
    "ExecuteTime": {
     "end_time": "2021-10-03T09:17:30.111668Z",
     "start_time": "2021-10-03T09:17:30.093604Z"
    }
   },
   "outputs": [
    {
     "name": "stdout",
     "output_type": "stream",
     "text": [
      "['r', 'o', 'b', 'l', 'e', 'm']\n",
      "o\n",
      "['r', 'b', 'l', 'e', 'm']\n",
      "m\n",
      "['r', 'b', 'l', 'e']\n",
      "[]\n"
     ]
    }
   ],
   "source": [
    "# Example:\n",
    "\n",
    "my_list = ['p','r','o','b','l','e','m']\n",
    "my_list.remove('p')\n",
    "\n",
    "print(my_list)        # ▶ ['r', 'o', 'b', 'l', 'e', 'm']\n",
    "print(my_list.pop(1)) # ▶ 'o'\n",
    "print(my_list)        # ▶ ['r', 'b', 'l', 'e', 'm']\n",
    "print(my_list.pop())  # ▶ 'm'\n",
    "print(my_list)        # ▶ ['r', 'b', 'l', 'e']\n",
    "\n",
    "my_list.clear()\n",
    "print(my_list)        # ▶ []"
   ]
  },
  {
   "cell_type": "code",
   "execution_count": 14,
   "metadata": {
    "ExecuteTime": {
     "end_time": "2021-10-03T09:17:30.608254Z",
     "start_time": "2021-10-03T09:17:30.586772Z"
    }
   },
   "outputs": [
    {
     "name": "stdout",
     "output_type": "stream",
     "text": [
      "['p', 'r', 'b', 'l', 'e', 'm']\n",
      "['p', 'r', 'e', 'm']\n"
     ]
    }
   ],
   "source": [
    "# Example:\n",
    "\n",
    "my_list = ['p','r','o','b','l','e','m']\n",
    "\n",
    "my_list[2:3] = []\n",
    "print(my_list)  # ▶ ['p', 'r', 'b', 'l', 'e', 'm']\n",
    "\n",
    "my_list[2:-2] = []\n",
    "print(my_list)  # ▶ ['p', 'r', 'e', 'm']"
   ]
  },
  {
   "cell_type": "code",
   "execution_count": null,
   "metadata": {},
   "outputs": [],
   "source": []
  }
 ],
 "metadata": {
  "hide_input": false,
  "kernelspec": {
   "display_name": "Python 3 (ipykernel)",
   "language": "python",
   "name": "python3"
  },
  "language_info": {
   "codemirror_mode": {
    "name": "ipython",
    "version": 3
   },
   "file_extension": ".py",
   "mimetype": "text/x-python",
   "name": "python",
   "nbconvert_exporter": "python",
   "pygments_lexer": "ipython3",
   "version": "3.9.7"
  },
  "toc": {
   "base_numbering": 1,
   "nav_menu": {},
   "number_sections": true,
   "sideBar": true,
   "skip_h1_title": false,
   "title_cell": "Table of Contents",
   "title_sidebar": "Contents",
   "toc_cell": false,
   "toc_position": {},
   "toc_section_display": true,
   "toc_window_display": false
  },
  "varInspector": {
   "cols": {
    "lenName": 16,
    "lenType": 16,
    "lenVar": 40
   },
   "kernels_config": {
    "python": {
     "delete_cmd_postfix": "",
     "delete_cmd_prefix": "del ",
     "library": "var_list.py",
     "varRefreshCmd": "print(var_dic_list())"
    },
    "r": {
     "delete_cmd_postfix": ") ",
     "delete_cmd_prefix": "rm(",
     "library": "var_list.r",
     "varRefreshCmd": "cat(var_dic_list()) "
    }
   },
   "types_to_exclude": [
    "module",
    "function",
    "builtin_function_or_method",
    "instance",
    "_Feature"
   ],
   "window_display": false
  }
 },
 "nbformat": 4,
 "nbformat_minor": 2
}
