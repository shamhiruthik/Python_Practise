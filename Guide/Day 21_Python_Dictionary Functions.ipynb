{
 "cells": [
  {
   "cell_type": "markdown",
   "metadata": {},
   "source": [
    "# Python Dictionary\n",
    "\n",
    "In this session, you'll learn everything about Python dictionaries functions."
   ]
  },
  {
   "cell_type": "markdown",
   "metadata": {},
   "source": [
    "## Dictionary Built-in Dictionary Functions\n"
   ]
  },
  {
   "cell_type": "markdown",
   "metadata": {},
   "source": [
    "| Function | Description |\n",
    "|:----| :--- |\n",
    "| **[all()](https://github.com/milaan9/04_Python_Functions/blob/main/002_Python_Functions_Built_in/003_Python_all%28%29.ipynb)** | Returns **`True`** if all keys of the dictionary are true (or if the dictionary is empty). | \n",
    "| **[any()](https://github.com/milaan9/04_Python_Functions/blob/main/002_Python_Functions_Built_in/002_Python_any%28%29.ipynb)** | Returns **`True`** if any key of the dictionary is true. If the dictionary is empty, return **`False`**. | \n",
    "| **[len()](https://github.com/milaan9/04_Python_Functions/blob/main/002_Python_Functions_Built_in/040_Python_len%28%29.ipynb)** | Returns the length (the number of items) in the dictionary. | \n",
    "| **cmp()** | Compares items of two dictionaries. (Not available in Python 3). | \n",
    "| **[sorted()](https://github.com/milaan9/04_Python_Functions/blob/main/002_Python_Functions_Built_in/060_Python_sorted%28%29.ipynb)** | Returns a new sorted list of keys in the dictionary. | \n",
    "| **[str()](https://github.com/milaan9/04_Python_Functions/blob/main/002_Python_Functions_Built_in/061_Python_str%28%29.ipynb)** | Produces a printable string representation of a dictionary. | \n",
    "| **[type()](https://github.com/milaan9/04_Python_Functions/blob/main/002_Python_Functions_Built_in/064_Python_type%28%29.ipynb)** | Returns the type of the passed variable. If passed variable is dictionary,then it would return a dictionary type. | "
   ]
  },
  {
   "cell_type": "markdown",
   "metadata": {},
   "source": [
    "### `all(dict)` \n"
   ]
  },
  {
   "cell_type": "code",
   "execution_count": 1,
   "metadata": {
    "ExecuteTime": {
     "end_time": "2021-10-03T15:24:50.637213Z",
     "start_time": "2021-10-03T15:24:50.623543Z"
    }
   },
   "outputs": [
    {
     "name": "stdout",
     "output_type": "stream",
     "text": [
      "False\n",
      "True\n",
      "False\n",
      "True\n",
      "True\n"
     ]
    }
   ],
   "source": [
    "# Example 1: How all() works with Python dictionaries?\n",
    "# In case of dictionaries, if all keys (not values) are true or the dictionary is empty, \n",
    "# all() returns True. Else, it returns false for all other cases.\n",
    "\n",
    "my_dict = {0:'False', 1:'False'}\n",
    "print(all(my_dict))   # ▶ False\n",
    "\n",
    "my_dict = {1:'True', 2:'True'}\n",
    "print(all(my_dict))   # ▶ True\n",
    "\n",
    "my_dict = {1:'True', False:0}\n",
    "print(all(my_dict))   # ▶ False\n",
    "\n",
    "my_dict = {}\n",
    "print(all(my_dict))   # ▶ True\n",
    "\n",
    "# 0 is False\n",
    "# '0' is True\n",
    "my_dict = {'0':'True'}\n",
    "print(all(my_dict))   # ▶ True"
   ]
  },
  {
   "cell_type": "markdown",
   "metadata": {},
   "source": [
    "### `any(dict)`"
   ]
  },
  {
   "cell_type": "code",
   "execution_count": 2,
   "metadata": {
    "ExecuteTime": {
     "end_time": "2021-10-03T15:24:51.145031Z",
     "start_time": "2021-10-03T15:24:51.131363Z"
    },
    "scrolled": false
   },
   "outputs": [
    {
     "name": "stdout",
     "output_type": "stream",
     "text": [
      "False\n",
      "True\n",
      "False\n",
      "False\n",
      "True\n"
     ]
    }
   ],
   "source": [
    "# Example 1: How any() works with Python dictionaries?\n",
    "\n",
    "my_dict = {0:'False'}             \n",
    "print(any(my_dict))                # ▶ False ∵ 0 is False\n",
    "\n",
    "my_dict = {0:'False', 1:'True'}  \n",
    "print(any(my_dict))                # ▶ True ∵ 1 is True\n",
    "\n",
    "my_dict = {0:'False', False:0}   \n",
    "print(any(my_dict))                # ▶ False ∵ both 0 and False are False\n",
    "\n",
    "my_dict = {}                       \n",
    "print(any(my_dict))                # ▶ False ∵ iterable is empty\n",
    "\n",
    "# 0 is False\n",
    "# '0' is True\n",
    "my_dict = {'0':'False'}           \n",
    "print(any(my_dict))                # ▶ True"
   ]
  },
  {
   "cell_type": "markdown",
   "metadata": {},
   "source": [
    "### **`len(dict)`**"
   ]
  },
  {
   "cell_type": "code",
   "execution_count": 3,
   "metadata": {
    "ExecuteTime": {
     "end_time": "2021-10-03T15:24:51.557638Z",
     "start_time": "2021-10-03T15:24:51.544944Z"
    }
   },
   "outputs": [
    {
     "name": "stdout",
     "output_type": "stream",
     "text": [
      "4\n"
     ]
    }
   ],
   "source": [
    "# Example:\n",
    "\n",
    "my_dict = {1:'Python', 2:'Java', 3:'C++', 4:'PHP'}\n",
    "print(len(my_dict))  # ▶ 4"
   ]
  },
  {
   "cell_type": "markdown",
   "metadata": {},
   "source": [
    "### **`sorted(dict)`** "
   ]
  },
  {
   "cell_type": "code",
   "execution_count": 4,
   "metadata": {
    "ExecuteTime": {
     "end_time": "2021-10-03T15:24:52.002957Z",
     "start_time": "2021-10-03T15:24:51.992215Z"
    }
   },
   "outputs": [
    {
     "name": "stdout",
     "output_type": "stream",
     "text": [
      "['a', 'e', 'i', 'o', 'u']\n",
      "['u', 'o', 'i', 'e', 'a']\n"
     ]
    }
   ],
   "source": [
    "# Example:\n",
    "\n",
    "my_dict = {'e':1, 'a':2, 'u':3, 'o':4, 'i':5}\n",
    "print(sorted(my_dict))               # ▶ ['a', 'e', 'i', 'o', 'u']\n",
    "print(sorted(my_dict, reverse=True)) # ▶ ['u', 'o', 'i', 'e', 'a']"
   ]
  },
  {
   "cell_type": "markdown",
   "metadata": {},
   "source": [
    "### **`str(dict)`** "
   ]
  },
  {
   "cell_type": "code",
   "execution_count": 5,
   "metadata": {
    "ExecuteTime": {
     "end_time": "2021-10-03T15:24:52.557653Z",
     "start_time": "2021-10-03T15:24:52.545940Z"
    }
   },
   "outputs": [
    {
     "name": "stdout",
     "output_type": "stream",
     "text": [
      "{1: 'Python', 2: 'Java', 3: 'C++', 4: 'PHP'}\n"
     ]
    }
   ],
   "source": [
    "# Example:\n",
    "\n",
    "my_dict = {1:'Python', 2:'Java', 3:'C++', 4:'PHP'}\n",
    "print(str(my_dict)) # ▶ {1: 'Python', 2: 'Java', 3: 'C++', 4: 'PHP'}"
   ]
  },
  {
   "cell_type": "markdown",
   "metadata": {},
   "source": [
    "### **`type()`** "
   ]
  },
  {
   "cell_type": "code",
   "execution_count": 6,
   "metadata": {
    "ExecuteTime": {
     "end_time": "2021-10-03T15:24:52.896528Z",
     "start_time": "2021-10-03T15:24:52.889694Z"
    }
   },
   "outputs": [
    {
     "name": "stdout",
     "output_type": "stream",
     "text": [
      "<class 'dict'>\n"
     ]
    }
   ],
   "source": [
    "# Example:\n",
    "\n",
    "my_dict = {1:'Python', 2:'Java', 3:'C++', 4:'PHP'}\n",
    "print(type(my_dict))  # ▶ <class 'dict'>"
   ]
  },
  {
   "cell_type": "markdown",
   "metadata": {},
   "source": [
    "## Python Dictionary Methods\n",
    "\n",
    "\n",
    "| Method | Description |\n",
    "|:----| :--- |\n",
    "| **[clear()](https://github.com/milaan9/02_Python_Datatypes/blob/main/005_Python_Dictionary_Methods/001_Python_Dictionary_clear%28%29.ipynb)** | Removes all items from the dictionary. | \n",
    "| **[copy()](https://github.com/milaan9/02_Python_Datatypes/blob/main/005_Python_Dictionary_Methods/002_Python_Dictionary_copy%28%29.ipynb)** | Returns a shallow copy of the dictionary. | \n",
    "| **[fromkeys(seq[, v])](https://github.com/milaan9/02_Python_Datatypes/blob/main/005_Python_Dictionary_Methods/003_Python_Dictionary_fromkeys%28%29.ipynb)** | Returns a new dictionary with keys from **`seq`** and value equal to **`v`** (defaults to **`None`**). | \n",
    "| **[get(key[,d])](https://github.com/milaan9/02_Python_Datatypes/blob/main/005_Python_Dictionary_Methods/004_Python_Dictionary_get%28%29.ipynb)** | Returns the value of the **`key`**. If the **`key`** does not exist, returns **`d`** (defaults to **`None`**). | \n",
    "| **[items()](https://github.com/milaan9/02_Python_Datatypes/blob/main/005_Python_Dictionary_Methods/005_Python_Dictionary_items%28%29.ipynb)** | Return a new object of the dictionary's items in **`(key, value)`** format. | \n",
    "| **[keys()](https://github.com/milaan9/02_Python_Datatypes/blob/main/005_Python_Dictionary_Methods/006_Python_Dictionary_keys%28%29.ipynb)** | Returns a new object of the dictionary's keys. | \n",
    "| **[pop(key[,d])](https://github.com/milaan9/02_Python_Datatypes/blob/main/005_Python_Dictionary_Methods/007_Python_Dictionary_pop%28%29.ipynb)** | Removes the item with the **`key`** and returns its value or **`d`** if **`key`** is not found. If **`d`** is not provided and the **`key`** is not found, it raises **`KeyError`**. | \n",
    "| **[popitem()](https://github.com/milaan9/02_Python_Datatypes/blob/main/005_Python_Dictionary_Methods/008_Python_Dictionary_popitem%28%29.ipynb)** | Removes and returns an arbitrary item **`(key, value)`**. Raises **`KeyError`** if the dictionary is empty. | \n",
    "| **[setdefault(key[,d])](https://github.com/milaan9/02_Python_Datatypes/blob/main/005_Python_Dictionary_Methods/009_Python_Dictionary_setdefault%28%29.ipynb)** | Returns the corresponding value if the **`key`** is in the dictionary. If not, inserts the **`key`** with a value of **`d`** and returns **`d`** (defaults to **`None`**). | \n",
    "| **[update([other])](https://github.com/milaan9/02_Python_Datatypes/blob/main/005_Python_Dictionary_Methods/010_Python_Dictionary_update%28%29.ipynb)** | Updates the dictionary with the key/value pairs from **`other`**, overwriting existing keys. |  \n",
    "| **[values()](https://github.com/milaan9/02_Python_Datatypes/blob/main/005_Python_Dictionary_Methods/011_Python_Dictionary_values%28%29.ipynb)** | Returns a new object of the dictionary's values. | "
   ]
  },
  {
   "cell_type": "markdown",
   "metadata": {},
   "source": [
    "### **`clear()`** "
   ]
  },
  {
   "cell_type": "code",
   "execution_count": 7,
   "metadata": {
    "ExecuteTime": {
     "end_time": "2021-10-03T15:24:54.659252Z",
     "start_time": "2021-10-03T15:24:54.640699Z"
    }
   },
   "outputs": [
    {
     "name": "stdout",
     "output_type": "stream",
     "text": [
      "{1: 'Python', 2: 'Java', 3: 'C++', 4: 'PHP'}\n",
      "{}\n"
     ]
    }
   ],
   "source": [
    "# Example:\n",
    "\n",
    "my_dict = {1:'Python', 2:'Java', 3:'C++', 4:'PHP'}\n",
    "\n",
    "print(str(my_dict))  # ▶ {1: 'Python', 2: 'Java', 3: 'C++', 4: 'PHP'}\n",
    "my_dict.clear()\n",
    "print(str(my_dict))  # ▶ {}"
   ]
  },
  {
   "cell_type": "markdown",
   "metadata": {},
   "source": [
    "### **`copy()`**"
   ]
  },
  {
   "cell_type": "code",
   "execution_count": 8,
   "metadata": {
    "ExecuteTime": {
     "end_time": "2021-10-03T15:24:55.398522Z",
     "start_time": "2021-10-03T15:24:55.378016Z"
    }
   },
   "outputs": [
    {
     "name": "stdout",
     "output_type": "stream",
     "text": [
      "{1: 'Python', 2: 'Java', 3: 'C++', 4: 'PHP'}\n"
     ]
    }
   ],
   "source": [
    "# Example:\n",
    "\n",
    "dict1 = {1:'Python', 2:'Java', 3:'C++', 4:'PHP'}\n",
    "dict2 = dict1.copy()\n",
    "print(dict2)  # ▶ {1: 'Python', 2: 'Java', 3: 'C++', 4: 'PHP'}"
   ]
  },
  {
   "cell_type": "markdown",
   "metadata": {},
   "source": [
    "### **`itmes()`** "
   ]
  },
  {
   "cell_type": "code",
   "execution_count": 9,
   "metadata": {
    "ExecuteTime": {
     "end_time": "2021-10-03T15:24:56.016694Z",
     "start_time": "2021-10-03T15:24:56.001074Z"
    },
    "scrolled": true
   },
   "outputs": [
    {
     "name": "stdout",
     "output_type": "stream",
     "text": [
      "dict_items([(1, 'Python'), (2, 'Java'), (3, 'C++'), (4, 'PHP')])\n"
     ]
    }
   ],
   "source": [
    "# Example:\n",
    "\n",
    "my_dict = {1:'Python', 2:'Java', 3:'C++', 4:'PHP'}\n",
    "print(my_dict.items()) # ▶ dict_items([(1, 'Python'), (2, 'Java'), (3, 'C++'), (4, 'PHP')])"
   ]
  },
  {
   "cell_type": "markdown",
   "metadata": {},
   "source": [
    "### **`keys()`** "
   ]
  },
  {
   "cell_type": "code",
   "execution_count": 10,
   "metadata": {
    "ExecuteTime": {
     "end_time": "2021-10-03T15:24:56.801865Z",
     "start_time": "2021-10-03T15:24:56.792102Z"
    }
   },
   "outputs": [
    {
     "name": "stdout",
     "output_type": "stream",
     "text": [
      "dict_keys([1, 2, 3, 4])\n"
     ]
    }
   ],
   "source": [
    "# Example:\n",
    "\n",
    "my_dict = {1:'Python', 2:'Java', 3:'C++', 4:'PHP'}\n",
    "all_keys=my_dict.keys()\n",
    "print(all_keys)  # ▶ dict_keys([1, 2, 3, 4])"
   ]
  },
  {
   "cell_type": "markdown",
   "metadata": {},
   "source": [
    "### **`fromkeys()`**\n",
    "\n",
    "**Syntax:**\n",
    "\n",
    "```python \n",
    "dict.fromkeys(seq[, value])\n",
    "```"
   ]
  },
  {
   "cell_type": "code",
   "execution_count": 11,
   "metadata": {
    "ExecuteTime": {
     "end_time": "2021-10-03T15:24:57.402460Z",
     "start_time": "2021-10-03T15:24:57.384888Z"
    },
    "scrolled": true
   },
   "outputs": [
    {
     "name": "stdout",
     "output_type": "stream",
     "text": [
      "new_dict : {'Python': None, 'Java': None, 'C++': None}\n",
      "new_dict : {'Python': 50, 'Java': 50, 'C++': 50}\n"
     ]
    }
   ],
   "source": [
    "# Example:\n",
    "\n",
    "seq = ('Python', 'Java', 'C++')\n",
    "my_dict = my_dict.fromkeys(seq)\n",
    "\n",
    "print (\"new_dict : %s\" % str(my_dict)) # ▶ new_dict : {'python': None, 'java': None, 'c++': None}\n",
    "my_dict = my_dict.fromkeys(seq, 50)\n",
    "print (\"new_dict : %s\" % str(my_dict)) # ▶ new_dict : {'python': 50, 'java': 50, 'c++': 50}"
   ]
  },
  {
   "cell_type": "markdown",
   "metadata": {},
   "source": [
    "### **`setdefault()`** -\n",
    "\n",
    "**Syntax:**\n",
    "\n",
    "```python\n",
    "dict.setdefault(key, default = None)\n",
    "```\n"
   ]
  },
  {
   "cell_type": "code",
   "execution_count": 12,
   "metadata": {
    "ExecuteTime": {
     "end_time": "2021-10-03T15:24:58.004034Z",
     "start_time": "2021-10-03T15:24:57.984506Z"
    }
   },
   "outputs": [
    {
     "name": "stdout",
     "output_type": "stream",
     "text": [
      "Ajantha\n",
      "AP3 Solutions\n"
     ]
    }
   ],
   "source": [
    "# Example:\n",
    "\n",
    "my_dict={'emp_name':'Ajantha', 'age':96, 'emp_id':999}\n",
    "my_dict.setdefault('company','AP3 Solutions')\n",
    "print(my_dict['emp_name'])   # ▶ Ajantha\n",
    "print(my_dict['company'])    # ▶ AP3 Solutions"
   ]
  },
  {
   "cell_type": "markdown",
   "metadata": {},
   "source": [
    "### **`update()`**\n",
    "**Syntax:**\n",
    "\n",
    "```python\n",
    "dict.update(dict2)\n",
    "```"
   ]
  },
  {
   "cell_type": "code",
   "execution_count": 13,
   "metadata": {
    "ExecuteTime": {
     "end_time": "2021-10-03T15:24:58.542619Z",
     "start_time": "2021-10-03T15:24:58.535783Z"
    }
   },
   "outputs": [
    {
     "name": "stdout",
     "output_type": "stream",
     "text": [
      "{1: 'Python3', 2: 'Java', 3: 'C++', 4: 'PHP', 5: 'C'}\n"
     ]
    }
   ],
   "source": [
    "# Example:\n",
    "\n",
    "dict1 = {1:'Python', 2:'Java', 3:'C++', 4:'PHP'}\n",
    "dict2 = {1: 'Python3',5:'C'}  # update Python to Python3\n",
    "dict1.update(dict2)\n",
    "print(dict1)   # ▶ {1: 'Python3', 2: 'Java', 3: 'C++', 4: 'PHP', 5: 'C'}"
   ]
  },
  {
   "cell_type": "markdown",
   "metadata": {},
   "source": [
    "### **`value()`** "
   ]
  },
  {
   "cell_type": "code",
   "execution_count": 14,
   "metadata": {
    "ExecuteTime": {
     "end_time": "2021-10-03T15:24:59.022118Z",
     "start_time": "2021-10-03T15:24:59.010400Z"
    }
   },
   "outputs": [
    {
     "name": "stdout",
     "output_type": "stream",
     "text": [
      "dict_values(['Python', 'Java', 'C++', 'PHP'])\n"
     ]
    }
   ],
   "source": [
    "# Example:\n",
    "\n",
    "dict1 = {1:'Python', 2:'Java', 3:'C++', 4:'PHP'}\n",
    "values= dict1.values()\n",
    "print(values)  # ▶ dict_values(['Python', 'Java', 'C++', 'PHP'])"
   ]
  },
  {
   "cell_type": "markdown",
   "metadata": {},
   "source": [
    "## Other Dictionary Operations"
   ]
  },
  {
   "cell_type": "markdown",
   "metadata": {},
   "source": [
    "### 1. Dictionary Membership Test\n",
    "\n",
    "We can test if a **`key`** is in a dictionary or not using the keyword **`in`**. Notice that the membership test is only for the **`keys`** and not for the **`values`**."
   ]
  },
  {
   "cell_type": "code",
   "execution_count": 15,
   "metadata": {
    "ExecuteTime": {
     "end_time": "2021-10-03T15:25:02.965546Z",
     "start_time": "2021-10-03T15:25:02.944061Z"
    }
   },
   "outputs": [
    {
     "name": "stdout",
     "output_type": "stream",
     "text": [
      "True\n",
      "True\n",
      "False\n"
     ]
    }
   ],
   "source": [
    "# Example: Membership Test for Dictionary Keys\n",
    "\n",
    "squares = {1: 1, 3: 9, 5: 25, 7: 99, 9: 61}\n",
    "\n",
    "print(1 in squares)      # ▶ True\n",
    "\n",
    "print(2 not in squares)  # ▶ True\n",
    "\n",
    "# membership tests for key only not value\n",
    "print(99 in squares)     # ▶ False"
   ]
  },
  {
   "cell_type": "markdown",
   "metadata": {},
   "source": [
    "### 2. Iterating Through a Dictionary\n",
    "\n",
    "We can iterate through each key in a dictionary using a **`for`** loop."
   ]
  },
  {
   "cell_type": "code",
   "execution_count": null,
   "metadata": {
    "ExecuteTime": {
     "end_time": "2021-10-03T15:25:04.387444Z",
     "start_time": "2021-10-03T15:25:04.376702Z"
    }
   },
   "outputs": [],
   "source": [
    "# Example: Iterating through a Dictionary\n",
    "\n",
    "squares = {1: 1, 3: 9, 5: 25, 7: 49, 9: 81}\n",
    "for i in squares:\n",
    "    print(squares[i])"
   ]
  },
  {
   "cell_type": "markdown",
   "metadata": {},
   "source": [
    "## 💻 Exercises ➞ <span class='label label-default'>Dictionary</span>\n",
    "\n",
    "1. Create an empty dictionary called **`bird`**\n",
    "2. Add **`name`**, **`color`**, **`breed`**, **`legs`**, **`age`** to the **`bird`** dictionary\n",
    "3. Create a **`student`** dictionary and add **`first_name`**, **`last_name`**, **`gender`**, **`age`**, **`marital_status`**, **`skills`**, **`country`**, **`city`** and **`address`** as keys for the dictionary\n",
    "3. Get the length of the **`student`** dictionary\n",
    "4. Get the value of **`skills`** and check the data type, it should be a list\n",
    "5. Modify the **`skills`** values by adding one or two skills\n",
    "6. Get the dictionary keys as a list\n",
    "7. Get the dictionary values as a list\n",
    "8. Change the dictionary to a list of tuples using **`items()`** method\n",
    "9. Delete one of the items in the dictionary\n",
    "10. Delete one of the dictionaries"
   ]
  },
  {
   "cell_type": "code",
   "execution_count": null,
   "metadata": {},
   "outputs": [],
   "source": []
  }
 ],
 "metadata": {
  "hide_input": false,
  "kernelspec": {
   "display_name": "Python 3 (ipykernel)",
   "language": "python",
   "name": "python3"
  },
  "language_info": {
   "codemirror_mode": {
    "name": "ipython",
    "version": 3
   },
   "file_extension": ".py",
   "mimetype": "text/x-python",
   "name": "python",
   "nbconvert_exporter": "python",
   "pygments_lexer": "ipython3",
   "version": "3.9.7"
  },
  "toc": {
   "base_numbering": 1,
   "nav_menu": {},
   "number_sections": true,
   "sideBar": true,
   "skip_h1_title": false,
   "title_cell": "Table of Contents",
   "title_sidebar": "Contents",
   "toc_cell": false,
   "toc_position": {},
   "toc_section_display": true,
   "toc_window_display": false
  },
  "varInspector": {
   "cols": {
    "lenName": 16,
    "lenType": 16,
    "lenVar": 40
   },
   "kernels_config": {
    "python": {
     "delete_cmd_postfix": "",
     "delete_cmd_prefix": "del ",
     "library": "var_list.py",
     "varRefreshCmd": "print(var_dic_list())"
    },
    "r": {
     "delete_cmd_postfix": ") ",
     "delete_cmd_prefix": "rm(",
     "library": "var_list.r",
     "varRefreshCmd": "cat(var_dic_list()) "
    }
   },
   "types_to_exclude": [
    "module",
    "function",
    "builtin_function_or_method",
    "instance",
    "_Feature"
   ],
   "window_display": false
  }
 },
 "nbformat": 4,
 "nbformat_minor": 2
}
