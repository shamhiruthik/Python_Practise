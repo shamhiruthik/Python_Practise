{
 "cells": [
  {
   "cell_type": "markdown",
   "metadata": {},
   "source": [
    "## Accessing the index in for loop\n",
    "\n"
   ]
  },
  {
   "cell_type": "code",
   "execution_count": 1,
   "metadata": {
    "ExecuteTime": {
     "end_time": "2021-10-04T12:10:22.335828Z",
     "start_time": "2021-10-04T12:10:22.154187Z"
    }
   },
   "outputs": [
    {
     "name": "stdout",
     "output_type": "stream",
     "text": [
      "Numbers[ 0 ] = 4\n",
      "Numbers[ 1 ] = 2\n",
      "Numbers[ 2 ] = 5\n",
      "Numbers[ 3 ] = 7\n",
      "Numbers[ 4 ] = 8\n"
     ]
    }
   ],
   "source": [
    "# Example 1: Print elements of the list with its index number using the `enumerate()` function\n",
    "\n",
    "#In this program, the for loop iterates through the list and displays the \n",
    "#elements along with its index number.\n",
    "\n",
    "numbers = [4, 2, 5, 7, 8]\n",
    "for i, v in enumerate(numbers):\n",
    "    print('Numbers[', i, '] =', v)\n"
   ]
  },
  {
   "cell_type": "code",
   "execution_count": 2,
   "metadata": {
    "ExecuteTime": {
     "end_time": "2021-10-04T12:10:22.474496Z",
     "start_time": "2021-10-04T12:10:22.338757Z"
    }
   },
   "outputs": [
    {
     "name": "stdout",
     "output_type": "stream",
     "text": [
      "Index: 0   Value: 1\n",
      "Index: 1   Value: 2\n",
      "Index: 2   Value: 4\n",
      "Index: 3   Value: 6\n",
      "Index: 4   Value: 8\n"
     ]
    }
   ],
   "source": [
    "# Example 2: Printing the elements of the list with its index number using the `range()` function\n",
    "\n",
    "numbers = [1, 2, 4, 6, 8]\n",
    "size = len(numbers)\n",
    "for i in range(size):\n",
    "    print('Index:', i, \" \", 'Value:', numbers[i])"
   ]
  },
  {
   "cell_type": "markdown",
   "metadata": {},
   "source": [
    "## Iterate String using `for` loop\n",
    "\n"
   ]
  },
  {
   "cell_type": "code",
   "execution_count": 3,
   "metadata": {
    "ExecuteTime": {
     "end_time": "2021-10-04T12:10:22.613169Z",
     "start_time": "2021-10-04T12:10:22.477429Z"
    },
    "scrolled": true
   },
   "outputs": [
    {
     "name": "stdout",
     "output_type": "stream",
     "text": [
      "P\n",
      "y\n",
      "t\n",
      "h\n",
      "o\n",
      "n\n",
      "P\n",
      "y\n",
      "t\n",
      "h\n",
      "o\n",
      "n\n"
     ]
    }
   ],
   "source": [
    "# Example 1: For loop with string\n",
    "\n",
    "# Method 1:\n",
    "language = 'Python'\n",
    "for letter in language:\n",
    "    print(letter)\n",
    "\n",
    "# Method 2: using range() function\n",
    "\n",
    "for i in range(len(language)):\n",
    "    print(language[i])"
   ]
  },
  {
   "cell_type": "code",
   "execution_count": 4,
   "metadata": {
    "ExecuteTime": {
     "end_time": "2021-10-04T12:10:22.721568Z",
     "start_time": "2021-10-04T12:10:22.617079Z"
    }
   },
   "outputs": [
    {
     "name": "stdout",
     "output_type": "stream",
     "text": [
      "H\n",
      "e\n",
      "l\n",
      "l\n",
      "o\n",
      " \n",
      "W\n",
      "o\n",
      "r\n",
      "l\n",
      "d\n"
     ]
    }
   ],
   "source": [
    "# Example 2: Printing the elements of a string using for loop\n",
    "\n",
    "for i in 'Hello World':\n",
    "    print(i)"
   ]
  },
  {
   "cell_type": "code",
   "execution_count": 5,
   "metadata": {
    "ExecuteTime": {
     "end_time": "2021-10-04T12:10:22.843641Z",
     "start_time": "2021-10-04T12:10:22.724500Z"
    }
   },
   "outputs": [
    {
     "name": "stdout",
     "output_type": "stream",
     "text": [
      "A j a n "
     ]
    }
   ],
   "source": [
    "# Example 3: Access all characters of a string\n",
    "\n",
    "name = \"Ajan\"\n",
    "for i in name:\n",
    "    print(i, end=' ')"
   ]
  },
  {
   "cell_type": "code",
   "execution_count": 6,
   "metadata": {
    "ExecuteTime": {
     "end_time": "2021-10-04T12:10:22.967662Z",
     "start_time": "2021-10-04T12:10:22.848523Z"
    }
   },
   "outputs": [
    {
     "name": "stdout",
     "output_type": "stream",
     "text": [
      "n a j A "
     ]
    }
   ],
   "source": [
    "# Example 4: Iterate string in reverse order\n",
    "\n",
    "name = \"Ajan\"\n",
    "for i in name[::-1]:\n",
    "    print(i, end=' ')"
   ]
  },
  {
   "cell_type": "code",
   "execution_count": 7,
   "metadata": {
    "ExecuteTime": {
     "end_time": "2021-10-04T12:10:23.120985Z",
     "start_time": "2021-10-04T12:10:22.971571Z"
    }
   },
   "outputs": [
    {
     "name": "stdout",
     "output_type": "stream",
     "text": [
      "a n t h a "
     ]
    }
   ],
   "source": [
    "# Example 5: Iterate over a particular set of characters in string\n",
    "\n",
    "name = \"Ajantha Devi\"\n",
    "for char in name[2:7:1]:\n",
    "    print(char, end=' ')"
   ]
  },
  {
   "cell_type": "code",
   "execution_count": 8,
   "metadata": {
    "ExecuteTime": {
     "end_time": "2021-10-04T12:10:23.244033Z",
     "start_time": "2021-10-04T12:10:23.123915Z"
    },
    "scrolled": false
   },
   "outputs": [
    {
     "name": "stdout",
     "output_type": "stream",
     "text": [
      "Remember,\n",
      "Red,\n",
      "hope\n",
      "is\n",
      "a\n",
      "good\n",
      "thing,\n",
      "maybe\n",
      "the\n",
      "best\n",
      "of\n",
      "things,\n",
      "and\n",
      "no\n",
      "good\n",
      "thing\n",
      "ever\n",
      "dies\n"
     ]
    }
   ],
   "source": [
    "# Example 6: Iterate over words in a sentence using the `split()` function.\n",
    "\n",
    "dialogue = \"Remember, Red, hope is a good thing, maybe the best of things, and no good thing ever dies\"\n",
    "# split on whitespace\n",
    "for word in dialogue.split():\n",
    "    print(word)"
   ]
  },
  {
   "cell_type": "code",
   "execution_count": 9,
   "metadata": {
    "ExecuteTime": {
     "end_time": "2021-10-04T12:10:23.352429Z",
     "start_time": "2021-10-04T12:10:23.246960Z"
    }
   },
   "outputs": [
    {
     "name": "stdout",
     "output_type": "stream",
     "text": [
      "a\n",
      "b\n",
      "c\n",
      "total = 14\n"
     ]
    }
   ],
   "source": [
    "# Example 7:\n",
    "\n",
    "for ch in 'abc':\n",
    "    print(ch)\n",
    "total = 0\n",
    "for i in range(5):  # from 0 to 4\n",
    "    total += i  # total = 0+1+2+3+4 = 10\n",
    "for i,j in [(1,2),(3,1)]:  # [(1),(3)]\n",
    "    total += i**j  # total = 1+3 = 4\n",
    "print(\"total =\",total)"
   ]
  },
  {
   "cell_type": "markdown",
   "metadata": {},
   "source": [
    "## Iterate List using `for` loop\n",
    "Below are the few examples of Python list.\n",
    "\n",
    "```python\n",
    ">>> numers = [1,2,4,6,7]\n",
    ">>> players = [\"Messi\", \"Ronaldo\", \"Neymar\"]\n",
    "```\n"
   ]
  },
  {
   "cell_type": "code",
   "execution_count": 10,
   "metadata": {
    "ExecuteTime": {
     "end_time": "2021-10-04T12:10:23.476453Z",
     "start_time": "2021-10-04T12:10:23.356337Z"
    }
   },
   "outputs": [
    {
     "name": "stdout",
     "output_type": "stream",
     "text": [
      "1\n",
      "2\n",
      "3\n",
      "6\n",
      "9\n"
     ]
    }
   ],
   "source": [
    "# Example 1: Iterate over a list Method 1\n",
    "\n",
    "numbers = [1, 2, 3, 6, 9]\n",
    "for num in numbers:\n",
    "    print(num)"
   ]
  },
  {
   "cell_type": "code",
   "execution_count": null,
   "metadata": {
    "ExecuteTime": {
     "end_time": "2021-10-04T12:10:23.617078Z",
     "start_time": "2021-10-04T12:10:23.480360Z"
    },
    "scrolled": true
   },
   "outputs": [],
   "source": [
    "# Example 2: Iterate over a list Method 2 (list comprehension)\n",
    "\n",
    "numbers = [1, 2, 3, 6, 9]\n",
    "[print(i) for i in numbers]"
   ]
  },
  {
   "cell_type": "code",
   "execution_count": 11,
   "metadata": {
    "ExecuteTime": {
     "end_time": "2021-10-04T12:10:23.738173Z",
     "start_time": "2021-10-04T12:10:23.620986Z"
    }
   },
   "outputs": [
    {
     "name": "stdout",
     "output_type": "stream",
     "text": [
      "1\n",
      "2\n",
      "3\n",
      "6\n",
      "9\n"
     ]
    }
   ],
   "source": [
    "# Example 3: Iterate over a list using a for loop and range.\n",
    "\n",
    "numbers = [1, 2, 3, 6, 9]\n",
    "size = len(numbers)\n",
    "for i in range(size):\n",
    "    print(numbers[i])"
   ]
  },
  {
   "cell_type": "code",
   "execution_count": 12,
   "metadata": {
    "ExecuteTime": {
     "end_time": "2021-10-04T12:10:23.846571Z",
     "start_time": "2021-10-04T12:10:23.741102Z"
    },
    "scrolled": true
   },
   "outputs": [
    {
     "name": "stdout",
     "output_type": "stream",
     "text": [
      "[2, 4, 6, 8, 10]\n",
      "[2, 4, 6, 8, 10]\n",
      "[2, 4, 6, 8, 10]\n",
      "[2, 4, 6, 8, 10]\n",
      "[2, 4, 6, 8, 10]\n"
     ]
    }
   ],
   "source": [
    "# Example 4: printing the elements of a list using for loop\n",
    "\n",
    "even_numbers = [2, 4, 6, 8, 10]  # list with 5 elements\n",
    "for i in even_numbers:\n",
    "    print(even_numbers)"
   ]
  },
  {
   "cell_type": "code",
   "execution_count": 13,
   "metadata": {
    "ExecuteTime": {
     "end_time": "2021-10-04T12:10:24.000869Z",
     "start_time": "2021-10-04T12:10:23.850479Z"
    }
   },
   "outputs": [
    {
     "name": "stdout",
     "output_type": "stream",
     "text": [
      "60\n",
      "HelloWorld\n",
      "90.96\n"
     ]
    }
   ],
   "source": [
    "# Example 5: printing the elements of a list using for loop\n",
    "\n",
    "list = [60, \"HelloWorld\", 90.96]\n",
    "for i in list:\n",
    "    print(i)"
   ]
  },
  {
   "cell_type": "code",
   "execution_count": 14,
   "metadata": {
    "ExecuteTime": {
     "end_time": "2021-10-04T12:10:24.141492Z",
     "start_time": "2021-10-04T12:10:24.023330Z"
    }
   },
   "outputs": [
    {
     "name": "stdout",
     "output_type": "stream",
     "text": [
      "The sum is 50\n"
     ]
    }
   ],
   "source": [
    "# Example 6: Program to find the sum of all numbers stored in a list\n",
    "\n",
    "# List of numbers\n",
    "numbers = [6, 5, 3, 8, 4, 2, 5, 6, 11]  # list with 9 elements\n",
    "\n",
    "# variable to store the sum\n",
    "sum = 0\n",
    "\n",
    "# iterate over the list\n",
    "for val in numbers:\n",
    "    sum = sum+val\n",
    "\n",
    "print(\"The sum is\", sum)"
   ]
  },
  {
   "cell_type": "code",
   "execution_count": 15,
   "metadata": {
    "ExecuteTime": {
     "end_time": "2021-10-04T12:10:24.306532Z",
     "start_time": "2021-10-04T12:10:24.159071Z"
    }
   },
   "outputs": [
    {
     "name": "stdout",
     "output_type": "stream",
     "text": [
      "Square of: 1 is: 1\n",
      "Square of: 2 is: 4\n",
      "Square of: 3 is: 9\n",
      "Square of: 4 is: 16\n",
      "Square of: 5 is: 25\n"
     ]
    }
   ],
   "source": [
    "# Example 7: Calculate the square of each number using for loop.\n",
    "\n",
    "numbers = [1, 2, 3, 4, 5]\n",
    "# iterate over each element in list num\n",
    "for i in numbers:\n",
    "    # ** exponent operator\n",
    "    square = i ** 2\n",
    "    print(\"Square of:\", i, \"is:\", square)"
   ]
  },
  {
   "cell_type": "code",
   "execution_count": 16,
   "metadata": {
    "ExecuteTime": {
     "end_time": "2021-10-04T12:10:24.413953Z",
     "start_time": "2021-10-04T12:10:24.309463Z"
    }
   },
   "outputs": [
    {
     "name": "stdout",
     "output_type": "stream",
     "text": [
      "30.0\n"
     ]
    }
   ],
   "source": [
    "# Example 8: Calculate the average of list of numbers\n",
    "\n",
    "numbers = [10, 20, 30, 40, 50]\n",
    "\n",
    "# definite iteration\n",
    "# run loop 5 times because list contains 5 items\n",
    "sum = 0\n",
    "for i in numbers:\n",
    "    sum = sum + i\n",
    "list_size = len(numbers)\n",
    "average = sum / list_size\n",
    "print(average)"
   ]
  },
  {
   "cell_type": "code",
   "execution_count": 17,
   "metadata": {
    "ExecuteTime": {
     "end_time": "2021-10-04T12:10:24.553606Z",
     "start_time": "2021-10-04T12:10:24.418839Z"
    }
   },
   "outputs": [
    {
     "name": "stdout",
     "output_type": "stream",
     "text": [
      "3\n",
      "Green\n",
      "Pink\n",
      "Blue\n"
     ]
    }
   ],
   "source": [
    "# Example 9: Printing a list using range function\n",
    "\n",
    "color = ['Green', 'Pink', 'Blue']  # list with total 3 elements\n",
    "print(len(color))  # print length of color\n",
    "for i in range(len(color)):\n",
    "    print(color[i])"
   ]
  },
  {
   "cell_type": "code",
   "execution_count": 19,
   "metadata": {
    "ExecuteTime": {
     "end_time": "2021-10-04T12:10:24.569228Z",
     "start_time": "2021-10-04T12:10:24.559462Z"
    },
    "scrolled": true
   },
   "outputs": [
    {
     "name": "stdout",
     "output_type": "stream",
     "text": [
      "[1, 2, 3]\n",
      "[4, 5, 6]\n",
      "[7, 8, 9]\n"
     ]
    }
   ],
   "source": [
    "# Example 10: Printing a list using range function\n",
    "\n",
    "list_of_lists = [[1, 2, 3], [4, 5, 6], [7, 8, 9]]  # list with 3 elements\n",
    "for list1 in list_of_lists:\n",
    "        print(list1)"
   ]
  },
  {
   "cell_type": "markdown",
   "metadata": {},
   "source": [
    "## Iterate Tuple using `for` loop\n",
    "\n",
    "\n",
    "Below are the few examples of Python list.\n",
    "\n",
    "```python\n",
    ">>> numers = (1,2,4,6,7)\n",
    ">>> players = (\"Messi\", \"Ronaldo\", \"Neymar\")\n",
    "```\n"
   ]
  },
  {
   "cell_type": "code",
   "execution_count": 20,
   "metadata": {
    "ExecuteTime": {
     "end_time": "2021-10-04T12:10:24.723523Z",
     "start_time": "2021-10-04T12:10:24.572159Z"
    },
    "scrolled": true
   },
   "outputs": [
    {
     "name": "stdout",
     "output_type": "stream",
     "text": [
      "0\n",
      "1\n",
      "2\n",
      "3\n",
      "4\n",
      "5\n"
     ]
    }
   ],
   "source": [
    "# Example 1: For loop with tuple\n",
    "\n",
    "numbers = (0, 1, 2, 3, 4, 5)\n",
    "for number in numbers:\n",
    "    print(number)"
   ]
  },
  {
   "cell_type": "markdown",
   "metadata": {},
   "source": [
    "## Iterate Dictionary using `for` loop\n",
    "\n",
    "\n",
    "\n",
    "```python\n",
    ">>> dict1 = {1: \"Apple\", 2: \"Ball\", 3: \"Cat\"}\n",
    ">>> dict2 = {\"Antibiotics\": \"Penicillin\", \"Inventor\": \"Fleming\", \"Year\": 1928}\n",
    "```\n",
    "\n"
   ]
  },
  {
   "cell_type": "code",
   "execution_count": 21,
   "metadata": {
    "ExecuteTime": {
     "end_time": "2021-10-04T12:10:24.876845Z",
     "start_time": "2021-10-04T12:10:24.727434Z"
    }
   },
   "outputs": [
    {
     "name": "stdout",
     "output_type": "stream",
     "text": [
      "Antibiotics\n",
      "Inventor\n",
      "Year\n"
     ]
    }
   ],
   "source": [
    "# Example 1: Access only the keys of the dictionary.\n",
    "\n",
    "dict1 = {\"Antibiotics\": \"Penicillin\", \"Inventor\": \"Fleming\", \"Year\": 1928}\n",
    "for key in dict1:\n",
    "    print(key)"
   ]
  },
  {
   "cell_type": "code",
   "execution_count": 22,
   "metadata": {
    "ExecuteTime": {
     "end_time": "2021-10-04T12:10:25.062391Z",
     "start_time": "2021-10-04T12:10:24.879776Z"
    }
   },
   "outputs": [
    {
     "name": "stdout",
     "output_type": "stream",
     "text": [
      "Vaccine -> Polio\n",
      "Inventor -> Salk\n",
      "Year -> 1953\n"
     ]
    }
   ],
   "source": [
    "# Example 2: Iterate keys and values of the dictionary\n",
    "\n",
    "dict1 = {\"Vaccine\": \"Polio\", \"Inventor\": \"Salk\", \"Year\": 1953}\n",
    "for key in dict1:\n",
    "    print(key, \"->\", dict1[key])"
   ]
  },
  {
   "cell_type": "code",
   "execution_count": 23,
   "metadata": {
    "ExecuteTime": {
     "end_time": "2021-10-04T12:10:25.216690Z",
     "start_time": "2021-10-04T12:10:25.065324Z"
    },
    "scrolled": true
   },
   "outputs": [
    {
     "name": "stdout",
     "output_type": "stream",
     "text": [
      "Smallpox \n",
      "Jenner\n",
      "1796\n"
     ]
    }
   ],
   "source": [
    "# Example 3: Iterate only the values the dictionary\n",
    "\n",
    "dict1 = {\"Vaccine\": \"Smallpox \", \"Inventor\": \"Jenner\", \"Year\": 1796}\n",
    "for value in dict1.values():\n",
    "    print(value)"
   ]
  },
  {
   "cell_type": "code",
   "execution_count": 24,
   "metadata": {
    "ExecuteTime": {
     "end_time": "2021-10-04T12:10:25.339735Z",
     "start_time": "2021-10-04T12:10:25.221574Z"
    },
    "scrolled": false
   },
   "outputs": [
    {
     "name": "stdout",
     "output_type": "stream",
     "text": [
      "first_name\n",
      "last_name\n",
      "age\n",
      "country\n",
      "is_marred\n",
      "skills\n",
      "address\n",
      "first_name Ajantha\n",
      "last_name Devi\n",
      "age 96\n",
      "country India\n",
      "is_marred True\n",
      "skills ['Python', 'Matlab', 'R', 'C', 'C++']\n",
      "address {'street': 'Chennai', 'zipcode': '600096'}\n"
     ]
    }
   ],
   "source": [
    "# Example 4: For loop with dictionary\n",
    "#Looping through a dictionary gives you the key of the dictionary.\n",
    "\n",
    "person = {\n",
    "    'first_name':'Ajantha',\n",
    "    'last_name':'Devi',\n",
    "    'age':96,\n",
    "    'country':'India',\n",
    "    'is_marred':True,\n",
    "    'skills':['Python', 'Matlab', 'R', 'C', 'C++'],\n",
    "    'address':{\n",
    "        'street':'Chennai',\n",
    "        'zipcode':'600096'\n",
    "    }\n",
    "}\n",
    "for key in person:\n",
    "    print(key)\n",
    "\n",
    "for key, value in person.items():\n",
    "    print(key, value) # this way we get both keys and values printed out"
   ]
  },
  {
   "cell_type": "markdown",
   "metadata": {},
   "source": [
    "## Iterate Set using `for` loop\n",
    "\n",
    "\n",
    "```python\n",
    ">>> my_set = {1, 2, 3}\n",
    ">>> my_vaccine = {\"Penicillin\", \"Fleming\", \"1928\"}\n",
    "```\n",
    "\n"
   ]
  },
  {
   "cell_type": "code",
   "execution_count": 25,
   "metadata": {
    "ExecuteTime": {
     "end_time": "2021-10-04T12:10:25.509661Z",
     "start_time": "2021-10-04T12:10:25.343645Z"
    },
    "scrolled": true
   },
   "outputs": [
    {
     "name": "stdout",
     "output_type": "stream",
     "text": [
      "Orange\n",
      "GUava\n",
      "Banana\n",
      "Mango\n",
      "Grape\n",
      "Apple\n",
      "Kiwi\n"
     ]
    }
   ],
   "source": [
    "# Example 6: For loop with set\n",
    "\n",
    "mix_fruits = {'Banana', 'Apple', 'Mango', 'Orange', 'GUava', 'Kiwi', 'Grape'}\n",
    "for fruits in mix_fruits:\n",
    "    print(fruits)"
   ]
  },
  {
   "cell_type": "markdown",
   "metadata": {},
   "source": [
    "## 💻 Exercises ➞ <span class='label label-default'>List</span>\n",
    "\n",
    "### Exercises ➞ <span class='label label-default'>Level 1</span>\n",
    "\n",
    "1. Iterate 0 to 10 using **`for`** loop, do the same using **`while`** loop.\n",
    "2. Iterate 10 to 0 using **`for`** loop, do the same using **`while`** loop.\n",
    "3. Write a loop that makes seven calls to **`print()`**, so we get on the output the following triangle:\n",
    "\n",
    "```py\n",
    "# # # # # # # #\n",
    "# # # # # # # #\n",
    "# # # # # # # #\n",
    "# # # # # # # #\n",
    "# # # # # # # #\n",
    "# # # # # # # #\n",
    "# # # # # # # #\n",
    "# # # # # # # #\n",
    "```\n",
    "\n",
    "4. Use nested loops to create the following:\n",
    "\n",
    "```py\n",
    "      #\n",
    "     ###\n",
    "    #####\n",
    "   #######\n",
    "  #########\n",
    " ###########\n",
    "#############\n",
    "```\n",
    "\n",
    "5. Print the following pattern using loops\n",
    "\n",
    "```py\n",
    "   0 x 0 = 0\n",
    "   1 x 1 = 1\n",
    "   2 x 2 = 4\n",
    "   3 x 3 = 9\n",
    "   4 x 4 = 16\n",
    "   5 x 5 = 25\n",
    "   6 x 6 = 36\n",
    "   7 x 7 = 49\n",
    "   8 x 8 = 64\n",
    "   9 x 9 = 81\n",
    "   10 x 10 = 100\n",
    "```\n",
    "\n",
    "6. Iterate through the list, ['Python', 'Numpy','Pandas','Scikit', 'Pytorch'] using a **`for`** loop and print out the items.\n",
    "7. Use **`for`** loop to iterate from 0 to 100 and print only even numbers\n",
    "8. Use **`for`** loop to iterate from 0 to 100 and print only odd numbers\n",
    "   \n",
    "### Exercises ➞ <span class='label label-default'>Level 2</span>\n",
    "    \n",
    "1.  Use **`for`** loop to iterate from 0 to 100 and print the sum of all numbers.\n",
    "\n",
    "```py\n",
    "   The sum of all numbers is 5050.\n",
    "```\n",
    "\n",
    "1. Use **`for`** loop to iterate from 0 to 100 and print the sum of all evens and the sum of all odds.\n",
    "\n",
    "```py\n",
    "    The sum of all evens is 2550. And the sum of all odds is 2500.\n",
    "```\n",
    "\n",
    "### Exercises ➞ <span class='label label-default'>Level 3</span>\n",
    "\n",
    "1. Go to the data folder and use the **countries.py** file. Loop through the countries and extract all the countries containing the word **`land`**.\n",
    "1. This is a fruit list, ['banana', 'orange', 'mango', 'lemon'] reverse the order using loop.\n",
    "2. Go to the data folder and use the **countries_data.py** file. \n",
    "   1. What are the total number of languages in the data\n",
    "   2. Find the ten most spoken languages from the data\n",
    "   3. Find the 10 most populated countries in the world"
   ]
  },
  {
   "cell_type": "code",
   "execution_count": null,
   "metadata": {},
   "outputs": [],
   "source": []
  }
 ],
 "metadata": {
  "hide_input": false,
  "kernelspec": {
   "display_name": "Python 3 (ipykernel)",
   "language": "python",
   "name": "python3"
  },
  "language_info": {
   "codemirror_mode": {
    "name": "ipython",
    "version": 3
   },
   "file_extension": ".py",
   "mimetype": "text/x-python",
   "name": "python",
   "nbconvert_exporter": "python",
   "pygments_lexer": "ipython3",
   "version": "3.9.7"
  },
  "toc": {
   "base_numbering": 1,
   "nav_menu": {},
   "number_sections": true,
   "sideBar": true,
   "skip_h1_title": false,
   "title_cell": "Table of Contents",
   "title_sidebar": "Contents",
   "toc_cell": false,
   "toc_position": {},
   "toc_section_display": true,
   "toc_window_display": false
  },
  "varInspector": {
   "cols": {
    "lenName": 16,
    "lenType": 16,
    "lenVar": 40
   },
   "kernels_config": {
    "python": {
     "delete_cmd_postfix": "",
     "delete_cmd_prefix": "del ",
     "library": "var_list.py",
     "varRefreshCmd": "print(var_dic_list())"
    },
    "r": {
     "delete_cmd_postfix": ") ",
     "delete_cmd_prefix": "rm(",
     "library": "var_list.r",
     "varRefreshCmd": "cat(var_dic_list()) "
    }
   },
   "types_to_exclude": [
    "module",
    "function",
    "builtin_function_or_method",
    "instance",
    "_Feature"
   ],
   "window_display": false
  }
 },
 "nbformat": 4,
 "nbformat_minor": 2
}
