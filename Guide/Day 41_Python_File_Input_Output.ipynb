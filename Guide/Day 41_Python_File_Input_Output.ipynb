{
 "cells": [
  {
   "cell_type": "markdown",
   "metadata": {},
   "source": [
    "# Python File I/O\n",
    "\n",
    "In this session, you'll learn about Python file operations."
   ]
  },
  {
   "cell_type": "markdown",
   "metadata": {},
   "source": [
    "## Files\n",
    "\n",
    "\n",
    "\n",
    "Hence, in Python, a file operation takes place in the following order:\n",
    "<b>\n",
    "1. Open a file\n",
    "2. Close the file\n",
    "3. Write into files (perform operation)\n",
    "4. Read contents of files (perform operation)\n",
    "</b>"
   ]
  },
  {
   "cell_type": "markdown",
   "metadata": {},
   "source": [
    "## 1. Opening Files in Python\n",
    "\n",
    "\n",
    "```python\n",
    ">>> f = open(\"test.txt\")  # open file in current directory\n",
    "\n",
    "# specifying full path\n",
    ">>> f = open(\"C:/Users/AJANTHA/Downloads/Python_Introduction/60_60_60_Python_Challenge/README.txt\")\n",
    "\n",
    "```\n",
    "\n",
    " In mode, we specify whether we want to read **`r`**, write **`w`** or append **`a`** to the file.\n",
    "\n",
    "| Mode | Description |\n",
    "|:----:| :--- |\n",
    "| **`r`** | **Read** -Opens a file for reading only. The file pointer is placed at the beginning of the file. This is the default mode.   | \n",
    "| **`t`** | **Text** - Opens in text mode. (default).   | \n",
    "| **`b`** | **Binary** - Opens in binary mode (e.g. images).  | \n",
    "| **`x`** | **Create** - Opens a file for exclusive creation. If the file already exists, the operation fails.   | \n",
    "| **`rb`** | Opens a file for reading only in binary format. The file pointer is placed at the beginning of the file. This is the default mode.   | \n",
    "| **`r+`** | Opens a file for both reading and writing. The file pointer placed at the beginning of the file.   | \n",
    "| **`rb+`** | Opens a file for both reading and writing in binary format. The file pointer placed at the beginning of the file.   |  \n",
    "| **`w`** | **Write** - Opens a file for writing only. Overwrites the file if the file exists. If the file does not exist, creates a new file for writing.   | \n",
    "| **`wb`** | Opens a file for writing only in binary format. Overwrites the file if the file exists. If the file does not exist, creates a new file for writing.   | \n",
    "| **`w+`** | Opens a file for both writing and reading. Overwrites the existing file if the file exists. If the file does not exist, creates a new file for reading and writing.   | \n",
    "| **`wb+`** | Opens a file for both writing and reading in binary format. Overwrites the existing file if the file exists. If the file does not exist, creates a new file for reading and writing.   | \n",
    "| **`a`** | **Append** - Opens a file for appending. The file pointer is at the end of the file if the file exists. That is, the file is in the append mode. If the file does not exist, it creates a new file for writing.   | \n",
    "| **`ab`** | Opens a file for appending in binary format. The file pointer is at the end of the file if the file exists. That is, the file is in the append mode. If the file does not exist, it creates a new file for writing.   | \n",
    "| **`a+`** | Opens a file for both appending and reading. The file pointer is at the end of the file if the file exists. The file opens in the append mode. If the file does not exist, it creates a new file for reading and writing.   |\n",
    "| **`ab+`** | Opens a file for both appending and reading in binary format. The file pointer is at the end of the file if the file exists. The file opens in the append mode. If the file does not exist, it creates a new file for reading and writing.   |  "
   ]
  },
  {
   "cell_type": "code",
   "execution_count": 1,
   "metadata": {
    "ExecuteTime": {
     "end_time": "2021-10-25T14:28:08.145188Z",
     "start_time": "2021-10-25T14:28:08.074879Z"
    },
    "scrolled": true
   },
   "outputs": [
    {
     "name": "stdout",
     "output_type": "stream",
     "text": [
      "<_io.TextIOWrapper name='test.txt' mode='r' encoding='cp1252'>\n"
     ]
    }
   ],
   "source": [
    "f = open(\"test.txt\")   # equivalent to 'r' or 'rt'\n",
    "print(f)               # <_io.TextIOWrapper name='test.txt' mode='r' encoding='cp1252'>"
   ]
  },
  {
   "cell_type": "code",
   "execution_count": 3,
   "metadata": {
    "ExecuteTime": {
     "end_time": "2021-10-25T14:28:08.207692Z",
     "start_time": "2021-10-25T14:28:08.151052Z"
    }
   },
   "outputs": [
    {
     "name": "stdout",
     "output_type": "stream",
     "text": [
      "<_io.TextIOWrapper name='test.txt' mode='w' encoding='cp1252'>\n"
     ]
    }
   ],
   "source": [
    "f = open(\"test.txt\",'w')  # write in text mode\n",
    "print(f)"
   ]
  },
  {
   "cell_type": "code",
   "execution_count": 4,
   "metadata": {
    "ExecuteTime": {
     "end_time": "2021-10-25T14:28:08.317071Z",
     "start_time": "2021-10-25T14:28:08.217459Z"
    }
   },
   "outputs": [],
   "source": [
    "f = open(\"C:/Users/AJANTHA/Downloads/Python_Introduction/60_60_60_Python_Challenge/img/logo.png\",'r+b')  # read and write in binary mode"
   ]
  },
  {
   "cell_type": "code",
   "execution_count": 5,
   "metadata": {
    "ExecuteTime": {
     "end_time": "2021-10-25T14:28:08.426445Z",
     "start_time": "2021-10-25T14:28:08.321954Z"
    }
   },
   "outputs": [],
   "source": [
    "f = open(\"test.txt\", mode='r', encoding='utf-8')"
   ]
  },
  {
   "cell_type": "markdown",
   "metadata": {},
   "source": [
    "## 2. Closing Files in Python\n",
    "\n"
   ]
  },
  {
   "cell_type": "code",
   "execution_count": 6,
   "metadata": {
    "ExecuteTime": {
     "end_time": "2021-10-25T14:28:08.582216Z",
     "start_time": "2021-10-25T14:28:08.430355Z"
    }
   },
   "outputs": [],
   "source": [
    "f = open(\"test.txt\", encoding = 'utf-8')\n",
    "# perform file operations\n",
    "f.close()"
   ]
  },
  {
   "cell_type": "code",
   "execution_count": 7,
   "metadata": {
    "ExecuteTime": {
     "end_time": "2021-10-25T14:28:08.881538Z",
     "start_time": "2021-10-25T14:28:08.590028Z"
    }
   },
   "outputs": [],
   "source": [
    "try:\n",
    "    f = open(\"test.txt\", encoding = 'utf-8')\n",
    "    # perform file operations\n",
    "finally:\n",
    "    f.close()"
   ]
  },
  {
   "cell_type": "markdown",
   "metadata": {},
   "source": [
    "### The file Object Attributes\n",
    "\n",
    "* **file.closed** \n",
    "* **file.mode** \n",
    "* **file.name** "
   ]
  },
  {
   "cell_type": "code",
   "execution_count": 9,
   "metadata": {
    "ExecuteTime": {
     "end_time": "2021-10-25T14:28:09.020214Z",
     "start_time": "2021-10-25T14:28:08.891306Z"
    }
   },
   "outputs": [
    {
     "name": "stdout",
     "output_type": "stream",
     "text": [
      "Name of the file:  data.txt\n",
      "Closed or not :  False\n",
      "Opening mode :  wb\n",
      "Closed or not :  True\n"
     ]
    }
   ],
   "source": [
    "# Open a file\n",
    "data = open(\"data.txt\", \"wb\")\n",
    "print (\"Name of the file: \", data.name)\n",
    "print (\"Closed or not : \", data.closed)\n",
    "print (\"Opening mode : \", data.mode)\n",
    "data.close()  #closed data.txt file\n",
    "print (\"Closed or not : \", data.closed)"
   ]
  },
  {
   "cell_type": "markdown",
   "metadata": {},
   "source": [
    "## 3. Writing to Files in Python\n",
    "\n"
   ]
  },
  {
   "cell_type": "code",
   "execution_count": 11,
   "metadata": {
    "ExecuteTime": {
     "end_time": "2021-10-25T14:28:09.124707Z",
     "start_time": "2021-10-25T14:28:09.028027Z"
    }
   },
   "outputs": [],
   "source": [
    "with open(\"test_1.txt\",'w',encoding = 'utf-8') as f:\n",
    "    f.write(\"my first file\\n\")\n",
    "    f.write(\"This file second line\\n\\n\")\n",
    "    f.write(\"contains three lines\\n\")"
   ]
  },
  {
   "cell_type": "code",
   "execution_count": 12,
   "metadata": {
    "ExecuteTime": {
     "end_time": "2021-10-25T14:28:09.269731Z",
     "start_time": "2021-10-25T14:28:09.134477Z"
    }
   },
   "outputs": [],
   "source": [
    "with open(\"test_2.txt\",'w',encoding = 'utf-8') as f:\n",
    "    f.write(\"This is file\\n\")\n",
    "    f.write(\"my\\n\")\n",
    "    f.write(\"first file\\n\")"
   ]
  },
  {
   "cell_type": "code",
   "execution_count": 13,
   "metadata": {
    "ExecuteTime": {
     "end_time": "2021-10-25T14:28:09.296102Z",
     "start_time": "2021-10-25T14:28:09.274614Z"
    }
   },
   "outputs": [],
   "source": [
    "with open(\"test_2.txt\",'a',encoding = 'utf-8') as f:\n",
    "    f.write('This text has to be appended at the end')"
   ]
  },
  {
   "cell_type": "code",
   "execution_count": 14,
   "metadata": {
    "ExecuteTime": {
     "end_time": "2021-10-25T14:28:09.404501Z",
     "start_time": "2021-10-25T14:28:09.300006Z"
    }
   },
   "outputs": [
    {
     "name": "stdout",
     "output_type": "stream",
     "text": [
      "done\n"
     ]
    }
   ],
   "source": [
    "# open a file in current directory\n",
    "data = open(\"data_1.txt\", \"w\") # \"w\" write in text mode,\n",
    "data.write(\"Welcome to Dr. Ajantha Devi's  Python 60-60-60 Challenge\")\n",
    "print(\"done\")\n",
    "data.close()"
   ]
  },
  {
   "cell_type": "markdown",
   "metadata": {},
   "source": [
    "## 4. Reading Files in Python\n",
    "\n",
    "\n",
    "We can read the **`text_1.txt`** file we wrote in the above section in the following way:"
   ]
  },
  {
   "cell_type": "code",
   "execution_count": 15,
   "metadata": {
    "ExecuteTime": {
     "end_time": "2021-10-25T14:28:09.525600Z",
     "start_time": "2021-10-25T14:28:09.418663Z"
    },
    "scrolled": true
   },
   "outputs": [
    {
     "name": "stdout",
     "output_type": "stream",
     "text": [
      "<class 'str'>\n",
      "\n"
     ]
    }
   ],
   "source": [
    "f = open(\"test.txt\",'r',encoding = 'utf-8')\n",
    "txt = f.read()  # read all the characters in the file\n",
    "print(type(txt))\n",
    "print(txt)\n",
    "f.close()"
   ]
  },
  {
   "cell_type": "code",
   "execution_count": 16,
   "metadata": {
    "ExecuteTime": {
     "end_time": "2021-10-25T14:28:09.662808Z",
     "start_time": "2021-10-25T14:28:09.529505Z"
    }
   },
   "outputs": [
    {
     "data": {
      "text/plain": [
       "'my first'"
      ]
     },
     "execution_count": 16,
     "metadata": {},
     "output_type": "execute_result"
    }
   ],
   "source": [
    "f = open(\"test_1.txt\",'r',encoding = 'utf-8')\n",
    "f.read(8)  # read the first 8 data characters"
   ]
  },
  {
   "cell_type": "code",
   "execution_count": 17,
   "metadata": {
    "ExecuteTime": {
     "end_time": "2021-10-25T14:28:09.816134Z",
     "start_time": "2021-10-25T14:28:09.665737Z"
    }
   },
   "outputs": [
    {
     "data": {
      "text/plain": [
       "' file'"
      ]
     },
     "execution_count": 17,
     "metadata": {},
     "output_type": "execute_result"
    }
   ],
   "source": [
    "f.read(5)  # read the next 5 data characters"
   ]
  },
  {
   "cell_type": "code",
   "execution_count": 18,
   "metadata": {
    "ExecuteTime": {
     "end_time": "2021-10-25T14:28:09.924044Z",
     "start_time": "2021-10-25T14:28:09.820039Z"
    }
   },
   "outputs": [
    {
     "data": {
      "text/plain": [
       "'\\nThis file second line\\n\\ncontains three lines\\n'"
      ]
     },
     "execution_count": 18,
     "metadata": {},
     "output_type": "execute_result"
    }
   ],
   "source": [
    "f.read()  # read in the rest till end of file"
   ]
  },
  {
   "cell_type": "code",
   "execution_count": 20,
   "metadata": {
    "ExecuteTime": {
     "end_time": "2021-10-25T14:28:10.032936Z",
     "start_time": "2021-10-25T14:28:09.928929Z"
    }
   },
   "outputs": [
    {
     "data": {
      "text/plain": [
       "''"
      ]
     },
     "execution_count": 20,
     "metadata": {},
     "output_type": "execute_result"
    }
   ],
   "source": [
    "f.read()  # further reading returns empty string"
   ]
  },
  {
   "cell_type": "code",
   "execution_count": 21,
   "metadata": {
    "ExecuteTime": {
     "end_time": "2021-10-25T14:28:10.141825Z",
     "start_time": "2021-10-25T14:28:10.037819Z"
    }
   },
   "outputs": [
    {
     "data": {
      "text/plain": [
       "62"
      ]
     },
     "execution_count": 21,
     "metadata": {},
     "output_type": "execute_result"
    }
   ],
   "source": [
    "f.tell()    # get the current file position"
   ]
  },
  {
   "cell_type": "code",
   "execution_count": 22,
   "metadata": {
    "ExecuteTime": {
     "end_time": "2021-10-25T14:28:10.235578Z",
     "start_time": "2021-10-25T14:28:10.145731Z"
    }
   },
   "outputs": [
    {
     "data": {
      "text/plain": [
       "0"
      ]
     },
     "execution_count": 22,
     "metadata": {},
     "output_type": "execute_result"
    }
   ],
   "source": [
    "f.seek(0)   # bring file cursor to initial position"
   ]
  },
  {
   "cell_type": "code",
   "execution_count": 23,
   "metadata": {
    "ExecuteTime": {
     "end_time": "2021-10-25T14:28:10.351794Z",
     "start_time": "2021-10-25T14:28:10.239484Z"
    },
    "scrolled": true
   },
   "outputs": [
    {
     "name": "stdout",
     "output_type": "stream",
     "text": [
      "my first file\n",
      "This file second line\n",
      "\n",
      "contains three lines\n",
      "\n"
     ]
    }
   ],
   "source": [
    "print(f.read())  # read the entire file"
   ]
  },
  {
   "cell_type": "code",
   "execution_count": 24,
   "metadata": {
    "ExecuteTime": {
     "end_time": "2021-10-25T14:28:10.454334Z",
     "start_time": "2021-10-25T14:28:10.364489Z"
    }
   },
   "outputs": [
    {
     "name": "stdout",
     "output_type": "stream",
     "text": [
      "my first file\n",
      "This file second line\n",
      "\n",
      "contains three lines\n"
     ]
    }
   ],
   "source": [
    "f = open(\"test_1.txt\",'r',encoding = 'utf-8')\n",
    "for line in f:\n",
    "    print(line, end = '')"
   ]
  },
  {
   "cell_type": "code",
   "execution_count": 25,
   "metadata": {
    "ExecuteTime": {
     "end_time": "2021-10-25T14:28:10.578847Z",
     "start_time": "2021-10-25T14:28:10.458240Z"
    }
   },
   "outputs": [
    {
     "data": {
      "text/plain": [
       "'my first file\\n'"
      ]
     },
     "execution_count": 25,
     "metadata": {},
     "output_type": "execute_result"
    }
   ],
   "source": [
    "f.seek(0)  # bring file cursor to initial position\n",
    "f.readline()"
   ]
  },
  {
   "cell_type": "code",
   "execution_count": 26,
   "metadata": {
    "ExecuteTime": {
     "end_time": "2021-10-25T14:28:10.749264Z",
     "start_time": "2021-10-25T14:28:10.582755Z"
    }
   },
   "outputs": [
    {
     "data": {
      "text/plain": [
       "'This file second line\\n'"
      ]
     },
     "execution_count": 26,
     "metadata": {},
     "output_type": "execute_result"
    }
   ],
   "source": [
    "f.readline()"
   ]
  },
  {
   "cell_type": "code",
   "execution_count": 27,
   "metadata": {
    "ExecuteTime": {
     "end_time": "2021-10-25T14:28:10.874263Z",
     "start_time": "2021-10-25T14:28:10.760981Z"
    }
   },
   "outputs": [
    {
     "data": {
      "text/plain": [
       "'\\n'"
      ]
     },
     "execution_count": 27,
     "metadata": {},
     "output_type": "execute_result"
    }
   ],
   "source": [
    "f.readline()"
   ]
  },
  {
   "cell_type": "code",
   "execution_count": 28,
   "metadata": {
    "ExecuteTime": {
     "end_time": "2021-10-25T14:28:11.014891Z",
     "start_time": "2021-10-25T14:28:10.880126Z"
    }
   },
   "outputs": [
    {
     "data": {
      "text/plain": [
       "'contains three lines\\n'"
      ]
     },
     "execution_count": 28,
     "metadata": {},
     "output_type": "execute_result"
    }
   ],
   "source": [
    "f.readline()"
   ]
  },
  {
   "cell_type": "code",
   "execution_count": 29,
   "metadata": {
    "ExecuteTime": {
     "end_time": "2021-10-25T14:28:11.139894Z",
     "start_time": "2021-10-25T14:28:11.018801Z"
    },
    "scrolled": true
   },
   "outputs": [
    {
     "data": {
      "text/plain": [
       "['my first file\\n', 'This file second line\\n', '\\n', 'contains three lines\\n']"
      ]
     },
     "execution_count": 29,
     "metadata": {},
     "output_type": "execute_result"
    }
   ],
   "source": [
    "f.seek(0)  # bring file cursor to initial position\n",
    "f.readlines()"
   ]
  },
  {
   "cell_type": "code",
   "execution_count": 30,
   "metadata": {
    "ExecuteTime": {
     "end_time": "2021-10-25T14:28:11.279548Z",
     "start_time": "2021-10-25T14:28:11.142828Z"
    }
   },
   "outputs": [
    {
     "data": {
      "text/plain": [
       "['my first file', 'This file second line', '', 'contains three lines']"
      ]
     },
     "execution_count": 30,
     "metadata": {},
     "output_type": "execute_result"
    }
   ],
   "source": [
    "f.seek(0)  # bring file cursor to initial position\n",
    "f.read().splitlines()"
   ]
  },
  {
   "cell_type": "code",
   "execution_count": 31,
   "metadata": {
    "ExecuteTime": {
     "end_time": "2021-10-25T14:28:11.388926Z",
     "start_time": "2021-10-25T14:28:11.283456Z"
    },
    "scrolled": true
   },
   "outputs": [
    {
     "name": "stdout",
     "output_type": "stream",
     "text": [
      "Welcome to Dr. Ajantha Devi\n",
      "'s  Python 60-60-60 Challenge\n"
     ]
    }
   ],
   "source": [
    "# Open a file\n",
    "data = open(\"data_1.txt\", \"r+\")\n",
    "file_data = data.read(27) # read 3.375 byte only\n",
    "full_data = data.read()   # read all byte into file from last cursor\n",
    "print(file_data)\n",
    "print(full_data)\n",
    "data.close()"
   ]
  },
  {
   "cell_type": "markdown",
   "metadata": {},
   "source": [
    "## File Positions\n",
    "\n"
   ]
  },
  {
   "cell_type": "code",
   "execution_count": 32,
   "metadata": {
    "ExecuteTime": {
     "end_time": "2021-10-25T14:28:11.545181Z",
     "start_time": "2021-10-25T14:28:11.392833Z"
    }
   },
   "outputs": [
    {
     "name": "stdout",
     "output_type": "stream",
     "text": [
      "current position after reading 27 byte : 27\n",
      "Welcome to Dr. Ajantha Devi\n",
      "Welcome to Dr. Ajantha Devi's  Python 60-60-60 Challenge\n",
      "position after reading file :  56\n"
     ]
    }
   ],
   "source": [
    "# Open a file\n",
    "data = open(\"data_1.txt\", \"r+\")\n",
    "file_data = data.read(27) # read 18 byte only\n",
    "print(\"current position after reading 27 byte :\",data.tell())\n",
    "data.seek(0) #here current position set to 0 (starting of file)\n",
    "full_data = data.read() #read all byte\n",
    "print(file_data)\n",
    "print(full_data)\n",
    "print(\"position after reading file : \",data.tell())\n",
    "data.close()"
   ]
  },
  {
   "cell_type": "code",
   "execution_count": null,
   "metadata": {},
   "outputs": [],
   "source": []
  }
 ],
 "metadata": {
  "hide_input": false,
  "kernelspec": {
   "display_name": "Python 3 (ipykernel)",
   "language": "python",
   "name": "python3"
  },
  "language_info": {
   "codemirror_mode": {
    "name": "ipython",
    "version": 3
   },
   "file_extension": ".py",
   "mimetype": "text/x-python",
   "name": "python",
   "nbconvert_exporter": "python",
   "pygments_lexer": "ipython3",
   "version": "3.9.7"
  },
  "toc": {
   "base_numbering": 1,
   "nav_menu": {},
   "number_sections": true,
   "sideBar": true,
   "skip_h1_title": false,
   "title_cell": "Table of Contents",
   "title_sidebar": "Contents",
   "toc_cell": false,
   "toc_position": {
    "height": "calc(100% - 180px)",
    "left": "10px",
    "top": "150px",
    "width": "204.797px"
   },
   "toc_section_display": true,
   "toc_window_display": false
  },
  "varInspector": {
   "cols": {
    "lenName": 16,
    "lenType": 16,
    "lenVar": 40
   },
   "kernels_config": {
    "python": {
     "delete_cmd_postfix": "",
     "delete_cmd_prefix": "del ",
     "library": "var_list.py",
     "varRefreshCmd": "print(var_dic_list())"
    },
    "r": {
     "delete_cmd_postfix": ") ",
     "delete_cmd_prefix": "rm(",
     "library": "var_list.r",
     "varRefreshCmd": "cat(var_dic_list()) "
    }
   },
   "types_to_exclude": [
    "module",
    "function",
    "builtin_function_or_method",
    "instance",
    "_Feature"
   ],
   "window_display": false
  }
 },
 "nbformat": 4,
 "nbformat_minor": 2
}
