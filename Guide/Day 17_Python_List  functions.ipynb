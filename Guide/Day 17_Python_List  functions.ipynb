{
 "cells": [
  {
   "cell_type": "markdown",
   "metadata": {},
   "source": [
    "# Python List\n",
    "\n",
    "In this session, we'll learn everything about Python lists functions\n"
   ]
  },
  {
   "cell_type": "markdown",
   "metadata": {},
   "source": [
    "##  Python Built-in List Functions\n",
    "\n",
    "\n",
    "| Functions | Description |\n",
    "|:----| :--- |\n",
    "| **[all()](https://github.com/milaan9/04_Python_Functions/blob/main/002_Python_Functions_Built_in/003_Python_all%28%29.ipynb)** |   Returns **`True`** if all keys of the list are True. | \n",
    "| **[any()](https://github.com/milaan9/04_Python_Functions/blob/main/002_Python_Functions_Built_in/002_Python_any%28%29.ipynb)** |   Returns **`True`** if any key of the list is true. If the list is empty, return **`False`**. | \n",
    "| **[sorted()](https://github.com/milaan9/04_Python_Functions/blob/main/002_Python_Functions_Built_in/060_Python_sorted%28%29.ipynb)** |   Returns a new sorted list of elements in the list. | \n",
    "| **[min()](https://github.com/milaan9/04_Python_Functions/blob/main/002_Python_Functions_Built_in/042_Python_min%28%29.ipynb)** |   Returns the minimum value from the list given. | \n",
    "| **[max()](https://github.com/milaan9/04_Python_Functions/blob/main/002_Python_Functions_Built_in/041_Python_max%28%29.ipynb)** |   Returns the maximum value from the list given. | \n",
    "| **[len()](https://github.com/milaan9/04_Python_Functions/blob/main/002_Python_Functions_Built_in/040_Python_len%28%29.ipynb)** |   Returns number of elements in a list. | \n",
    "| **cmp()** |   Compares items of two lists. (Not available in Python 3). | \n",
    "| **[list()](https://github.com/milaan9/04_Python_Functions/blob/main/002_Python_Functions_Built_in/038_Python_list%28%29_Function.ipynb)** |   Takes sequence types and converts them to lists. | "
   ]
  },
  {
   "cell_type": "markdown",
   "metadata": {},
   "source": [
    "### **`all(list)`** "
   ]
  },
  {
   "cell_type": "code",
   "execution_count": 1,
   "metadata": {
    "ExecuteTime": {
     "end_time": "2021-10-03T09:17:31.630720Z",
     "start_time": "2021-10-03T09:17:31.611193Z"
    },
    "scrolled": true
   },
   "outputs": [
    {
     "name": "stdout",
     "output_type": "stream",
     "text": [
      "True\n",
      "False\n",
      "False\n",
      "False\n",
      "True\n"
     ]
    }
   ],
   "source": [
    "# Example: How all() works for lists?\n",
    "\n",
    "l = [1, 3, 4, 5]\n",
    "print(all(l))  # ▶ True ∵ all values true\n",
    "\n",
    "l = [0, False]\n",
    "print(all(l))  # ▶ False ∵ all values false\n",
    "\n",
    "l = [1, 3, 4, 0]\n",
    "print(all(l))  # ▶ False ∵ one false value\n",
    "\n",
    "l = [0, False, 5]\n",
    "print(all(l))  # ▶ False ∵ one true value\n",
    "\n",
    "l = []\n",
    "print(all(l))  # ▶ True ∵ empty iterable"
   ]
  },
  {
   "cell_type": "markdown",
   "metadata": {},
   "source": [
    "### **`any(list)`** "
   ]
  },
  {
   "cell_type": "code",
   "execution_count": 2,
   "metadata": {
    "ExecuteTime": {
     "end_time": "2021-10-03T09:17:32.042343Z",
     "start_time": "2021-10-03T09:17:32.019888Z"
    },
    "scrolled": true
   },
   "outputs": [
    {
     "name": "stdout",
     "output_type": "stream",
     "text": [
      "True\n",
      "False\n",
      "True\n",
      "False\n"
     ]
    }
   ],
   "source": [
    "# Example: True since 1,3 and 4 (at least one) is true\n",
    "\n",
    "l = [1, 3, 4, 0]\n",
    "print(any(l))  # ▶ True \n",
    "\n",
    "l = [0, False]\n",
    "print(any(l))  # ▶ False ∵ both are False\n",
    "\n",
    "l = [0, False, 5]\n",
    "print(any(l))  # ▶ True ∵ 5 is true\n",
    "\n",
    "l = []\n",
    "print(any(l))  # ▶ False ∵ iterable is empty"
   ]
  },
  {
   "cell_type": "markdown",
   "metadata": {},
   "source": [
    "### **`sorted(dict)`** "
   ]
  },
  {
   "cell_type": "code",
   "execution_count": 3,
   "metadata": {
    "ExecuteTime": {
     "end_time": "2021-10-03T09:17:32.452016Z",
     "start_time": "2021-10-03T09:17:32.443229Z"
    }
   },
   "outputs": [
    {
     "name": "stdout",
     "output_type": "stream",
     "text": [
      "['a', 'e', 'i', 'o', 'u']\n",
      "['u', 'o', 'i', 'e', 'a']\n"
     ]
    }
   ],
   "source": [
    "# Example: vowels list\n",
    "\n",
    "py_list = ['e', 'a', 'u', 'o', 'i']\n",
    "print(sorted(py_list))                # ▶ ['a', 'e', 'i', 'o', 'u']\n",
    "print(sorted(py_list, reverse=True))  # ▶ ['u', 'o', 'i', 'e', 'a']"
   ]
  },
  {
   "cell_type": "markdown",
   "metadata": {},
   "source": [
    "### **`min(list)`**"
   ]
  },
  {
   "cell_type": "code",
   "execution_count": 4,
   "metadata": {
    "ExecuteTime": {
     "end_time": "2021-10-03T09:17:33.100459Z",
     "start_time": "2021-10-03T09:17:33.083858Z"
    }
   },
   "outputs": [
    {
     "name": "stdout",
     "output_type": "stream",
     "text": [
      "a\n",
      "1\n"
     ]
    },
    {
     "ename": "TypeError",
     "evalue": "'<' not supported between instances of 'int' and 'str'",
     "output_type": "error",
     "traceback": [
      "\u001b[1;31m---------------------------------------------------------------------------\u001b[0m",
      "\u001b[1;31mTypeError\u001b[0m                                 Traceback (most recent call last)",
      "\u001b[1;32m~\\AppData\\Local\\Temp/ipykernel_23480/1108313967.py\u001b[0m in \u001b[0;36m<module>\u001b[1;34m\u001b[0m\n\u001b[0;32m      7\u001b[0m \u001b[0mprint\u001b[0m\u001b[1;33m(\u001b[0m\u001b[0mmin\u001b[0m\u001b[1;33m(\u001b[0m\u001b[0mlist1\u001b[0m\u001b[1;33m)\u001b[0m\u001b[1;33m)\u001b[0m  \u001b[1;31m# ▶ a\u001b[0m\u001b[1;33m\u001b[0m\u001b[1;33m\u001b[0m\u001b[0m\n\u001b[0;32m      8\u001b[0m \u001b[0mprint\u001b[0m\u001b[1;33m(\u001b[0m\u001b[0mmin\u001b[0m\u001b[1;33m(\u001b[0m\u001b[0mlist2\u001b[0m\u001b[1;33m)\u001b[0m\u001b[1;33m)\u001b[0m  \u001b[1;31m# ▶ 1\u001b[0m\u001b[1;33m\u001b[0m\u001b[1;33m\u001b[0m\u001b[0m\n\u001b[1;32m----> 9\u001b[1;33m \u001b[0mprint\u001b[0m\u001b[1;33m(\u001b[0m\u001b[0mmin\u001b[0m\u001b[1;33m(\u001b[0m\u001b[0mlist3\u001b[0m\u001b[1;33m)\u001b[0m\u001b[1;33m)\u001b[0m  \u001b[1;31m# ▶ TypeError: '<' not supported between instances of 'int' and 'str'\u001b[0m\u001b[1;33m\u001b[0m\u001b[1;33m\u001b[0m\u001b[0m\n\u001b[0m",
      "\u001b[1;31mTypeError\u001b[0m: '<' not supported between instances of 'int' and 'str'"
     ]
    }
   ],
   "source": [
    "# Example:\n",
    "\n",
    "list1 = ['a','b','c']\n",
    "list2 = [1,2,3]\n",
    "list3=['a','b','c',1,2,3]\n",
    "\n",
    "print(min(list1))  # ▶ a \n",
    "print(min(list2))  # ▶ 1\n",
    "print(min(list3))  # ▶ TypeError: '<' not supported between instances of 'int' and 'str'"
   ]
  },
  {
   "cell_type": "markdown",
   "metadata": {},
   "source": [
    "### **`max(list)`** "
   ]
  },
  {
   "cell_type": "code",
   "execution_count": 5,
   "metadata": {
    "ExecuteTime": {
     "end_time": "2021-10-03T09:17:33.916867Z",
     "start_time": "2021-10-03T09:17:33.835816Z"
    }
   },
   "outputs": [
    {
     "name": "stdout",
     "output_type": "stream",
     "text": [
      "c\n",
      "3\n"
     ]
    },
    {
     "ename": "TypeError",
     "evalue": "'>' not supported between instances of 'int' and 'str'",
     "output_type": "error",
     "traceback": [
      "\u001b[1;31m---------------------------------------------------------------------------\u001b[0m",
      "\u001b[1;31mTypeError\u001b[0m                                 Traceback (most recent call last)",
      "\u001b[1;32m~\\AppData\\Local\\Temp/ipykernel_23480/2915678647.py\u001b[0m in \u001b[0;36m<module>\u001b[1;34m\u001b[0m\n\u001b[0;32m      7\u001b[0m \u001b[0mprint\u001b[0m\u001b[1;33m(\u001b[0m\u001b[0mmax\u001b[0m\u001b[1;33m(\u001b[0m\u001b[0mlist1\u001b[0m\u001b[1;33m)\u001b[0m\u001b[1;33m)\u001b[0m  \u001b[1;31m# ▶ c\u001b[0m\u001b[1;33m\u001b[0m\u001b[1;33m\u001b[0m\u001b[0m\n\u001b[0;32m      8\u001b[0m \u001b[0mprint\u001b[0m\u001b[1;33m(\u001b[0m\u001b[0mmax\u001b[0m\u001b[1;33m(\u001b[0m\u001b[0mlist2\u001b[0m\u001b[1;33m)\u001b[0m\u001b[1;33m)\u001b[0m  \u001b[1;31m# ▶ 3\u001b[0m\u001b[1;33m\u001b[0m\u001b[1;33m\u001b[0m\u001b[0m\n\u001b[1;32m----> 9\u001b[1;33m \u001b[0mprint\u001b[0m\u001b[1;33m(\u001b[0m\u001b[0mmax\u001b[0m\u001b[1;33m(\u001b[0m\u001b[0mlist3\u001b[0m\u001b[1;33m)\u001b[0m\u001b[1;33m)\u001b[0m  \u001b[1;31m# ▶ TypeError: '>' not supported between instances of 'int' and 'str'\u001b[0m\u001b[1;33m\u001b[0m\u001b[1;33m\u001b[0m\u001b[0m\n\u001b[0m",
      "\u001b[1;31mTypeError\u001b[0m: '>' not supported between instances of 'int' and 'str'"
     ]
    }
   ],
   "source": [
    "# Example:\n",
    "\n",
    "list1 = ['a','b','c']\n",
    "list2 = [1,2,3]\n",
    "list3=['a','b','c',1,2,3]\n",
    "\n",
    "print(max(list1))  # ▶ c\n",
    "print(max(list2))  # ▶ 3\n",
    "print(max(list3))  # ▶ TypeError: '>' not supported between instances of 'int' and 'str'"
   ]
  },
  {
   "cell_type": "markdown",
   "metadata": {},
   "source": [
    "### **`len(list)`** "
   ]
  },
  {
   "cell_type": "code",
   "execution_count": 6,
   "metadata": {
    "ExecuteTime": {
     "end_time": "2021-10-03T09:17:34.543827Z",
     "start_time": "2021-10-03T09:17:34.522832Z"
    }
   },
   "outputs": [
    {
     "name": "stdout",
     "output_type": "stream",
     "text": [
      "3\n",
      "0\n",
      "6\n"
     ]
    }
   ],
   "source": [
    "# Example:\n",
    "\n",
    "list1 = ['a','b','c']\n",
    "list2 = []\n",
    "list3=['a','b','c',1,2,3]\n",
    "\n",
    "print(len(list1))  # ▶ 3\n",
    "print(len(list2))  # ▶ 0\n",
    "print(len(list3))  # ▶ 6"
   ]
  },
  {
   "cell_type": "markdown",
   "metadata": {},
   "source": [
    "## Python List Methods\n",
    "\n",
    "Methods that are available with list objects in Python programming are tabulated below. Some of the methods have already been used above.\n",
    "\n",
    "| Method | Description |\n",
    "|:----| :--- |\n",
    "| **[append()](https://github.com/milaan9/02_Python_Datatypes/blob/main/003_Python_List_Methods/002_Python_List_append%28%29.ipynb)** | Add an element to the end of the list | \n",
    "| **[extend()](https://github.com/milaan9/02_Python_Datatypes/blob/main/003_Python_List_Methods/003_Python_List_extend%28%29.ipynb)** | Add all elements of a list to the another list |\n",
    "| **[insert()](https://github.com/milaan9/02_Python_Datatypes/blob/main/003_Python_List_Methods/004_Python_List_insert%28%29.ipynb)** | Insert an item at the defined index |\n",
    "| **[remove()](https://github.com/milaan9/02_Python_Datatypes/blob/main/003_Python_List_Methods/005_Python_List_remove%28%29.ipynb)** | Removes an item from the list |\n",
    "| **[pop()](https://github.com/milaan9/02_Python_Datatypes/blob/main/003_Python_List_Methods/007_Python_List_pop%28%29.ipynb)** | Removes and returns an element at the given index \n",
    "| **[clear()](https://github.com/milaan9/02_Python_Datatypes/blob/main/003_Python_List_Methods/011_Python_List_clear%28%29.ipynb)** | Removes all items from the list |\n",
    "| **[index()](https://github.com/milaan9/02_Python_Datatypes/blob/main/003_Python_List_Methods/001_Python_List_index%28%29.ipynb)** | Returns the index of the first matched item | \n",
    "| **[count()](https://github.com/milaan9/02_Python_Datatypes/blob/main/003_Python_List_Methods/006_Python_List_count%28%29.ipynb)** | Returns the count of the number of items passed as an argument |\n",
    "| **[sort()](https://github.com/milaan9/02_Python_Datatypes/blob/main/003_Python_List_Methods/009_Python_List_sort%28%29.ipynb)** | Sort items in a list in ascending order |\n",
    "| **[reverse()](https://github.com/milaan9/02_Python_Datatypes/blob/main/003_Python_List_Methods/008_Python_List_reverse%28%29.ipynb)** |  Reverse the order of items in the list |\n",
    "| **[copy()](https://github.com/milaan9/02_Python_Datatypes/blob/main/003_Python_List_Methods/010_Python_List_copy%28%29.ipynb)** | Returns a shallow copy of the list |"
   ]
  },
  {
   "cell_type": "markdown",
   "metadata": {},
   "source": [
    "### **`append()`**"
   ]
  },
  {
   "cell_type": "code",
   "execution_count": 7,
   "metadata": {
    "ExecuteTime": {
     "end_time": "2021-10-03T09:17:35.451060Z",
     "start_time": "2021-10-03T09:17:35.434458Z"
    }
   },
   "outputs": [
    {
     "name": "stdout",
     "output_type": "stream",
     "text": [
      "[1, 2, 3, 4, 'helloworld', ['a', 'b', 'c']]\n"
     ]
    }
   ],
   "source": [
    "# Example:\n",
    "\n",
    "list1 =[1,2,3]\n",
    "list1.append(4)\n",
    "list1.append('helloworld')\n",
    "list1.append(['a','b','c']) #append as single object\n",
    "print(list1)  # ▶ [1, 2, 3, 4, 'helloworld', ['a', 'b', 'c']]"
   ]
  },
  {
   "cell_type": "markdown",
   "metadata": {},
   "source": [
    "### **`extend()`** "
   ]
  },
  {
   "cell_type": "code",
   "execution_count": 8,
   "metadata": {
    "ExecuteTime": {
     "end_time": "2021-10-03T09:17:36.023323Z",
     "start_time": "2021-10-03T09:17:36.008680Z"
    }
   },
   "outputs": [
    {
     "name": "stdout",
     "output_type": "stream",
     "text": [
      "[1, 2, 3, 4, 'h', 'e', 'l', 'l', 'o', 'w', 'o', 'r', 'l', 'd', 'a', 'b', 'c']\n"
     ]
    }
   ],
   "source": [
    "# Example:\n",
    "\n",
    "list1 =[1,2,3]\n",
    "list1.extend([4])\n",
    "list1.extend('helloworld')\n",
    "list1.extend(['a','b','c'])\n",
    "print(list1)  # ▶ [1, 2, 3, 4, 'h', 'e', 'l', 'l', 'o', 'w', 'o', 'r', 'l', 'd', 'a', 'b', 'c']"
   ]
  },
  {
   "cell_type": "markdown",
   "metadata": {},
   "source": [
    "### **`insert()`** "
   ]
  },
  {
   "cell_type": "code",
   "execution_count": 9,
   "metadata": {
    "ExecuteTime": {
     "end_time": "2021-10-03T09:17:36.477433Z",
     "start_time": "2021-10-03T09:17:36.468644Z"
    }
   },
   "outputs": [
    {
     "name": "stdout",
     "output_type": "stream",
     "text": [
      "['helloworld', 'python', 'java', 'C#', 'c++', 1, 2, 3]\n"
     ]
    }
   ],
   "source": [
    "# Example:\n",
    "\n",
    "list1 =['helloworld','python','java','c++',1,2,3]\n",
    "list1.insert(3,'C#')\n",
    "print(list1)  # ▶ ['helloworld', 'python', 'java', 'C#', 'c++', 1, 2, 3]"
   ]
  },
  {
   "cell_type": "markdown",
   "metadata": {},
   "source": [
    "### **`remove()`** "
   ]
  },
  {
   "cell_type": "code",
   "execution_count": 10,
   "metadata": {
    "ExecuteTime": {
     "end_time": "2021-10-03T09:17:37.161031Z",
     "start_time": "2021-10-03T09:17:37.140523Z"
    }
   },
   "outputs": [
    {
     "name": "stdout",
     "output_type": "stream",
     "text": [
      "['helloworld', 'python', 'c++', 1, 2, 3]\n",
      "['helloworld', 'python', 'c++', 1, 3]\n"
     ]
    }
   ],
   "source": [
    "# Example:\n",
    "\n",
    "list1 =['helloworld','python','java','c++',1,2,3]\n",
    "list1.remove(\"java\")\n",
    "print(list1)  # ▶ ['helloworld', 'python', 'c++', 1, 2, 3]\n",
    "list1.remove(2)\n",
    "print(list1)  # ▶ ['helloworld', 'python', 'c++', 1, 3]"
   ]
  },
  {
   "cell_type": "markdown",
   "metadata": {},
   "source": [
    "### **`pop()`** "
   ]
  },
  {
   "cell_type": "code",
   "execution_count": 11,
   "metadata": {
    "ExecuteTime": {
     "end_time": "2021-10-03T09:17:37.633201Z",
     "start_time": "2021-10-03T09:17:37.614647Z"
    }
   },
   "outputs": [
    {
     "name": "stdout",
     "output_type": "stream",
     "text": [
      "['helloworld', 'python', 'java', 'c++', 1, 2]\n",
      "['helloworld', 'python', 'c++', 1, 2]\n"
     ]
    }
   ],
   "source": [
    "# Example:\n",
    "\n",
    "list1 =['helloworld','python','java','c++',1,2,3]\n",
    "list1.pop()   # pop last element\n",
    "print(list1)  # ▶ ['helloworld', 'python', 'java', 'c++', 1, 2]\n",
    "list1.pop(2)  # pop element with index 2\n",
    "print(list1)  # ▶ ['helloworld', 'python', 'c++', 1, 2]"
   ]
  },
  {
   "cell_type": "markdown",
   "metadata": {},
   "source": [
    "### **`clear()`** "
   ]
  },
  {
   "cell_type": "code",
   "execution_count": 12,
   "metadata": {
    "ExecuteTime": {
     "end_time": "2021-10-03T09:17:38.108790Z",
     "start_time": "2021-10-03T09:17:38.099024Z"
    }
   },
   "outputs": [
    {
     "name": "stdout",
     "output_type": "stream",
     "text": [
      "list1: []\n"
     ]
    }
   ],
   "source": [
    "list1 =['helloworld','python','java','c++',1,2,3]\n",
    "list1.clear()\n",
    "print('list1:', list1)  # ▶ list1: []"
   ]
  },
  {
   "cell_type": "markdown",
   "metadata": {},
   "source": [
    "### **`index()`** "
   ]
  },
  {
   "cell_type": "code",
   "execution_count": 13,
   "metadata": {
    "ExecuteTime": {
     "end_time": "2021-10-03T09:17:38.578520Z",
     "start_time": "2021-10-03T09:17:38.565823Z"
    }
   },
   "outputs": [
    {
     "name": "stdout",
     "output_type": "stream",
     "text": [
      "index of java :  2\n",
      "index of 2 :  5\n"
     ]
    }
   ],
   "source": [
    "# Example:\n",
    "\n",
    "list1 =['helloworld','python','java','c++',1,2,3]\n",
    "print(\"index of java : \",list1.index('java'))  # ▶ index of java :  2\n",
    "print(\"index of 2 : \",list1.index(2))          # ▶ index of 2 :  5"
   ]
  },
  {
   "cell_type": "markdown",
   "metadata": {},
   "source": [
    "### **`count()`**"
   ]
  },
  {
   "cell_type": "code",
   "execution_count": 14,
   "metadata": {
    "ExecuteTime": {
     "end_time": "2021-10-03T09:17:39.248929Z",
     "start_time": "2021-10-03T09:17:39.229403Z"
    },
    "scrolled": true
   },
   "outputs": [
    {
     "name": "stdout",
     "output_type": "stream",
     "text": [
      "2\n",
      "1\n",
      "0\n"
     ]
    }
   ],
   "source": [
    "# Example:\n",
    "\n",
    "list1 =[1,2,3,'a','b','c',1,2,3]\n",
    "\n",
    "print(list1.count(1))   # ▶ 2\n",
    "print(list1.count('b')) # ▶ 1\n",
    "print(list1.count(4))   # ▶ 0"
   ]
  },
  {
   "cell_type": "markdown",
   "metadata": {},
   "source": [
    "### **`sort() `**"
   ]
  },
  {
   "cell_type": "code",
   "execution_count": 15,
   "metadata": {
    "ExecuteTime": {
     "end_time": "2021-10-03T09:17:39.733798Z",
     "start_time": "2021-10-03T09:17:39.712315Z"
    }
   },
   "outputs": [
    {
     "name": "stdout",
     "output_type": "stream",
     "text": [
      "[22, 30, 100, 300, 399]\n",
      "[399, 300, 100, 30, 22]\n",
      "['a', 'ab', 'abc', 'b', 'z']\n"
     ]
    }
   ],
   "source": [
    "# Example:\n",
    "\n",
    "list1 =[22,30,100,300,399]\n",
    "list2=['z','ab','abc','a','b']\n",
    "list1.sort()\n",
    "list2.sort()\n",
    "print(list1)  # ▶ [22, 30, 100, 300, 399]\n",
    "\n",
    "list1.sort(reverse=True)\n",
    "print(list1)  # ▶ [399, 300, 100, 30, 22]\n",
    "print(list2)  # ▶ ['a', 'ab', 'abc', 'b', 'z']"
   ]
  },
  {
   "cell_type": "code",
   "execution_count": 16,
   "metadata": {
    "ExecuteTime": {
     "end_time": "2021-10-03T09:17:39.948152Z",
     "start_time": "2021-10-03T09:17:39.916906Z"
    },
    "scrolled": false
   },
   "outputs": [
    {
     "ename": "TypeError",
     "evalue": "'<' not supported between instances of 'int' and 'str'",
     "output_type": "error",
     "traceback": [
      "\u001b[1;31m---------------------------------------------------------------------------\u001b[0m",
      "\u001b[1;31mTypeError\u001b[0m                                 Traceback (most recent call last)",
      "\u001b[1;32m~\\AppData\\Local\\Temp/ipykernel_23480/3736948513.py\u001b[0m in \u001b[0;36m<module>\u001b[1;34m\u001b[0m\n\u001b[0;32m      2\u001b[0m \u001b[1;33m\u001b[0m\u001b[0m\n\u001b[0;32m      3\u001b[0m \u001b[0mlist3\u001b[0m\u001b[1;33m=\u001b[0m\u001b[1;33m[\u001b[0m\u001b[1;34m'a'\u001b[0m\u001b[1;33m,\u001b[0m\u001b[1;34m'b'\u001b[0m\u001b[1;33m,\u001b[0m\u001b[1;36m1\u001b[0m\u001b[1;33m,\u001b[0m\u001b[1;36m2\u001b[0m\u001b[1;33m]\u001b[0m\u001b[1;33m\u001b[0m\u001b[1;33m\u001b[0m\u001b[0m\n\u001b[1;32m----> 4\u001b[1;33m \u001b[0mlist3\u001b[0m\u001b[1;33m.\u001b[0m\u001b[0msort\u001b[0m\u001b[1;33m(\u001b[0m\u001b[1;33m)\u001b[0m\u001b[1;33m\u001b[0m\u001b[1;33m\u001b[0m\u001b[0m\n\u001b[0m\u001b[0;32m      5\u001b[0m \u001b[0mprint\u001b[0m\u001b[1;33m(\u001b[0m\u001b[0mlist3\u001b[0m\u001b[1;33m)\u001b[0m  \u001b[1;31m# ▶ TypeError: '<' not supported between instances of 'int' and 'str'\u001b[0m\u001b[1;33m\u001b[0m\u001b[1;33m\u001b[0m\u001b[0m\n",
      "\u001b[1;31mTypeError\u001b[0m: '<' not supported between instances of 'int' and 'str'"
     ]
    }
   ],
   "source": [
    "# Example:\n",
    "\n",
    "list3=['a','b',1,2]\n",
    "list3.sort()\n",
    "print(list3)  # ▶ TypeError: '<' not supported between instances of 'int' and 'str'"
   ]
  },
  {
   "cell_type": "markdown",
   "metadata": {},
   "source": [
    "### **`reverse() `** "
   ]
  },
  {
   "cell_type": "code",
   "execution_count": 17,
   "metadata": {
    "ExecuteTime": {
     "end_time": "2021-10-03T09:17:40.498451Z",
     "start_time": "2021-10-03T09:17:40.491618Z"
    }
   },
   "outputs": [
    {
     "name": "stdout",
     "output_type": "stream",
     "text": [
      "[3, 2, 1, 'c++', 'java', 'python', 'helloworld']\n"
     ]
    }
   ],
   "source": [
    "# Example:\n",
    "\n",
    "list1 =['helloworld','python','java','c++',1,2,3]\n",
    "list1.reverse()\n",
    "print(list1)  # ▶ [3, 2, 1, 'c++', 'java', 'python', 'helloworld']"
   ]
  },
  {
   "cell_type": "markdown",
   "metadata": {},
   "source": [
    "### **`copy() `** "
   ]
  },
  {
   "cell_type": "code",
   "execution_count": null,
   "metadata": {
    "ExecuteTime": {
     "end_time": "2021-10-03T09:17:40.892494Z",
     "start_time": "2021-10-03T09:17:40.869058Z"
    }
   },
   "outputs": [],
   "source": [
    "list1 =['helloworld','python','java','c++',1,2,3]\n",
    "list2 = list1.copy()\n",
    "print('list1:', list1)  # ▶ list1: ['helloworld', 'python', 'java', 'c++', 1, 2, 3]\n",
    "print('list2:', list2)  # ▶ list2: ['helloworld', 'python', 'java', 'c++', 1, 2, 3]"
   ]
  },
  {
   "cell_type": "markdown",
   "metadata": {},
   "source": [
    "## List Comprehension: Elegant way to create new List\n",
    "\n",
    "List comprehension is an elegant and concise way to create a new list from an existing list in Python.\n",
    "\n",
    "A list comprehension consists of an expression followed by **[for loop](https://github.com/milaan9/03_Python_Flow_Control/blob/main/005_Python_for_Loop.ipynb)** inside square brackets.\n",
    "\n",
    "Here is an example to make a list with each item being increasing power of 2."
   ]
  },
  {
   "cell_type": "code",
   "execution_count": null,
   "metadata": {
    "ExecuteTime": {
     "end_time": "2021-10-03T09:17:41.485275Z",
     "start_time": "2021-10-03T09:17:41.475509Z"
    }
   },
   "outputs": [],
   "source": [
    "pow2 = [2 ** x for x in range(10)]\n",
    "print(pow2)  # ▶ [1, 2, 4, 8, 16, 32, 64, 128, 256, 512]"
   ]
  },
  {
   "cell_type": "markdown",
   "metadata": {},
   "source": [
    "This code is equivalent to:"
   ]
  },
  {
   "cell_type": "code",
   "execution_count": null,
   "metadata": {
    "ExecuteTime": {
     "end_time": "2021-10-03T09:17:42.015547Z",
     "start_time": "2021-10-03T09:17:42.001880Z"
    }
   },
   "outputs": [],
   "source": [
    "pow2 = []\n",
    "for x in range(10):\n",
    "    pow2.append(2 ** x)\n",
    "print(pow2)  # ▶ [1, 2, 4, 8, 16, 32, 64, 128, 256, 512]"
   ]
  },
  {
   "cell_type": "markdown",
   "metadata": {},
   "source": [
    "A list comprehension can optionally contain more **`for`** or **[if statements](https://github.com/milaan9/03_Python_Flow_Control/blob/main/001_Python_if_statement.ipynb)**. An optional **`if`** statement can filter out items for the new list. Here are some examples."
   ]
  },
  {
   "cell_type": "code",
   "execution_count": null,
   "metadata": {
    "ExecuteTime": {
     "end_time": "2021-10-03T09:17:42.918874Z",
     "start_time": "2021-10-03T09:17:42.896417Z"
    }
   },
   "outputs": [],
   "source": [
    "pow2 = [2 ** x for x in range(10) if x > 5]\n",
    "pow2  # ▶ [64, 128, 256, 512]"
   ]
  },
  {
   "cell_type": "code",
   "execution_count": null,
   "metadata": {
    "ExecuteTime": {
     "end_time": "2021-10-03T09:17:43.070241Z",
     "start_time": "2021-10-03T09:17:43.050714Z"
    }
   },
   "outputs": [],
   "source": [
    "odd = [x for x in range(20) if x % 2 == 1]\n",
    "odd  # ▶ [1, 3, 5, 7, 9, 11, 13, 15, 17, 19]"
   ]
  },
  {
   "cell_type": "code",
   "execution_count": null,
   "metadata": {
    "ExecuteTime": {
     "end_time": "2021-10-03T09:17:43.414483Z",
     "start_time": "2021-10-03T09:17:43.402766Z"
    }
   },
   "outputs": [],
   "source": [
    "[x+y for x in ['Python ','C '] for y in ['Language','Programming']]"
   ]
  },
  {
   "cell_type": "markdown",
   "metadata": {},
   "source": [
    "## Other List Operations in Python"
   ]
  },
  {
   "cell_type": "markdown",
   "metadata": {},
   "source": [
    "### 1. List Membership Test\n",
    "\n",
    "We can test if an item exists in a list or not, using the keyword **`in`**."
   ]
  },
  {
   "cell_type": "code",
   "execution_count": null,
   "metadata": {
    "ExecuteTime": {
     "end_time": "2021-10-03T09:17:44.394469Z",
     "start_time": "2021-10-03T09:17:44.376895Z"
    }
   },
   "outputs": [],
   "source": [
    "my_list = ['p', 'r', 'o', 'b', 'l', 'e', 'm']\n",
    "\n",
    "# Output: True\n",
    "print('p' in my_list)  # ▶ True\n",
    "\n",
    "# Output: False\n",
    "print('a' in my_list)  # ▶ False\n",
    "\n",
    "# Output: True\n",
    "print('c' not in my_list)  # ▶ True"
   ]
  },
  {
   "cell_type": "markdown",
   "metadata": {},
   "source": [
    "### 2. Iterating Through a List\n",
    "\n",
    "Using a for loop we can iterate through each item in a list."
   ]
  },
  {
   "cell_type": "code",
   "execution_count": null,
   "metadata": {
    "ExecuteTime": {
     "end_time": "2021-10-03T09:17:45.054627Z",
     "start_time": "2021-10-03T09:17:45.033148Z"
    },
    "scrolled": true
   },
   "outputs": [],
   "source": [
    "for fruit in ['apple','banana','mango']:\n",
    "    print(\"I like\",fruit)"
   ]
  },
  {
   "cell_type": "markdown",
   "metadata": {},
   "source": [
    "### 3. Other List Operations in Python\n",
    "\n",
    "Using a **`for`** loop we can iterate through each item in a list."
   ]
  },
  {
   "cell_type": "code",
   "execution_count": null,
   "metadata": {
    "ExecuteTime": {
     "end_time": "2021-10-03T09:17:45.742133Z",
     "start_time": "2021-10-03T09:17:45.729439Z"
    },
    "scrolled": true
   },
   "outputs": [],
   "source": [
    "# Example:\n",
    "\n",
    "list1=['a','b','c',1,2,3]\n",
    "for x in list1 :\n",
    "    print(x)"
   ]
  },
  {
   "cell_type": "code",
   "execution_count": null,
   "metadata": {
    "ExecuteTime": {
     "end_time": "2021-10-03T09:17:47.351515Z",
     "start_time": "2021-10-03T09:17:47.337850Z"
    },
    "scrolled": false
   },
   "outputs": [],
   "source": [
    "for fruit in ['apple','banana','mango']:\n",
    "    print(\"I like\",fruit)"
   ]
  },
  {
   "cell_type": "markdown",
   "metadata": {},
   "source": [
    "## 💻 Exercises  ➞ <span class='label label-default'>List</span>\n",
    "\n",
    "### Exercises ➞ <span class='label label-default'>Level 1</span>\n",
    "\n",
    "1. Declare a list with more than 5 items with different data types\n",
    "2. Find the length of your list\n",
    "3. Get the first item, the middle item and the last item of the list\n",
    "4. Declare a list **`called my_info`**, put your (name, age, height, marital status, country)\n",
    "5. Declare a list variable named **`mix_fruits`** and assign initial values Guava, Mango, Apple, Pear, Fig, Orange and Banana and print the list.\n",
    "6. Print the list using **[print()](https://github.com/milaan9/04_Python_Functions/blob/main/002_Python_Functions_Built_in/051_Python_print%28%29.ipynb)**\n",
    "7. Print the number of **`mix_fruits`** in the list\n",
    "8. Print the first, middle and last fruit\n",
    "9. Print the list after modifying one of the fruit\n",
    "10. Add an fruit to variable **`mix_fruits`**\n",
    "11. Insert an fruit in the middle of the **`mix_fruits`** list\n",
    "12. Change one of the fruit names to uppercase\n",
    "13. Join the elements in **`mix_fruits`** with a string **`-#-`**\n",
    "14. Check if a certain fruit exists in the **`mix_fruits`** list.\n",
    "15. Sort the list using **[sort()](https://github.com/milaan9/02_Python_Datatypes/blob/main/003_Python_List_Methods/009_Python_List_sort%28%29.ipynb)** method\n",
    "16. Reverse the list in descending order using **[reverse()](https://github.com/milaan9/02_Python_Datatypes/blob/main/003_Python_List_Methods/008_Python_List_reverse%28%29.ipynb)** method\n",
    "17. Slice out the first 3 fruits from the list\n",
    "18. Slice out the last 3 fruits from the list\n",
    "19. Slice out the middle fruit or fruits from the list\n",
    "20. Remove the first fruit from the list\n",
    "21. Remove the middle fruit or companies from the list\n",
    "22. Remove the last fruit from the list\n",
    "23. Remove all fruits from the list\n",
    "24. Delete the fruits list\n",
    "25. Join the following lists:\n",
    "\n",
    "    - ```py\n",
    "    front_end = ['HTML', 'CSS', 'JS', 'React', 'Redux']\n",
    "    back_end = ['Node','Express', 'MongoDB']\n",
    "    ```\n",
    "\n",
    "26. After joining the lists in question 25. Copy the joined list and assign it to a variable full_stack. Then insert **`'Python'`** and **`'SQL'`** after **`'Redux'`**.\n",
    "\n",
    "### Exercises ➞ <span class='label label-default'>Level 2</span>\n",
    "\n",
    "1. The following is a list of 10 students ages:\n",
    "\n",
    "    - ```py\n",
    "ages = [19, 23, 19, 25, 21, 20, 25, 26, 25, 24]\n",
    "    ```\n",
    "\n",
    "        - Sort the list and find the min and max age\n",
    "        - Add the min age and the max age again to the list\n",
    "        - Find the median age (one middle item or two middle items divided by two)\n",
    "        - Find the average age (sum of all items divided by their number )\n",
    "        - Find the range of the ages (max - min)\n",
    "        - Compare the value of (min - average) and (max - average), use **[abs()](https://github.com/milaan9/04_Python_Functions/blob/main/002_Python_Functions_Built_in/001_Python_abs%28%29.ipynb)** method\n",
    "\n",
    "2. Find the middle country(ies) in the **[countries list](https://github.com/milaan9/02_Python_Datatypes/blob/main/countries_data.py)**\n",
    "3. Divide the countries list into two equal lists if it is even if not one more country for the first half.\n",
    "4. **`['India', 'Russia', 'China', 'Finland', 'Sweden', 'Norway', 'Denmark']`**. Unpack the first three countries and the rest as scandic countries."
   ]
  },
  {
   "cell_type": "code",
   "execution_count": null,
   "metadata": {},
   "outputs": [],
   "source": []
  }
 ],
 "metadata": {
  "hide_input": false,
  "kernelspec": {
   "display_name": "Python 3 (ipykernel)",
   "language": "python",
   "name": "python3"
  },
  "language_info": {
   "codemirror_mode": {
    "name": "ipython",
    "version": 3
   },
   "file_extension": ".py",
   "mimetype": "text/x-python",
   "name": "python",
   "nbconvert_exporter": "python",
   "pygments_lexer": "ipython3",
   "version": "3.9.7"
  },
  "toc": {
   "base_numbering": 1,
   "nav_menu": {},
   "number_sections": true,
   "sideBar": true,
   "skip_h1_title": false,
   "title_cell": "Table of Contents",
   "title_sidebar": "Contents",
   "toc_cell": false,
   "toc_position": {},
   "toc_section_display": true,
   "toc_window_display": false
  },
  "varInspector": {
   "cols": {
    "lenName": 16,
    "lenType": 16,
    "lenVar": 40
   },
   "kernels_config": {
    "python": {
     "delete_cmd_postfix": "",
     "delete_cmd_prefix": "del ",
     "library": "var_list.py",
     "varRefreshCmd": "print(var_dic_list())"
    },
    "r": {
     "delete_cmd_postfix": ") ",
     "delete_cmd_prefix": "rm(",
     "library": "var_list.r",
     "varRefreshCmd": "cat(var_dic_list()) "
    }
   },
   "types_to_exclude": [
    "module",
    "function",
    "builtin_function_or_method",
    "instance",
    "_Feature"
   ],
   "window_display": false
  }
 },
 "nbformat": 4,
 "nbformat_minor": 2
}
