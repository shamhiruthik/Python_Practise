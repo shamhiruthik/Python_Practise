{
 "cells": [
  {
   "cell_type": "markdown",
   "metadata": {},
   "source": [
    "## Nested `for` loops\n",
    "\n",
    "**Nested `for` loop** is a **`for`** loop inside another **`for`** a loop. \n",
    "\n",
    "\n",
    "**Syntax:**\n",
    "\n",
    "```python\n",
    "# outer for loop\n",
    "for element in sequence \n",
    "   # inner for loop\n",
    "    for element in sequence:\n",
    "        body of inner for loop\n",
    "    body of outer for loop\n",
    "other statements\n",
    "```"
   ]
  },
  {
   "cell_type": "markdown",
   "metadata": {},
   "source": [
    "### `for` loop inside `for` loop"
   ]
  },
  {
   "cell_type": "markdown",
   "metadata": {},
   "source": [
    "#### Example: Nested `for` loop \n",
    "\n",
    "\n",
    "<div>\n",
    "<img src=\"img/nforloop1.png\" width=\"600\"/>\n",
    "</div>\n",
    "\n"
   ]
  },
  {
   "cell_type": "code",
   "execution_count": 1,
   "metadata": {
    "ExecuteTime": {
     "end_time": "2021-10-04T12:09:53.208838Z",
     "start_time": "2021-10-04T12:09:53.132667Z"
    }
   },
   "outputs": [
    {
     "name": "stdout",
     "output_type": "stream",
     "text": [
      "1 2 3 4 5 6 7 8 9 10 \n",
      "2 4 6 8 10 12 14 16 18 20 \n",
      "3 6 9 12 15 18 21 24 27 30 \n",
      "4 8 12 16 20 24 28 32 36 40 \n",
      "5 10 15 20 25 30 35 40 45 50 \n",
      "6 12 18 24 30 36 42 48 54 60 \n",
      "7 14 21 28 35 42 49 56 63 70 \n",
      "8 16 24 32 40 48 56 64 72 80 \n",
      "9 18 27 36 45 54 63 72 81 90 \n",
      "10 20 30 40 50 60 70 80 90 100 \n"
     ]
    }
   ],
   "source": [
    "# Example 1: printing a multiplication table of the first ten numbers\n",
    "\n",
    "# outer loop\n",
    "for i in range(1, 11):\n",
    "    # nested loop   \n",
    "    for j in range(1, 11):   # to iterate from 1 to 10        \n",
    "        print(i * j, end=' ')    # print multiplication\n",
    "    print()"
   ]
  },
  {
   "cell_type": "code",
   "execution_count": 2,
   "metadata": {
    "ExecuteTime": {
     "end_time": "2021-10-04T12:09:53.312842Z",
     "start_time": "2021-10-04T12:09:53.211769Z"
    }
   },
   "outputs": [
    {
     "name": "stdout",
     "output_type": "stream",
     "text": [
      "Python\n",
      "Matlab\n",
      "R\n",
      "C\n",
      "C++\n",
      "AI\n",
      "ML\n",
      "DL\n"
     ]
    }
   ],
   "source": [
    "# Example 1:\n",
    "\n",
    "person = {\n",
    "    'first_name':'Ajantha',\n",
    "    'last_name':'Devi',\n",
    "    'age':96,\n",
    "    'country':'India',\n",
    "    'is_marred':True,\n",
    "    'skills':['Python', 'Matlab', 'R', 'C', 'C++', 'AI', 'ML', 'DL'],\n",
    "    'address':{\n",
    "        'street':'Chennai',\n",
    "        'zipcode':'600096'\n",
    "    }\n",
    "}\n",
    "for key in person:\n",
    "    if key == 'skills':\n",
    "        for skill in person['skills']:\n",
    "            print(skill)"
   ]
  },
  {
   "cell_type": "code",
   "execution_count": 3,
   "metadata": {
    "ExecuteTime": {
     "end_time": "2021-10-04T12:09:53.465185Z",
     "start_time": "2021-10-04T12:09:53.315774Z"
    }
   },
   "outputs": [
    {
     "name": "stdout",
     "output_type": "stream",
     "text": [
      "17\n",
      "19\n",
      "23\n",
      "29\n",
      "31\n",
      "37\n",
      "41\n",
      "43\n",
      "47\n",
      "53\n",
      "340\n"
     ]
    }
   ],
   "source": [
    "# Example 2: Write a code to add all the prime numbers between 17 to 53 using while loop\n",
    "# 17, 19, 23, 29, 31, 37, 41, 43, 47, 53\n",
    "\n",
    "sum=0\n",
    "for i in range(17,54):    \n",
    "    for j in range(2,i):        \n",
    "        if i%j ==0:            \n",
    "            break    \n",
    "    else:        \n",
    "        sum=sum+i\n",
    "        print(i)\n",
    "print(sum)"
   ]
  },
  {
   "cell_type": "code",
   "execution_count": 4,
   "metadata": {
    "ExecuteTime": {
     "end_time": "2021-10-04T12:09:53.556006Z",
     "start_time": "2021-10-04T12:09:53.468116Z"
    },
    "code_folding": []
   },
   "outputs": [
    {
     "name": "stdout",
     "output_type": "stream",
     "text": [
      "Red flower\n",
      "Red watch\n",
      "Pink flower\n",
      "Pink watch\n"
     ]
    }
   ],
   "source": [
    "# Example 3: iterating through nested for loops\n",
    "\n",
    "color = ['Red', 'Pink']\n",
    "element = ['flower', 'watch']\n",
    "for i in color:\n",
    "    for j in element:\n",
    "        print(i, j)"
   ]
  },
  {
   "cell_type": "code",
   "execution_count": 5,
   "metadata": {
    "ExecuteTime": {
     "end_time": "2021-10-04T12:09:53.571631Z",
     "start_time": "2021-10-04T12:09:53.558938Z"
    }
   },
   "outputs": [
    {
     "name": "stdout",
     "output_type": "stream",
     "text": [
      "45\n"
     ]
    }
   ],
   "source": [
    "# Example 4: A use case of a nested for loop in `list_of_lists` case would be\n",
    "\n",
    "list_of_lists = [[1, 2, 3], [4, 5, 6], [7, 8, 9]]\n",
    "total=0\n",
    "for list1 in list_of_lists:\n",
    "    for i in list1:\n",
    "        total = total+i\n",
    "print(total)"
   ]
  },
  {
   "cell_type": "code",
   "execution_count": 6,
   "metadata": {
    "ExecuteTime": {
     "end_time": "2021-10-04T12:09:53.678564Z",
     "start_time": "2021-10-04T12:09:53.576026Z"
    }
   },
   "outputs": [
    {
     "name": "stdout",
     "output_type": "stream",
     "text": [
      "iteration 0: 1\n",
      "iteration 1: 2\n",
      "iteration 2: 3\n",
      "iteration 3: 4\n",
      "iteration 4: 5\n",
      "iteration 5: 6\n"
     ]
    }
   ],
   "source": [
    "# Example 5:\n",
    "\n",
    "numbers = [[1, 2, 3], [4, 5, 6]]\n",
    "\n",
    "cnt = 0\n",
    "for i in numbers:\n",
    "    for j in i:\n",
    "        print('iteration', cnt, end=': ')\n",
    "        print(j)\n",
    "        cnt = cnt + 1"
   ]
  },
  {
   "cell_type": "markdown",
   "metadata": {},
   "source": [
    "#### Example: Nested `for` loop to print pattern\n",
    "\n",
    "```python\n",
    "*\n",
    "* *\n",
    "* * *\n",
    "* * * *\n",
    "* * * * *\n",
    "```\n",
    "\n",
    "```python\n",
    ">>>rows = 5\n",
    "   # outer loop\n",
    ">>>for i in range(1, rows + 1):\n",
    "       # inner loop\n",
    ">>>    for j in range(1, i + 1):\n",
    ">>>        print(\"*\", end=\" \")\n",
    ">>>    print('')\n",
    "```\n",
    "\n",
    "<div>\n",
    "<img src=\"img/nforloop2.png\" width=\"600\"/>\n",
    "</div>\n",
    "\n"
   ]
  },
  {
   "cell_type": "code",
   "execution_count": 7,
   "metadata": {
    "ExecuteTime": {
     "end_time": "2021-10-04T12:09:53.800634Z",
     "start_time": "2021-10-04T12:09:53.681496Z"
    }
   },
   "outputs": [
    {
     "name": "stdout",
     "output_type": "stream",
     "text": [
      "* \n",
      "* * \n",
      "* * * \n",
      "* * * * \n",
      "* * * * * \n"
     ]
    }
   ],
   "source": [
    "# Example 1: Method 1\n",
    "\n",
    "rows = 5\n",
    "for i in range(1, rows + 1):    # outer loop    \n",
    "    for j in range(1, i + 1):   # inner loop\n",
    "        print(\"*\", end=\" \")\n",
    "    print('')"
   ]
  },
  {
   "cell_type": "code",
   "execution_count": 8,
   "metadata": {
    "ExecuteTime": {
     "end_time": "2021-10-04T12:10:19.154180Z",
     "start_time": "2021-10-04T12:09:53.805520Z"
    }
   },
   "outputs": [
    {
     "name": "stdout",
     "output_type": "stream",
     "text": [
      "How many rows? 7\n",
      "* \n",
      "* * \n",
      "* * * \n",
      "* * * * \n",
      "* * * * * \n",
      "* * * * * * \n",
      "* * * * * * * \n"
     ]
    }
   ],
   "source": [
    "# Example 1: Method 2 - Print Floyd Triangle with user input\n",
    "\t\t\n",
    "\n",
    "ran = input(\"How many rows? \")\n",
    "\n",
    "rang = int(ran)\n",
    "k = 1\n",
    "for i in range(1, rang+1):\n",
    "    for j in range(1, i+1):\n",
    "        print(\"*\", end=\" \")\n",
    "        k = k + 1\n",
    "    print()"
   ]
  },
  {
   "cell_type": "code",
   "execution_count": 9,
   "metadata": {
    "ExecuteTime": {
     "end_time": "2021-10-04T12:10:19.169316Z",
     "start_time": "2021-10-04T12:10:19.157142Z"
    },
    "scrolled": true
   },
   "outputs": [
    {
     "name": "stdout",
     "output_type": "stream",
     "text": [
      "1  \n",
      "2 2  \n",
      "3 3 3  \n",
      "4 4 4 4  \n",
      "5 5 5 5 5  \n"
     ]
    }
   ],
   "source": [
    "# Example 2: Method 1\n",
    "\n",
    "for i in range(1,6):       # numbers from 0,1,2,3,4,5\n",
    "    for j in range(1, i+1):  \n",
    "        print(i, end=\" \")  # print number    \n",
    "    print(\" \")             # line after each row to display pattern correctly"
   ]
  },
  {
   "cell_type": "code",
   "execution_count": 10,
   "metadata": {
    "ExecuteTime": {
     "end_time": "2021-10-04T12:10:19.338754Z",
     "start_time": "2021-10-04T12:10:19.171271Z"
    }
   },
   "outputs": [
    {
     "name": "stdout",
     "output_type": "stream",
     "text": [
      " \n",
      "1  \n",
      "2 2  \n",
      "3 3 3  \n",
      "4 4 4 4  \n",
      "5 5 5 5 5  \n"
     ]
    }
   ],
   "source": [
    "# Example 2: Method 2\n",
    "\n",
    "rows = 6 \n",
    "for num in range(rows):     # from 0,1,2,3,4,5\n",
    "    for i in range(num):\n",
    "        print(num,end=\" \")  # print the number\n",
    "    print(\" \")              # line after each row to print"
   ]
  },
  {
   "cell_type": "code",
   "execution_count": 11,
   "metadata": {
    "ExecuteTime": {
     "end_time": "2021-10-04T12:10:19.539923Z",
     "start_time": "2021-10-04T12:10:19.342658Z"
    }
   },
   "outputs": [
    {
     "name": "stdout",
     "output_type": "stream",
     "text": [
      "1  \n",
      "2 2  \n",
      "3 3 3  \n",
      "4 4 4 4  \n",
      "5 5 5 5 5  \n"
     ]
    }
   ],
   "source": [
    "# Example 3: Method 3\n",
    "\n",
    "n=5  # giving number of rows i want\n",
    "x = 0\n",
    "for i in range(0 , n):         # from 0 to 4\n",
    "    x += 1                     # equivalent to x=x+1\n",
    "    for j in range(0, i + 1):  # 0,1,2,3,4,5\n",
    "        print(x , end=\" \") \n",
    "    print(\" \") "
   ]
  },
  {
   "cell_type": "code",
   "execution_count": 12,
   "metadata": {
    "ExecuteTime": {
     "end_time": "2021-10-04T12:10:19.693243Z",
     "start_time": "2021-10-04T12:10:19.549688Z"
    }
   },
   "outputs": [
    {
     "name": "stdout",
     "output_type": "stream",
     "text": [
      "1  \n",
      "1 2  \n",
      "1 2 3  \n",
      "1 2 3 4  \n",
      "1 2 3 4 5  \n"
     ]
    }
   ],
   "source": [
    "# Example 4: Method 1\n",
    "\n",
    "rows = 5\n",
    "for row in range(1, rows+1):       # from 1\n",
    "    for column in range(1, row+1): # from 1,2,3,4,5\n",
    "        print(column, end=\" \")\n",
    "    print(\" \")"
   ]
  },
  {
   "cell_type": "code",
   "execution_count": 13,
   "metadata": {
    "ExecuteTime": {
     "end_time": "2021-10-04T12:10:19.953986Z",
     "start_time": "2021-10-04T12:10:19.699105Z"
    },
    "scrolled": false
   },
   "outputs": [
    {
     "name": "stdout",
     "output_type": "stream",
     "text": [
      "1 \n",
      "1 2 \n",
      "1 2 3 \n",
      "1 2 3 4 \n",
      "1 2 3 4 5 \n"
     ]
    }
   ],
   "source": [
    "# Example 4: Method 2\n",
    "\n",
    "for i in range (1, 6):  # rows from 1 to 5\n",
    "    for j in range(i):  # column range(i)\n",
    "        print (j + 1, end = ' ')\n",
    "    print ()"
   ]
  },
  {
   "cell_type": "code",
   "execution_count": 14,
   "metadata": {
    "ExecuteTime": {
     "end_time": "2021-10-04T12:10:20.121956Z",
     "start_time": "2021-10-04T12:10:19.956919Z"
    },
    "scrolled": true
   },
   "outputs": [
    {
     "name": "stdout",
     "output_type": "stream",
     "text": [
      "1  \n",
      "2 1  \n",
      "3 2 1  \n",
      "4 3 2 1  \n",
      "5 4 3 2 1  \n"
     ]
    },
    {
     "data": {
      "text/plain": [
       "'\\ni = 1 2 3 4 5 \\n\\n# loop 1\\nfor i = 1, range (1,0,-1): j=1\\ni = 1, print: 1 \\n\\n# loop 2\\nfor  i =2, range (2,0,-1): j = 2,1\\ni = 2, print: 2,1\\n'"
      ]
     },
     "execution_count": 14,
     "metadata": {},
     "output_type": "execute_result"
    }
   ],
   "source": [
    "# Example 5: Method 1\n",
    "\n",
    "for i in range (1,6):\n",
    "    for j in range (i,0,-1):\n",
    "        print(j, end=\" \")\n",
    "    print(\" \")\n",
    "    \n",
    "\"\"\"\n",
    "i = 1 2 3 4 5 \n",
    "\n",
    "# loop 1\n",
    "for i = 1, range (1,0,-1): j=1\n",
    "i = 1, print: 1 \n",
    "\n",
    "# loop 2\n",
    "for  i =2, range (2,0,-1): j = 2,1\n",
    "i = 2, print: 2,1\n",
    "\"\"\""
   ]
  },
  {
   "cell_type": "code",
   "execution_count": 15,
   "metadata": {
    "ExecuteTime": {
     "end_time": "2021-10-04T12:10:20.245002Z",
     "start_time": "2021-10-04T12:10:20.124886Z"
    },
    "scrolled": true
   },
   "outputs": [
    {
     "name": "stdout",
     "output_type": "stream",
     "text": [
      "1 \n",
      "2 1 \n",
      "3 2 1 \n",
      "4 3 2 1 \n",
      "5 4 3 2 1 \n"
     ]
    }
   ],
   "source": [
    "# Example 5: Method 2\n",
    "\n",
    "for i in range(0,5):\n",
    "    for j in range(i+1,0,-1):\n",
    "        print(j, end=\" \")\n",
    "    print()"
   ]
  },
  {
   "cell_type": "code",
   "execution_count": 16,
   "metadata": {
    "ExecuteTime": {
     "end_time": "2021-10-04T12:10:20.398322Z",
     "start_time": "2021-10-04T12:10:20.249887Z"
    },
    "scrolled": true
   },
   "outputs": [
    {
     "name": "stdout",
     "output_type": "stream",
     "text": [
      "* * * * *  \n",
      "* * * *  \n",
      "* * *  \n",
      "* *  \n",
      "*  \n"
     ]
    }
   ],
   "source": [
    "# Example 6: Example 1 reverse pyramid \n",
    "\n",
    "\n",
    "for i in range (1,6):            # rows from 1 to 5\n",
    "    for j in range (5,i-1,-1):   # column range(5,0,-1) = 54321\n",
    "        print (\"*\", end=\" \"),\n",
    "    print (\" \")"
   ]
  },
  {
   "cell_type": "code",
   "execution_count": 17,
   "metadata": {
    "ExecuteTime": {
     "end_time": "2021-10-04T12:10:20.736215Z",
     "start_time": "2021-10-04T12:10:20.526255Z"
    }
   },
   "outputs": [
    {
     "name": "stdout",
     "output_type": "stream",
     "text": [
      "5 5 5 5 5  \n",
      "4 4 4 4  \n",
      "3 3 3  \n",
      "2 2  \n",
      "1  \n"
     ]
    },
    {
     "data": {
      "text/plain": [
       "'\\ni = 5 4 3 2 1 \\n\\n# loop 1\\nfor i = 5, range (0,5): j=5 4 3 2 1\\ni = 5, print: 5 5 5 5 5\\n\\n# loop 2\\nfor i = 4, range (0,4): j=4 3 2 1\\ni = 4, print: 4 4 4 4 \\n'"
      ]
     },
     "execution_count": 17,
     "metadata": {},
     "output_type": "execute_result"
    }
   ],
   "source": [
    "# Example 7: Example 2 reverse pyramid Method 2\n",
    "\n",
    "for i in range(5,0,-1):  # range from 5 4 3 2 1\n",
    "    for j in range(0,i): # range(0,5)=0 1 2 3 4\n",
    "        print(i, end=\" \")\n",
    "    print(\" \")\n",
    "    \n",
    "\"\"\"\n",
    "i = 5 4 3 2 1 \n",
    "\n",
    "# loop 1\n",
    "for i = 5, range (0,5): j=5 4 3 2 1\n",
    "i = 5, print: 5 5 5 5 5\n",
    "\n",
    "# loop 2\n",
    "for i = 4, range (0,4): j=4 3 2 1\n",
    "i = 4, print: 4 4 4 4 \n",
    "\"\"\""
   ]
  },
  {
   "cell_type": "code",
   "execution_count": 18,
   "metadata": {
    "ExecuteTime": {
     "end_time": "2021-10-04T12:10:20.873909Z",
     "start_time": "2021-10-04T12:10:20.739145Z"
    },
    "scrolled": true
   },
   "outputs": [
    {
     "name": "stdout",
     "output_type": "stream",
     "text": [
      "1 2 3 4 5 \n",
      "1 2 3 4 \n",
      "1 2 3 \n",
      "1 2 \n",
      "1 \n"
     ]
    }
   ],
   "source": [
    "# Example 8: Method 1\n",
    "\n",
    "for i in range(5,0,-1):  # rows range = 5 4 3 2 1 \n",
    "    for j in range(1,i+1): # column range \n",
    "        print(j, end =\" \")\n",
    "    print()"
   ]
  },
  {
   "cell_type": "markdown",
   "metadata": {},
   "source": [
    "## `for ` loop in one line\n",
    "\n"
   ]
  },
  {
   "cell_type": "code",
   "execution_count": 19,
   "metadata": {
    "ExecuteTime": {
     "end_time": "2021-10-04T12:10:21.719615Z",
     "start_time": "2021-10-04T12:10:21.556531Z"
    }
   },
   "outputs": [
    {
     "name": "stdout",
     "output_type": "stream",
     "text": [
      "[33, 63, 93, 36, 66, 96, 39, 69, 99]\n"
     ]
    }
   ],
   "source": [
    "# Example 1: regular `for` loop code\n",
    "\n",
    "first = [3, 6, 9]\n",
    "second = [30, 60, 90]\n",
    "final = []\n",
    "for i in first:\n",
    "    for j in second:\n",
    "        final.append(i+j)\n",
    "print(final)"
   ]
  },
  {
   "cell_type": "code",
   "execution_count": 20,
   "metadata": {
    "ExecuteTime": {
     "end_time": "2021-10-04T12:10:21.858284Z",
     "start_time": "2021-10-04T12:10:21.723522Z"
    }
   },
   "outputs": [
    {
     "name": "stdout",
     "output_type": "stream",
     "text": [
      "[33, 63, 93, 36, 66, 96, 39, 69, 99]\n"
     ]
    }
   ],
   "source": [
    "# Example 1: single line `for` loop code\n",
    "\n",
    "first = [3, 6, 9]\n",
    "second = [30, 60, 90]\n",
    "final = [i+j for i in first for j in second]\n",
    "print(final)"
   ]
  },
  {
   "cell_type": "code",
   "execution_count": 21,
   "metadata": {
    "ExecuteTime": {
     "end_time": "2021-10-04T12:10:21.997934Z",
     "start_time": "2021-10-04T12:10:21.861219Z"
    }
   },
   "outputs": [
    {
     "name": "stdout",
     "output_type": "stream",
     "text": [
      "[2, 6, 8, 10]\n"
     ]
    }
   ],
   "source": [
    "# Example 2: Print the even numbers by adding 1 to the odd numbers in the list\n",
    "\n",
    "odd = [1, 5, 7, 9]\n",
    "even = [i + 1 for i in odd if i % 2 == 1]\n",
    "print(even)"
   ]
  },
  {
   "cell_type": "code",
   "execution_count": 22,
   "metadata": {
    "ExecuteTime": {
     "end_time": "2021-10-04T12:10:22.151254Z",
     "start_time": "2021-10-04T12:10:22.000865Z"
    }
   },
   "outputs": [
    {
     "name": "stdout",
     "output_type": "stream",
     "text": [
      "[[30, 60], [30, 90], [60, 30], [60, 90], [90, 60], [90, 30]]\n"
     ]
    }
   ],
   "source": [
    "# Example 3:\n",
    "\n",
    "final = [[x, y] for x in [30, 60, 90] for y in [60, 30, 90] if x != y]\n",
    "print(final)"
   ]
  },
  {
   "cell_type": "code",
   "execution_count": null,
   "metadata": {},
   "outputs": [],
   "source": []
  }
 ],
 "metadata": {
  "hide_input": false,
  "kernelspec": {
   "display_name": "Python 3 (ipykernel)",
   "language": "python",
   "name": "python3"
  },
  "language_info": {
   "codemirror_mode": {
    "name": "ipython",
    "version": 3
   },
   "file_extension": ".py",
   "mimetype": "text/x-python",
   "name": "python",
   "nbconvert_exporter": "python",
   "pygments_lexer": "ipython3",
   "version": "3.9.7"
  },
  "toc": {
   "base_numbering": 1,
   "nav_menu": {},
   "number_sections": true,
   "sideBar": true,
   "skip_h1_title": false,
   "title_cell": "Table of Contents",
   "title_sidebar": "Contents",
   "toc_cell": false,
   "toc_position": {},
   "toc_section_display": true,
   "toc_window_display": false
  },
  "varInspector": {
   "cols": {
    "lenName": 16,
    "lenType": 16,
    "lenVar": 40
   },
   "kernels_config": {
    "python": {
     "delete_cmd_postfix": "",
     "delete_cmd_prefix": "del ",
     "library": "var_list.py",
     "varRefreshCmd": "print(var_dic_list())"
    },
    "r": {
     "delete_cmd_postfix": ") ",
     "delete_cmd_prefix": "rm(",
     "library": "var_list.r",
     "varRefreshCmd": "cat(var_dic_list()) "
    }
   },
   "types_to_exclude": [
    "module",
    "function",
    "builtin_function_or_method",
    "instance",
    "_Feature"
   ],
   "window_display": false
  }
 },
 "nbformat": 4,
 "nbformat_minor": 2
}
