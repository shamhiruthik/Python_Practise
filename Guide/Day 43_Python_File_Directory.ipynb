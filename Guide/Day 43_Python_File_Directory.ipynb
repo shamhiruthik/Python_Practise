{
 "cells": [
  {
   "cell_type": "markdown",
   "metadata": {},
   "source": [
    "# Python Directory and Files Management\n",
    "\n",
    "In this session, you'll learn about file and directory management in Python.\n",
    "\n",
    "## Python Directory\n"
   ]
  },
  {
   "cell_type": "markdown",
   "metadata": {},
   "source": [
    "### Get Current Directory `getcwd()` - \n",
    "\n"
   ]
  },
  {
   "cell_type": "code",
   "execution_count": 1,
   "metadata": {
    "ExecuteTime": {
     "end_time": "2021-06-18T15:35:18.948260Z",
     "start_time": "2021-06-18T15:35:18.942401Z"
    }
   },
   "outputs": [
    {
     "name": "stdout",
     "output_type": "stream",
     "text": [
      "C:\\Users\\AJANTHA\\Downloads\\Python_Introduction\\60_60_60_Python_Challenge\n"
     ]
    }
   ],
   "source": [
    "import os\n",
    "print(os.getcwd())"
   ]
  },
  {
   "cell_type": "code",
   "execution_count": 2,
   "metadata": {
    "ExecuteTime": {
     "end_time": "2021-06-18T15:35:20.242197Z",
     "start_time": "2021-06-18T15:35:20.220713Z"
    }
   },
   "outputs": [
    {
     "data": {
      "text/plain": [
       "b'C:\\\\Users\\\\AJANTHA\\\\Downloads\\\\Python_Introduction\\\\60_60_60_Python_Challenge'"
      ]
     },
     "execution_count": 2,
     "metadata": {},
     "output_type": "execute_result"
    }
   ],
   "source": [
    "import os\n",
    "os.getcwdb()"
   ]
  },
  {
   "cell_type": "markdown",
   "metadata": {},
   "source": [
    "### Changing Directory `chdir()` - \n",
    "\n",
    "\n",
    "\n",
    "**Syntax:**\n",
    "\n",
    "**`os.chdir(\"newdir\")`**\n",
    "\n"
   ]
  },
  {
   "cell_type": "code",
   "execution_count": 3,
   "metadata": {
    "ExecuteTime": {
     "end_time": "2021-06-18T15:35:41.789882Z",
     "start_time": "2021-06-18T15:35:41.773772Z"
    }
   },
   "outputs": [
    {
     "name": "stdout",
     "output_type": "stream",
     "text": [
      "Directory changed\n",
      "C:\\Users\\AJANTHA\\OneDrive\\Desktop\\XYZ\n"
     ]
    }
   ],
   "source": [
    "import os\n",
    "\n",
    "# Changing a directory \n",
    "os.chdir(r\"C:\\Users\\AJANTHA\\OneDrive\\Desktop\\XYZ\") \n",
    "  \n",
    "print(\"Directory changed\") \n",
    "\n",
    "print(os.getcwd())"
   ]
  },
  {
   "cell_type": "code",
   "execution_count": 4,
   "metadata": {
    "ExecuteTime": {
     "end_time": "2021-06-18T15:35:44.970521Z",
     "start_time": "2021-06-18T15:35:44.950018Z"
    }
   },
   "outputs": [
    {
     "name": "stdout",
     "output_type": "stream",
     "text": [
      "C:\\Users\\AJANTHA\\OneDrive\\Desktop\\XYZ\n"
     ]
    }
   ],
   "source": [
    "import os\n",
    "print(os.getcwd())"
   ]
  },
  {
   "cell_type": "code",
   "execution_count": 5,
   "metadata": {
    "ExecuteTime": {
     "end_time": "2021-06-18T15:35:45.765437Z",
     "start_time": "2021-06-18T15:35:45.749818Z"
    }
   },
   "outputs": [
    {
     "name": "stdout",
     "output_type": "stream",
     "text": [
      "Directory changed\n"
     ]
    }
   ],
   "source": [
    "import os\n",
    "\n",
    "# Changing a directory back to original directory \n",
    "os.chdir(r\"C:\\Users\\AJANTHA\\Downloads\\Python_Introduction\\60_60_60_Python_Challenge\") \n",
    "  \n",
    "print(\"Directory changed\") "
   ]
  },
  {
   "cell_type": "code",
   "execution_count": 6,
   "metadata": {
    "ExecuteTime": {
     "end_time": "2021-06-18T15:35:47.044728Z",
     "start_time": "2021-06-18T15:35:47.037894Z"
    }
   },
   "outputs": [
    {
     "name": "stdout",
     "output_type": "stream",
     "text": [
      "C:\\Users\\AJANTHA\\Downloads\\Python_Introduction\\60_60_60_Python_Challenge\n"
     ]
    }
   ],
   "source": [
    "import os\n",
    "print(os.getcwd())"
   ]
  },
  {
   "cell_type": "markdown",
   "metadata": {},
   "source": [
    "### List Directories and Files `listdir()` - \n",
    "\n"
   ]
  },
  {
   "cell_type": "code",
   "execution_count": 7,
   "metadata": {
    "ExecuteTime": {
     "end_time": "2021-06-18T15:35:50.849874Z",
     "start_time": "2021-06-18T15:35:50.830348Z"
    }
   },
   "outputs": [
    {
     "name": "stdout",
     "output_type": "stream",
     "text": [
      "C:\\Users\\AJANTHA\\Downloads\\Python_Introduction\\60_60_60_Python_Challenge\n"
     ]
    },
    {
     "data": {
      "text/plain": [
       "['.ipynb_checkpoints',\n",
       " 'config.py',\n",
       " 'countries_data.json',\n",
       " 'countries_data.py',\n",
       " 'countries_details_data.py',\n",
       " 'csv_example.csv',\n",
       " 'data.txt',\n",
       " 'Day 04.1_Python_Keywords_and_Identifiers.ipynb',\n",
       " 'Day 04.2_Python_Statement_Indentation_Comments.ipynb',\n",
       " 'Day 05_Python_Variables_&_Constants.ipynb',\n",
       " 'Day 06.1_Python_Literals.ipynb',\n",
       " 'Day 07_Python_Data_Types.ipynb',\n",
       " 'Day 08.1_Python_Type_Conversion.ipynb',\n",
       " 'Day 09_Python_Input_Output_Import.ipynb',\n",
       " 'Day 10_Python_Operators.ipynb',\n",
       " 'Day 11.1_Python_Namespace_and_Scope.ipynb',\n",
       " 'Day 11.2_Python_Numbers.ipynb',\n",
       " 'Day 12 and 13_Python_String.ipynb',\n",
       " 'Day 14_Python_String Functions.ipynb',\n",
       " 'Day 15_Python_List.ipynb',\n",
       " 'Day 16_Python_List Operations.ipynb',\n",
       " 'Day 17_Python_List  functions.ipynb',\n",
       " 'Day 18_Python_Tuple.ipynb',\n",
       " 'Day 19_Python_Tuple Methods.ipynb',\n",
       " 'Day 20_Python_Dictionary.ipynb',\n",
       " 'Day 21_Python_Dictionary Functions.ipynb',\n",
       " 'Day 22_Python_Sets.ipynb',\n",
       " 'Day 23_Python_Sets operations.ipynb',\n",
       " 'Day 24_Python_Flow Control and if_statement.ipynb',\n",
       " 'Day 25_Python_if_else_statement.ipynb',\n",
       " 'Day 26 Python_if_elif_nested_statement.ipynb',\n",
       " 'Day 27_Python_for_Loop.ipynb',\n",
       " 'Day 28_Python_for_Loop 2.ipynb',\n",
       " 'Day 29_Python_break_statements.ipynb',\n",
       " 'Day 29_Python_for_Loop 3.ipynb',\n",
       " 'Day 30_Python_while_Loop.ipynb',\n",
       " 'Day 31_Python_break_continue_pass_statements.ipynb',\n",
       " 'Day 32_Python_Functions.ipynb',\n",
       " 'Day 33_Python_Functions return statement.ipynb',\n",
       " 'Day 34_Python_Functions_Built_in',\n",
       " 'Day 34_Python_Function_Global_Local_Nonlocal.ipynb',\n",
       " 'Day 35.1_Python_Function_global_Keywords.ipynb',\n",
       " 'Day 35.2_Python_User_defined_Functions.ipynb',\n",
       " 'Day 36_Python_Function_Arguments.ipynb',\n",
       " 'Day 37_Python_Function_Recursion.ipynb',\n",
       " 'Day 38_Python_Function_Anonymous.ipynb',\n",
       " 'Day 39 & 40_Python_Function_Module.ipynb',\n",
       " 'Day 41_Python_File_Input_Output - Jupyter Notebook.pdf',\n",
       " 'Day 41_Python_File_Input_Output.ipynb',\n",
       " 'Day 42_Python_File_Input_Output - Methods.ipynb',\n",
       " 'Day 43_Python_File_Directory - Jupyter Notebook.pdf',\n",
       " 'Day 43_Python_File_Directory.ipynb',\n",
       " 'Day 44_Python_File_Exception.ipynb',\n",
       " 'day 45_Python_Exceptions_Handling.ipynb',\n",
       " 'Day 46_Python_User_defined_Exceptions.ipynb',\n",
       " 'directory_name',\n",
       " 'directory_name1',\n",
       " 'email_exchanges_big.txt',\n",
       " 'equal.py',\n",
       " 'equal1.ipynb',\n",
       " 'example.py',\n",
       " 'fibo.py',\n",
       " 'fibo1.ipynb',\n",
       " 'greet.py',\n",
       " 'greet1.ipynb',\n",
       " 'hacker_news.csv',\n",
       " 'img',\n",
       " 'json_example.json',\n",
       " 'main.ipynb',\n",
       " 'module install for.ipynb.txt',\n",
       " 'my_module.py',\n",
       " 'README.md',\n",
       " 'romeo_and_juliet.txt',\n",
       " 'script.py',\n",
       " 'speech_barack_obama.txt',\n",
       " 'speech_donald_trump.txt',\n",
       " 'speech_melina_trump.txt',\n",
       " 'speech_michelle_obama.txt',\n",
       " 'support_words.py',\n",
       " 'test.py',\n",
       " 'test.txt',\n",
       " 'test1.ipynb',\n",
       " 'testfile.txt',\n",
       " 'test_1.txt',\n",
       " 'test_2.txt',\n",
       " 'update.py',\n",
       " 'xml_example.xml',\n",
       " '__pycache__']"
      ]
     },
     "execution_count": 7,
     "metadata": {},
     "output_type": "execute_result"
    }
   ],
   "source": [
    "print(os.getcwd())\n",
    "\n",
    "os.listdir()"
   ]
  },
  {
   "cell_type": "code",
   "execution_count": 8,
   "metadata": {
    "ExecuteTime": {
     "end_time": "2021-06-18T15:35:55.791730Z",
     "start_time": "2021-06-18T15:35:55.775132Z"
    },
    "scrolled": false
   },
   "outputs": [
    {
     "data": {
      "text/plain": [
       "['$MfeDeepRem',\n",
       " '$Recycle.Bin',\n",
       " '$WinREAgent',\n",
       " 'Apps',\n",
       " 'dell',\n",
       " 'dell.sdr',\n",
       " 'Documents and Settings',\n",
       " 'Drivers',\n",
       " 'DumpStack.log',\n",
       " 'DumpStack.log.tmp',\n",
       " 'FIOD.manifest',\n",
       " 'hiberfil.sys',\n",
       " 'Intel',\n",
       " 'OneDriveTemp',\n",
       " 'pagefile.sys',\n",
       " 'PerfLogs',\n",
       " 'Program Files',\n",
       " 'Program Files (x86)',\n",
       " 'ProgramData',\n",
       " 'Recovery',\n",
       " 'swapfile.sys',\n",
       " 'System Repair',\n",
       " 'System Volume Information',\n",
       " 'Users',\n",
       " 'Windows']"
      ]
     },
     "execution_count": 8,
     "metadata": {},
     "output_type": "execute_result"
    }
   ],
   "source": [
    "os.listdir('C:\\\\')"
   ]
  },
  {
   "cell_type": "markdown",
   "metadata": {},
   "source": [
    "### Making a New Directory `mkdir()` - \n",
    "\n",
    "\n",
    "\n",
    "**Syntax:**\n",
    "\n",
    "**`os.mkdir(\"dir_name\")`**"
   ]
  },
  {
   "cell_type": "code",
   "execution_count": 9,
   "metadata": {
    "ExecuteTime": {
     "end_time": "2021-06-18T15:36:04.319983Z",
     "start_time": "2021-06-18T15:36:04.301919Z"
    },
    "scrolled": false
   },
   "outputs": [
    {
     "name": "stdout",
     "output_type": "stream",
     "text": [
      "Directory created\n"
     ]
    },
    {
     "data": {
      "text/plain": [
       "['.ipynb_checkpoints',\n",
       " 'config.py',\n",
       " 'countries_data.json',\n",
       " 'countries_data.py',\n",
       " 'countries_details_data.py',\n",
       " 'csv_example.csv',\n",
       " 'data.txt',\n",
       " 'Day 04.1_Python_Keywords_and_Identifiers.ipynb',\n",
       " 'Day 04.2_Python_Statement_Indentation_Comments.ipynb',\n",
       " 'Day 05_Python_Variables_&_Constants.ipynb',\n",
       " 'Day 06.1_Python_Literals.ipynb',\n",
       " 'Day 07_Python_Data_Types.ipynb',\n",
       " 'Day 08.1_Python_Type_Conversion.ipynb',\n",
       " 'Day 09_Python_Input_Output_Import.ipynb',\n",
       " 'Day 10_Python_Operators.ipynb',\n",
       " 'Day 11.1_Python_Namespace_and_Scope.ipynb',\n",
       " 'Day 11.2_Python_Numbers.ipynb',\n",
       " 'Day 12 and 13_Python_String.ipynb',\n",
       " 'Day 14_Python_String Functions.ipynb',\n",
       " 'Day 15_Python_List.ipynb',\n",
       " 'Day 16_Python_List Operations.ipynb',\n",
       " 'Day 17_Python_List  functions.ipynb',\n",
       " 'Day 18_Python_Tuple.ipynb',\n",
       " 'Day 19_Python_Tuple Methods.ipynb',\n",
       " 'Day 20_Python_Dictionary.ipynb',\n",
       " 'Day 21_Python_Dictionary Functions.ipynb',\n",
       " 'Day 22_Python_Sets.ipynb',\n",
       " 'Day 23_Python_Sets operations.ipynb',\n",
       " 'Day 24_Python_Flow Control and if_statement.ipynb',\n",
       " 'Day 25_Python_if_else_statement.ipynb',\n",
       " 'Day 26 Python_if_elif_nested_statement.ipynb',\n",
       " 'Day 27_Python_for_Loop.ipynb',\n",
       " 'Day 28_Python_for_Loop 2.ipynb',\n",
       " 'Day 29_Python_break_statements.ipynb',\n",
       " 'Day 29_Python_for_Loop 3.ipynb',\n",
       " 'Day 30_Python_while_Loop.ipynb',\n",
       " 'Day 31_Python_break_continue_pass_statements.ipynb',\n",
       " 'Day 32_Python_Functions.ipynb',\n",
       " 'Day 33_Python_Functions return statement.ipynb',\n",
       " 'Day 34_Python_Functions_Built_in',\n",
       " 'Day 34_Python_Function_Global_Local_Nonlocal.ipynb',\n",
       " 'Day 35.1_Python_Function_global_Keywords.ipynb',\n",
       " 'Day 35.2_Python_User_defined_Functions.ipynb',\n",
       " 'Day 36_Python_Function_Arguments.ipynb',\n",
       " 'Day 37_Python_Function_Recursion.ipynb',\n",
       " 'Day 38_Python_Function_Anonymous.ipynb',\n",
       " 'Day 39 & 40_Python_Function_Module.ipynb',\n",
       " 'Day 41_Python_File_Input_Output - Jupyter Notebook.pdf',\n",
       " 'Day 41_Python_File_Input_Output.ipynb',\n",
       " 'Day 42_Python_File_Input_Output - Methods.ipynb',\n",
       " 'Day 43_Python_File_Directory - Jupyter Notebook.pdf',\n",
       " 'Day 43_Python_File_Directory.ipynb',\n",
       " 'Day 44_Python_File_Exception.ipynb',\n",
       " 'day 45_Python_Exceptions_Handling.ipynb',\n",
       " 'Day 46_Python_User_defined_Exceptions.ipynb',\n",
       " 'directory_name',\n",
       " 'directory_name1',\n",
       " 'email_exchanges_big.txt',\n",
       " 'equal.py',\n",
       " 'equal1.ipynb',\n",
       " 'example.py',\n",
       " 'fibo.py',\n",
       " 'fibo1.ipynb',\n",
       " 'greet.py',\n",
       " 'greet1.ipynb',\n",
       " 'hacker_news.csv',\n",
       " 'img',\n",
       " 'json_example.json',\n",
       " 'main.ipynb',\n",
       " 'module install for.ipynb.txt',\n",
       " 'my_module.py',\n",
       " 'python_study',\n",
       " 'README.md',\n",
       " 'romeo_and_juliet.txt',\n",
       " 'script.py',\n",
       " 'speech_barack_obama.txt',\n",
       " 'speech_donald_trump.txt',\n",
       " 'speech_melina_trump.txt',\n",
       " 'speech_michelle_obama.txt',\n",
       " 'support_words.py',\n",
       " 'test.py',\n",
       " 'test.txt',\n",
       " 'test1.ipynb',\n",
       " 'testfile.txt',\n",
       " 'test_1.txt',\n",
       " 'test_2.txt',\n",
       " 'update.py',\n",
       " 'xml_example.xml',\n",
       " '__pycache__']"
      ]
     },
     "execution_count": 9,
     "metadata": {},
     "output_type": "execute_result"
    }
   ],
   "source": [
    "import os\n",
    "os.mkdir('python_study')\n",
    "print(\"Directory created\") \n",
    "\n",
    "os.listdir()"
   ]
  },
  {
   "cell_type": "markdown",
   "metadata": {},
   "source": [
    "### Renaming a Directory or a File `rename()` - \n",
    "\n",
    "\n",
    "\n",
    "**Syntax:**\n",
    "\n",
    "**`os.rename(current_file_name, new_file_name)`**"
   ]
  },
  {
   "cell_type": "code",
   "execution_count": 10,
   "metadata": {
    "ExecuteTime": {
     "end_time": "2021-06-18T15:36:08.074352Z",
     "start_time": "2021-06-18T15:36:08.062629Z"
    },
    "scrolled": true
   },
   "outputs": [
    {
     "name": "stdout",
     "output_type": "stream",
     "text": [
      "Directory renamed\n"
     ]
    },
    {
     "data": {
      "text/plain": [
       "['.ipynb_checkpoints',\n",
       " 'config.py',\n",
       " 'countries_data.json',\n",
       " 'countries_data.py',\n",
       " 'countries_details_data.py',\n",
       " 'csv_example.csv',\n",
       " 'data.txt',\n",
       " 'Day 04.1_Python_Keywords_and_Identifiers.ipynb',\n",
       " 'Day 04.2_Python_Statement_Indentation_Comments.ipynb',\n",
       " 'Day 05_Python_Variables_&_Constants.ipynb',\n",
       " 'Day 06.1_Python_Literals.ipynb',\n",
       " 'Day 07_Python_Data_Types.ipynb',\n",
       " 'Day 08.1_Python_Type_Conversion.ipynb',\n",
       " 'Day 09_Python_Input_Output_Import.ipynb',\n",
       " 'Day 10_Python_Operators.ipynb',\n",
       " 'Day 11.1_Python_Namespace_and_Scope.ipynb',\n",
       " 'Day 11.2_Python_Numbers.ipynb',\n",
       " 'Day 12 and 13_Python_String.ipynb',\n",
       " 'Day 14_Python_String Functions.ipynb',\n",
       " 'Day 15_Python_List.ipynb',\n",
       " 'Day 16_Python_List Operations.ipynb',\n",
       " 'Day 17_Python_List  functions.ipynb',\n",
       " 'Day 18_Python_Tuple.ipynb',\n",
       " 'Day 19_Python_Tuple Methods.ipynb',\n",
       " 'Day 20_Python_Dictionary.ipynb',\n",
       " 'Day 21_Python_Dictionary Functions.ipynb',\n",
       " 'Day 22_Python_Sets.ipynb',\n",
       " 'Day 23_Python_Sets operations.ipynb',\n",
       " 'Day 24_Python_Flow Control and if_statement.ipynb',\n",
       " 'Day 25_Python_if_else_statement.ipynb',\n",
       " 'Day 26 Python_if_elif_nested_statement.ipynb',\n",
       " 'Day 27_Python_for_Loop.ipynb',\n",
       " 'Day 28_Python_for_Loop 2.ipynb',\n",
       " 'Day 29_Python_break_statements.ipynb',\n",
       " 'Day 29_Python_for_Loop 3.ipynb',\n",
       " 'Day 30_Python_while_Loop.ipynb',\n",
       " 'Day 31_Python_break_continue_pass_statements.ipynb',\n",
       " 'Day 32_Python_Functions.ipynb',\n",
       " 'Day 33_Python_Functions return statement.ipynb',\n",
       " 'Day 34_Python_Functions_Built_in',\n",
       " 'Day 34_Python_Function_Global_Local_Nonlocal.ipynb',\n",
       " 'Day 35.1_Python_Function_global_Keywords.ipynb',\n",
       " 'Day 35.2_Python_User_defined_Functions.ipynb',\n",
       " 'Day 36_Python_Function_Arguments.ipynb',\n",
       " 'Day 37_Python_Function_Recursion.ipynb',\n",
       " 'Day 38_Python_Function_Anonymous.ipynb',\n",
       " 'Day 39 & 40_Python_Function_Module.ipynb',\n",
       " 'Day 41_Python_File_Input_Output - Jupyter Notebook.pdf',\n",
       " 'Day 41_Python_File_Input_Output.ipynb',\n",
       " 'Day 42_Python_File_Input_Output - Methods.ipynb',\n",
       " 'Day 43_Python_File_Directory - Jupyter Notebook.pdf',\n",
       " 'Day 43_Python_File_Directory.ipynb',\n",
       " 'Day 44_Python_File_Exception.ipynb',\n",
       " 'day 45_Python_Exceptions_Handling.ipynb',\n",
       " 'Day 46_Python_User_defined_Exceptions.ipynb',\n",
       " 'directory_name',\n",
       " 'directory_name1',\n",
       " 'email_exchanges_big.txt',\n",
       " 'equal.py',\n",
       " 'equal1.ipynb',\n",
       " 'example.py',\n",
       " 'fibo.py',\n",
       " 'fibo1.ipynb',\n",
       " 'greet.py',\n",
       " 'greet1.ipynb',\n",
       " 'hacker_news.csv',\n",
       " 'img',\n",
       " 'json_example.json',\n",
       " 'main.ipynb',\n",
       " 'module install for.ipynb.txt',\n",
       " 'my_module.py',\n",
       " 'python_learning',\n",
       " 'README.md',\n",
       " 'romeo_and_juliet.txt',\n",
       " 'script.py',\n",
       " 'speech_barack_obama.txt',\n",
       " 'speech_donald_trump.txt',\n",
       " 'speech_melina_trump.txt',\n",
       " 'speech_michelle_obama.txt',\n",
       " 'support_words.py',\n",
       " 'test.py',\n",
       " 'test.txt',\n",
       " 'test1.ipynb',\n",
       " 'testfile.txt',\n",
       " 'test_1.txt',\n",
       " 'test_2.txt',\n",
       " 'update.py',\n",
       " 'xml_example.xml',\n",
       " '__pycache__']"
      ]
     },
     "execution_count": 10,
     "metadata": {},
     "output_type": "execute_result"
    }
   ],
   "source": [
    "os.listdir()\n",
    "\n",
    "os.rename('python_study','python_learning')\n",
    "print(\"Directory renamed\") \n",
    "\n",
    "os.listdir()"
   ]
  },
  {
   "cell_type": "code",
   "execution_count": 13,
   "metadata": {
    "ExecuteTime": {
     "end_time": "2021-06-18T15:36:20.064003Z",
     "start_time": "2021-06-18T15:36:20.055216Z"
    }
   },
   "outputs": [
    {
     "name": "stdout",
     "output_type": "stream",
     "text": [
      "file renamed\n"
     ]
    }
   ],
   "source": [
    "import os\n",
    "os.rename('test.txt','my_test.txt')\n",
    "print(\"file renamed\") "
   ]
  },
  {
   "cell_type": "code",
   "execution_count": 15,
   "metadata": {},
   "outputs": [
    {
     "data": {
      "text/plain": [
       "['.ipynb_checkpoints',\n",
       " 'config.py',\n",
       " 'countries_data.json',\n",
       " 'countries_data.py',\n",
       " 'countries_details_data.py',\n",
       " 'csv_example.csv',\n",
       " 'data.txt',\n",
       " 'Day 04.1_Python_Keywords_and_Identifiers.ipynb',\n",
       " 'Day 04.2_Python_Statement_Indentation_Comments.ipynb',\n",
       " 'Day 05_Python_Variables_&_Constants.ipynb',\n",
       " 'Day 06.1_Python_Literals.ipynb',\n",
       " 'Day 07_Python_Data_Types.ipynb',\n",
       " 'Day 08.1_Python_Type_Conversion.ipynb',\n",
       " 'Day 09_Python_Input_Output_Import.ipynb',\n",
       " 'Day 10_Python_Operators.ipynb',\n",
       " 'Day 11.1_Python_Namespace_and_Scope.ipynb',\n",
       " 'Day 11.2_Python_Numbers.ipynb',\n",
       " 'Day 12 and 13_Python_String.ipynb',\n",
       " 'Day 14_Python_String Functions.ipynb',\n",
       " 'Day 15_Python_List.ipynb',\n",
       " 'Day 16_Python_List Operations.ipynb',\n",
       " 'Day 17_Python_List  functions.ipynb',\n",
       " 'Day 18_Python_Tuple.ipynb',\n",
       " 'Day 19_Python_Tuple Methods.ipynb',\n",
       " 'Day 20_Python_Dictionary.ipynb',\n",
       " 'Day 21_Python_Dictionary Functions.ipynb',\n",
       " 'Day 22_Python_Sets.ipynb',\n",
       " 'Day 23_Python_Sets operations.ipynb',\n",
       " 'Day 24_Python_Flow Control and if_statement.ipynb',\n",
       " 'Day 25_Python_if_else_statement.ipynb',\n",
       " 'Day 26 Python_if_elif_nested_statement.ipynb',\n",
       " 'Day 27_Python_for_Loop.ipynb',\n",
       " 'Day 28_Python_for_Loop 2.ipynb',\n",
       " 'Day 29_Python_break_statements.ipynb',\n",
       " 'Day 29_Python_for_Loop 3.ipynb',\n",
       " 'Day 30_Python_while_Loop.ipynb',\n",
       " 'Day 31_Python_break_continue_pass_statements.ipynb',\n",
       " 'Day 32_Python_Functions.ipynb',\n",
       " 'Day 33_Python_Functions return statement.ipynb',\n",
       " 'Day 34_Python_Functions_Built_in',\n",
       " 'Day 34_Python_Function_Global_Local_Nonlocal.ipynb',\n",
       " 'Day 35.1_Python_Function_global_Keywords.ipynb',\n",
       " 'Day 35.2_Python_User_defined_Functions.ipynb',\n",
       " 'Day 36_Python_Function_Arguments.ipynb',\n",
       " 'Day 37_Python_Function_Recursion.ipynb',\n",
       " 'Day 38_Python_Function_Anonymous.ipynb',\n",
       " 'Day 39 & 40_Python_Function_Module.ipynb',\n",
       " 'Day 41_Python_File_Input_Output - Jupyter Notebook.pdf',\n",
       " 'Day 41_Python_File_Input_Output.ipynb',\n",
       " 'Day 42_Python_File_Input_Output - Methods.ipynb',\n",
       " 'Day 43_Python_File_Directory - Jupyter Notebook.pdf',\n",
       " 'Day 43_Python_File_Directory.ipynb',\n",
       " 'Day 44_Python_File_Exception.ipynb',\n",
       " 'day 45_Python_Exceptions_Handling.ipynb',\n",
       " 'Day 46_Python_User_defined_Exceptions.ipynb',\n",
       " 'directory_name',\n",
       " 'directory_name1',\n",
       " 'email_exchanges_big.txt',\n",
       " 'equal.py',\n",
       " 'equal1.ipynb',\n",
       " 'example.py',\n",
       " 'fibo.py',\n",
       " 'fibo1.ipynb',\n",
       " 'greet.py',\n",
       " 'greet1.ipynb',\n",
       " 'hacker_news.csv',\n",
       " 'img',\n",
       " 'json_example.json',\n",
       " 'main.ipynb',\n",
       " 'module install for.ipynb.txt',\n",
       " 'my_module.py',\n",
       " 'my_test.txt',\n",
       " 'python_learning',\n",
       " 'README.md',\n",
       " 'romeo_and_juliet.txt',\n",
       " 'script.py',\n",
       " 'speech_barack_obama.txt',\n",
       " 'speech_donald_trump.txt',\n",
       " 'speech_melina_trump.txt',\n",
       " 'speech_michelle_obama.txt',\n",
       " 'support_words.py',\n",
       " 'test.py',\n",
       " 'test1.ipynb',\n",
       " 'testfile.txt',\n",
       " 'test_1.txt',\n",
       " 'test_2.txt',\n",
       " 'update.py',\n",
       " 'xml_example.xml',\n",
       " '__pycache__']"
      ]
     },
     "execution_count": 15,
     "metadata": {},
     "output_type": "execute_result"
    }
   ],
   "source": [
    "\n",
    "\n",
    "os.listdir()"
   ]
  },
  {
   "cell_type": "markdown",
   "metadata": {},
   "source": [
    "### Removing a Directory or a File `remove()` and `rmdir()` - \n",
    "\n"
   ]
  },
  {
   "cell_type": "code",
   "execution_count": 16,
   "metadata": {
    "ExecuteTime": {
     "end_time": "2021-06-18T15:36:32.627869Z",
     "start_time": "2021-06-18T15:36:32.598577Z"
    },
    "scrolled": true
   },
   "outputs": [
    {
     "name": "stdout",
     "output_type": "stream",
     "text": [
      "Directory deleted\n"
     ]
    },
    {
     "data": {
      "text/plain": [
       "['.ipynb_checkpoints',\n",
       " 'config.py',\n",
       " 'countries_data.json',\n",
       " 'countries_data.py',\n",
       " 'countries_details_data.py',\n",
       " 'csv_example.csv',\n",
       " 'data.txt',\n",
       " 'Day 04.1_Python_Keywords_and_Identifiers.ipynb',\n",
       " 'Day 04.2_Python_Statement_Indentation_Comments.ipynb',\n",
       " 'Day 05_Python_Variables_&_Constants.ipynb',\n",
       " 'Day 06.1_Python_Literals.ipynb',\n",
       " 'Day 07_Python_Data_Types.ipynb',\n",
       " 'Day 08.1_Python_Type_Conversion.ipynb',\n",
       " 'Day 09_Python_Input_Output_Import.ipynb',\n",
       " 'Day 10_Python_Operators.ipynb',\n",
       " 'Day 11.1_Python_Namespace_and_Scope.ipynb',\n",
       " 'Day 11.2_Python_Numbers.ipynb',\n",
       " 'Day 12 and 13_Python_String.ipynb',\n",
       " 'Day 14_Python_String Functions.ipynb',\n",
       " 'Day 15_Python_List.ipynb',\n",
       " 'Day 16_Python_List Operations.ipynb',\n",
       " 'Day 17_Python_List  functions.ipynb',\n",
       " 'Day 18_Python_Tuple.ipynb',\n",
       " 'Day 19_Python_Tuple Methods.ipynb',\n",
       " 'Day 20_Python_Dictionary.ipynb',\n",
       " 'Day 21_Python_Dictionary Functions.ipynb',\n",
       " 'Day 22_Python_Sets.ipynb',\n",
       " 'Day 23_Python_Sets operations.ipynb',\n",
       " 'Day 24_Python_Flow Control and if_statement.ipynb',\n",
       " 'Day 25_Python_if_else_statement.ipynb',\n",
       " 'Day 26 Python_if_elif_nested_statement.ipynb',\n",
       " 'Day 27_Python_for_Loop.ipynb',\n",
       " 'Day 28_Python_for_Loop 2.ipynb',\n",
       " 'Day 29_Python_break_statements.ipynb',\n",
       " 'Day 29_Python_for_Loop 3.ipynb',\n",
       " 'Day 30_Python_while_Loop.ipynb',\n",
       " 'Day 31_Python_break_continue_pass_statements.ipynb',\n",
       " 'Day 32_Python_Functions.ipynb',\n",
       " 'Day 33_Python_Functions return statement.ipynb',\n",
       " 'Day 34_Python_Functions_Built_in',\n",
       " 'Day 34_Python_Function_Global_Local_Nonlocal.ipynb',\n",
       " 'Day 35.1_Python_Function_global_Keywords.ipynb',\n",
       " 'Day 35.2_Python_User_defined_Functions.ipynb',\n",
       " 'Day 36_Python_Function_Arguments.ipynb',\n",
       " 'Day 37_Python_Function_Recursion.ipynb',\n",
       " 'Day 38_Python_Function_Anonymous.ipynb',\n",
       " 'Day 39 & 40_Python_Function_Module.ipynb',\n",
       " 'Day 41_Python_File_Input_Output - Jupyter Notebook.pdf',\n",
       " 'Day 41_Python_File_Input_Output.ipynb',\n",
       " 'Day 42_Python_File_Input_Output - Methods.ipynb',\n",
       " 'Day 43_Python_File_Directory - Jupyter Notebook.pdf',\n",
       " 'Day 43_Python_File_Directory.ipynb',\n",
       " 'Day 44_Python_File_Exception.ipynb',\n",
       " 'day 45_Python_Exceptions_Handling.ipynb',\n",
       " 'Day 46_Python_User_defined_Exceptions.ipynb',\n",
       " 'directory_name',\n",
       " 'directory_name1',\n",
       " 'email_exchanges_big.txt',\n",
       " 'equal.py',\n",
       " 'equal1.ipynb',\n",
       " 'example.py',\n",
       " 'fibo.py',\n",
       " 'fibo1.ipynb',\n",
       " 'greet.py',\n",
       " 'greet1.ipynb',\n",
       " 'hacker_news.csv',\n",
       " 'img',\n",
       " 'json_example.json',\n",
       " 'main.ipynb',\n",
       " 'module install for.ipynb.txt',\n",
       " 'my_module.py',\n",
       " 'my_test.txt',\n",
       " 'python_learning',\n",
       " 'README.md',\n",
       " 'romeo_and_juliet.txt',\n",
       " 'script.py',\n",
       " 'speech_barack_obama.txt',\n",
       " 'speech_donald_trump.txt',\n",
       " 'speech_melina_trump.txt',\n",
       " 'speech_michelle_obama.txt',\n",
       " 'support_words.py',\n",
       " 'test.py',\n",
       " 'test1.ipynb',\n",
       " 'testfile.txt',\n",
       " 'test_1.txt',\n",
       " 'test_2.txt',\n",
       " 'update.py',\n",
       " 'xml_example.xml',\n",
       " '__pycache__']"
      ]
     },
     "execution_count": 16,
     "metadata": {},
     "output_type": "execute_result"
    }
   ],
   "source": [
    "import os\n",
    "\n",
    "# This would remove  directory.\n",
    "os.rmdir(r\"C:\\Users\\AJANTHA\\OneDrive\\Desktop\\XYZ\")\n",
    "print(\"Directory deleted\") \n",
    "\n",
    "os.listdir()"
   ]
  },
  {
   "cell_type": "code",
   "execution_count": 17,
   "metadata": {
    "ExecuteTime": {
     "end_time": "2021-06-18T15:36:40.443239Z",
     "start_time": "2021-06-18T15:36:40.432499Z"
    },
    "scrolled": true
   },
   "outputs": [
    {
     "name": "stdout",
     "output_type": "stream",
     "text": [
      "file deleted\n"
     ]
    }
   ],
   "source": [
    "import os\n",
    "os.remove('test_1.txt')\n",
    "print(\"file deleted\") "
   ]
  },
  {
   "cell_type": "code",
   "execution_count": 18,
   "metadata": {},
   "outputs": [
    {
     "data": {
      "text/plain": [
       "['.ipynb_checkpoints',\n",
       " 'config.py',\n",
       " 'countries_data.json',\n",
       " 'countries_data.py',\n",
       " 'countries_details_data.py',\n",
       " 'csv_example.csv',\n",
       " 'data.txt',\n",
       " 'Day 04.1_Python_Keywords_and_Identifiers.ipynb',\n",
       " 'Day 04.2_Python_Statement_Indentation_Comments.ipynb',\n",
       " 'Day 05_Python_Variables_&_Constants.ipynb',\n",
       " 'Day 06.1_Python_Literals.ipynb',\n",
       " 'Day 07_Python_Data_Types.ipynb',\n",
       " 'Day 08.1_Python_Type_Conversion.ipynb',\n",
       " 'Day 09_Python_Input_Output_Import.ipynb',\n",
       " 'Day 10_Python_Operators.ipynb',\n",
       " 'Day 11.1_Python_Namespace_and_Scope.ipynb',\n",
       " 'Day 11.2_Python_Numbers.ipynb',\n",
       " 'Day 12 and 13_Python_String.ipynb',\n",
       " 'Day 14_Python_String Functions.ipynb',\n",
       " 'Day 15_Python_List.ipynb',\n",
       " 'Day 16_Python_List Operations.ipynb',\n",
       " 'Day 17_Python_List  functions.ipynb',\n",
       " 'Day 18_Python_Tuple.ipynb',\n",
       " 'Day 19_Python_Tuple Methods.ipynb',\n",
       " 'Day 20_Python_Dictionary.ipynb',\n",
       " 'Day 21_Python_Dictionary Functions.ipynb',\n",
       " 'Day 22_Python_Sets.ipynb',\n",
       " 'Day 23_Python_Sets operations.ipynb',\n",
       " 'Day 24_Python_Flow Control and if_statement.ipynb',\n",
       " 'Day 25_Python_if_else_statement.ipynb',\n",
       " 'Day 26 Python_if_elif_nested_statement.ipynb',\n",
       " 'Day 27_Python_for_Loop.ipynb',\n",
       " 'Day 28_Python_for_Loop 2.ipynb',\n",
       " 'Day 29_Python_break_statements.ipynb',\n",
       " 'Day 29_Python_for_Loop 3.ipynb',\n",
       " 'Day 30_Python_while_Loop.ipynb',\n",
       " 'Day 31_Python_break_continue_pass_statements.ipynb',\n",
       " 'Day 32_Python_Functions.ipynb',\n",
       " 'Day 33_Python_Functions return statement.ipynb',\n",
       " 'Day 34_Python_Functions_Built_in',\n",
       " 'Day 34_Python_Function_Global_Local_Nonlocal.ipynb',\n",
       " 'Day 35.1_Python_Function_global_Keywords.ipynb',\n",
       " 'Day 35.2_Python_User_defined_Functions.ipynb',\n",
       " 'Day 36_Python_Function_Arguments.ipynb',\n",
       " 'Day 37_Python_Function_Recursion.ipynb',\n",
       " 'Day 38_Python_Function_Anonymous.ipynb',\n",
       " 'Day 39 & 40_Python_Function_Module.ipynb',\n",
       " 'Day 41_Python_File_Input_Output - Jupyter Notebook.pdf',\n",
       " 'Day 41_Python_File_Input_Output.ipynb',\n",
       " 'Day 42_Python_File_Input_Output - Methods.ipynb',\n",
       " 'Day 43_Python_File_Directory - Jupyter Notebook.pdf',\n",
       " 'Day 43_Python_File_Directory.ipynb',\n",
       " 'Day 44_Python_File_Exception.ipynb',\n",
       " 'day 45_Python_Exceptions_Handling.ipynb',\n",
       " 'Day 46_Python_User_defined_Exceptions.ipynb',\n",
       " 'directory_name',\n",
       " 'directory_name1',\n",
       " 'email_exchanges_big.txt',\n",
       " 'equal.py',\n",
       " 'equal1.ipynb',\n",
       " 'example.py',\n",
       " 'fibo.py',\n",
       " 'fibo1.ipynb',\n",
       " 'greet.py',\n",
       " 'greet1.ipynb',\n",
       " 'hacker_news.csv',\n",
       " 'img',\n",
       " 'json_example.json',\n",
       " 'main.ipynb',\n",
       " 'module install for.ipynb.txt',\n",
       " 'my_module.py',\n",
       " 'my_test.txt',\n",
       " 'python_learning',\n",
       " 'README.md',\n",
       " 'romeo_and_juliet.txt',\n",
       " 'script.py',\n",
       " 'speech_barack_obama.txt',\n",
       " 'speech_donald_trump.txt',\n",
       " 'speech_melina_trump.txt',\n",
       " 'speech_michelle_obama.txt',\n",
       " 'support_words.py',\n",
       " 'test.py',\n",
       " 'test1.ipynb',\n",
       " 'testfile.txt',\n",
       " 'test_2.txt',\n",
       " 'update.py',\n",
       " 'xml_example.xml',\n",
       " '__pycache__']"
      ]
     },
     "execution_count": 18,
     "metadata": {},
     "output_type": "execute_result"
    }
   ],
   "source": [
    "os.listdir()"
   ]
  },
  {
   "cell_type": "code",
   "execution_count": 19,
   "metadata": {
    "ExecuteTime": {
     "end_time": "2021-06-18T15:37:00.249730Z",
     "start_time": "2021-06-18T15:37:00.241919Z"
    }
   },
   "outputs": [
    {
     "data": {
      "text/plain": [
       "['.ipynb_checkpoints',\n",
       " 'config.py',\n",
       " 'countries_data.json',\n",
       " 'countries_data.py',\n",
       " 'countries_details_data.py',\n",
       " 'csv_example.csv',\n",
       " 'data.txt',\n",
       " 'Day 04.1_Python_Keywords_and_Identifiers.ipynb',\n",
       " 'Day 04.2_Python_Statement_Indentation_Comments.ipynb',\n",
       " 'Day 05_Python_Variables_&_Constants.ipynb',\n",
       " 'Day 06.1_Python_Literals.ipynb',\n",
       " 'Day 07_Python_Data_Types.ipynb',\n",
       " 'Day 08.1_Python_Type_Conversion.ipynb',\n",
       " 'Day 09_Python_Input_Output_Import.ipynb',\n",
       " 'Day 10_Python_Operators.ipynb',\n",
       " 'Day 11.1_Python_Namespace_and_Scope.ipynb',\n",
       " 'Day 11.2_Python_Numbers.ipynb',\n",
       " 'Day 12 and 13_Python_String.ipynb',\n",
       " 'Day 14_Python_String Functions.ipynb',\n",
       " 'Day 15_Python_List.ipynb',\n",
       " 'Day 16_Python_List Operations.ipynb',\n",
       " 'Day 17_Python_List  functions.ipynb',\n",
       " 'Day 18_Python_Tuple.ipynb',\n",
       " 'Day 19_Python_Tuple Methods.ipynb',\n",
       " 'Day 20_Python_Dictionary.ipynb',\n",
       " 'Day 21_Python_Dictionary Functions.ipynb',\n",
       " 'Day 22_Python_Sets.ipynb',\n",
       " 'Day 23_Python_Sets operations.ipynb',\n",
       " 'Day 24_Python_Flow Control and if_statement.ipynb',\n",
       " 'Day 25_Python_if_else_statement.ipynb',\n",
       " 'Day 26 Python_if_elif_nested_statement.ipynb',\n",
       " 'Day 27_Python_for_Loop.ipynb',\n",
       " 'Day 28_Python_for_Loop 2.ipynb',\n",
       " 'Day 29_Python_break_statements.ipynb',\n",
       " 'Day 29_Python_for_Loop 3.ipynb',\n",
       " 'Day 30_Python_while_Loop.ipynb',\n",
       " 'Day 31_Python_break_continue_pass_statements.ipynb',\n",
       " 'Day 32_Python_Functions.ipynb',\n",
       " 'Day 33_Python_Functions return statement.ipynb',\n",
       " 'Day 34_Python_Functions_Built_in',\n",
       " 'Day 34_Python_Function_Global_Local_Nonlocal.ipynb',\n",
       " 'Day 35.1_Python_Function_global_Keywords.ipynb',\n",
       " 'Day 35.2_Python_User_defined_Functions.ipynb',\n",
       " 'Day 36_Python_Function_Arguments.ipynb',\n",
       " 'Day 37_Python_Function_Recursion.ipynb',\n",
       " 'Day 38_Python_Function_Anonymous.ipynb',\n",
       " 'Day 39 & 40_Python_Function_Module.ipynb',\n",
       " 'Day 41_Python_File_Input_Output - Jupyter Notebook.pdf',\n",
       " 'Day 41_Python_File_Input_Output.ipynb',\n",
       " 'Day 42_Python_File_Input_Output - Methods.ipynb',\n",
       " 'Day 43_Python_File_Directory - Jupyter Notebook.pdf',\n",
       " 'Day 43_Python_File_Directory.ipynb',\n",
       " 'Day 44_Python_File_Exception.ipynb',\n",
       " 'day 45_Python_Exceptions_Handling.ipynb',\n",
       " 'Day 46_Python_User_defined_Exceptions.ipynb',\n",
       " 'directory_name',\n",
       " 'directory_name1',\n",
       " 'email_exchanges_big.txt',\n",
       " 'equal.py',\n",
       " 'equal1.ipynb',\n",
       " 'example.py',\n",
       " 'fibo.py',\n",
       " 'fibo1.ipynb',\n",
       " 'greet.py',\n",
       " 'greet1.ipynb',\n",
       " 'hacker_news.csv',\n",
       " 'img',\n",
       " 'json_example.json',\n",
       " 'main.ipynb',\n",
       " 'module install for.ipynb.txt',\n",
       " 'my_module.py',\n",
       " 'my_test.txt',\n",
       " 'README.md',\n",
       " 'romeo_and_juliet.txt',\n",
       " 'script.py',\n",
       " 'speech_barack_obama.txt',\n",
       " 'speech_donald_trump.txt',\n",
       " 'speech_melina_trump.txt',\n",
       " 'speech_michelle_obama.txt',\n",
       " 'support_words.py',\n",
       " 'test.py',\n",
       " 'test1.ipynb',\n",
       " 'testfile.txt',\n",
       " 'test_2.txt',\n",
       " 'update.py',\n",
       " 'xml_example.xml',\n",
       " '__pycache__']"
      ]
     },
     "execution_count": 19,
     "metadata": {},
     "output_type": "execute_result"
    }
   ],
   "source": [
    "import shutil\n",
    "\n",
    "shutil.rmtree('python_learning')\n",
    "os.listdir()"
   ]
  },
  {
   "cell_type": "code",
   "execution_count": null,
   "metadata": {},
   "outputs": [],
   "source": []
  }
 ],
 "metadata": {
  "hide_input": false,
  "kernelspec": {
   "display_name": "Python 3 (ipykernel)",
   "language": "python",
   "name": "python3"
  },
  "language_info": {
   "codemirror_mode": {
    "name": "ipython",
    "version": 3
   },
   "file_extension": ".py",
   "mimetype": "text/x-python",
   "name": "python",
   "nbconvert_exporter": "python",
   "pygments_lexer": "ipython3",
   "version": "3.9.7"
  },
  "toc": {
   "base_numbering": 1,
   "nav_menu": {},
   "number_sections": true,
   "sideBar": true,
   "skip_h1_title": false,
   "title_cell": "Table of Contents",
   "title_sidebar": "Contents",
   "toc_cell": false,
   "toc_position": {},
   "toc_section_display": true,
   "toc_window_display": false
  },
  "varInspector": {
   "cols": {
    "lenName": 16,
    "lenType": 16,
    "lenVar": 40
   },
   "kernels_config": {
    "python": {
     "delete_cmd_postfix": "",
     "delete_cmd_prefix": "del ",
     "library": "var_list.py",
     "varRefreshCmd": "print(var_dic_list())"
    },
    "r": {
     "delete_cmd_postfix": ") ",
     "delete_cmd_prefix": "rm(",
     "library": "var_list.r",
     "varRefreshCmd": "cat(var_dic_list()) "
    }
   },
   "types_to_exclude": [
    "module",
    "function",
    "builtin_function_or_method",
    "instance",
    "_Feature"
   ],
   "window_display": false
  }
 },
 "nbformat": 4,
 "nbformat_minor": 2
}
