{
 "cells": [
  {
   "cell_type": "markdown",
   "metadata": {},
   "source": [
    "# Python Functions\n",
    "\n",
    "In this session, you'll learn about functionsin Python."
   ]
  },
  {
   "cell_type": "markdown",
   "metadata": {},
   "source": [
    "## Function `return` Statement\n",
    "\n",
    "In Python, to return value from the function, a **`return`** statement is used. It returns the value of the expression following the returns keyword.\n",
    "\n",
    "**Syntax:**\n",
    "\n",
    "```python\n",
    "def fun():\n",
    "    statement-1\n",
    "    statement-2\n",
    "    statement-3\n",
    "    .          \n",
    "    .          \n",
    "    return [expression]\n",
    "```\n",
    "\n"
   ]
  },
  {
   "cell_type": "markdown",
   "metadata": {},
   "source": [
    "### Return Single Value"
   ]
  },
  {
   "cell_type": "code",
   "execution_count": 1,
   "metadata": {},
   "outputs": [],
   "source": [
    "# Example 1: Gereeting\n",
    "\n",
    "def greet(name):\n",
    "    \"\"\"\n",
    "    This function greets to the person passed in as a parameter\n",
    "    \"\"\"\n",
    "    print(\"Hello, \" + name + \". Good morning!\")   # No output!\n"
   ]
  },
  {
   "cell_type": "code",
   "execution_count": 2,
   "metadata": {
    "ExecuteTime": {
     "end_time": "2021-10-08T17:47:59.718728Z",
     "start_time": "2021-10-08T17:47:59.626442Z"
    }
   },
   "outputs": [
    {
     "name": "stdout",
     "output_type": "stream",
     "text": [
      "Hello, Cory. Good morning!\n",
      "None\n"
     ]
    }
   ],
   "source": [
    "print(greet(\"Cory\"))"
   ]
  },
  {
   "cell_type": "markdown",
   "metadata": {},
   "source": [
    "## Passing Arguments with Key and Value\n",
    "\n"
   ]
  },
  {
   "cell_type": "code",
   "execution_count": 3,
   "metadata": {
    "ExecuteTime": {
     "end_time": "2021-10-08T17:47:59.854957Z",
     "start_time": "2021-10-08T17:47:59.727520Z"
    }
   },
   "outputs": [
    {
     "name": "stdout",
     "output_type": "stream",
     "text": [
      "Ajantha Devi\n",
      "None\n"
     ]
    }
   ],
   "source": [
    "# Example 1: \n",
    "\n",
    "def print_fullname(firstname, lastname):\n",
    "    space = ' '\n",
    "    full_name = firstname  + space + lastname\n",
    "    print(full_name)\n",
    "print(print_fullname(firstname = 'Ajantha', lastname = 'Devi'))"
   ]
  },
  {
   "cell_type": "code",
   "execution_count": 4,
   "metadata": {
    "ExecuteTime": {
     "end_time": "2021-10-08T17:47:59.978006Z",
     "start_time": "2021-10-08T17:47:59.860817Z"
    }
   },
   "outputs": [
    {
     "name": "stdout",
     "output_type": "stream",
     "text": [
      "5\n",
      "None\n"
     ]
    }
   ],
   "source": [
    "# Example 2:\n",
    "\n",
    "def add_two_numbers (num1, num2):\n",
    "    total = num1 + num2\n",
    "    print(total)\n",
    "print(add_two_numbers(num2 = 3, num1 = 2)) # Order does not matter"
   ]
  },
  {
   "cell_type": "code",
   "execution_count": 5,
   "metadata": {
    "ExecuteTime": {
     "end_time": "2021-10-08T17:48:00.178202Z",
     "start_time": "2021-10-08T17:47:59.981912Z"
    }
   },
   "outputs": [
    {
     "name": "stdout",
     "output_type": "stream",
     "text": [
      "Ajantha Devi\n"
     ]
    }
   ],
   "source": [
    "# Example 1:  with return statement\n",
    "\n",
    "def print_fullname(firstname, lastname):\n",
    "    space = ' '\n",
    "    full_name = firstname  + space + lastname\n",
    "    return full_name\n",
    "print(print_fullname(firstname = 'Ajantha', lastname = 'Devi'))"
   ]
  },
  {
   "cell_type": "code",
   "execution_count": 6,
   "metadata": {
    "ExecuteTime": {
     "end_time": "2021-10-08T17:48:00.286600Z",
     "start_time": "2021-10-08T17:48:00.182107Z"
    }
   },
   "outputs": [
    {
     "name": "stdout",
     "output_type": "stream",
     "text": [
      "5\n"
     ]
    }
   ],
   "source": [
    "# Example 2:  with return statement\n",
    "\n",
    "def add_two_numbers (num1, num2):\n",
    "    total = num1 + num2\n",
    "    return total\n",
    "print(add_two_numbers(num2 = 3, num1 = 2)) # Order does not matter"
   ]
  },
  {
   "cell_type": "code",
   "execution_count": 7,
   "metadata": {
    "ExecuteTime": {
     "end_time": "2021-10-08T17:48:00.394507Z",
     "start_time": "2021-10-08T17:48:00.300275Z"
    }
   },
   "outputs": [
    {
     "name": "stdout",
     "output_type": "stream",
     "text": [
      "2\n",
      "4\n"
     ]
    }
   ],
   "source": [
    "# Example 3:\n",
    "\n",
    "def absolute_value(num):\n",
    "    \"\"\"This function returns the absolute\n",
    "    value of the entered number\"\"\"\n",
    "\n",
    "    if num >= 0:\n",
    "        return num\n",
    "    else:\n",
    "        return -num\n",
    "\n",
    "print(absolute_value(2))\n",
    "print(absolute_value(-4))"
   ]
  },
  {
   "cell_type": "code",
   "execution_count": 8,
   "metadata": {
    "ExecuteTime": {
     "end_time": "2021-10-08T17:48:00.529768Z",
     "start_time": "2021-10-08T17:48:00.400370Z"
    },
    "scrolled": true
   },
   "outputs": [
    {
     "name": "stdout",
     "output_type": "stream",
     "text": [
      "Adding the two values\n",
      "Printing within Function\n",
      "30\n",
      "total :  30\n",
      "Hello\n",
      "Rest of code\n"
     ]
    }
   ],
   "source": [
    "# Example 4:\n",
    "\n",
    "def sum(a,b):  # Function 1\n",
    "    print(\"Adding the two values\")\n",
    "    print(\"Printing within Function\")\n",
    "    print(a+b)\n",
    "    return a+b\n",
    "\n",
    "def msg():  # Function 2\n",
    "    print(\"Hello\")\n",
    "    return\n",
    "\n",
    "total=sum(10,20)\n",
    "print('total : ',total)\n",
    "msg()\n",
    "print(\"Rest of code\")"
   ]
  },
  {
   "cell_type": "code",
   "execution_count": 9,
   "metadata": {
    "ExecuteTime": {
     "end_time": "2021-10-08T17:48:00.672343Z",
     "start_time": "2021-10-08T17:48:00.537579Z"
    }
   },
   "outputs": [
    {
     "name": "stdout",
     "output_type": "stream",
     "text": [
      "Even numbers are: [2, 46, 72, 90]\n"
     ]
    }
   ],
   "source": [
    "# Example 5:\n",
    "\n",
    "def is_even(list1):\n",
    "    even_num = []\n",
    "    for n in list1:\n",
    "        if n % 2 == 0:\n",
    "            even_num.append(n)\n",
    "    # return a list\n",
    "    return even_num\n",
    "\n",
    "# Pass list to the function\n",
    "even_num = is_even([2, 3, 46, 63, 72, 83, 90, 19])\n",
    "print(\"Even numbers are:\", even_num)"
   ]
  },
  {
   "cell_type": "markdown",
   "metadata": {},
   "source": [
    "### Return Multiple Values\n",
    "\n"
   ]
  },
  {
   "cell_type": "code",
   "execution_count": 10,
   "metadata": {
    "ExecuteTime": {
     "end_time": "2021-10-08T17:48:00.795876Z",
     "start_time": "2021-10-08T17:48:00.677226Z"
    }
   },
   "outputs": [
    {
     "name": "stdout",
     "output_type": "stream",
     "text": [
      "Addition:  12\n",
      "Subtraction:  8\n",
      "Multiplication:  20\n",
      "Division:  5.0\n"
     ]
    }
   ],
   "source": [
    "# Example 1:\n",
    "\n",
    "def arithmetic(num1, num2):\n",
    "    add = num1 + num2\n",
    "    sub = num1 - num2\n",
    "    multiply = num1 * num2\n",
    "    division = num1 / num2\n",
    "    # return four values\n",
    "    return add, sub, multiply, division\n",
    "\n",
    "a, b, c, d = arithmetic(10, 2)  # read four return values in four variables\n",
    "\n",
    "print(\"Addition: \", a)\n",
    "print(\"Subtraction: \", b)\n",
    "print(\"Multiplication: \", c)\n",
    "print(\"Division: \", d)"
   ]
  },
  {
   "cell_type": "markdown",
   "metadata": {},
   "source": [
    "### Return Boolean Values"
   ]
  },
  {
   "cell_type": "code",
   "execution_count": 12,
   "metadata": {
    "ExecuteTime": {
     "end_time": "2021-10-08T17:48:00.903786Z",
     "start_time": "2021-10-08T17:48:00.803691Z"
    },
    "scrolled": true
   },
   "outputs": [
    {
     "name": "stdout",
     "output_type": "stream",
     "text": [
      "even\n",
      "True\n",
      "even\n",
      "True\n"
     ]
    }
   ],
   "source": [
    "# Example 1:\n",
    "\n",
    "def is_even (n):\n",
    "    if n % 2 == 0:\n",
    "        print('even')\n",
    "        return True    # return stops further execution of the function, similar to break \n",
    "    return False\n",
    "print(is_even(10)) # True\n",
    "print(is_even(8)) # False"
   ]
  },
  {
   "cell_type": "markdown",
   "metadata": {},
   "source": [
    "### Return a List"
   ]
  },
  {
   "cell_type": "code",
   "execution_count": 13,
   "metadata": {
    "ExecuteTime": {
     "end_time": "2021-10-08T17:48:01.028789Z",
     "start_time": "2021-10-08T17:48:00.906718Z"
    }
   },
   "outputs": [
    {
     "name": "stdout",
     "output_type": "stream",
     "text": [
      "[0, 2, 4, 6, 8, 10]\n"
     ]
    }
   ],
   "source": [
    "# Example 1:\n",
    "\n",
    "def find_even_numbers(n):\n",
    "    evens = []\n",
    "    for i in range(n + 1):\n",
    "        if i % 2 == 0:\n",
    "            evens.append(i)\n",
    "    return evens\n",
    "print(find_even_numbers(10))"
   ]
  },
  {
   "cell_type": "markdown",
   "metadata": {},
   "source": [
    "## How to call a function in python?\n",
    "\n",
    "\n",
    "<div>\n",
    "<img src=\"img/f2.png\" width=\"500\"/>\n",
    "</div>"
   ]
  },
  {
   "cell_type": "code",
   "execution_count": 14,
   "metadata": {
    "ExecuteTime": {
     "end_time": "2021-10-08T17:48:01.135232Z",
     "start_time": "2021-10-08T17:48:01.031717Z"
    }
   },
   "outputs": [
    {
     "name": "stdout",
     "output_type": "stream",
     "text": [
      "Hello, Ajan. Good morning!\n"
     ]
    }
   ],
   "source": [
    "greet('Ajan')"
   ]
  },
  {
   "cell_type": "code",
   "execution_count": 15,
   "metadata": {
    "ExecuteTime": {
     "end_time": "2021-10-08T17:48:01.243633Z",
     "start_time": "2021-10-08T17:48:01.140118Z"
    }
   },
   "outputs": [
    {
     "name": "stdout",
     "output_type": "stream",
     "text": [
      "Happy birthday, Bill. Hope you have a wonderful day!\n"
     ]
    }
   ],
   "source": [
    "# Example 1: \n",
    "\n",
    "def wish(name):\n",
    "    \"\"\"\n",
    "    This function wishes to the person passed in as a parameter\n",
    "    \"\"\"\n",
    "    print(\"Happy birthday, \" + name + \". Hope you have a wonderful day!\")\n",
    "\n",
    "wish('Bill')"
   ]
  },
  {
   "cell_type": "code",
   "execution_count": 16,
   "metadata": {
    "ExecuteTime": {
     "end_time": "2021-10-08T17:48:01.446289Z",
     "start_time": "2021-10-08T17:48:01.251445Z"
    }
   },
   "outputs": [
    {
     "name": "stdout",
     "output_type": "stream",
     "text": [
      "Friends, welcome to Python for Data Science\n",
      "Ajantha, welcome to Python for Data Science\n"
     ]
    }
   ],
   "source": [
    "# Example 2: \n",
    "\n",
    "def greetings (name = 'Friends'):\n",
    "    message = name + ', welcome to Python for Data Science'\n",
    "    return message\n",
    "print(greetings())\n",
    "print(greetings('Ajantha'))"
   ]
  },
  {
   "cell_type": "code",
   "execution_count": 17,
   "metadata": {
    "ExecuteTime": {
     "end_time": "2021-10-08T17:48:01.699688Z",
     "start_time": "2021-10-08T17:48:01.454570Z"
    }
   },
   "outputs": [
    {
     "name": "stdout",
     "output_type": "stream",
     "text": [
      "Ajantha Devi\n",
      "Ethan Hunt\n"
     ]
    }
   ],
   "source": [
    "# Example 3: \n",
    "\n",
    "def generate_full_name (first_name = 'Ajantha', last_name = 'Devi'):\n",
    "    space = ' '\n",
    "    full_name = first_name + space + last_name\n",
    "    return full_name\n",
    "print(generate_full_name())\n",
    "print(generate_full_name('Ethan','Hunt'))"
   ]
  },
  {
   "cell_type": "code",
   "execution_count": 18,
   "metadata": {
    "ExecuteTime": {
     "end_time": "2021-10-08T17:48:01.793476Z",
     "start_time": "2021-10-08T17:48:01.702617Z"
    }
   },
   "outputs": [
    {
     "name": "stdout",
     "output_type": "stream",
     "text": [
      "Age:  201\n"
     ]
    }
   ],
   "source": [
    "# Example 4: \n",
    "\n",
    "def calculate_age (birth_year,current_year = 2022):\n",
    "    age = current_year - birth_year\n",
    "    return age;\n",
    "print('Age: ', calculate_age(1821))"
   ]
  },
  {
   "cell_type": "code",
   "execution_count": 19,
   "metadata": {
    "ExecuteTime": {
     "end_time": "2021-10-08T17:48:01.900373Z",
     "start_time": "2021-10-08T17:48:01.797831Z"
    }
   },
   "outputs": [
    {
     "name": "stdout",
     "output_type": "stream",
     "text": [
      "value of x is before swap: 6\n",
      "value of y is before swap: 9\n",
      "value of x is: 9\n",
      "value of y is: 6\n"
     ]
    }
   ],
   "source": [
    "# Example 5: \n",
    "\n",
    "def swap(x, y):\n",
    "    \"\"\"\n",
    "    This function swaps the value of two variables\n",
    "    \"\"\"\n",
    "    temp = x;  # value of x will go inside temp\n",
    "    x = y;     # value of y will go inside x\n",
    "    y = temp;  # value of temp will go inside y\n",
    "    print(\"value of x is:\", x)\n",
    "    print(\"value of y is:\", y)\n",
    "    return     # \"return\" is optional\n",
    "\n",
    "x = 6\n",
    "y = 9\n",
    "print(\"value of x is before swap:\", x)\n",
    "print(\"value of y is before swap:\", y)\n",
    "swap(x, y)     #call function"
   ]
  },
  {
   "cell_type": "code",
   "execution_count": 21,
   "metadata": {
    "ExecuteTime": {
     "end_time": "2021-10-08T17:48:02.023908Z",
     "start_time": "2021-10-08T17:48:01.903301Z"
    }
   },
   "outputs": [
    {
     "name": "stdout",
     "output_type": "stream",
     "text": [
      "4 is a Even number\n"
     ]
    }
   ],
   "source": [
    "# Example 6: \n",
    "\n",
    "def even_odd(n):    \n",
    "    if n % 2 == 0:   # check number is even or odd\n",
    "        print(n, 'is a Even number')\n",
    "    else:\n",
    "        print(n, 'is a Odd Number')\n",
    "\n",
    "even_odd(4)   # calling function by its name"
   ]
  },
  {
   "cell_type": "code",
   "execution_count": 22,
   "metadata": {
    "ExecuteTime": {
     "end_time": "2021-10-08T17:48:02.147933Z",
     "start_time": "2021-10-08T17:48:02.026837Z"
    }
   },
   "outputs": [
    {
     "name": "stdout",
     "output_type": "stream",
     "text": [
      "Weight of an object in Newtons:  981.0 N\n",
      "Weight of an object in Newtons:  162.0 N\n"
     ]
    }
   ],
   "source": [
    "# Example 7: \n",
    "\n",
    "def weight_of_object (mass, gravity = 9.81):\n",
    "    weight = str(mass * gravity)+ ' N' # the value has to be changed to string first\n",
    "    return weight\n",
    "print('Weight of an object in Newtons: ', weight_of_object(100)) # 9.81 - average gravity on Earth's surface\n",
    "print('Weight of an object in Newtons: ', weight_of_object(100, 1.62)) # gravity on the surface of the Moon"
   ]
  },
  {
   "cell_type": "markdown",
   "metadata": {},
   "source": [
    "## 💻 Exercises ➞ <span class='label label-default'>Functions</span>\n",
    "\n",
    "### Exercises ➞ <span class='label label-default'>Level 1</span>\n",
    "\n",
    "1. Area of a circle is calculated as follows: **area = π x r x r** and **perimeter = 2 x π x r**. Write a function that calculates **`area_of_circle`** and **`perimeter_of_circle`**.\n",
    "2. Write a function called **`add_all_nums`** which takes arbitrary number of arguments and sums all the arguments. Check if all the list items are number types. If not do give a reasonable feedback.\n",
    "3. Temperature in **°C** can be converted to **°F** using this formula: **°F = (°C x 9/5) + 32**. Write a function which converts **°C to °F**, **`convert_celsius_2_fahrenheit`**.\n",
    "4. Write a function called **`check_season`**, it takes a month parameter and returns the season: Autumn, Winter, Spring or Summer.\n",
    "5. Write a function called **`calculate_slope`** which return the slope of a linear equation\n",
    "6. Quadratic equation is calculated as follows: **ax² + bx + c = 0**. Write a function which calculates solution set of a quadratic equation, **`solve_quadratic_eqn`**.\n",
    "7. Declare a function named **`print_list`**. It takes a list as a parameter and it prints out each element of the list.\n",
    "8. Declare a function named **`reverse_list`**. It takes an array as a parameter and it returns the reverse of the array (use loops).\n",
    "\n",
    "    - ```py\n",
    "print(reverse_list([1, 2, 3, 4, 5]))\n",
    "#[5, 4, 3, 2, 1]\n",
    "print(reverse_list1([\"A\", \"B\", \"C\"]))\n",
    "#[\"C\", \"B\", \"A\"]\n",
    "    ```\n",
    "\n",
    "9. Declare a function named **`capitalize_list_items`**. It takes a list as a parameter and it returns a capitalized list of items\n",
    "10. Declare a function named **`add_item`**. It takes a list and an item parameters. It returns a list with the item added at the end.\n",
    "\n",
    "    - ```py\n",
    "food_staff = ['Potato', 'Tomato', 'Mango', 'Milk']\n",
    "print(add_item(food_staff, 'Fungi'))  #['Potato', 'Tomato', 'Mango', 'Milk', 'Fungi']\n",
    "numbers = [2, 3, 7, 9]\n",
    "print(add_item(numbers, 5))      #[2, 3, 7, 9, 5]\n",
    "    ```\n",
    "\n",
    "11. Declare a function named **`remove_item`**. It takes a list and an item parameters. It returns a list with the item removed from it.\n",
    "\n",
    "    - ```py\n",
    "food_staff = ['Potato', 'Tomato', 'Mango', 'Milk']\n",
    "print(remove_item(food_staff, 'Mango'))  # ['Potato', 'Tomato', 'Milk']\n",
    "numbers = [2, 3, 7, 9]\n",
    "print(remove_item(numbers, 3))  # [2, 7, 9]\n",
    "    ```\n",
    "\n",
    "12. Declare a function named **`sum_of_numbers`**. It takes a number parameter and it adds all the numbers in that range.\n",
    "\n",
    "    - ```py\n",
    "print(sum_of_numbers(5))  # 15\n",
    "print(sum_all_numbers(10)) # 55\n",
    "print(sum_all_numbers(100)) # 5050\n",
    "     ```\n",
    "\n",
    "13. Declare a function named **`sum_of_odds`**. It takes a number parameter and it adds all the odd numbers in that range.\n",
    "14. Declare a function named **`sum_of_even`**. It takes a number parameter and it adds all the even numbers in that - range.\n",
    "\n",
    "### Exercises ➞ <span class='label label-default'>Level 2</span>\n",
    "\n",
    "1.  Declare a function named **`evens_and_odds`**. It takes a positive integer as parameter and it counts number of evens and odds in the number.\n",
    "\n",
    "    - ```py\n",
    "    print(evens_and_odds(100))\n",
    "    #The number of odds are 50.\n",
    "    #The number of evens are 51.\n",
    "    ```\n",
    "\n",
    "2. Call your function **`factorial`**, it takes a whole number as a parameter and it return a factorial of the number\n",
    "3. Call your function **`is_empty`**, it takes a parameter and it checks if it is empty or not\n",
    "4. Write different functions which take lists. They should **`calculate_mean`**, **`calculate_median`**, **`calculate_mode`**, **`calculate_range`**, **`calculate_variance`**, **`calculate_std`** (standard deviation).\n",
    "\n",
    "### Exercises ➞ <span class='label label-default'>Level 3</span>\n",
    "\n",
    "1. Write a function called **`is_prime`**, which checks if a number is prime.\n",
    "2. Write a functions which checks if all items are unique in the list.\n",
    "3. Write a function which checks if all the items of the list are of the same data type.\n",
    "4. Write a function which check if provided variable is a valid python variable\n",
    "5. Go to the data folder and access the **countries-data.py** file.\n",
    "\n",
    "- Create a function called the **`most_spoken_languages`** in the world. It should return 10 or 20 most spoken languages in the world in descending order\n",
    "- Create a function called the **`most_populated_countries`**. It should return 10 or 20 most populated countries in descending order."
   ]
  },
  {
   "cell_type": "code",
   "execution_count": null,
   "metadata": {},
   "outputs": [],
   "source": []
  }
 ],
 "metadata": {
  "gist": {
   "data": {
    "description": "01_Learn_Python4Data/04_Python_Functions/001_Python_Functions.ipynb",
    "public": true
   },
   "id": ""
  },
  "hide_input": false,
  "kernelspec": {
   "display_name": "Python 3 (ipykernel)",
   "language": "python",
   "name": "python3"
  },
  "language_info": {
   "codemirror_mode": {
    "name": "ipython",
    "version": 3
   },
   "file_extension": ".py",
   "mimetype": "text/x-python",
   "name": "python",
   "nbconvert_exporter": "python",
   "pygments_lexer": "ipython3",
   "version": "3.9.7"
  },
  "toc": {
   "base_numbering": 1,
   "nav_menu": {},
   "number_sections": true,
   "sideBar": true,
   "skip_h1_title": false,
   "title_cell": "Table of Contents",
   "title_sidebar": "Contents",
   "toc_cell": false,
   "toc_position": {},
   "toc_section_display": true,
   "toc_window_display": false
  },
  "varInspector": {
   "cols": {
    "lenName": 16,
    "lenType": 16,
    "lenVar": 40
   },
   "kernels_config": {
    "python": {
     "delete_cmd_postfix": "",
     "delete_cmd_prefix": "del ",
     "library": "var_list.py",
     "varRefreshCmd": "print(var_dic_list())"
    },
    "r": {
     "delete_cmd_postfix": ") ",
     "delete_cmd_prefix": "rm(",
     "library": "var_list.r",
     "varRefreshCmd": "cat(var_dic_list()) "
    }
   },
   "types_to_exclude": [
    "module",
    "function",
    "builtin_function_or_method",
    "instance",
    "_Feature"
   ],
   "window_display": false
  }
 },
 "nbformat": 4,
 "nbformat_minor": 2
}
