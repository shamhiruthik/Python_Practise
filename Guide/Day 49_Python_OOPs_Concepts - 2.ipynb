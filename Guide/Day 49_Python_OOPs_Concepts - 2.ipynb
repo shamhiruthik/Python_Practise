{
 "cells": [
  {
   "cell_type": "markdown",
   "metadata": {},
   "source": [
    "# Python OOPs Concepts\n",
    "\n",
    "In this session, you’ll learn about Object-Oriented Programming (OOP) in Python and its fundamental concept with the help of examples."
   ]
  },
  {
   "cell_type": "markdown",
   "metadata": {},
   "source": [
    "## Inheritance\n",
    "\n",
    "\n",
    "\n",
    "### Use of inheritance\n",
    "\n",
    "\n",
    "**Syntax:**\n",
    "\n",
    "```python\n",
    "class BaseClass:\n",
    "    Body of base class\n",
    "class DerivedClass(BaseClass):\n",
    "    Body of derived class\n",
    "```"
   ]
  },
  {
   "cell_type": "code",
   "execution_count": 1,
   "metadata": {
    "ExecuteTime": {
     "end_time": "2021-06-19T09:00:24.847816Z",
     "start_time": "2021-06-19T09:00:24.835121Z"
    }
   },
   "outputs": [
    {
     "name": "stdout",
     "output_type": "stream",
     "text": [
      "This is Parent class\n",
      "This is Child class\n"
     ]
    }
   ],
   "source": [
    "# Example 1: Use of Inheritance in Python\n",
    "\n",
    "class ClassOne:              # Base class\n",
    "    def func1(self):\n",
    "        print('This is Parent class')\n",
    "\n",
    "class ClassTwo(ClassOne):    # Derived class\n",
    "    def func2(self):\n",
    "        print('This is Child class')\n",
    "\n",
    "obj = ClassTwo()\n",
    "obj.func1()\n",
    "obj.func2()"
   ]
  },
  {
   "cell_type": "markdown",
   "metadata": {},
   "source": [
    "Let us create a student class by inheriting from **`Person`** class."
   ]
  },
  {
   "cell_type": "code",
   "execution_count": 5,
   "metadata": {},
   "outputs": [
    {
     "name": "stdout",
     "output_type": "stream",
     "text": [
      "Ajantha Devi is 96 years old. He lives in Chennai, India.\n",
      "['Python', 'MATLAB', 'R']\n",
      "Ben Doe is 30 years old. He lives in Tampere, Finland.\n",
      "['Python', 'MATLAB', 'R']\n"
     ]
    }
   ],
   "source": [
    "class Person:\n",
    "      def __init__(self, firstname='Ajantha', lastname='Devi', age=96, country='India', city='Chennai'):\n",
    "            self.firstname = firstname\n",
    "            self.lastname = lastname\n",
    "            self.age = age\n",
    "            self.country = country\n",
    "            self.city = city\n",
    "            self.skills = []\n",
    "\n",
    "      def person_info(self):\n",
    "        return f'{self.firstname} {self.lastname} is {self.age} years old. He lives in {self.city}, {self.country}.'\n",
    "      def add_skill(self, skill):\n",
    "            self.skills.append(skill)\n",
    "\n",
    "p1 = Person()\n",
    "print(p1.person_info())\n",
    "p1.add_skill('Python')\n",
    "p1.add_skill('MATLAB')\n",
    "p1.add_skill('R')\n",
    "print(p1.skills)\n",
    "p2 = Person('Ben', 'Doe', 30, 'Finland', 'Tampere')\n",
    "print(p2.person_info())\n",
    "p2.add_skill('Python')\n",
    "p2.add_skill('MATLAB')\n",
    "p2.add_skill('R')\n",
    "\n",
    "print(p2.skills)"
   ]
  },
  {
   "cell_type": "code",
   "execution_count": 6,
   "metadata": {
    "scrolled": true
   },
   "outputs": [
    {
     "name": "stdout",
     "output_type": "stream",
     "text": [
      "Arthur Curry is 33 years old. He lives in London, England.\n",
      "['HTML', 'CSS', 'JavaScript']\n",
      "Emily Carter is 28 years old. He lives in Manchester, England.\n",
      "['Organizing', 'Marketing', 'Digital Marketing']\n"
     ]
    }
   ],
   "source": [
    "# Example 2: Use of Inheritance in Python\n",
    "\n",
    "class Student(Person):\n",
    "    pass\n",
    "\n",
    "s1 = Student('Arthur', 'Curry', 33, 'England', 'London')\n",
    "s2 = Student('Emily', 'Carter', 28, 'England', 'Manchester')\n",
    "print(s1.person_info())\n",
    "s1.add_skill('HTML')\n",
    "s1.add_skill('CSS')\n",
    "s1.add_skill('JavaScript')\n",
    "print(s1.skills)\n",
    "\n",
    "print(s2.person_info())\n",
    "s2.add_skill('Organizing')\n",
    "s2.add_skill('Marketing')\n",
    "s2.add_skill('Digital Marketing')\n",
    "print(s2.skills)"
   ]
  },
  {
   "cell_type": "markdown",
   "metadata": {},
   "source": [
    "### Overriding parent method"
   ]
  },
  {
   "cell_type": "code",
   "execution_count": 7,
   "metadata": {},
   "outputs": [
    {
     "name": "stdout",
     "output_type": "stream",
     "text": [
      "Arthur Curry is 33 years old. He lives in London, England.\n",
      "['HTML', 'CSS', 'JavaScript']\n",
      "Emily Carter is 28 years old. She lives in Manchester, England.\n",
      "['Organizing', 'Marketing', 'Digital Marketing']\n"
     ]
    }
   ],
   "source": [
    "# Example 2: Overriding parent method from above example\n",
    "\n",
    "class Student(Person):\n",
    "    def __init__ (self, firstname='Milaan', lastname='Parmar',age=96, country='England', city='London', gender='male'):\n",
    "        self.gender = gender\n",
    "        super().__init__(firstname, lastname,age, country, city)\n",
    "        \n",
    "    def person_info(self):\n",
    "        gender = 'He' if self.gender =='male' else 'She'\n",
    "        return f'{self.firstname} {self.lastname} is {self.age} years old. {gender} lives in {self.city}, {self.country}.'\n",
    "\n",
    "s1 = Student('Arthur', 'Curry', 33, 'England', 'London','male')\n",
    "s2 = Student('Emily', 'Carter', 28, 'England', 'Manchester','female')\n",
    "print(s1.person_info())\n",
    "s1.add_skill('HTML')\n",
    "s1.add_skill('CSS')\n",
    "s1.add_skill('JavaScript')\n",
    "print(s1.skills)\n",
    "\n",
    "print(s2.person_info())\n",
    "s2.add_skill('Organizing')\n",
    "s2.add_skill('Marketing')\n",
    "s2.add_skill('Digital Marketing')\n",
    "print(s2.skills)"
   ]
  },
  {
   "cell_type": "code",
   "execution_count": 8,
   "metadata": {
    "ExecuteTime": {
     "end_time": "2021-06-19T09:00:23.526541Z",
     "start_time": "2021-06-19T09:00:23.515798Z"
    }
   },
   "outputs": [
    {
     "name": "stdout",
     "output_type": "stream",
     "text": [
      "Bird is ready\n",
      "Penguin is ready\n",
      "Penguin\n",
      "Swim faster\n",
      "Run faster\n"
     ]
    }
   ],
   "source": [
    "# Example 3: Use of Inheritance in Python\n",
    "\n",
    "# parent class\n",
    "class Bird:   \n",
    "    def __init__(self):\n",
    "        print(\"Bird is ready\")\n",
    "\n",
    "    def whoisThis(self):\n",
    "        print(\"Bird\")\n",
    "\n",
    "    def swim(self):\n",
    "        print(\"Swim faster\")\n",
    "\n",
    "# child class\n",
    "class Penguin(Bird):\n",
    "    def __init__(self):\n",
    "        # call super() function\n",
    "        super().__init__()\n",
    "        print(\"Penguin is ready\")\n",
    "\n",
    "    def whoisThis(self):\n",
    "        print(\"Penguin\")\n",
    "\n",
    "    def run(self):\n",
    "        print(\"Run faster\")\n",
    "\n",
    "peggy = Penguin()\n",
    "peggy.whoisThis()\n",
    "peggy.swim()\n",
    "peggy.run()"
   ]
  },
  {
   "cell_type": "markdown",
   "metadata": {},
   "source": [
    "## Encapsulation\n",
    "\n",
    "\n",
    "<div>\n",
    "<img src=\"img/encap.png\" width=\"300\"/>\n",
    "</div>\n",
    "\n",
    "\n",
    "### Need of Encapsulation\n",
    "\n"
   ]
  },
  {
   "cell_type": "code",
   "execution_count": 9,
   "metadata": {
    "ExecuteTime": {
     "end_time": "2021-06-19T09:00:15.687261Z",
     "start_time": "2021-06-19T09:00:15.666758Z"
    }
   },
   "outputs": [
    {
     "name": "stdout",
     "output_type": "stream",
     "text": [
      "Selling Price: 900\n",
      "Selling Price: 900\n",
      "Selling Price: 1000\n"
     ]
    }
   ],
   "source": [
    "# Example 1: Data Encapsulation in Python\n",
    "\n",
    "class Computer:\n",
    "\n",
    "    def __init__(self):\n",
    "        self.__maxprice = 900\n",
    "\n",
    "    def sell(self):\n",
    "        print(\"Selling Price: {}\".format(self.__maxprice))\n",
    "\n",
    "    def setMaxPrice(self, price):\n",
    "        self.__maxprice = price\n",
    "\n",
    "c = Computer()\n",
    "c.sell()\n",
    "\n",
    "# change the price\n",
    "c.__maxprice = 1000\n",
    "c.sell()\n",
    "\n",
    "# using setter function\n",
    "c.setMaxPrice(1000)\n",
    "c.sell()"
   ]
  },
  {
   "cell_type": "code",
   "execution_count": 10,
   "metadata": {
    "ExecuteTime": {
     "end_time": "2021-06-19T09:00:17.520737Z",
     "start_time": "2021-06-19T09:00:17.211663Z"
    },
    "scrolled": false
   },
   "outputs": [
    {
     "ename": "AttributeError",
     "evalue": "'Employee' object has no attribute 'PrintName'",
     "output_type": "error",
     "traceback": [
      "\u001b[1;31m---------------------------------------------------------------------------\u001b[0m",
      "\u001b[1;31mAttributeError\u001b[0m                            Traceback (most recent call last)",
      "\u001b[1;32m~\\AppData\\Local\\Temp/ipykernel_14248/1737361268.py\u001b[0m in \u001b[0;36m<module>\u001b[1;34m\u001b[0m\n\u001b[0;32m     11\u001b[0m \u001b[1;31m# Outside class\u001b[0m\u001b[1;33m\u001b[0m\u001b[1;33m\u001b[0m\u001b[0m\n\u001b[0;32m     12\u001b[0m \u001b[0mE\u001b[0m \u001b[1;33m=\u001b[0m \u001b[0mEmployee\u001b[0m\u001b[1;33m(\u001b[0m\u001b[1;34m\"Bella\"\u001b[0m\u001b[1;33m,\u001b[0m \u001b[1;36m60000\u001b[0m\u001b[1;33m)\u001b[0m\u001b[1;33m\u001b[0m\u001b[1;33m\u001b[0m\u001b[0m\n\u001b[1;32m---> 13\u001b[1;33m \u001b[0mE\u001b[0m\u001b[1;33m.\u001b[0m\u001b[0mPrintName\u001b[0m\u001b[1;33m(\u001b[0m\u001b[1;33m)\u001b[0m\u001b[1;33m\u001b[0m\u001b[1;33m\u001b[0m\u001b[0m\n\u001b[0m\u001b[0;32m     14\u001b[0m \u001b[0mprint\u001b[0m\u001b[1;33m(\u001b[0m\u001b[0mE\u001b[0m\u001b[1;33m.\u001b[0m\u001b[0mname\u001b[0m\u001b[1;33m)\u001b[0m\u001b[1;33m\u001b[0m\u001b[1;33m\u001b[0m\u001b[0m\n\u001b[0;32m     15\u001b[0m \u001b[0mprint\u001b[0m\u001b[1;33m(\u001b[0m\u001b[0mE\u001b[0m\u001b[1;33m.\u001b[0m\u001b[0mPrintName\u001b[0m\u001b[1;33m(\u001b[0m\u001b[1;33m)\u001b[0m\u001b[1;33m)\u001b[0m\u001b[1;33m\u001b[0m\u001b[1;33m\u001b[0m\u001b[0m\n",
      "\u001b[1;31mAttributeError\u001b[0m: 'Employee' object has no attribute 'PrintName'"
     ]
    }
   ],
   "source": [
    "# Example 2: Data Encapsulation in Python\n",
    "\n",
    "class Employee:\n",
    "    def __init__(self, name, salary):\n",
    "        self.name = name\n",
    "        self.__salary = salary\n",
    "\n",
    "    def show(self):\n",
    "        print(\"Name is \", self.name, \"and salary is\", self.__salary)\n",
    "\n",
    "# Outside class\n",
    "E = Employee(\"Bella\", 60000)\n",
    "E.PrintName()\n",
    "print(E.name)\n",
    "print(E.PrintName())\n",
    "print(E.__salary)\n",
    "\n",
    "# AttributeError: 'Employee' object has no attribute '__salary'"
   ]
  },
  {
   "cell_type": "markdown",
   "metadata": {},
   "source": [
    "## Polymorphism\n",
    "\n",
    "Polymorphism is based on the greek words **Poly** (many) and **morphism** (forms). We will create a structure that can take or use many forms of objects.\n",
    "\n",
    "Polymorphism is an ability (in OOP) to use a common interface for multiple forms (data types).\n",
    "\n",
    "**Example 1:** The student can act as a student in college, act as a player on the ground, and as a daughter/brother in the home. \n",
    "\n",
    "**Example 2:** In the programming language, the **`+`** operator, acts as a concatenation and arithmetic addition.\n",
    "\n",
    "**Example 3:** If we need to color a shape, there are multiple shape options (rectangle, square, circle). However we could use the same method to color any shape. \n",
    "\n",
    "<div>\n",
    "<img src=\"img/polymor.png\" width=\"400\"/>\n",
    "</div>\n",
    "\n",
    "In Python, polymorphism allows us to define the child class methods with the same name as defined in the parent class."
   ]
  },
  {
   "cell_type": "code",
   "execution_count": 11,
   "metadata": {
    "ExecuteTime": {
     "end_time": "2021-06-19T09:00:20.204307Z",
     "start_time": "2021-06-19T09:00:20.187708Z"
    }
   },
   "outputs": [
    {
     "name": "stdout",
     "output_type": "stream",
     "text": [
      "Parrot can fly\n",
      "Penguin can't fly\n"
     ]
    }
   ],
   "source": [
    "# Example 1: Using Polymorphism in Python\n",
    "\n",
    "class Parrot:\n",
    "    def fly(self):\n",
    "        print(\"Parrot can fly\")\n",
    "    \n",
    "    def swim(self):\n",
    "        print(\"Parrot can't swim\")\n",
    "\n",
    "class Penguin:\n",
    "    def fly(self):\n",
    "        print(\"Penguin can't fly\")\n",
    "    \n",
    "    def swim(self):\n",
    "        print(\"Penguin can swim\")\n",
    "\n",
    "# common interface\n",
    "def flying_test(bird):\n",
    "    bird.fly()\n",
    "\n",
    "#instantiate objects\n",
    "blu = Parrot()\n",
    "peggy = Penguin()\n",
    "\n",
    "# passing the object\n",
    "flying_test(blu)\n",
    "flying_test(peggy)"
   ]
  },
  {
   "cell_type": "code",
   "execution_count": 12,
   "metadata": {
    "ExecuteTime": {
     "end_time": "2021-06-19T09:00:21.662302Z",
     "start_time": "2021-06-19T09:00:21.639840Z"
    },
    "scrolled": true
   },
   "outputs": [
    {
     "name": "stdout",
     "output_type": "stream",
     "text": [
      "Area of circle: 254.34\n",
      "Area of Rectangle: 54\n"
     ]
    }
   ],
   "source": [
    "# Example 2: Using Polymorphism in Python\n",
    "\n",
    "class Circle:\n",
    "    pi = 3.14\n",
    "\n",
    "    def __init__(self, redius):\n",
    "        self.radius = redius\n",
    "\n",
    "    def calculate_area(self):\n",
    "        print(\"Area of circle:\", self.pi * self.radius * self.radius)\n",
    "\n",
    "class Rectangle:\n",
    "    def __init__(self, length, width):\n",
    "        self.length = length\n",
    "        self.width = width\n",
    "\n",
    "    def calculate_area(self):\n",
    "        print(\"Area of Rectangle:\", self.length * self.width)\n",
    "\n",
    "cir = Circle(9)\n",
    "rect = Rectangle(9, 6)\n",
    "cir.calculate_area()   # Output Area of circle: 254.34\n",
    "\n",
    "rect.calculate_area()  # Output Area od Rectangle: 54"
   ]
  },
  {
   "cell_type": "markdown",
   "metadata": {},
   "source": [
    "## Key Points to Remember:\n",
    "* Object-Oriented Programming makes the program easy to understand as well as efficient.\n",
    "* Since the class is sharable, the code can be reused.\n",
    "* Data is safe and secure with data abstraction.\n",
    "* Polymorphism allows the same interface for different objects, so programmers can write efficient code."
   ]
  },
  {
   "cell_type": "markdown",
   "metadata": {},
   "source": [
    "## 💻 Exercises ➞ <span class='label label-default'>Objects and Classes</span>\n",
    "\n",
    "### Exercises ➞ <span class='label label-default'>Level 1</span>\n",
    "\n",
    "1. Python has the module called **`statistics`** and we can use this module to do all the statistical calculations. However, to learn how to make function and reuse function let us try to develop a program, which calculates the measure of central tendency of a sample (**`mean`**, **`median`**, **`mode`**) and measure of variability (**`range`**, **`variance`**, **`standard deviation`**). In addition to those measures, find the **`min`**, **`max`**, **`count`**, **`percentile`**, and **`frequency distribution`** of the sample. You can create a class called **`statistics`** and create all the functions that do statistical calculations as methods for the **`statistics`** class. Check the output below.\n",
    "\n",
    "    - ```python\n",
    "ages = [31, 26, 34, 37, 27, 26, 32, 32, 26, 27, 27, 24, 32, 33, 27, 25, 26, 38, 37, 31, 34, 24, 33, 29, 26]\n",
    "print('Count:', data.count()) # 25\n",
    "print('Sum: ', data.sum()) # 744\n",
    "print('Min: ', data.min()) # 24\n",
    "print('Max: ', data.max()) # 38\n",
    "print('Range: ', data.range() # 14\n",
    "print('Mean: ', data.mean()) # 30\n",
    "print('Median: ', data.median()) # 29\n",
    "print('Mode: ', data.mode()) # {'mode': 26, 'count': 5}\n",
    "print('Standard Deviation: ', data.std()) # 4.2\n",
    "print('Variance: ', data.var()) # 17.5\n",
    "print('Frequency Distribution: ', data.freq_dist()) # [(20.0, 26), (16.0, 27), (12.0, 32), (8.0, 37), (8.0, 34), (8.0, 33), (8.0, 31), (8.0, 24), (4.0, 38), (4.0, 29), (4.0, 25)]\n",
    "    ```\n",
    "\n",
    "    -```sh\n",
    "# you output should look like this:\n",
    "print(data.describe())\n",
    "Count: 25\n",
    "Sum:  744\n",
    "Min:  24\n",
    "Max:  38\n",
    "Range:  14\n",
    "Mean:  30\n",
    "Median:  29\n",
    "Mode:  (26, 5)\n",
    "Variance:  17.5\n",
    "Standard Deviation:  4.2\n",
    "Frequency Distribution: [(20.0, 26), (16.0, 27), (12.0, 32), (8.0, 37), (8.0, 34), (8.0, 33), (8.0, 31), (8.0, 24), (4.0, 38), (4.0, 29), (4.0, 25)]\n",
    "    ``` \n",
    "\n",
    "\n",
    "### Exercises ➞ <span class='label label-default'>Level 2</span>\n",
    "\n",
    "1. Create a class called **`PersonAccount`**. It has **`firstname`**, **`lastname`**, **`incomes`**, **`expenses`** properties and it has **`total_income`**, **`total_expense`**, **`account_info`**, **`add_income`**, **`add_expense`** and **`account_balance`** methods. Incomes is a set of incomes and its description. The same goes for expenses."
   ]
  },
  {
   "cell_type": "code",
   "execution_count": null,
   "metadata": {},
   "outputs": [],
   "source": []
  }
 ],
 "metadata": {
  "hide_input": false,
  "kernelspec": {
   "display_name": "Python 3 (ipykernel)",
   "language": "python",
   "name": "python3"
  },
  "language_info": {
   "codemirror_mode": {
    "name": "ipython",
    "version": 3
   },
   "file_extension": ".py",
   "mimetype": "text/x-python",
   "name": "python",
   "nbconvert_exporter": "python",
   "pygments_lexer": "ipython3",
   "version": "3.9.7"
  },
  "toc": {
   "base_numbering": 1,
   "nav_menu": {},
   "number_sections": true,
   "sideBar": true,
   "skip_h1_title": false,
   "title_cell": "Table of Contents",
   "title_sidebar": "Contents",
   "toc_cell": false,
   "toc_position": {},
   "toc_section_display": true,
   "toc_window_display": false
  },
  "varInspector": {
   "cols": {
    "lenName": 16,
    "lenType": 16,
    "lenVar": 40
   },
   "kernels_config": {
    "python": {
     "delete_cmd_postfix": "",
     "delete_cmd_prefix": "del ",
     "library": "var_list.py",
     "varRefreshCmd": "print(var_dic_list())"
    },
    "r": {
     "delete_cmd_postfix": ") ",
     "delete_cmd_prefix": "rm(",
     "library": "var_list.r",
     "varRefreshCmd": "cat(var_dic_list()) "
    }
   },
   "types_to_exclude": [
    "module",
    "function",
    "builtin_function_or_method",
    "instance",
    "_Feature"
   ],
   "window_display": false
  }
 },
 "nbformat": 4,
 "nbformat_minor": 2
}
