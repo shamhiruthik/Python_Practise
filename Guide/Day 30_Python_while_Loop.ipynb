{
 "cells": [
  {
   "cell_type": "markdown",
   "metadata": {},
   "source": [
    "# Loops in Python\n",
    "\n",
    "\n",
    "<div>\n",
    "<img src=\"img/loop1.png\" width=\"200\"/>\n",
    "</div>"
   ]
  },
  {
   "cell_type": "markdown",
   "metadata": {},
   "source": [
    "# Python `while` Loop\n",
    "\n"
   ]
  },
  {
   "cell_type": "markdown",
   "metadata": {},
   "source": [
    "## Why and When to use `while` loop in Python\n",
    "\n"
   ]
  },
  {
   "cell_type": "markdown",
   "metadata": {},
   "source": [
    "### Syntax: \n",
    "\n",
    "```python\n",
    "while condition:\n",
    "    body of while loop\n",
    "```\n",
    "\n",
    "\n",
    "<div>\n",
    "<img src=\"img/wh0.png\" width=\"400\"/>\n",
    "</div>\n",
    "\n"
   ]
  },
  {
   "cell_type": "code",
   "execution_count": 1,
   "metadata": {
    "ExecuteTime": {
     "end_time": "2021-10-04T12:15:18.052046Z",
     "start_time": "2021-10-04T12:15:18.041303Z"
    }
   },
   "outputs": [
    {
     "name": "stdout",
     "output_type": "stream",
     "text": [
      "1\n",
      "2\n",
      "3\n",
      "4\n"
     ]
    }
   ],
   "source": [
    "# Example 1: Print numbers less than 5\n",
    "\n",
    "count = 1\n",
    "# run loop till count is less than 5\n",
    "while count < 5:\n",
    "    print(count)\n",
    "    count = count + 1"
   ]
  },
  {
   "cell_type": "code",
   "execution_count": 2,
   "metadata": {
    "ExecuteTime": {
     "end_time": "2021-10-04T12:15:18.175091Z",
     "start_time": "2021-10-04T12:15:18.059861Z"
    }
   },
   "outputs": [
    {
     "name": "stdout",
     "output_type": "stream",
     "text": [
      "Sum of first 10 number is: 55\n"
     ]
    }
   ],
   "source": [
    "# Example 2:\n",
    "\n",
    "num = 10\n",
    "sum = 0\n",
    "i = 1\n",
    "while i <= num:\n",
    "    sum = sum + i\n",
    "    i = i + 1\n",
    "print(\"Sum of first 10 number is:\", sum)"
   ]
  },
  {
   "cell_type": "code",
   "execution_count": 3,
   "metadata": {
    "ExecuteTime": {
     "end_time": "2021-10-04T12:15:18.297648Z",
     "start_time": "2021-10-04T12:15:18.178999Z"
    },
    "scrolled": false
   },
   "outputs": [
    {
     "name": "stdout",
     "output_type": "stream",
     "text": [
      "Value of a is 10\n",
      "Value of a is 8\n",
      "Value of a is 6\n",
      "Value of a is 4\n",
      "Value of a is 2\n",
      "Loop is Completed\n"
     ]
    }
   ],
   "source": [
    "# Example 3:\n",
    "\n",
    "a=10        # 'a' is my variable\n",
    "\n",
    "while a>0:  # Enter the body of while loop because condition is TRUE\n",
    "    print ((\"Value of a is\"),a)\n",
    "    a=a-2\n",
    "print (\"Loop is Completed\")"
   ]
  },
  {
   "cell_type": "code",
   "execution_count": 4,
   "metadata": {
    "ExecuteTime": {
     "end_time": "2021-10-04T12:15:18.406047Z",
     "start_time": "2021-10-04T12:15:18.307417Z"
    }
   },
   "outputs": [
    {
     "name": "stdout",
     "output_type": "stream",
     "text": [
      "9.999999999999998\n"
     ]
    }
   ],
   "source": [
    "# Example 4:\n",
    "\n",
    "n=153\n",
    "sum=0\n",
    "\n",
    "while n>0:\n",
    "    r=n%10   # r is the remainder of the division\n",
    "    sum+=r   # sum+=r is equal to sum = sum+r\n",
    "    n=n/10\n",
    "print (sum)"
   ]
  },
  {
   "cell_type": "code",
   "execution_count": 5,
   "metadata": {
    "ExecuteTime": {
     "end_time": "2021-10-04T12:15:18.559855Z",
     "start_time": "2021-10-04T12:15:18.409468Z"
    }
   },
   "outputs": [
    {
     "name": "stdout",
     "output_type": "stream",
     "text": [
      "Total iteration required 3\n"
     ]
    }
   ],
   "source": [
    "# Example 5: How many times a given number can be divided by 3 before it is less than or equal to 10.\n",
    "\n",
    "count = 0\n",
    "number = 180\n",
    "while number > 10:\n",
    "    # divide number by 3\n",
    "    number = number / 3\n",
    "    # increase count\n",
    "    count = count + 1\n",
    "print('Total iteration required', count)"
   ]
  },
  {
   "cell_type": "code",
   "execution_count": 6,
   "metadata": {
    "ExecuteTime": {
     "end_time": "2021-10-04T12:15:18.747846Z",
     "start_time": "2021-10-04T12:15:18.565720Z"
    },
    "scrolled": true
   },
   "outputs": [
    {
     "name": "stdout",
     "output_type": "stream",
     "text": [
      "The sum is 55\n"
     ]
    }
   ],
   "source": [
    "# Example 6: Program to add natural numbers up to sum = 1+2+3+...+n\n",
    "\n",
    "# To take input from the user, \n",
    "# n = int(input(\"Enter n: \"))\n",
    "\n",
    "n = 10\n",
    "\n",
    "# initialize sum and counter\n",
    "sum = 0\n",
    "i = 1\n",
    "\n",
    "while i <= n:\n",
    "    sum = sum + i\n",
    "    i = i+1    # update counter, i.e., the value of i will change from 1 to 2 in next iteration...\n",
    "\n",
    "# print the sum\n",
    "print(\"The sum is\", sum)"
   ]
  },
  {
   "cell_type": "code",
   "execution_count": 7,
   "metadata": {
    "ExecuteTime": {
     "end_time": "2021-10-04T12:15:18.913373Z",
     "start_time": "2021-10-04T12:15:18.751753Z"
    }
   },
   "outputs": [
    {
     "name": "stdout",
     "output_type": "stream",
     "text": [
      "1 1 2 3 5 8 13 21 34 55 89 144 233 377 610 987 \n"
     ]
    }
   ],
   "source": [
    "# Example 7: simple fibonacci series\n",
    "# the sum of two elements defines the next set\n",
    "\n",
    "a, b = 0, 1\n",
    "while b < 1000:\n",
    "    print(b, end = ' ', flush = True)\n",
    "    a, b = b, a + b\n",
    "\n",
    "print() # line ending"
   ]
  },
  {
   "cell_type": "markdown",
   "metadata": {},
   "source": [
    "## `while` loop with `if-else`\n",
    "\n"
   ]
  },
  {
   "cell_type": "code",
   "execution_count": 8,
   "metadata": {
    "ExecuteTime": {
     "end_time": "2021-10-04T12:15:26.656062Z",
     "start_time": "2021-10-04T12:15:18.916304Z"
    }
   },
   "outputs": [
    {
     "name": "stdout",
     "output_type": "stream",
     "text": [
      "Please Enter Number 9\n",
      "9 is a odd number\n",
      "8 is a even number\n",
      "7 is a odd number\n",
      "6 is a even number\n",
      "5 is a odd number\n",
      "4 is a even number\n",
      "3 is a odd number\n",
      "2 is a even number\n",
      "1 is a odd number\n"
     ]
    }
   ],
   "source": [
    "# Example 1: Print even and odd numbers between 1 to the entered number.\n",
    "\n",
    "n = int(input('Please Enter Number '))\n",
    "while n > 0:\n",
    "    # check even and odd\n",
    "    if n % 2 == 0:\n",
    "        print(n, 'is a even number')\n",
    "    else:\n",
    "        print(n, 'is a odd number')\n",
    "    # decrease number by 1 in each iteration\n",
    "    n = n - 1"
   ]
  },
  {
   "cell_type": "code",
   "execution_count": 9,
   "metadata": {
    "ExecuteTime": {
     "end_time": "2021-10-04T12:15:26.671686Z",
     "start_time": "2021-10-04T12:15:26.660944Z"
    },
    "scrolled": true
   },
   "outputs": [
    {
     "name": "stdout",
     "output_type": "stream",
     "text": [
      "1\n",
      "2\n",
      "9\n",
      "4\n",
      "25\n",
      "6\n",
      "49\n",
      "8\n",
      "81\n"
     ]
    }
   ],
   "source": [
    "# Example 2: printing the square of odd numbers less than n. \n",
    "\n",
    "n =10\n",
    "i = 1\n",
    "while i < n:\n",
    "    #if (i % 2 == 0): (for even numbers)\n",
    "    if (i % 2 != 0):\n",
    "        print(i ** 2)\n",
    "        i = i + 1\n",
    "    else:\n",
    "        print(i)\n",
    "        i = i + 1"
   ]
  },
  {
   "cell_type": "code",
   "execution_count": 10,
   "metadata": {
    "ExecuteTime": {
     "end_time": "2021-10-04T12:15:26.858208Z",
     "start_time": "2021-10-04T12:15:26.674614Z"
    }
   },
   "outputs": [
    {
     "name": "stdout",
     "output_type": "stream",
     "text": [
      "The sum is 30\n"
     ]
    }
   ],
   "source": [
    "# Example 3: Add all even numbers from 1 to 10 using while loop\n",
    "# 2+4+6+8+10\n",
    "\n",
    "# n = int(input(\"Please enter the maximum value: \"))\n",
    "n = 10\n",
    "\n",
    "sum = 0\n",
    "i = 1\n",
    "\n",
    "while i <= n:\n",
    "    if(i%2==0):\n",
    "        sum = sum + i\n",
    "#        sum += i\n",
    "    i = i+1\n",
    "    \n",
    "# print the sum\n",
    "print(\"The sum is\", sum)"
   ]
  },
  {
   "cell_type": "code",
   "execution_count": 11,
   "metadata": {
    "ExecuteTime": {
     "end_time": "2021-10-04T12:15:26.980277Z",
     "start_time": "2021-10-04T12:15:26.866021Z"
    },
    "code_folding": [],
    "scrolled": true
   },
   "outputs": [
    {
     "name": "stdout",
     "output_type": "stream",
     "text": [
      "17\n",
      "19\n",
      "23\n",
      "29\n",
      "31\n",
      "37\n",
      "41\n",
      "43\n",
      "47\n",
      "53\n",
      "The total sum is 340\n"
     ]
    }
   ],
   "source": [
    "# Example 4: Write a code to add all the prime numbers between 17 to 53 using while loop\n",
    "# 17, 19, 23, 29, 31, 37, 41, 43, 47, 53\n",
    "\n",
    "'''Method 1'''\n",
    "\n",
    "sum=0\n",
    "for i in range(17,54):\n",
    "    k=2\n",
    "    if i>=2:\n",
    "        while i % k!=0:\n",
    "            k+=1\n",
    "        if i==k:\n",
    "            sum += i\n",
    "            print(i)\n",
    "print(\"The total sum is\",sum)"
   ]
  },
  {
   "cell_type": "markdown",
   "metadata": {},
   "source": [
    "## `while` loop with `else`\n",
    "\n"
   ]
  },
  {
   "cell_type": "code",
   "execution_count": 12,
   "metadata": {
    "ExecuteTime": {
     "end_time": "2021-10-04T12:15:27.086726Z",
     "start_time": "2021-10-04T12:15:26.983211Z"
    },
    "scrolled": true
   },
   "outputs": [
    {
     "name": "stdout",
     "output_type": "stream",
     "text": [
      "0\n",
      "1\n",
      "2\n",
      "3\n",
      "4\n",
      "5\n"
     ]
    }
   ],
   "source": [
    "count = 0\n",
    "while count < 5:\n",
    "    print(count)\n",
    "    count = count + 1\n",
    "else:\n",
    "    print(count)"
   ]
  },
  {
   "cell_type": "code",
   "execution_count": 13,
   "metadata": {
    "ExecuteTime": {
     "end_time": "2021-10-04T12:15:27.224424Z",
     "start_time": "2021-10-04T12:15:27.091608Z"
    }
   },
   "outputs": [
    {
     "name": "stdout",
     "output_type": "stream",
     "text": [
      "1\n",
      "2\n",
      "3\n",
      "4\n",
      "5\n",
      "6\n",
      "Done. 'while loop' executed normally\n"
     ]
    }
   ],
   "source": [
    "# Example 1: Use while loop to print numbers from 1 to 6\n",
    "\n",
    "i = 1\n",
    "while i <= 6:\n",
    "    print(i)\n",
    "    i = i + 1\n",
    "else:\n",
    "    print(\"Done. 'while loop' executed normally\")"
   ]
  },
  {
   "cell_type": "code",
   "execution_count": 14,
   "metadata": {
    "ExecuteTime": {
     "end_time": "2021-10-04T12:15:27.378230Z",
     "start_time": "2021-10-04T12:15:27.231258Z"
    }
   },
   "outputs": [
    {
     "name": "stdout",
     "output_type": "stream",
     "text": [
      "1\n",
      "2\n",
      "3\n"
     ]
    }
   ],
   "source": [
    "# Example 2: Else block with break statement in a while loop.\n",
    "\n",
    "i = 1\n",
    "while i <= 6:\n",
    "    print(i)\n",
    "    if i == 3:\n",
    "        break\n",
    "    i = i + 1\n",
    "else:\n",
    "    print(\"Done. `while loop` executed normally\")"
   ]
  },
  {
   "cell_type": "code",
   "execution_count": 15,
   "metadata": {
    "ExecuteTime": {
     "end_time": "2021-10-04T12:15:27.503719Z",
     "start_time": "2021-10-04T12:15:27.383113Z"
    },
    "scrolled": true
   },
   "outputs": [
    {
     "name": "stdout",
     "output_type": "stream",
     "text": [
      "Inside while loop\n",
      "Inside while loop\n",
      "Inside while loop\n",
      "Inside else\n"
     ]
    }
   ],
   "source": [
    "# Example 3:\n",
    "'''Example to illustrate the use of else statement with the while loop'''\n",
    "\n",
    "counter = 0  # counter is my variable\n",
    "\n",
    "while counter < 3:\n",
    "    print(\"Inside while loop\")\n",
    "    counter = counter + 1  # increment the counter\n",
    "else:\n",
    "    print(\"Inside else\")"
   ]
  },
  {
   "cell_type": "code",
   "execution_count": 16,
   "metadata": {
    "ExecuteTime": {
     "end_time": "2021-10-04T12:15:34.325991Z",
     "start_time": "2021-10-04T12:15:27.507624Z"
    }
   },
   "outputs": [
    {
     "name": "stdout",
     "output_type": "stream",
     "text": [
      "Enter any number between 100 and 600 99\n",
      "Incorrect number, Please enter correct number:\n",
      "Enter a Number between 100 and 600 601\n",
      "Incorrect number, Please enter correct number:\n",
      "Enter a Number between 100 and 600 555\n",
      "Given Number is correct 555\n"
     ]
    }
   ],
   "source": [
    "# Example 4: we want a user to enter any number between 100 and 600\n",
    "\n",
    "number = int(input('Enter any number between 100 and 600 '))\n",
    "# number greater than 100 and less than 600\n",
    "while number < 100 or number > 600:\n",
    "    print('Incorrect number, Please enter correct number:')\n",
    "    number = int(input('Enter a Number between 100 and 600 '))\n",
    "else:\n",
    "    print(\"Given Number is correct\", number)"
   ]
  },
  {
   "cell_type": "markdown",
   "metadata": {},
   "source": [
    "## Reverse `while` loop\n",
    "\n"
   ]
  },
  {
   "cell_type": "code",
   "execution_count": 17,
   "metadata": {
    "ExecuteTime": {
     "end_time": "2021-10-04T12:15:52.550625Z",
     "start_time": "2021-10-04T12:15:52.539885Z"
    }
   },
   "outputs": [
    {
     "name": "stdout",
     "output_type": "stream",
     "text": [
      "10 9 8 7 6 5 4 3 2 1 0 "
     ]
    }
   ],
   "source": [
    "# Example 1: Reverse a while loop to display numbers from 10 to 1\n",
    "\n",
    "# reverse while loop\n",
    "i = 10\n",
    "while i >= 0:\n",
    "    print(i, end=' ')\n",
    "    i = i - 1"
   ]
  },
  {
   "cell_type": "markdown",
   "metadata": {},
   "source": [
    "## Nested `while` loops\n",
    "\n",
    "**Nested while loop** is a **`while`** loop inside another **`while`** a loop. \n",
    "\n",
    "\n",
    "**Syntax:**\n",
    "\n",
    "```python\n",
    "while expression:\n",
    "    while expression:\n",
    "        statement(s)\n",
    "    statement(s)\n",
    "```"
   ]
  },
  {
   "cell_type": "markdown",
   "metadata": {},
   "source": [
    "### `while` loop inside `while` loop"
   ]
  },
  {
   "cell_type": "code",
   "execution_count": 19,
   "metadata": {
    "ExecuteTime": {
     "end_time": "2021-10-04T12:15:53.847500Z",
     "start_time": "2021-10-04T12:15:53.826996Z"
    }
   },
   "outputs": [
    {
     "name": "stdout",
     "output_type": "stream",
     "text": [
      "12345678910\n",
      "12345678910\n",
      "12345678910\n",
      "12345678910\n",
      "12345678910\n"
     ]
    }
   ],
   "source": [
    "# Example: print the first 10 numbers on each line 5 times\n",
    "\n",
    "i = 1\n",
    "while i <= 5:\n",
    "    j = 1\n",
    "    while j <= 10:\n",
    "        print(j, end='')\n",
    "        j = j + 1\n",
    "    i = i + 1\n",
    "    print()"
   ]
  },
  {
   "cell_type": "markdown",
   "metadata": {},
   "source": [
    "#### Example: Nested `while` loop to print the pattern\n",
    "\n",
    "```python\n",
    "*\n",
    "* *\n",
    "* * *\n",
    "* * * *\n",
    "* * * * *\n",
    "```"
   ]
  },
  {
   "cell_type": "code",
   "execution_count": 20,
   "metadata": {
    "ExecuteTime": {
     "end_time": "2021-10-04T12:15:54.568693Z",
     "start_time": "2021-10-04T12:15:54.547213Z"
    }
   },
   "outputs": [
    {
     "name": "stdout",
     "output_type": "stream",
     "text": [
      "* \n",
      "* * \n",
      "* * * \n",
      "* * * * \n",
      "* * * * * \n"
     ]
    }
   ],
   "source": [
    "# Example 1: Method 1\n",
    "\n",
    "i = 1\n",
    "# outer while loop\n",
    "# 5 rows in pattern\n",
    "while i < 6:\n",
    "    j = 0\n",
    "    # nested while loop\n",
    "    while j < i:\n",
    "        print('*', end=' ')\n",
    "        j = j + 1\n",
    "    # end of nested while loop\n",
    "    # new line after each row\n",
    "    print('')\n",
    "    i = i + 1"
   ]
  },
  {
   "cell_type": "markdown",
   "metadata": {},
   "source": [
    "### `for` loop inside `while` loop\n",
    "\n",
    " "
   ]
  },
  {
   "cell_type": "code",
   "execution_count": 21,
   "metadata": {
    "ExecuteTime": {
     "end_time": "2021-10-04T12:15:55.309907Z",
     "start_time": "2021-10-04T12:15:55.290378Z"
    }
   },
   "outputs": [
    {
     "name": "stdout",
     "output_type": "stream",
     "text": [
      "* \n",
      "* * \n",
      "* * * \n",
      "* * * * \n",
      "* * * * * \n"
     ]
    }
   ],
   "source": [
    "# Example 1: Method 2\n",
    "\n",
    "i = 1\n",
    "# outer while loop\n",
    "while i < 6:\n",
    "    # nested for loop\n",
    "    for j in range(1, i + 1):\n",
    "        print(\"*\", end=\" \")\n",
    "    print('')\n",
    "    i = i + 1"
   ]
  },
  {
   "cell_type": "code",
   "execution_count": 22,
   "metadata": {
    "ExecuteTime": {
     "end_time": "2021-10-04T12:15:55.725921Z",
     "start_time": "2021-10-04T12:15:55.702486Z"
    },
    "scrolled": true
   },
   "outputs": [
    {
     "name": "stdout",
     "output_type": "stream",
     "text": [
      "17\n",
      "19\n",
      "23\n",
      "29\n",
      "31\n",
      "37\n",
      "41\n",
      "43\n",
      "47\n",
      "53\n",
      "The total sum is 340\n"
     ]
    }
   ],
   "source": [
    "# Example 2: Write a code to add all the prime numbers between 17 to 53 using while loop\n",
    "# 17, 19, 23, 29, 31, 37, 41, 43, 47, 53\n",
    "\n",
    "'''Method 1'''\n",
    "\n",
    "n=17\n",
    "sum=0\n",
    "while n<=53:\n",
    "    for i in range(2,n):\n",
    "        if(n % i)== 0: \n",
    "            break\n",
    "        else:\n",
    "            i=i+1\n",
    "    else:\n",
    "        sum=sum+n\n",
    "        print(n)\n",
    "    n=n+1\n",
    "print(\"The total sum is\",sum)"
   ]
  },
  {
   "cell_type": "code",
   "execution_count": 23,
   "metadata": {
    "ExecuteTime": {
     "end_time": "2021-10-04T12:15:56.062835Z",
     "start_time": "2021-10-04T12:15:56.043797Z"
    }
   },
   "outputs": [
    {
     "name": "stdout",
     "output_type": "stream",
     "text": [
      "Show Perfect number fom 1 to 100\n",
      "Perfect number: 6\n",
      "Perfect number: 28\n"
     ]
    }
   ],
   "source": [
    "# Example 3:\n",
    "\n",
    "print('Show Perfect number fom 1 to 100')\n",
    "n = 2\n",
    "\n",
    "while n <= 100:            # outer while loop\n",
    "    x_sum = 0    \n",
    "    for i in range(1, n):  # inner for loop\n",
    "        if n % i == 0:\n",
    "            x_sum += i\n",
    "    if x_sum == n:\n",
    "        print('Perfect number:', n)\n",
    "    n += 1"
   ]
  },
  {
   "cell_type": "markdown",
   "metadata": {},
   "source": [
    "## Iterate String using `while` loop\n"
   ]
  },
  {
   "cell_type": "code",
   "execution_count": 24,
   "metadata": {
    "ExecuteTime": {
     "end_time": "2021-10-04T12:15:56.695654Z",
     "start_time": "2021-10-04T12:15:56.675146Z"
    }
   },
   "outputs": [
    {
     "name": "stdout",
     "output_type": "stream",
     "text": [
      "A\n",
      "j\n",
      "a\n",
      "n\n"
     ]
    }
   ],
   "source": [
    "# Example 1: while loop to iterate string letter by letter\n",
    "\n",
    "name = \"Ajan\"\n",
    "i = 0\n",
    "res = len(name) - 1\n",
    "while i <= res:\n",
    "    print(name[i])\n",
    "    i = i + 1"
   ]
  },
  {
   "cell_type": "markdown",
   "metadata": {},
   "source": [
    "## Iterate List using `while` loop\n",
    "\n",
    "\n",
    "Below are the few examples of Python list.\n",
    "\n",
    "```python\n",
    ">>> numers = [1,2,4,6,7]\n",
    ">>> players = [\"Messi\", \"Ronaldo\", \"Neymar\"]\n",
    "```\n"
   ]
  },
  {
   "cell_type": "code",
   "execution_count": 25,
   "metadata": {
    "ExecuteTime": {
     "end_time": "2021-10-04T12:15:57.403172Z",
     "start_time": "2021-10-04T12:15:57.389503Z"
    }
   },
   "outputs": [
    {
     "name": "stdout",
     "output_type": "stream",
     "text": [
      "1\n",
      "2\n",
      "3\n",
      "6\n",
      "9\n"
     ]
    }
   ],
   "source": [
    "# Example 1: Use while loop to iterate over a list.\n",
    "\n",
    "numbers = [1, 2, 3, 6, 9]\n",
    "size = len(numbers)\n",
    "i = 0\n",
    "while i < size:\n",
    "    print(numbers[i])\n",
    "    i = i + 1"
   ]
  },
  {
   "cell_type": "code",
   "execution_count": 26,
   "metadata": {
    "ExecuteTime": {
     "end_time": "2021-10-04T12:15:58.048679Z",
     "start_time": "2021-10-04T12:15:58.029154Z"
    }
   },
   "outputs": [
    {
     "name": "stdout",
     "output_type": "stream",
     "text": [
      "60\n",
      "HelloWorld\n"
     ]
    }
   ],
   "source": [
    "# Example 2: printing the first two elements of a list\n",
    "\n",
    "list = [60, \"HelloWorld\", 90.96]  # list with three elements\n",
    "i = 0\n",
    "while(i < 2):\n",
    "    print (list[i]) #printing the element in the index i\n",
    "    i = i + 1   "
   ]
  },
  {
   "cell_type": "markdown",
   "metadata": {},
   "source": [
    "## Iterate Numbers using `while` loop\n",
    "\n"
   ]
  },
  {
   "cell_type": "code",
   "execution_count": 29,
   "metadata": {
    "ExecuteTime": {
     "end_time": "2021-10-04T12:15:59.143411Z",
     "start_time": "2021-10-04T12:15:59.132670Z"
    },
    "scrolled": true
   },
   "outputs": [
    {
     "name": "stdout",
     "output_type": "stream",
     "text": [
      "1\n",
      "4\n",
      "9\n",
      "16\n",
      "25\n",
      "36\n",
      "49\n",
      "64\n",
      "81\n",
      "100\n"
     ]
    }
   ],
   "source": [
    "# Example 1: printing the square of numbers less than `n`\n",
    "\n",
    "i = 1\n",
    "while (i<=10):\n",
    "    print (i ** 2) #printing the element in the index i\n",
    "    i = i + 1"
   ]
  },
  {
   "cell_type": "code",
   "execution_count": 30,
   "metadata": {
    "ExecuteTime": {
     "end_time": "2021-10-04T12:15:59.452490Z",
     "start_time": "2021-10-04T12:15:59.431010Z"
    }
   },
   "outputs": [
    {
     "name": "stdout",
     "output_type": "stream",
     "text": [
      "1\n",
      "8\n",
      "27\n",
      "64\n",
      "125\n",
      "216\n",
      "343\n",
      "512\n",
      "729\n"
     ]
    }
   ],
   "source": [
    "# Example 2: Find the cube of number from 1 to 9.\n",
    "\n",
    "i = 1\n",
    "while(i<10):\n",
    "    print(i*i*i)\n",
    "#   print(i**3)\n",
    "    i=i+1"
   ]
  },
  {
   "cell_type": "code",
   "execution_count": 31,
   "metadata": {
    "ExecuteTime": {
     "end_time": "2021-10-04T12:15:59.835791Z",
     "start_time": "2021-10-04T12:15:59.816265Z"
    }
   },
   "outputs": [
    {
     "name": "stdout",
     "output_type": "stream",
     "text": [
      "1\n",
      "4\n",
      "Loop over\n"
     ]
    }
   ],
   "source": [
    "# Example 3:\n",
    "\n",
    "i = 1\n",
    "while i < 3:\n",
    "    print(i ** 2)\n",
    "    i = i+1\n",
    "print('Loop over')"
   ]
  },
  {
   "cell_type": "code",
   "execution_count": null,
   "metadata": {},
   "outputs": [],
   "source": []
  }
 ],
 "metadata": {
  "hide_input": false,
  "kernelspec": {
   "display_name": "Python 3 (ipykernel)",
   "language": "python",
   "name": "python3"
  },
  "language_info": {
   "codemirror_mode": {
    "name": "ipython",
    "version": 3
   },
   "file_extension": ".py",
   "mimetype": "text/x-python",
   "name": "python",
   "nbconvert_exporter": "python",
   "pygments_lexer": "ipython3",
   "version": "3.9.7"
  },
  "toc": {
   "base_numbering": 1,
   "nav_menu": {},
   "number_sections": true,
   "sideBar": true,
   "skip_h1_title": false,
   "title_cell": "Table of Contents",
   "title_sidebar": "Contents",
   "toc_cell": false,
   "toc_position": {},
   "toc_section_display": true,
   "toc_window_display": false
  },
  "varInspector": {
   "cols": {
    "lenName": 16,
    "lenType": 16,
    "lenVar": 40
   },
   "kernels_config": {
    "python": {
     "delete_cmd_postfix": "",
     "delete_cmd_prefix": "del ",
     "library": "var_list.py",
     "varRefreshCmd": "print(var_dic_list())"
    },
    "r": {
     "delete_cmd_postfix": ") ",
     "delete_cmd_prefix": "rm(",
     "library": "var_list.r",
     "varRefreshCmd": "cat(var_dic_list()) "
    }
   },
   "types_to_exclude": [
    "module",
    "function",
    "builtin_function_or_method",
    "instance",
    "_Feature"
   ],
   "window_display": false
  }
 },
 "nbformat": 4,
 "nbformat_minor": 2
}
