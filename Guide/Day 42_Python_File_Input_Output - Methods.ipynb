{
 "cells": [
  {
   "cell_type": "markdown",
   "metadata": {},
   "source": [
    "# Python File I/O\n",
    "\n",
    "In this session, you'll learn about Python file Methods.\n",
    "\n",
    "## Python File Methods\n",
    "\n",
    "\n",
    "\n",
    "Here is the complete list of methods in text mode with a brief description:\n",
    "\n",
    "| Method | Description |\n",
    "|:----| :--- |\n",
    "| **`close()`** |   Closes an opened file. It has no effect if the file is already closed.   | \n",
    "| **`detach()`** |   Separates the underlying binary buffer from the **`TextIOBase`** and returns it.   | \n",
    "| **`fileno()`** |   Returns an integer number (file descriptor) of the file.   | \n",
    "| **`flush()`** |   Flushes the write buffer of the file stream.   | \n",
    "| **`isatty()`** |   Returns **`True`** if the file stream is interactive.   | \n",
    "| **`read(n)`** |   Reads at most `n` characters from the file. Reads till end of file if it is negative or `None`.   | \n",
    "| **`readable()`** |   Returns **`True`** if the file stream can be read from.   | \n",
    "| **`readline(n=-1)`** |   Reads and returns one line from the file. Reads in at most **`n`** bytes if specified.   | \n",
    "| **`readlines(n=-1)`** |   Reads and returns a list of lines from the file. Reads in at most **`n`** bytes/characters if specified.   | \n",
    "| **`seek(offset,from=SEEK_SET)`** |   Changes the file position to **`offset`** bytes, in reference to `from` (start, current, end).   | \n",
    "| **`seekable()`** |   Returns **`True`** if the file stream supports random access.   | \n",
    "| **`tell()`** |   Returns the current file location.   | \n",
    "| **`truncate(size=None)`** |   Resizes the file stream to **`size`** bytes. If **`size`** is not specified, resizes to current location..   | \n",
    "| **`writable()`** |   Returns **`True`** if the file stream can be written to.   | \n",
    "| **`write(s)`** |   Writes the string **`s`** to the file and returns the number of characters written..   | \n",
    "| **`writelines(lines)`** |   Writes a list of **`lines`** to the file..   | "
   ]
  },
  {
   "cell_type": "markdown",
   "metadata": {},
   "source": [
    "## Deleting Files\n",
    "\n"
   ]
  },
  {
   "cell_type": "code",
   "execution_count": 1,
   "metadata": {
    "ExecuteTime": {
     "end_time": "2021-10-25T14:28:12.170196Z",
     "start_time": "2021-10-25T14:28:11.555923Z"
    }
   },
   "outputs": [
    {
     "ename": "FileNotFoundError",
     "evalue": "[WinError 2] The system cannot find the file specified: 'example.txt'",
     "output_type": "error",
     "traceback": [
      "\u001b[1;31m---------------------------------------------------------------------------\u001b[0m",
      "\u001b[1;31mFileNotFoundError\u001b[0m                         Traceback (most recent call last)",
      "\u001b[1;32m~\\AppData\\Local\\Temp/ipykernel_15980/3610341481.py\u001b[0m in \u001b[0;36m<module>\u001b[1;34m\u001b[0m\n\u001b[0;32m      1\u001b[0m \u001b[1;32mimport\u001b[0m \u001b[0mos\u001b[0m\u001b[1;33m\u001b[0m\u001b[1;33m\u001b[0m\u001b[0m\n\u001b[1;32m----> 2\u001b[1;33m \u001b[0mos\u001b[0m\u001b[1;33m.\u001b[0m\u001b[0mremove\u001b[0m\u001b[1;33m(\u001b[0m\u001b[1;34m'example.txt'\u001b[0m\u001b[1;33m)\u001b[0m\u001b[1;33m\u001b[0m\u001b[1;33m\u001b[0m\u001b[0m\n\u001b[0m",
      "\u001b[1;31mFileNotFoundError\u001b[0m: [WinError 2] The system cannot find the file specified: 'example.txt'"
     ]
    }
   ],
   "source": [
    "import os\n",
    "os.remove('example.txt')"
   ]
  },
  {
   "cell_type": "code",
   "execution_count": 2,
   "metadata": {
    "ExecuteTime": {
     "end_time": "2021-10-25T14:28:19.870587Z",
     "start_time": "2021-10-25T14:28:19.861800Z"
    }
   },
   "outputs": [
    {
     "name": "stdout",
     "output_type": "stream",
     "text": [
      "The file does not exist\n"
     ]
    }
   ],
   "source": [
    "import os\n",
    "if os.path.exists('./files/example.txt'):\n",
    "    os.remove('./files/example.txt')\n",
    "else:\n",
    "    print('The file does not exist')"
   ]
  },
  {
   "cell_type": "markdown",
   "metadata": {},
   "source": [
    "## File Types"
   ]
  },
  {
   "cell_type": "markdown",
   "metadata": {},
   "source": [
    "### File with txt Extension\n",
    "\n",
    "File with **txt** extension is a very common form of data and we have covered it in the previous section. Let us move to the JSON file."
   ]
  },
  {
   "cell_type": "markdown",
   "metadata": {},
   "source": [
    "### File with json Extension\n",
    "\n",
    "**JSON** stands for **J**ava**S**cript **O**bject **N**otation. Actually, it is a stringified JavaScript object or Python dictionary."
   ]
  },
  {
   "cell_type": "code",
   "execution_count": 3,
   "metadata": {
    "ExecuteTime": {
     "end_time": "2021-10-25T14:28:22.613818Z",
     "start_time": "2021-10-25T14:28:22.597221Z"
    }
   },
   "outputs": [],
   "source": [
    "# dictionary\n",
    "person_dct= {\n",
    "    \"name\":\"Ajantha\",\n",
    "    \"country\":\"India\",\n",
    "    \"city\":\"Chennai\",\n",
    "    \"skills\":[\"Python\", \"MATLAB\",\"R\"]\n",
    "}\n",
    "# JSON: A string form a dictionary\n",
    "person_json = \"{'name': 'Ajantha', 'country': 'India', 'city': 'Chennai', 'skills': ['Python', 'MATLAB','R']}\"\n",
    "\n",
    "# we use three quotes and make it multiple line to make it more readable\n",
    "person_json = '''{\n",
    "    \"name\":\"Ajantha\",\n",
    "    \"country\":\"India\",\n",
    "    \"city\":\"Chennai\",\n",
    "    \"skills\":[\"Python\", \"MATLAB\",\"R\"]\n",
    "}'''"
   ]
  },
  {
   "cell_type": "markdown",
   "metadata": {},
   "source": [
    "### Changing JSON to Dictionary\n",
    "\n",
    "To change a JSON to a dictionary, first we import the json module and then we use **`loads`** method."
   ]
  },
  {
   "cell_type": "code",
   "execution_count": 4,
   "metadata": {
    "ExecuteTime": {
     "end_time": "2021-10-25T14:28:23.767169Z",
     "start_time": "2021-10-25T14:28:23.757406Z"
    }
   },
   "outputs": [
    {
     "name": "stdout",
     "output_type": "stream",
     "text": [
      "<class 'dict'>\n",
      "{'name': 'Ajantha', 'country': 'India', 'city': 'Chennai', 'skills': ['Python', 'MATLAB', 'R']}\n",
      "Ajantha\n"
     ]
    }
   ],
   "source": [
    "import json\n",
    "# JSON\n",
    "person_json = '''{\n",
    "    \"name\":\"Ajantha\",\n",
    "    \"country\":\"India\",\n",
    "    \"city\":\"Chennai\",\n",
    "    \"skills\":[\"Python\", \"MATLAB\",\"R\"]\n",
    "}'''\n",
    "# let's change JSON to dictionary\n",
    "person_dct = json.loads(person_json)\n",
    "print(type(person_dct))\n",
    "print(person_dct)\n",
    "print(person_dct['name'])"
   ]
  },
  {
   "cell_type": "markdown",
   "metadata": {},
   "source": [
    "### Changing Dictionary to JSON\n",
    "\n",
    "To change a dictionary to a JSON we use **`dumps`** method from the json module."
   ]
  },
  {
   "cell_type": "code",
   "execution_count": 5,
   "metadata": {
    "ExecuteTime": {
     "end_time": "2021-10-25T14:28:24.390232Z",
     "start_time": "2021-10-25T14:28:24.380471Z"
    },
    "scrolled": true
   },
   "outputs": [
    {
     "name": "stdout",
     "output_type": "stream",
     "text": [
      "<class 'str'>\n",
      "{\n",
      "    \"name\": \"Ajantha\",\n",
      "    \"country\": \"India\",\n",
      "    \"city\": \"Chennai\",\n",
      "    \"skills\": [\n",
      "        \"Python\",\n",
      "        \"MATLAB\",\n",
      "        \"R\"\n",
      "    ]\n",
      "}\n"
     ]
    }
   ],
   "source": [
    "import json\n",
    "# python dictionary\n",
    "person = {\n",
    "    \"name\":\"Ajantha\",\n",
    "    \"country\":\"India\",\n",
    "    \"city\":\"Chennai\",\n",
    "    \"skills\":[\"Python\", \"MATLAB\",\"R\"]\n",
    "}\n",
    "# let's convert it to  json\n",
    "person_json = json.dumps(person, indent=4) # indent could be 2, 4, 8. It beautifies the json\n",
    "print(type(person_json))\n",
    "print(person_json)\n",
    "\n",
    "# when you print it, it does not have the quote, but actually it is a string\n",
    "# JSON does not have type, it is a string type."
   ]
  },
  {
   "cell_type": "markdown",
   "metadata": {},
   "source": [
    "### Saving as JSON File\n",
    "\n"
   ]
  },
  {
   "cell_type": "code",
   "execution_count": 6,
   "metadata": {
    "ExecuteTime": {
     "end_time": "2021-10-25T14:28:24.872665Z",
     "start_time": "2021-10-25T14:28:24.856065Z"
    }
   },
   "outputs": [],
   "source": [
    "import json\n",
    "# python dictionary\n",
    "person = {\n",
    "    \"name\":\"Ajantha\",\n",
    "    \"country\":\"India\",\n",
    "    \"city\":\"Chennai\",\n",
    "    \"skills\":[\"Python\", \"MATLAB\",\"R\"]\n",
    "}\n",
    "with open('json_example.json', 'w', encoding='utf-8') as f:\n",
    "    json.dump(person, f, ensure_ascii=False, indent=4)"
   ]
  },
  {
   "cell_type": "markdown",
   "metadata": {},
   "source": [
    "### File with csv Extension\n",
    "\n",
    "For example, create **csv_example.csv** in your working directory with the following contents:\n",
    "\n",
    "```csv\n",
    "\"name\",\"country\",\"city\",\"skills\"\n",
    "\"Ajantha\",\"India\",\"Chennai\",\"Python\"\n",
    "```"
   ]
  },
  {
   "cell_type": "code",
   "execution_count": 7,
   "metadata": {
    "ExecuteTime": {
     "end_time": "2021-10-25T14:28:25.606081Z",
     "start_time": "2021-10-25T14:28:25.589481Z"
    },
    "scrolled": true
   },
   "outputs": [
    {
     "name": "stdout",
     "output_type": "stream",
     "text": [
      "Column names are :name, country, city, skills\n",
      "\tAjantha is a Researcher. She lives in India, Chennai.\n",
      "Number of lines:  2\n"
     ]
    }
   ],
   "source": [
    "import csv\n",
    "with open('csv_example.csv') as f:\n",
    "    csv_reader = csv.reader(f, delimiter=',') # w use, reader method to read csv\n",
    "    line_count = 0\n",
    "    for row in csv_reader:\n",
    "        if line_count == 0:\n",
    "            print(f'Column names are :{\", \".join(row)}')\n",
    "            line_count += 1\n",
    "        else:\n",
    "            print(\n",
    "                f'\\t{row[0]} is a Researcher. She lives in {row[1]}, {row[2]}.')\n",
    "            line_count += 1\n",
    "    print(f'Number of lines:  {line_count}')"
   ]
  },
  {
   "cell_type": "markdown",
   "metadata": {},
   "source": [
    "### File with xlsx Extension\n",
    "\n",
    "To read excel files we need to install **`xlrd`** package. We will cover this after we cover package installing using **pip**.\n",
    "\n",
    "```py\n",
    "import xlrd\n",
    "excel_book = xlrd.open_workbook('sample.xls)\n",
    "print(excel_book.nsheets)\n",
    "print(excel_book.sheet_names)\n",
    "```"
   ]
  },
  {
   "cell_type": "markdown",
   "metadata": {},
   "source": [
    "### File with xml Extension\n",
    "\n",
    "**XML** is another structured data format which looks like HTML. In XML the tags are not predefined. The first line is an XML declaration. The person tag is the root of the XML. The person has a gender attribute.\n",
    "\n",
    "```xml\n",
    "<?xml version=\"1.0\"?>\n",
    "<person gender=\"female\">\n",
    "  <name>Ajantha</name>\n",
    "  <country>India</country>\n",
    "  <city>Chennai</city>\n",
    "  <skills>\n",
    "    <skill>AI</skill>\n",
    "    <skill>ML</skill>\n",
    "    <skill>Python</skill>\n",
    "  </skills>\n",
    "</person>\n",
    "```"
   ]
  },
  {
   "cell_type": "code",
   "execution_count": 8,
   "metadata": {
    "ExecuteTime": {
     "end_time": "2021-10-25T14:28:26.743808Z",
     "start_time": "2021-10-25T14:28:26.716466Z"
    },
    "scrolled": true
   },
   "outputs": [
    {
     "name": "stdout",
     "output_type": "stream",
     "text": [
      "Root tag: person\n",
      "Attribute: {'gender': 'female'}\n",
      "field:  name\n",
      "field:  country\n",
      "field:  city\n",
      "field:  skills\n"
     ]
    }
   ],
   "source": [
    "import xml.etree.ElementTree as ET\n",
    "tree = ET.parse('xml_example.xml')\n",
    "root = tree.getroot()\n",
    "print('Root tag:', root.tag)\n",
    "print('Attribute:', root.attrib)\n",
    "for child in root:\n",
    "    print('field: ', child.tag)"
   ]
  },
  {
   "cell_type": "markdown",
   "metadata": {},
   "source": [
    "## 💻 Exercises ➞ <span class='label label-default'>Files</span>\n",
    "\n",
    "### Exercises ➞ <span class='label label-default'>Level 1</span>\n",
    "\n",
    "1. Write a function which count number of lines and number of words in a text.\n",
    "  - a) Read **[speech_barack_obama.txt](https://github.com/milaan9/05_Python_Files/blob/main/speech_barack_obama.txt)** file and count number of lines and words\n",
    "  - b) Read **[speech_michelle_obama.txt ](https://github.com/milaan9/05_Python_Files/blob/main/speech_michelle_obama.txt)** file and count number of lines and words\n",
    "  - c) Read **[speech_donald_trump.txt](https://github.com/milaan9/05_Python_Files/blob/main/speech_donald_trump.txt)** file and count number of lines and words\n",
    "  - d) Read **[speech_melina_trump.txt](https://github.com/milaan9/05_Python_Files/blob/main/speech_melina_trump.txt)** file and count number of lines and words\n",
    "    \n",
    "2. Read the **[countries_data.json](https://github.com/milaan9/05_Python_Files/blob/main/countries_data.json)** data file in data directory, create a function that finds the ten most spoken languages\n",
    "\n",
    "    - ```py\n",
    "   # Your output should look like this:\n",
    "   print(most_spoken_languages(filename='./countries_data.json', 10))\n",
    "   [(91, 'English'),\n",
    "   (45, 'French'),\n",
    "   (25, 'Arabic'),\n",
    "   (24, 'Spanish'),\n",
    "   (9, 'Russian'),\n",
    "   (9, 'Portuguese'),\n",
    "   (8, 'Dutch'),\n",
    "   (7, 'German'),\n",
    "   (5, 'Chinese'),\n",
    "   (4, 'Swahili'),\n",
    "   (4, 'Serbian')]\n",
    "   # Your output should look like this:\n",
    "   print(most_spoken_languages(filename='./countries_data.json', 3))\n",
    "   [(91, 'English'),\n",
    "   (45, 'French'),\n",
    "   (25, 'Arabic')]\n",
    "   ```\n",
    "\n",
    "3. Read the **[countries_data.json](https://github.com/milaan9/05_Python_Files/blob/main/countries_data.json)** data file and create a function that creates a list of the ten most populated countries\n",
    "\n",
    "    - ```py\n",
    "   # Your output should look like this:\n",
    "   print(most_populated_countries(filename='./countries_data.json', 10))\n",
    "   [\n",
    "   {'country': 'China', 'population': 1377422166},\n",
    "   {'country': 'India', 'population': 1295210000},\n",
    "   {'country': 'United States of America', 'population': 323947000},\n",
    "   {'country': 'Indonesia', 'population': 258705000},\n",
    "   {'country': 'Brazil', 'population': 206135893},\n",
    "   {'country': 'Pakistan', 'population': 194125062},\n",
    "   {'country': 'Nigeria', 'population': 186988000},\n",
    "   {'country': 'Bangladesh', 'population': 161006790},\n",
    "   {'country': 'Russian Federation', 'population': 146599183},\n",
    "   {'country': 'Japan', 'population': 126960000}\n",
    "   ]\n",
    "   # Your output should look like this:\n",
    "   print(most_populated_countries(filename='./countries_data.json', 3))\n",
    "   [\n",
    "   {'country': 'China', 'population': 1377422166},\n",
    "   {'country': 'India', 'population': 1295210000},\n",
    "   {'country': 'United States of America', 'population': 323947000}\n",
    "   ]\n",
    "   ```\n",
    "\n",
    "\n",
    "### Exercises ➞ <span class='label label-default'>Level 2</span>\n",
    "\n",
    "1. Extract all incoming email addresses as a list from the **[email_exchanges_big.txt](https://github.com/milaan9/05_Python_Files/blob/main/email_exchanges_big.txt)** file.\n",
    "\n",
    "2. Find the most common words in the English language. Call the name of your function **`find_most_common_words`**, it will take two parameters - a string or a file and a positive integer, indicating the number of words. Your function will return an array of tuples in descending order. Check the output\n",
    "\n",
    "    - ```py\n",
    "    # Your output should look like this\n",
    "    print(find_most_common_words('sample.txt', 10))\n",
    "    [(10, 'the'),\n",
    "    (8, 'be'),\n",
    "    (6, 'to'),\n",
    "    (6, 'of'),\n",
    "    (5, 'and'),\n",
    "    (4, 'a'),\n",
    "    (4, 'in'),\n",
    "    (3, 'that'),\n",
    "    (2, 'have'),\n",
    "    (2, 'I')]\n",
    "\n",
    "    # Your output should look like this\n",
    "    print(find_most_common_words('sample.txt', 5))\n",
    "\n",
    "    [(10, 'the'),\n",
    "    (8, 'be'),\n",
    "    (6, 'to'),\n",
    "    (6, 'of'),\n",
    "    (5, 'and')]\n",
    "    ```\n",
    "\n",
    "3. Use the function, find_most_frequent_words to find:\n",
    "  - a) The ten most frequent words used in **[Barack Obama's Speech.txt](https://github.com/milaan9/05_Python_Files/blob/main/speech_barack_obama.txt)**\n",
    "  - b) The ten most frequent words used in **[Michelle Obama's Speech.txt ](https://github.com/milaan9/05_Python_Files/blob/main/speech_michelle_obama.txt)**\n",
    "  - c) The ten most frequent words used in **[Donald Trump's Speech.txt](https://github.com/milaan9/05_Python_Files/blob/main/speech_donald_trump.txt)**\n",
    "  - d) The ten most frequent words used in **[Melina Trump's Speech.txt](https://github.com/milaan9/05_Python_Files/blob/main/speech_melina_trump.txt)**\n",
    "  \n",
    "4. Write a python application that checks similarity between two texts. It takes a file or a string as a parameter and it will evaluate the similarity of the two texts. For instance check the similarity between the transcripts of **[Michelle Obama's Speech.txt ](https://github.com/milaan9/05_Python_Files/blob/main/speech_michelle_obama.txt)** and **[Melina Trump's Speech.txt](https://github.com/milaan9/05_Python_Files/blob/main/speech_melina_trump.txt)** speech. You may need a couple of functions, function to clean the text (**`clean_text`**), function to remove support words (**`remove_support_words`**) and finally to check the similarity (**`check_text_similarity`**). List of **[support_words](https://github.com/milaan9/05_Python_Files/blob/main/support_words.py)**.\n",
    "\n",
    "5. Find the 10 most repeated words in the **[romeo_and_juliet.txt](https://github.com/milaan9/05_Python_Files/blob/main/romeo_and_juliet.txt)**.\n",
    "\n",
    "6. Read the **[hacker_news.csv](https://github.com/milaan9/05_Python_Files/blob/main/hacker_news.csv)** file and find out:\n",
    "  - a) Count the number of lines containing **`python`** or **`Python`**\n",
    "  - b) Count the number lines containing **`JavaScript`**, **`javascript`** or **`Javascript`**\n",
    "  - c) Count the number lines containing **`Java`** and not **`JavaScript`**"
   ]
  },
  {
   "cell_type": "code",
   "execution_count": null,
   "metadata": {},
   "outputs": [],
   "source": []
  }
 ],
 "metadata": {
  "hide_input": false,
  "kernelspec": {
   "display_name": "Python 3 (ipykernel)",
   "language": "python",
   "name": "python3"
  },
  "language_info": {
   "codemirror_mode": {
    "name": "ipython",
    "version": 3
   },
   "file_extension": ".py",
   "mimetype": "text/x-python",
   "name": "python",
   "nbconvert_exporter": "python",
   "pygments_lexer": "ipython3",
   "version": "3.9.7"
  },
  "toc": {
   "base_numbering": 1,
   "nav_menu": {},
   "number_sections": true,
   "sideBar": true,
   "skip_h1_title": false,
   "title_cell": "Table of Contents",
   "title_sidebar": "Contents",
   "toc_cell": false,
   "toc_position": {
    "height": "calc(100% - 180px)",
    "left": "10px",
    "top": "150px",
    "width": "204.797px"
   },
   "toc_section_display": true,
   "toc_window_display": false
  },
  "varInspector": {
   "cols": {
    "lenName": 16,
    "lenType": 16,
    "lenVar": 40
   },
   "kernels_config": {
    "python": {
     "delete_cmd_postfix": "",
     "delete_cmd_prefix": "del ",
     "library": "var_list.py",
     "varRefreshCmd": "print(var_dic_list())"
    },
    "r": {
     "delete_cmd_postfix": ") ",
     "delete_cmd_prefix": "rm(",
     "library": "var_list.r",
     "varRefreshCmd": "cat(var_dic_list()) "
    }
   },
   "types_to_exclude": [
    "module",
    "function",
    "builtin_function_or_method",
    "instance",
    "_Feature"
   ],
   "window_display": false
  }
 },
 "nbformat": 4,
 "nbformat_minor": 2
}
