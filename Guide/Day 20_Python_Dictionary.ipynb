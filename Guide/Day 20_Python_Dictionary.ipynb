{
 "cells": [
  {
   "cell_type": "markdown",
   "metadata": {},
   "source": [
    "# Python Dictionary\n",
    "\n",
    "In this session, you'll learn everything about Python dictionaries."
   ]
  },
  {
   "cell_type": "markdown",
   "metadata": {},
   "source": [
    "## What is Dictionary in Python?\n",
    "\n",
    "\n",
    "\n",
    "<div>\n",
    "<img src=\"img/d0.png\" width=\"600\"/>\n",
    "</div>\n",
    "\n",
    "**Example:**\n",
    "\n",
    "```python\n",
    ">>> dict = { }  #empty dictionary\n",
    ">>> dict = {1:'Python',2:'Java',3:'C++'}\n",
    "```\n",
    "\n"
   ]
  },
  {
   "cell_type": "markdown",
   "metadata": {},
   "source": [
    "\n",
    "\n",
    "| Data types     | Type          |         |\n",
    "| :------------: | :-----------: |:------: |\n",
    "| **String**     | **immutable** |  |\n",
    "| **List**       | **mutable**   |✎|\n",
    "| **Tuple**      | **immutable** |  |\n",
    "| **Dictionary** | **mutable**   |✎|"
   ]
  },
  {
   "cell_type": "markdown",
   "metadata": {},
   "source": [
    "## Creating Python Dictionary\n",
    "\n"
   ]
  },
  {
   "cell_type": "code",
   "execution_count": 1,
   "metadata": {
    "ExecuteTime": {
     "end_time": "2021-10-03T15:24:34.175014Z",
     "start_time": "2021-10-03T15:24:34.150602Z"
    }
   },
   "outputs": [
    {
     "name": "stdout",
     "output_type": "stream",
     "text": [
      "{} [] () \n",
      "<class 'dict'> <class 'list'> <class 'tuple'> <class 'str'>\n",
      "{1: 'apple', 2: 'ball'}\n",
      "{1: 'hi', 'name': 666, 1.5: ('yes', 'very much'), 9: [3, 6, 9]}\n",
      "<class 'list'>\n",
      "{1: 'apple', 2: 'ball'}\n",
      "2\n"
     ]
    }
   ],
   "source": [
    "# Example: empty dictionary\n",
    "\n",
    "d = {}; l = []; t = (); st = \"\"\n",
    "print(d,l,t,st)     # ▶ {} [] () \n",
    "print(type(d),type(l),type(t), type(st)) \n",
    "# ▶ <class 'dict'> <class 'list'> <class 'tuple'> <class 'str'>\n",
    "\n",
    "# dictionary with integer keys\n",
    "my_dict1 = {1: 'apple', 2: 'ball'}\n",
    "print(my_dict1)        # ▶ {1: 'apple', 2: 'ball'}\n",
    "\n",
    "# dictionary with mixed keys\n",
    "my_dict2 = {1:\"hi\", \"name\":666, 1.5:(\"yes\",\"very much\"), 9: [3, 6, 9]}\n",
    "print(my_dict2)        # ▶ {1: 'hi', 'name': 666, 1.5: ('yes', 'very much'), 9: [3, 6, 9]}\n",
    "\n",
    "# from sequence having each item as a pair\n",
    "my_dict3 = dict([(1,'apple'), (2,'ball')])\n",
    "print(type([(1,'apple'), (2,'ball')])) # nested list\n",
    "print(my_dict3)        # ▶ {1: 'apple', 2: 'ball'}\n",
    "print(len(my_dict3))   # ▶ 2"
   ]
  },
  {
   "cell_type": "code",
   "execution_count": 2,
   "metadata": {
    "scrolled": true
   },
   "outputs": [
    {
     "data": {
      "text/plain": [
       "({1: 100, 'bar': 200}, {'foo': 100, 'bar': 200})"
      ]
     },
     "execution_count": 2,
     "metadata": {},
     "output_type": "execute_result"
    }
   ],
   "source": [
    "dict([(1, 100), ('bar', 200)]), dict(foo=100, bar=200)"
   ]
  },
  {
   "cell_type": "markdown",
   "metadata": {},
   "source": [
    "## Accessing Elements from Dictionary\n",
    "\n"
   ]
  },
  {
   "cell_type": "code",
   "execution_count": 3,
   "metadata": {
    "ExecuteTime": {
     "end_time": "2021-10-03T15:24:34.899634Z",
     "start_time": "2021-10-03T15:24:34.177947Z"
    }
   },
   "outputs": [
    {
     "name": "stdout",
     "output_type": "stream",
     "text": [
      "Python\n",
      "Gods language\n",
      "None\n"
     ]
    },
    {
     "ename": "KeyError",
     "evalue": "4",
     "output_type": "error",
     "traceback": [
      "\u001b[1;31m---------------------------------------------------------------------------\u001b[0m",
      "\u001b[1;31mKeyError\u001b[0m                                  Traceback (most recent call last)",
      "\u001b[1;32m~\\AppData\\Local\\Temp/ipykernel_13616/2094585495.py\u001b[0m in \u001b[0;36m<module>\u001b[1;34m\u001b[0m\n\u001b[0;32m     12\u001b[0m \u001b[0mprint\u001b[0m\u001b[1;33m(\u001b[0m\u001b[0mmy_dict\u001b[0m\u001b[1;33m.\u001b[0m\u001b[0mget\u001b[0m\u001b[1;33m(\u001b[0m\u001b[1;36m4\u001b[0m\u001b[1;33m)\u001b[0m\u001b[1;33m)\u001b[0m     \u001b[1;31m# ▶ None\u001b[0m\u001b[1;33m\u001b[0m\u001b[1;33m\u001b[0m\u001b[0m\n\u001b[0;32m     13\u001b[0m \u001b[1;33m\u001b[0m\u001b[0m\n\u001b[1;32m---> 14\u001b[1;33m \u001b[0mprint\u001b[0m\u001b[1;33m(\u001b[0m\u001b[0mmy_dict\u001b[0m\u001b[1;33m[\u001b[0m\u001b[1;36m4\u001b[0m\u001b[1;33m]\u001b[0m\u001b[1;33m)\u001b[0m         \u001b[1;31m# ▶ KeyError!\u001b[0m\u001b[1;33m\u001b[0m\u001b[1;33m\u001b[0m\u001b[0m\n\u001b[0m",
      "\u001b[1;31mKeyError\u001b[0m: 4"
     ]
    }
   ],
   "source": [
    "# Example: get vs [] for retrieving elements\n",
    "\n",
    "my_dict = {1:'Python', 2:'Java', 3:'C++', 'c': 'Gods language'}\n",
    "\n",
    "# method: 1\n",
    "print(my_dict[1])         # ▶ Python\n",
    "\n",
    "# method: 2\n",
    "print(my_dict.get('c'))   # ▶ Gods language\n",
    "\n",
    "# Trying to access keys which doesn't exist in dictionary:\n",
    "print(my_dict.get(4))     # ▶ None\n",
    "\n",
    "print(my_dict[4])         # ▶ KeyError!"
   ]
  },
  {
   "cell_type": "code",
   "execution_count": null,
   "metadata": {
    "ExecuteTime": {
     "end_time": "2021-10-03T15:24:46.489676Z",
     "start_time": "2021-10-03T15:24:46.473079Z"
    },
    "scrolled": true
   },
   "outputs": [],
   "source": [
    "# Example:\n",
    "\n",
    "dict = {1:'Python', 2:'Java', 3:'C++', 'c': 'Gods language'}\n",
    "print(dict.keys())\n",
    "for x in dict.keys():\n",
    "    print(dict[x])"
   ]
  },
  {
   "cell_type": "markdown",
   "metadata": {},
   "source": [
    "## Changing and Adding Dictionary elements\n",
    "\n"
   ]
  },
  {
   "cell_type": "code",
   "execution_count": 4,
   "metadata": {
    "ExecuteTime": {
     "end_time": "2021-10-03T15:24:47.367623Z",
     "start_time": "2021-10-03T15:24:47.345164Z"
    }
   },
   "outputs": [
    {
     "name": "stdout",
     "output_type": "stream",
     "text": [
      "{'name': 'Arthur', 'age': 25}\n",
      "{'name': 'Arthur', 'age': 25, 'address': 'Downtown'}\n"
     ]
    }
   ],
   "source": [
    "# Example 1: Changing and adding Dictionary Elements\n",
    "\n",
    "my_dict = {'name':'Arthur', 'age':24}\n",
    "\n",
    "my_dict['age'] = 25   # update value\n",
    "print(my_dict)        # ▶ {'age': 25, 'name': 'Arthur'}\n",
    "\n",
    "my_dict['address'] = 'Downtown'  # add item\n",
    "print(my_dict)        # ▶ {'name': 'Arthur', 'age': 25, 'address': 'Downtown'}"
   ]
  },
  {
   "cell_type": "code",
   "execution_count": 5,
   "metadata": {
    "ExecuteTime": {
     "end_time": "2021-10-03T15:24:47.707473Z",
     "start_time": "2021-10-03T15:24:47.698687Z"
    }
   },
   "outputs": [
    {
     "name": "stdout",
     "output_type": "stream",
     "text": [
      "{1: 'Python', 2: 'Java', 3: 'R', 4: 'PHP'}\n"
     ]
    }
   ],
   "source": [
    "# Example 2: \n",
    "\n",
    "my_dict = {1:'Python', 2:'Java', 3:'C++'}\n",
    "my_dict[3]=\"R\"     # update value\n",
    "my_dict[4]=\"PHP\"   # insert new value\n",
    "print(my_dict)     # ▶ {1: 'Python', 2: 'Java', 3: 'R', 4: 'PHP'}"
   ]
  },
  {
   "cell_type": "markdown",
   "metadata": {},
   "source": [
    "## Removing elements from Dictionary\n",
    "\n"
   ]
  },
  {
   "cell_type": "code",
   "execution_count": 6,
   "metadata": {
    "ExecuteTime": {
     "end_time": "2021-10-03T15:24:48.339320Z",
     "start_time": "2021-10-03T15:24:48.319789Z"
    }
   },
   "outputs": [
    {
     "name": "stdout",
     "output_type": "stream",
     "text": [
      "16\n",
      "{1: 1, 2: 4, 3: 9, 5: 25}\n",
      "(5, 25)\n",
      "{1: 1, 2: 4, 3: 9}\n",
      "{}\n"
     ]
    },
    {
     "ename": "NameError",
     "evalue": "name 'squares' is not defined",
     "output_type": "error",
     "traceback": [
      "\u001b[1;31m---------------------------------------------------------------------------\u001b[0m",
      "\u001b[1;31mNameError\u001b[0m                                 Traceback (most recent call last)",
      "\u001b[1;32m~\\AppData\\Local\\Temp/ipykernel_13616/829455253.py\u001b[0m in \u001b[0;36m<module>\u001b[1;34m\u001b[0m\n\u001b[0;32m     16\u001b[0m \u001b[1;33m\u001b[0m\u001b[0m\n\u001b[0;32m     17\u001b[0m \u001b[1;32mdel\u001b[0m \u001b[0msquares\u001b[0m              \u001b[1;31m# delete the dictionary itself\u001b[0m\u001b[1;33m\u001b[0m\u001b[1;33m\u001b[0m\u001b[0m\n\u001b[1;32m---> 18\u001b[1;33m \u001b[0mprint\u001b[0m\u001b[1;33m(\u001b[0m\u001b[0msquares\u001b[0m\u001b[1;33m)\u001b[0m           \u001b[1;31m# ▶ NameError!!!\u001b[0m\u001b[1;33m\u001b[0m\u001b[1;33m\u001b[0m\u001b[0m\n\u001b[0m",
      "\u001b[1;31mNameError\u001b[0m: name 'squares' is not defined"
     ]
    }
   ],
   "source": [
    "# Example: Removing elements from a dictionary\n",
    "\n",
    "\n",
    "squares = {1:1, 2:4, 3:9, 4:16, 5:25}   # create a dictionary\n",
    "\n",
    "# remove a particular item, returns its value\n",
    "print(squares.pop(4))    # ▶ 16\n",
    "print(squares)           # ▶ {1: 1, 2: 4, 3: 9, 5: 25}\n",
    "\n",
    "# remove an arbitrary item, return (key,value)\n",
    "print(squares.popitem()) # ▶ (5, 25)\n",
    "print(squares)           # ▶ {1: 1, 2: 4, 3: 9}\n",
    "\n",
    "squares.clear()          # remove all items\n",
    "print(squares)           # ▶ {}\n",
    "\n",
    "del squares              # delete the dictionary itself\n",
    "print(squares)           # ▶ NameError!!!"
   ]
  },
  {
   "cell_type": "code",
   "execution_count": 7,
   "metadata": {
    "ExecuteTime": {
     "end_time": "2021-10-03T15:24:48.676242Z",
     "start_time": "2021-10-03T15:24:48.649873Z"
    },
    "scrolled": true
   },
   "outputs": [
    {
     "name": "stdout",
     "output_type": "stream",
     "text": [
      "{1: 'Python', 2: 'Java', 4: 'PHP'}\n",
      "my_dict :  {}\n"
     ]
    },
    {
     "ename": "NameError",
     "evalue": "name 'my_dict' is not defined",
     "output_type": "error",
     "traceback": [
      "\u001b[1;31m---------------------------------------------------------------------------\u001b[0m",
      "\u001b[1;31mNameError\u001b[0m                                 Traceback (most recent call last)",
      "\u001b[1;32m~\\AppData\\Local\\Temp/ipykernel_13616/2219691608.py\u001b[0m in \u001b[0;36m<module>\u001b[1;34m\u001b[0m\n\u001b[0;32m      9\u001b[0m \u001b[1;33m\u001b[0m\u001b[0m\n\u001b[0;32m     10\u001b[0m \u001b[1;32mdel\u001b[0m \u001b[0mmy_dict\u001b[0m       \u001b[1;31m# delete entire dictionary\u001b[0m\u001b[1;33m\u001b[0m\u001b[1;33m\u001b[0m\u001b[0m\n\u001b[1;32m---> 11\u001b[1;33m \u001b[0mprint\u001b[0m\u001b[1;33m(\u001b[0m\u001b[0mmy_dict\u001b[0m\u001b[1;33m[\u001b[0m\u001b[1;36m2\u001b[0m\u001b[1;33m]\u001b[0m\u001b[1;33m)\u001b[0m \u001b[1;31m# ▶ NameError!!!\u001b[0m\u001b[1;33m\u001b[0m\u001b[1;33m\u001b[0m\u001b[0m\n\u001b[0m",
      "\u001b[1;31mNameError\u001b[0m: name 'my_dict' is not defined"
     ]
    }
   ],
   "source": [
    "# Example:\n",
    "\n",
    "my_dict = {1:'Python', 2:'Java', 3:'C++', 4:'PHP'}\n",
    "del my_dict[3]    # ▶ {1: 'Python', 2: 'Java', 4: 'PHP'} ∵ remove entry with key '3'\n",
    "print(my_dict)    # ▶ {}\n",
    "\n",
    "my_dict.clear()   # remove all entries in dict\n",
    "print(\"my_dict : \",my_dict)  # ▶ my_dict :  {}\n",
    "\n",
    "del my_dict       # delete entire dictionary\n",
    "print(my_dict[2]) # ▶ NameError!!!"
   ]
  },
  {
   "cell_type": "code",
   "execution_count": null,
   "metadata": {},
   "outputs": [],
   "source": []
  }
 ],
 "metadata": {
  "hide_input": false,
  "kernelspec": {
   "display_name": "Python 3 (ipykernel)",
   "language": "python",
   "name": "python3"
  },
  "language_info": {
   "codemirror_mode": {
    "name": "ipython",
    "version": 3
   },
   "file_extension": ".py",
   "mimetype": "text/x-python",
   "name": "python",
   "nbconvert_exporter": "python",
   "pygments_lexer": "ipython3",
   "version": "3.9.7"
  },
  "toc": {
   "base_numbering": 1,
   "nav_menu": {},
   "number_sections": true,
   "sideBar": true,
   "skip_h1_title": false,
   "title_cell": "Table of Contents",
   "title_sidebar": "Contents",
   "toc_cell": false,
   "toc_position": {},
   "toc_section_display": true,
   "toc_window_display": false
  },
  "varInspector": {
   "cols": {
    "lenName": 16,
    "lenType": 16,
    "lenVar": 40
   },
   "kernels_config": {
    "python": {
     "delete_cmd_postfix": "",
     "delete_cmd_prefix": "del ",
     "library": "var_list.py",
     "varRefreshCmd": "print(var_dic_list())"
    },
    "r": {
     "delete_cmd_postfix": ") ",
     "delete_cmd_prefix": "rm(",
     "library": "var_list.r",
     "varRefreshCmd": "cat(var_dic_list()) "
    }
   },
   "types_to_exclude": [
    "module",
    "function",
    "builtin_function_or_method",
    "instance",
    "_Feature"
   ],
   "window_display": false
  }
 },
 "nbformat": 4,
 "nbformat_minor": 2
}
