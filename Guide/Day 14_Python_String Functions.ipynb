{
 "cells": [
  {
   "cell_type": "markdown",
   "metadata": {},
   "source": [
    "# Python Strings\n",
    "\n",
    "In this Session we will learn about various string functions and methods."
   ]
  },
  {
   "cell_type": "markdown",
   "metadata": {},
   "source": [
    "### Built-in functions to Work with Python\n",
    "\n",
    "\n",
    "\n",
    "Some of the commonly used ones are **`enumerate()`** and **`len()`**. "
   ]
  },
  {
   "cell_type": "code",
   "execution_count": 1,
   "metadata": {
    "ExecuteTime": {
     "end_time": "2021-10-02T09:54:31.958296Z",
     "start_time": "2021-10-02T09:54:31.944628Z"
    }
   },
   "outputs": [
    {
     "name": "stdout",
     "output_type": "stream",
     "text": [
      "list(enumerate(str) =  [(0, 'c'), (1, 'o'), (2, 'l'), (3, 'd')]\n",
      "len(str) =  4\n"
     ]
    }
   ],
   "source": [
    "str = 'cold'\n",
    "\n",
    "# enumerate()\n",
    "list_enumerate = list(enumerate(str))\n",
    "print('list(enumerate(str) = ', list_enumerate)\n",
    "\n",
    "#character count\n",
    "print('len(str) = ', len(str))"
   ]
  },
  {
   "cell_type": "markdown",
   "metadata": {},
   "source": [
    "## Python String Formatting"
   ]
  },
  {
   "cell_type": "markdown",
   "metadata": {},
   "source": [
    "### Escape Sequence\n",
    "\n"
   ]
  },
  {
   "cell_type": "code",
   "execution_count": 2,
   "metadata": {
    "ExecuteTime": {
     "end_time": "2021-10-02T09:54:32.852463Z",
     "start_time": "2021-10-02T09:54:32.833909Z"
    }
   },
   "outputs": [
    {
     "ename": "SyntaxError",
     "evalue": "invalid syntax (Temp/ipykernel_16024/3245963823.py, line 1)",
     "output_type": "error",
     "traceback": [
      "\u001b[1;36m  File \u001b[1;32m\"C:\\Users\\AJANTHA\\AppData\\Local\\Temp/ipykernel_16024/3245963823.py\"\u001b[1;36m, line \u001b[1;32m1\u001b[0m\n\u001b[1;33m    print(\"He said, \"What's there?\"\")\u001b[0m\n\u001b[1;37m                     ^\u001b[0m\n\u001b[1;31mSyntaxError\u001b[0m\u001b[1;31m:\u001b[0m invalid syntax\n"
     ]
    }
   ],
   "source": [
    "print(\"He said, \"What's there?\"\")"
   ]
  },
  {
   "cell_type": "code",
   "execution_count": 3,
   "metadata": {
    "ExecuteTime": {
     "end_time": "2021-10-02T09:54:33.392579Z",
     "start_time": "2021-10-02T09:54:33.385742Z"
    },
    "scrolled": true
   },
   "outputs": [
    {
     "name": "stdout",
     "output_type": "stream",
     "text": [
      "He said, \"What's there?\"\n",
      "He said, \"What's there?\"\n",
      "He said, \"What's there?\"\n"
     ]
    }
   ],
   "source": [
    "# using triple quotes\n",
    "print('''He said, \"What's there?\"''')\n",
    "\n",
    "# escaping single quotes\n",
    "print('He said, \"What\\'s there?\"')\n",
    "\n",
    "# escaping double quotes\n",
    "print(\"He said, \\\"What's there?\\\"\")"
   ]
  },
  {
   "cell_type": "markdown",
   "metadata": {},
   "source": [
    "### Here is a list of all the escape sequences supported by Python.\n",
    "\n",
    "| Escape Sequence | Description |\n",
    "|:----:| :--- |\n",
    "| **`\\newline`** |   Backslash and newline ignored  | \n",
    "| **`\\\\`** |   Backslash | \n",
    "| **`\\'`** |   Single quote | \n",
    "| **`\\\"`** |   Double quote | \n",
    "| **`\\a`** |   ASCII Bell | \n",
    "| **`\\b`** |   ASCII Backspace | \n",
    "| **`\\f`** |   ASCII Formfeed | \n",
    "| **`\\n`** |   ASCII Linefeed | \n",
    "| **`\\r`** |   ASCII Carriage Return |\n",
    "| **`\\t`** |   ASCII Horizontal Tab | \n",
    "| **`\\v`** |   ASCII Vertical Tab | \n",
    "| **`\\ooo`** |   Character with octal value ooo | \n",
    "| **`\\xHH`** |   Character with hexadecimal value HH | "
   ]
  },
  {
   "cell_type": "code",
   "execution_count": 4,
   "metadata": {
    "ExecuteTime": {
     "end_time": "2021-10-02T09:54:34.346808Z",
     "start_time": "2021-10-02T09:54:34.337044Z"
    },
    "scrolled": true
   },
   "outputs": [
    {
     "name": "stdout",
     "output_type": "stream",
     "text": [
      "I hope every one enjoying the python tutorials.\n",
      "Do you ?\n",
      "Days\tChapters\tTopics\n",
      "Day 1\tChp 1\tPython Introduction\n",
      "Day 2\tChp 2\tPython Datatypes\n",
      "Day 3\tChp 3\tPython Flow Control\n",
      "Day 4\tChp 4\tPython Functions\n",
      "Day 5\tChp 5\tPython Files\n",
      "This is a back slash  symbol (\\)\n",
      "In every programming language it starts with \"Hello, World!\"\n"
     ]
    }
   ],
   "source": [
    "# Escape sequence\n",
    "\n",
    "print('I hope every one enjoying the python tutorials.\\nDo you ?') # '\\n' line break\n",
    "print('Days\\tChapters\\tTopics')  # '\\t' tab space\n",
    "print('Day 1\\tChp 1\\tPython Introduction')\n",
    "print('Day 2\\tChp 2\\tPython Datatypes')\n",
    "print('Day 3\\tChp 3\\tPython Flow Control')\n",
    "print('Day 4\\tChp 4\\tPython Functions')\n",
    "print('Day 5\\tChp 5\\tPython Files')\n",
    "print('This is a back slash  symbol (\\\\)') # To write a back slash\n",
    "print('In every programming language it starts with \\\"Hello, World!\\\"')"
   ]
  },
  {
   "cell_type": "code",
   "execution_count": 5,
   "metadata": {
    "ExecuteTime": {
     "end_time": "2021-10-02T09:54:34.777531Z",
     "start_time": "2021-10-02T09:54:34.757023Z"
    }
   },
   "outputs": [
    {
     "name": "stdout",
     "output_type": "stream",
     "text": [
      "C:\\Python32\\Lib\n",
      "This is printed\n",
      "in two lines\n",
      "This is HEX representation\n"
     ]
    }
   ],
   "source": [
    "# Here are some examples\n",
    "\n",
    "print(\"C:\\\\Python32\\\\Lib\")\n",
    "#C:\\Python32\\Lib\n",
    "\n",
    "print(\"This is printed\\nin two lines\")\n",
    "#This is printed\n",
    "#in two lines\n",
    "\n",
    "print(\"This is \\x48\\x45\\x58 representation\")\n",
    "#This is HEX representation"
   ]
  },
  {
   "cell_type": "markdown",
   "metadata": {},
   "source": [
    "### Raw String to ignore escape sequence\n",
    "\n"
   ]
  },
  {
   "cell_type": "code",
   "execution_count": 6,
   "metadata": {
    "ExecuteTime": {
     "end_time": "2021-10-02T09:54:35.637999Z",
     "start_time": "2021-10-02T09:54:35.625306Z"
    }
   },
   "outputs": [
    {
     "name": "stdout",
     "output_type": "stream",
     "text": [
      "This is a \n",
      "good example\n"
     ]
    }
   ],
   "source": [
    "print(\"This is \\x61 \\ngood example\")"
   ]
  },
  {
   "cell_type": "code",
   "execution_count": 7,
   "metadata": {
    "ExecuteTime": {
     "end_time": "2021-10-02T09:54:36.207411Z",
     "start_time": "2021-10-02T09:54:36.189835Z"
    },
    "scrolled": true
   },
   "outputs": [
    {
     "name": "stdout",
     "output_type": "stream",
     "text": [
      "This is \\x61 \\ngood example\n"
     ]
    }
   ],
   "source": [
    "print(r\"This is \\x61 \\ngood example\")"
   ]
  },
  {
   "cell_type": "markdown",
   "metadata": {},
   "source": [
    "### The `format()` Method for Formatting Strings\n"
   ]
  },
  {
   "cell_type": "code",
   "execution_count": 8,
   "metadata": {
    "ExecuteTime": {
     "end_time": "2021-10-02T09:54:37.316939Z",
     "start_time": "2021-10-02T09:54:37.306200Z"
    },
    "scrolled": true
   },
   "outputs": [
    {
     "name": "stdout",
     "output_type": "stream",
     "text": [
      "\n",
      "--- Default Order ---\n",
      "Allan, Bill and Cory\n",
      "\n",
      "--- Positional Order ---\n",
      "Bill, Allan and Cory\n",
      "\n",
      "--- Keyword Order ---\n",
      "Cory, Bill and Allan\n"
     ]
    }
   ],
   "source": [
    "# Python string format() method\n",
    "\n",
    "# default(implicit) order\n",
    "default_order = \"{}, {} and {}\".format('Allan','Bill','Cory')\n",
    "print('\\n--- Default Order ---')\n",
    "print(default_order)\n",
    "\n",
    "# order using positional argument\n",
    "positional_order = \"{1}, {0} and {2}\".format('Allan','Bill','Cory')\n",
    "print('\\n--- Positional Order ---')\n",
    "print(positional_order)\n",
    "\n",
    "# order using keyword argument\n",
    "keyword_order = \"{s}, {b} and {j}\".format(j='Allan',b='Bill',s='Cory')\n",
    "print('\\n--- Keyword Order ---')\n",
    "print(keyword_order)"
   ]
  },
  {
   "cell_type": "code",
   "execution_count": 9,
   "metadata": {
    "ExecuteTime": {
     "end_time": "2021-10-02T09:54:38.229170Z",
     "start_time": "2021-10-02T09:54:38.209640Z"
    }
   },
   "outputs": [
    {
     "data": {
      "text/plain": [
       "'Binary representation of 12 is 1100'"
      ]
     },
     "execution_count": 9,
     "metadata": {},
     "output_type": "execute_result"
    }
   ],
   "source": [
    "# formatting integers\n",
    "\"Binary representation of {0} is {0:b}\".format(12)"
   ]
  },
  {
   "cell_type": "code",
   "execution_count": 10,
   "metadata": {
    "ExecuteTime": {
     "end_time": "2021-10-02T09:54:38.677476Z",
     "start_time": "2021-10-02T09:54:38.656969Z"
    }
   },
   "outputs": [
    {
     "data": {
      "text/plain": [
       "'Exponent representation: 1.966365e+03'"
      ]
     },
     "execution_count": 10,
     "metadata": {},
     "output_type": "execute_result"
    }
   ],
   "source": [
    "# formatting floats\n",
    "\"Exponent representation: {0:e}\".format(1966.365)"
   ]
  },
  {
   "cell_type": "code",
   "execution_count": 11,
   "metadata": {
    "ExecuteTime": {
     "end_time": "2021-10-02T09:54:39.076947Z",
     "start_time": "2021-10-02T09:54:39.057413Z"
    },
    "scrolled": true
   },
   "outputs": [
    {
     "data": {
      "text/plain": [
       "'One third is: 0.333'"
      ]
     },
     "execution_count": 11,
     "metadata": {},
     "output_type": "execute_result"
    }
   ],
   "source": [
    "# round off\n",
    "\"One third is: {0:.3f}\".format(1/3)"
   ]
  },
  {
   "cell_type": "code",
   "execution_count": 12,
   "metadata": {
    "ExecuteTime": {
     "end_time": "2021-10-02T09:54:39.431483Z",
     "start_time": "2021-10-02T09:54:39.414885Z"
    }
   },
   "outputs": [
    {
     "data": {
      "text/plain": [
       "'|bread     |  butter  |       jam|'"
      ]
     },
     "execution_count": 12,
     "metadata": {},
     "output_type": "execute_result"
    }
   ],
   "source": [
    "# string alignment\n",
    "\"|{:<10}|{:^10}|{:>10}|\".format('bread','butter','jam')"
   ]
  },
  {
   "cell_type": "markdown",
   "metadata": {},
   "source": [
    "### Old style formatting\n",
    "\n",
    "We can even format strings like the old **`sprintf()`** style used in C programming language. We use the **`%`** operator to accomplish this."
   ]
  },
  {
   "cell_type": "code",
   "execution_count": null,
   "metadata": {
    "ExecuteTime": {
     "end_time": "2021-10-02T09:54:40.123964Z",
     "start_time": "2021-10-02T09:54:40.114198Z"
    }
   },
   "outputs": [],
   "source": [
    "x = 36.3456789\n",
    "print('The value of x is %3.2f' %x)"
   ]
  },
  {
   "cell_type": "code",
   "execution_count": null,
   "metadata": {
    "ExecuteTime": {
     "end_time": "2021-10-02T09:54:40.507801Z",
     "start_time": "2021-10-02T09:54:40.491203Z"
    }
   },
   "outputs": [],
   "source": [
    "print('The value of x is %3.4f' %x)"
   ]
  },
  {
   "cell_type": "markdown",
   "metadata": {},
   "source": [
    "## Common Python String Methods\n",
    "\n"
   ]
  },
  {
   "cell_type": "code",
   "execution_count": 13,
   "metadata": {
    "ExecuteTime": {
     "end_time": "2021-10-02T09:54:41.294533Z",
     "start_time": "2021-10-02T09:54:41.282814Z"
    },
    "scrolled": true
   },
   "outputs": [
    {
     "name": "stdout",
     "output_type": "stream",
     "text": [
      "Hello world! vs Hello World!\n",
      "upper case: 'HELLO WORLD!' lower case: 'hello world!' and swapped: 'HEllO WorlD!'\n",
      "|         Hello World          |\n",
      "|lots of space|\n",
      "%s without leading/trailing d,h,L or ! = |%s| eLLo wOR\n",
      "Hello Class\n"
     ]
    }
   ],
   "source": [
    "# Example:\n",
    "\n",
    "s=\"heLLo wORLd!\"\n",
    "print(s.capitalize(),\"vs\",s.title())\n",
    "\n",
    "print(\"upper case: '%s'\"%s.upper(),\"lower case: '%s'\"%s.lower(),\"and swapped: '%s'\"%s.swapcase())\n",
    "\n",
    "print('|%s|' % \"Hello World\".center(30)) # center in 30 characters\n",
    "\n",
    "print('|%s|'% \"     lots of space             \".strip()) # remove leading and trailing whitespace\n",
    "\n",
    "print('%s without leading/trailing d,h,L or ! = |%s|',s.strip(\"dhL!\"))\n",
    "\n",
    "print(\"Hello World\".replace(\"World\",\"Class\"))"
   ]
  },
  {
   "cell_type": "code",
   "execution_count": 14,
   "metadata": {
    "ExecuteTime": {
     "end_time": "2021-10-02T09:54:41.665189Z",
     "start_time": "2021-10-02T09:54:41.658355Z"
    }
   },
   "outputs": [
    {
     "name": "stdout",
     "output_type": "stream",
     "text": [
      "Python datatypes\n"
     ]
    }
   ],
   "source": [
    "# capitalize(): \n",
    "\n",
    "challenge = 'Python Datatypes'\n",
    "print(challenge.capitalize()) # 'Python Datatypes'"
   ]
  },
  {
   "cell_type": "code",
   "execution_count": 15,
   "metadata": {
    "ExecuteTime": {
     "end_time": "2021-10-02T09:54:42.050983Z",
     "start_time": "2021-10-02T09:54:42.036334Z"
    }
   },
   "outputs": [
    {
     "name": "stdout",
     "output_type": "stream",
     "text": [
      "2\n",
      "1\n",
      "1\n"
     ]
    }
   ],
   "source": [
    "# count(): \n",
    "\n",
    "challenge = 'Python Datatypes'\n",
    "print(challenge.count('y')) # 2\n",
    "print(challenge.count('y', 6, 14)) # 1\n",
    "print(challenge.count('ty')) # 1"
   ]
  },
  {
   "cell_type": "code",
   "execution_count": 16,
   "metadata": {
    "ExecuteTime": {
     "end_time": "2021-10-02T09:54:42.358641Z",
     "start_time": "2021-10-02T09:54:42.343993Z"
    }
   },
   "outputs": [
    {
     "name": "stdout",
     "output_type": "stream",
     "text": [
      "True\n",
      "False\n"
     ]
    }
   ],
   "source": [
    "# endswith(): \n",
    "\n",
    "challenge = 'Python Datatypes'\n",
    "print(challenge.endswith('es'))   # True\n",
    "print(challenge.endswith('type')) # False"
   ]
  },
  {
   "cell_type": "code",
   "execution_count": 17,
   "metadata": {
    "ExecuteTime": {
     "end_time": "2021-10-02T09:54:42.681931Z",
     "start_time": "2021-10-02T09:54:42.667280Z"
    }
   },
   "outputs": [
    {
     "name": "stdout",
     "output_type": "stream",
     "text": [
      "Python  Datatypes\n",
      "Python    Datatypes\n"
     ]
    }
   ],
   "source": [
    "# expandtabs(): \n",
    "\n",
    "challenge = 'Python\\tDatatypes'\n",
    "print(challenge.expandtabs())   # 'Python  Datatypes'\n",
    "print(challenge.expandtabs(10)) # 'Python    Datatypes'"
   ]
  },
  {
   "cell_type": "code",
   "execution_count": 18,
   "metadata": {
    "ExecuteTime": {
     "end_time": "2021-10-02T09:54:42.958331Z",
     "start_time": "2021-10-02T09:54:42.943686Z"
    }
   },
   "outputs": [
    {
     "name": "stdout",
     "output_type": "stream",
     "text": [
      "1\n",
      "-1\n"
     ]
    }
   ],
   "source": [
    "# find():\n",
    "\n",
    "challenge = 'Python Datatypes'\n",
    "print(challenge.find('y'))  # 1\n",
    "print(challenge.find('u')) # -1"
   ]
  },
  {
   "cell_type": "code",
   "execution_count": 19,
   "metadata": {
    "ExecuteTime": {
     "end_time": "2021-10-02T09:54:43.065772Z",
     "start_time": "2021-10-02T09:54:43.039399Z"
    }
   },
   "outputs": [
    {
     "name": "stdout",
     "output_type": "stream",
     "text": [
      "I am Ajantha Devi. I am working as Research Head. I live in India.\n"
     ]
    }
   ],
   "source": [
    "# format()\t\n",
    "first_name = 'Ajantha'\n",
    "last_name = 'Devi'\n",
    "job = 'Research Head'\n",
    "country = 'India'\n",
    "sentence = 'I am {} {}. I am working as {}. I live in {}.'.format(first_name, last_name, job, country)\n",
    "print(sentence) # I am Ajantha Devi. I am working as Research Head. I live in India."
   ]
  },
  {
   "cell_type": "code",
   "execution_count": 20,
   "metadata": {
    "ExecuteTime": {
     "end_time": "2021-10-02T09:54:43.388076Z",
     "start_time": "2021-10-02T09:54:43.373431Z"
    }
   },
   "outputs": [
    {
     "name": "stdout",
     "output_type": "stream",
     "text": [
      "1\n",
      "2\n"
     ]
    }
   ],
   "source": [
    "# index():\n",
    "\n",
    "challenge = 'Python Datatypes'\n",
    "print(challenge.find('y'))  # 1\n",
    "print(challenge.find('th')) # 2"
   ]
  },
  {
   "cell_type": "code",
   "execution_count": 21,
   "metadata": {
    "ExecuteTime": {
     "end_time": "2021-10-02T09:54:43.675715Z",
     "start_time": "2021-10-02T09:54:43.661069Z"
    }
   },
   "outputs": [
    {
     "name": "stdout",
     "output_type": "stream",
     "text": [
      "True\n",
      "True\n",
      "False\n",
      "False\n"
     ]
    }
   ],
   "source": [
    "# isalnum(): \n",
    "\n",
    "challenge = 'PythonDatatypes'\n",
    "print(challenge.isalnum()) # True\n",
    "\n",
    "challenge = 'Pyth0nDatatypes'\n",
    "print(challenge.isalnum()) # True\n",
    "\n",
    "challenge = 'Python Datatypes'\n",
    "print(challenge.isalnum()) # False\n",
    "\n",
    "challenge = 'Python Datatypes 2021'\n",
    "print(challenge.isalnum()) # False"
   ]
  },
  {
   "cell_type": "code",
   "execution_count": 22,
   "metadata": {
    "ExecuteTime": {
     "end_time": "2021-10-02T09:54:43.876429Z",
     "start_time": "2021-10-02T09:54:43.867639Z"
    }
   },
   "outputs": [
    {
     "name": "stdout",
     "output_type": "stream",
     "text": [
      "True\n",
      "False\n"
     ]
    }
   ],
   "source": [
    "# isalpha(): \n",
    "\n",
    "challenge = 'PythonDatatypes'\n",
    "print(challenge.isalpha()) # True\n",
    "\n",
    "num = '123'\n",
    "print(num.isalpha())      # False"
   ]
  },
  {
   "cell_type": "code",
   "execution_count": 23,
   "metadata": {
    "ExecuteTime": {
     "end_time": "2021-10-02T09:54:44.367702Z",
     "start_time": "2021-10-02T09:54:44.353055Z"
    },
    "scrolled": true
   },
   "outputs": [
    {
     "name": "stdout",
     "output_type": "stream",
     "text": [
      "1\n",
      "2\n"
     ]
    }
   ],
   "source": [
    "# isdecimal(): \n",
    "\n",
    "challenge = 'Python Datatypes'\n",
    "print(challenge.find('y'))  # 1\n",
    "print(challenge.find('th')) # 2"
   ]
  },
  {
   "cell_type": "code",
   "execution_count": 24,
   "metadata": {
    "ExecuteTime": {
     "end_time": "2021-10-02T09:54:44.597228Z",
     "start_time": "2021-10-02T09:54:44.577696Z"
    }
   },
   "outputs": [
    {
     "name": "stdout",
     "output_type": "stream",
     "text": [
      "False\n",
      "True\n"
     ]
    }
   ],
   "source": [
    "# isdigit(): \n",
    "\n",
    "challenge = 'Ninety'\n",
    "print(challenge.isdigit()) # False\n",
    "challenge = '90'\n",
    "print(challenge.isdigit())   # True"
   ]
  },
  {
   "cell_type": "code",
   "execution_count": 25,
   "metadata": {
    "ExecuteTime": {
     "end_time": "2021-10-02T09:54:44.904399Z",
     "start_time": "2021-10-02T09:54:44.895612Z"
    }
   },
   "outputs": [
    {
     "name": "stdout",
     "output_type": "stream",
     "text": [
      "True\n",
      "False\n"
     ]
    }
   ],
   "source": [
    "# isdecimal():\n",
    "num = '30'\n",
    "print(num.isdecimal()) # True\n",
    "num = '30.6'\n",
    "print(num.isdecimal()) # False"
   ]
  },
  {
   "cell_type": "code",
   "execution_count": 26,
   "metadata": {
    "ExecuteTime": {
     "end_time": "2021-10-02T09:54:45.122200Z",
     "start_time": "2021-10-02T09:54:45.101693Z"
    }
   },
   "outputs": [
    {
     "name": "stdout",
     "output_type": "stream",
     "text": [
      "False\n",
      "True\n"
     ]
    }
   ],
   "source": [
    "# isidentifier():\n",
    "\n",
    "challenge = '2021PythonDatatypes'\n",
    "print(challenge.isidentifier()) # False, because it starts with a number\n",
    "challenge = 'Python_Datatypes'\n",
    "print(challenge.isidentifier()) # True"
   ]
  },
  {
   "cell_type": "code",
   "execution_count": 27,
   "metadata": {
    "ExecuteTime": {
     "end_time": "2021-10-02T09:54:45.612994Z",
     "start_time": "2021-10-02T09:54:45.606157Z"
    }
   },
   "outputs": [
    {
     "name": "stdout",
     "output_type": "stream",
     "text": [
      "True\n",
      "False\n"
     ]
    }
   ],
   "source": [
    "# islower():\n",
    "\n",
    "challenge = 'python datatypes'\n",
    "print(challenge.islower()) # True\n",
    "challenge = 'Python datatypes'\n",
    "print(challenge.islower()) # False"
   ]
  },
  {
   "cell_type": "code",
   "execution_count": 28,
   "metadata": {
    "ExecuteTime": {
     "end_time": "2021-10-02T09:54:45.998787Z",
     "start_time": "2021-10-02T09:54:45.984139Z"
    }
   },
   "outputs": [
    {
     "name": "stdout",
     "output_type": "stream",
     "text": [
      "False\n",
      "True\n"
     ]
    }
   ],
   "source": [
    "# isupper(): \n",
    "challenge = 'python datatypes'\n",
    "print(challenge.isupper()) #  False\n",
    "challenge = 'PYTHON DATATYPES'\n",
    "print(challenge.isupper()) # True"
   ]
  },
  {
   "cell_type": "code",
   "execution_count": 29,
   "metadata": {
    "ExecuteTime": {
     "end_time": "2021-10-02T09:54:46.582851Z",
     "start_time": "2021-10-02T09:54:46.575041Z"
    }
   },
   "outputs": [
    {
     "name": "stdout",
     "output_type": "stream",
     "text": [
      "True\n",
      "False\n"
     ]
    }
   ],
   "source": [
    "# isnumeric():\n",
    "\n",
    "num = '90'\n",
    "print(num.isnumeric())         # True\n",
    "print('ninety'.isnumeric())    # False"
   ]
  },
  {
   "cell_type": "code",
   "execution_count": 30,
   "metadata": {
    "ExecuteTime": {
     "end_time": "2021-10-02T09:54:46.923717Z",
     "start_time": "2021-10-02T09:54:46.909068Z"
    }
   },
   "outputs": [
    {
     "name": "stdout",
     "output_type": "stream",
     "text": [
      "HTML#, CSS#, JavaScript#, React\n"
     ]
    }
   ],
   "source": [
    "# join(): \n",
    "\n",
    "web_tech = ['HTML', 'CSS', 'JavaScript', 'React']\n",
    "result = '#, '.join(web_tech)\n",
    "print(result) # 'HTML# CSS# JavaScript# React'"
   ]
  },
  {
   "cell_type": "code",
   "execution_count": 31,
   "metadata": {
    "ExecuteTime": {
     "end_time": "2021-10-02T09:54:47.339298Z",
     "start_time": "2021-10-02T09:54:47.325629Z"
    }
   },
   "outputs": [
    {
     "name": "stdout",
     "output_type": "stream",
     "text": [
      " python datatypes \n"
     ]
    }
   ],
   "source": [
    "# strip(): \n",
    "\n",
    "challenge = ' python datatypes '\n",
    "print(challenge.strip('y')) # 5"
   ]
  },
  {
   "cell_type": "code",
   "execution_count": 32,
   "metadata": {
    "ExecuteTime": {
     "end_time": "2021-10-02T09:54:47.706536Z",
     "start_time": "2021-10-02T09:54:47.692864Z"
    }
   },
   "outputs": [
    {
     "name": "stdout",
     "output_type": "stream",
     "text": [
      "python data-types\n"
     ]
    }
   ],
   "source": [
    "# replace(): \n",
    "\n",
    "challenge = 'python datatypes'\n",
    "print(challenge.replace('datatypes', 'data-types')) # 'thirty days of coding'"
   ]
  },
  {
   "cell_type": "code",
   "execution_count": 33,
   "metadata": {
    "ExecuteTime": {
     "end_time": "2021-10-02T09:54:48.015660Z",
     "start_time": "2021-10-02T09:54:47.999062Z"
    }
   },
   "outputs": [
    {
     "name": "stdout",
     "output_type": "stream",
     "text": [
      "['python', 'datatypes']\n"
     ]
    }
   ],
   "source": [
    "# split():\n",
    "\n",
    "challenge = 'python datatypes'\n",
    "print(challenge.split()) # ['python', 'datatypes']"
   ]
  },
  {
   "cell_type": "code",
   "execution_count": 34,
   "metadata": {
    "ExecuteTime": {
     "end_time": "2021-10-02T09:54:48.385339Z",
     "start_time": "2021-10-02T09:54:48.371668Z"
    }
   },
   "outputs": [
    {
     "name": "stdout",
     "output_type": "stream",
     "text": [
      "Python Datatypes\n"
     ]
    }
   ],
   "source": [
    "# title(): \n",
    "\n",
    "challenge = 'python datatypes'\n",
    "print(challenge.title()) # Python Datatypes"
   ]
  },
  {
   "cell_type": "code",
   "execution_count": 35,
   "metadata": {
    "ExecuteTime": {
     "end_time": "2021-10-02T09:54:48.739886Z",
     "start_time": "2021-10-02T09:54:48.726213Z"
    }
   },
   "outputs": [
    {
     "name": "stdout",
     "output_type": "stream",
     "text": [
      "PYTHON DATATYPES\n",
      "pYTHON dATATYPES\n"
     ]
    }
   ],
   "source": [
    "# swapcase(): \n",
    "  \n",
    "challenge = 'python datatypes'\n",
    "print(challenge.swapcase())   # PYTHON DATATYPES\n",
    "challenge = 'Python Datatypes'\n",
    "print(challenge.swapcase())  # pYTHON dATATYPES"
   ]
  },
  {
   "cell_type": "code",
   "execution_count": 36,
   "metadata": {
    "ExecuteTime": {
     "end_time": "2021-10-02T09:54:49.063167Z",
     "start_time": "2021-10-02T09:54:49.051449Z"
    }
   },
   "outputs": [
    {
     "name": "stdout",
     "output_type": "stream",
     "text": [
      "True\n",
      "False\n"
     ]
    }
   ],
   "source": [
    "# startswith(): \n",
    "\n",
    "challenge = 'python datatypes'\n",
    "print(challenge.startswith('python')) # True\n",
    "challenge = '2 python datatypes'\n",
    "print(challenge.startswith('two')) # False"
   ]
  },
  {
   "cell_type": "markdown",
   "metadata": {},
   "source": [
    "#### Inspecting Strings\n",
    "\n",
    "There are also lost of ways to inspect or check strings. Examples of a few of these are given here:\n",
    "\n",
    "* Checking the start or end of a string: **`startswith(\"string\")`** and **`endswith(\"string\")`** checks if it starts/ends with the string given as argument\n",
    "\n",
    "* Capitalisation: There are boolean counterparts for all forms of capitalisation, such as **`isupper()`**, **`islower()`** and **`istitle()`**\n",
    "\n",
    "* Character type: does the string only contain the characters:\n",
    "  * 0-9: **`isdecimal()`**. Note there is also **`isnumeric()`** and **`isdigit()`** which are effectively the same function except for certain unicode characters\n",
    "  * a-zA-Z: **`isalpha()`** or combined with digits: **`isalnum()`**\n",
    "  * non-control code: **`isprintable()`** accepts anything except '\\n' an other ASCII control codes\n",
    "  * \\t\\n \\r (white space characters): **`isspace()`**\n",
    "  * Suitable as variable name: **`isidentifier()`**\n",
    "  \n",
    "* Find elements of string: **`s.count(w)`** finds the number of times **`w`** occurs in **`s`**, while **`s.find(w)`** and **`s.rfind(w)`** find the first and last position of the string **`w`** in **`s`**."
   ]
  },
  {
   "cell_type": "code",
   "execution_count": 37,
   "metadata": {
    "ExecuteTime": {
     "end_time": "2021-10-02T09:54:50.266457Z",
     "start_time": "2021-10-02T09:54:50.251809Z"
    },
    "scrolled": true
   },
   "outputs": [
    {
     "name": "stdout",
     "output_type": "stream",
     "text": [
      "The length of 'Hello World' is 11 characters\n",
      "There are 3 'l's but only 1 World in Hello World\n",
      "\"el\" is at index 1 in Hello World\n"
     ]
    }
   ],
   "source": [
    "# Example:\n",
    "\n",
    "s=\"Hello World\"\n",
    "print(\"The length of '%s' is\"%s,len(s),\"characters\") # len() gives length of the string\n",
    "\n",
    "s.startswith(\"Hello\") and s.endswith(\"World\") # check start/end\n",
    "\n",
    "# count strings\n",
    "print(\"There are %d 'l's but only %d World in %s\" % (s.count('l'),s.count('World'),s))\n",
    "\n",
    "print('\"el\" is at index',s.find('el'),\"in\",s) #index from 0 or -1"
   ]
  },
  {
   "cell_type": "markdown",
   "metadata": {},
   "source": [
    "## 💻 Exercises ➞ <span class='label label-default'>String</span>\n",
    "\n",
    "1. Concatenate the string **`Python`**, **`4`**, **`Data`**, **`Science`** to a single string, **`Python 4 Data Science`**.\n",
    "\n",
    "2. Declare a variable named **`course`** and assign it to an initial value **`Python 4 Data Science`**.\n",
    "\n",
    "3. Print the length of the **`course`** string using **[len()](https://github.com/milaan9/04_Python_Functions/blob/main/002_Python_Functions_Built_in/040_Python_len%28%29.ipynb)** method and **[print()](https://github.com/milaan9/04_Python_Functions/blob/main/002_Python_Functions_Built_in/051_Python_print%28%29.ipynb)**.\n",
    "\n",
    "4. Change all the characters of variable company to uppercase and lowercase letters using **[upper()](https://github.com/milaan9/02_Python_Datatypes/blob/main/002_Python_String_Methods/026_Python_String_upper%28%29.ipynb)** and **[lower()](https://github.com/milaan9/02_Python_Datatypes/blob/main/002_Python_String_Methods/025_Python_String_lower%28%29.ipynb)** method.\n",
    "\n",
    "5. Use **[capitalize()](https://github.com/milaan9/02_Python_Datatypes/blob/main/002_Python_String_Methods/001_Python_String_capitalize%28%29.ipynb)**, **[title()](https://github.com/milaan9/02_Python_Datatypes/blob/main/002_Python_String_Methods/042_Python_String_title%28%29.ipynb)**, **[swapcase()](https://github.com/milaan9/02_Python_Datatypes/blob/main/002_Python_String_Methods/027_Python_String_swapcase%28%29.ipynb)** methods to format the value of the string **`Python 4 Data Science`**.\n",
    "\n",
    "6. Cut(slice) out the first word of **`Python 4 Data Science`**.\n",
    "\n",
    "7. Check if **`Python 4 Data Science`** string contains a word **`Python`** using the method: **[index()](https://github.com/milaan9/02_Python_Datatypes/blob/main/002_Python_String_Methods/010_Python_String_index%28%29.ipynb)**, **[find()](https://github.com/milaan9/02_Python_Datatypes/blob/main/002_Python_String_Methods/008_Python_String_find%28%29.ipynb)** or other methods.\n",
    "\n",
    "8. Change **`Python 4 Data Science`** to **`Python 4 Everybody`** using the **[replace()](https://github.com/milaan9/02_Python_Datatypes/blob/main/002_Python_String_Methods/035_Python_String_replace%28%29.ipynb)** method or other methods.\n",
    "\n",
    "9. Split the string **`Python 4 Data Science`** using space as the separator (**[split()](https://github.com/milaan9/02_Python_Datatypes/blob/main/002_Python_String_Methods/038_Python_String_split%28%29.ipynb)**).\n",
    "\n",
    "11. **`Google, Facebook, Microsoft, Apple, IBM, Oracle, Amazon`** split the string at the comma.\n",
    "\n",
    "12. What is the character at index 9 in the string **`Python 4 Data Science`**.\n",
    "\n",
    "13. What is the second last index of the string **`Python 4 Data Science`**.\n",
    "\n",
    "14. Create an acronym or an abbreviation for the name **`Python 4 Data Science`**.\n",
    "\n",
    "15. Use **[index()](https://github.com/milaan9/02_Python_Datatypes/blob/main/002_Python_String_Methods/010_Python_String_index%28%29.ipynb)** to determine the position of the first occurrence of **`D`** in **`Python 4 Data Science`**.\n",
    "\n",
    "16. Use **[rfind](https://github.com/milaan9/02_Python_Datatypes/blob/main/002_Python_String_Methods/036_Python_String_rfind%28%29.ipynb)** to determine the position of the last occurrence of **`e`** in **`Python 4 Data Science`**.\n",
    "\n",
    "17. Use **[index()](https://github.com/milaan9/02_Python_Datatypes/blob/main/002_Python_String_Methods/010_Python_String_index%28%29.ipynb)** or **[find()](https://github.com/milaan9/02_Python_Datatypes/blob/main/002_Python_String_Methods/008_Python_String_find%28%29.ipynb)** to find the position of the first occurrence of the word **`because`** in the following sentence: \n",
    "\n",
    "    - **`We cannot end the sentence with ‘because’, because ‘because’ is a conjunction.`**.\n",
    "\n",
    "18. Use **[rindex](https://github.com/milaan9/02_Python_Datatypes/blob/main/002_Python_String_Methods/037_Python_String_rindex%28%29.ipynb)** to find the position of the first and last occurrence of the word **`because`** in the following sentence: \n",
    "\n",
    "    - **`We cannot end the sentence with ‘because’, because ‘because’ is a conjunction.`**.\n",
    "\n",
    "19. Slice out the phrase **`‘because’, because ‘because’`** in the following sentence: \n",
    "\n",
    "    - **`We cannot end the sentence with ‘because’, because ‘because’ is a conjunction.`**.\n",
    "\n",
    "20. Does **`Python 4 Data Science`** start with a substring **`Python`**?\n",
    "\n",
    "21. Does '**`Python 4 Data Science`** contains with a substring **`Python`**?\n",
    "\n",
    "22. **`             Python 4 DataScience                                  `** remove the left and right trailing spaces in the given string.\n",
    "\n",
    "23. The following list contains the names of some of python libraries: **`['Django', 'Flask', 'Bottle', 'Pyramid', 'Falcon']`**. Join the list with a hash with space string.\n",
    "\n",
    "24. Which one of the following variables return True when we use the method **[isidentifier()](https://github.com/milaan9/02_Python_Datatypes/blob/main/002_Python_String_Methods/015_Python_String_isidentifier%28%29.ipynb)**\n",
    "    - ```py\n",
    "    2021PythonDataypes\n",
    "    Python_Dataypes_2021\n",
    "    ```\n",
    "25. Make the following using string formatting methods:\n",
    "\n",
    "    - ```py\n",
    "8 + 6 = 14\n",
    "8 - 6 = 2\n",
    "8 * 6 = 48\n",
    "8 / 6 = 1.33\n",
    "8 % 6 = 2\n",
    "8 // 6 = 1\n",
    "8 ** 6 = 262144\n",
    "    ```\n",
    "\n",
    "26. Use a **new line** and **tab** escape sequence to print the following lines.\n",
    "    - ```py\n",
    "    Name      Age     Country   City\n",
    "    Ajantha    96      India    Chennai\n",
    "    ```"
   ]
  },
  {
   "cell_type": "markdown",
   "metadata": {},
   "source": [
    "## Advanced string processing\n",
    "For more advanced string processing there are many libraries available in Python including for example:\n",
    "* **re** for regular expression based searching and splitting of strings\n",
    "* **html** for manipulating HTML format text\n",
    "* **textwrap** for reformatting ASCII text\n",
    "* ... and many more"
   ]
  },
  {
   "cell_type": "code",
   "execution_count": null,
   "metadata": {},
   "outputs": [],
   "source": []
  }
 ],
 "metadata": {
  "hide_input": false,
  "kernelspec": {
   "display_name": "Python 3 (ipykernel)",
   "language": "python",
   "name": "python3"
  },
  "language_info": {
   "codemirror_mode": {
    "name": "ipython",
    "version": 3
   },
   "file_extension": ".py",
   "mimetype": "text/x-python",
   "name": "python",
   "nbconvert_exporter": "python",
   "pygments_lexer": "ipython3",
   "version": "3.9.7"
  },
  "toc": {
   "base_numbering": 1,
   "nav_menu": {},
   "number_sections": true,
   "sideBar": true,
   "skip_h1_title": false,
   "title_cell": "Table of Contents",
   "title_sidebar": "Contents",
   "toc_cell": false,
   "toc_position": {},
   "toc_section_display": true,
   "toc_window_display": false
  },
  "varInspector": {
   "cols": {
    "lenName": 16,
    "lenType": 16,
    "lenVar": 40
   },
   "kernels_config": {
    "python": {
     "delete_cmd_postfix": "",
     "delete_cmd_prefix": "del ",
     "library": "var_list.py",
     "varRefreshCmd": "print(var_dic_list())"
    },
    "r": {
     "delete_cmd_postfix": ") ",
     "delete_cmd_prefix": "rm(",
     "library": "var_list.r",
     "varRefreshCmd": "cat(var_dic_list()) "
    }
   },
   "types_to_exclude": [
    "module",
    "function",
    "builtin_function_or_method",
    "instance",
    "_Feature"
   ],
   "window_display": false
  }
 },
 "nbformat": 4,
 "nbformat_minor": 2
}
