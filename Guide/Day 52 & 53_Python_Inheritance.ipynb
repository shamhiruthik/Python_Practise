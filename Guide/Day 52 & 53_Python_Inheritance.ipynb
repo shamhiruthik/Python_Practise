{
 "cells": [
  {
   "cell_type": "markdown",
   "metadata": {},
   "source": [
    "# Python Inheritance\n",
    " \n",
    " In this session, you will learn to use inheritance in Python."
   ]
  },
  {
   "cell_type": "markdown",
   "metadata": {},
   "source": [
    "## Inheritance in Python\n",
    "\n",
    "\n",
    "\n",
    "<div>\n",
    "<img src=\"img/i.png\" width=\"150\"/>\n",
    "</div>"
   ]
  },
  {
   "cell_type": "markdown",
   "metadata": {},
   "source": [
    "**Syntax:**\n",
    "\n",
    "```python\n",
    "class BaseClass:\n",
    "    Body of base class\n",
    "class DerivedClass(BaseClass):\n",
    "    Body of derived class\n",
    "```"
   ]
  },
  {
   "cell_type": "markdown",
   "metadata": {},
   "source": [
    "## Types Of Inheritance\n",
    "\n",
    "In Python, based upon the number of child and parent classes involved, there are five types of inheritance. The type of inheritance are listed below:\n",
    "<b>\n",
    "1. Single Inheritance\n",
    "2. Multiple Inheritance\n",
    "3. Multilevel inheritance\n",
    "4. Hierarchical Inheritance\n",
    "5. Hybrid Inheritance\n",
    "</b>\n",
    "Now let’s see each in detail with example."
   ]
  },
  {
   "cell_type": "markdown",
   "metadata": {},
   "source": [
    "## Python Single Inheritance\n",
    "\n",
    "\n",
    "\n",
    "<div>\n",
    "<img src=\"img/si.png\" width=\"150\"/>\n",
    "</div>\n",
    "\n"
   ]
  },
  {
   "cell_type": "code",
   "execution_count": 1,
   "metadata": {
    "ExecuteTime": {
     "end_time": "2021-06-20T19:10:28.178811Z",
     "start_time": "2021-06-20T19:10:28.165139Z"
    }
   },
   "outputs": [
    {
     "name": "stdout",
     "output_type": "stream",
     "text": [
      "Inside Vehicle class\n",
      "Inside Car class\n"
     ]
    }
   ],
   "source": [
    "# Example 1: Single Inheritance\n",
    "\n",
    "# Base class\n",
    "class Vehicle:\n",
    "    def Vehicle_info(self):\n",
    "        print('Inside Vehicle class')\n",
    "\n",
    "# Derived class\n",
    "class Car(Vehicle):\n",
    "    def car_info(self):\n",
    "        print('Inside Car class')\n",
    "\n",
    "# Create object of Car\n",
    "car = Car()\n",
    "\n",
    "# access Vehicle's info using car object\n",
    "car.Vehicle_info()\n",
    "car.car_info()"
   ]
  },
  {
   "cell_type": "markdown",
   "metadata": {},
   "source": [
    "## Python Multiple Inheritance\n",
    "\n",
    "\n",
    "\n",
    "<div>\n",
    "<img src=\"img/mpi.png\" width=\"400\"/>\n",
    "</div>\n",
    "\n"
   ]
  },
  {
   "cell_type": "code",
   "execution_count": 2,
   "metadata": {
    "ExecuteTime": {
     "end_time": "2021-06-20T19:10:31.094801Z",
     "start_time": "2021-06-20T19:10:31.069415Z"
    }
   },
   "outputs": [
    {
     "name": "stdout",
     "output_type": "stream",
     "text": [
      "Inside Person class\n",
      "Name: Ajantha Age: 93\n",
      "Inside Company class\n",
      "Name: AP3-Solutions location: India\n",
      "Inside Employee class\n",
      "Salary: 19000 Skill: Machine Learning\n"
     ]
    }
   ],
   "source": [
    "# Example 1: Multiple Inheritance\n",
    "\n",
    "# Base class 1\n",
    "class Person:\n",
    "    def person_info(self, name, age):\n",
    "        print('Inside Person class')\n",
    "        print('Name:', name, 'Age:', age)\n",
    "\n",
    "# Base class 2\n",
    "class Company:\n",
    "    def company_info(self, company_name, location):\n",
    "        print('Inside Company class')\n",
    "        print('Name:', company_name, 'location:', location)\n",
    "\n",
    "# Derived class\n",
    "class Employee(Person, Company):\n",
    "    def Employee_info(self, salary, skill):\n",
    "        print('Inside Employee class')\n",
    "        print('Salary:', salary, 'Skill:', skill)\n",
    "\n",
    "# Create object of Employee\n",
    "emp = Employee()\n",
    "\n",
    "# access data\n",
    "emp.person_info('Ajantha', 93)\n",
    "emp.company_info('AP3-Solutions', 'India')\n",
    "emp.Employee_info(19000, 'Machine Learning')"
   ]
  },
  {
   "cell_type": "code",
   "execution_count": 3,
   "metadata": {
    "ExecuteTime": {
     "end_time": "2021-06-20T19:10:31.849192Z",
     "start_time": "2021-06-20T19:10:31.830639Z"
    },
    "scrolled": false
   },
   "outputs": [
    {
     "name": "stdout",
     "output_type": "stream",
     "text": [
      "first\n",
      "second\n",
      "third\n"
     ]
    }
   ],
   "source": [
    "# Example 2:\n",
    "\n",
    "class First(object):  # Base class1\n",
    "    def __init__(self):\n",
    "        super(First, self).__init__()\n",
    "        print(\"first\")\n",
    "\n",
    "class Second(object):  # Base class2\n",
    "    def __init__(self):\n",
    "        super(Second, self).__init__()\n",
    "        print(\"second\")\n",
    "\n",
    "class Third(Second, First):  # Derived class derived from Base class 1 and Base class 2\n",
    "    def __init__(self):\n",
    "        super(Third, self).__init__()\n",
    "        print(\"third\")\n",
    "\n",
    "Third(); #call Third class constructor"
   ]
  },
  {
   "cell_type": "code",
   "execution_count": 4,
   "metadata": {
    "ExecuteTime": {
     "end_time": "2021-06-20T19:10:32.497625Z",
     "start_time": "2021-06-20T19:10:32.481024Z"
    }
   },
   "outputs": [
    {
     "name": "stdout",
     "output_type": "stream",
     "text": [
      "Dog has four legs.\n",
      "Dog is a warm-blooded animal.\n"
     ]
    }
   ],
   "source": [
    "# Example 3:\n",
    "\n",
    "class Mammal(object):\n",
    "    def __init__(self, mammalName):\n",
    "        print(mammalName, 'is a warm-blooded animal.')\n",
    "    \n",
    "class Dog(Mammal):\n",
    "    def __init__(self):\n",
    "        print('Dog has four legs.')\n",
    "        super().__init__('Dog')\n",
    "    \n",
    "d1 = Dog()"
   ]
  },
  {
   "cell_type": "markdown",
   "metadata": {},
   "source": [
    "\n",
    "```python\n",
    "# changing base class to CanidaeFamily\n",
    "class Dog(CanidaeFamily):\n",
    "  def __init__(self):\n",
    "    print('Dog has four legs.')\n",
    "\n",
    "    # no need to change this\n",
    "    super().__init__('Dog')\n",
    "```"
   ]
  },
  {
   "cell_type": "code",
   "execution_count": 5,
   "metadata": {
    "ExecuteTime": {
     "end_time": "2021-06-20T19:10:34.033744Z",
     "start_time": "2021-06-20T19:10:34.014214Z"
    }
   },
   "outputs": [
    {
     "name": "stdout",
     "output_type": "stream",
     "text": [
      "Dog has 4 legs.\n",
      "Dog can't swim.\n",
      "Dog can't fly.\n",
      "Dog is a warm-blooded animal.\n",
      "Dog is an animal.\n",
      "\n",
      "Bat can't swim.\n",
      "Bat is a warm-blooded animal.\n",
      "Bat is an animal.\n"
     ]
    }
   ],
   "source": [
    "# Example 4:\n",
    "\n",
    "class Animal:\n",
    "    def __init__(self, Animal):\n",
    "        print(Animal, 'is an animal.');\n",
    "\n",
    "class Mammal(Animal):  # Mammal derived to Animal\n",
    "    def __init__(self, mammalName):\n",
    "        print(mammalName, 'is a warm-blooded animal.')\n",
    "        super().__init__(mammalName)\n",
    "    \n",
    "class NonWingedMammal(Mammal):  # NonWingedMammal derived from Mammal (derived from Animal)\n",
    "    def __init__(self, NonWingedMammal):\n",
    "        print(NonWingedMammal, \"can't fly.\")\n",
    "        super().__init__(NonWingedMammal)\n",
    "\n",
    "class NonMarineMammal(Mammal):  # NonMarineMammal derived from Mammal (derived from Animal)\n",
    "    def __init__(self, NonMarineMammal):\n",
    "        print(NonMarineMammal, \"can't swim.\")\n",
    "        super().__init__(NonMarineMammal)\n",
    "\n",
    "class Dog(NonMarineMammal, NonWingedMammal):  # Dog derived from NonMarineMammal and NonWingedMammal\n",
    "    def __init__(self):\n",
    "        print('Dog has 4 legs.');\n",
    "        super().__init__('Dog')\n",
    "    \n",
    "d = Dog()\n",
    "print('')\n",
    "bat = NonMarineMammal('Bat')"
   ]
  },
  {
   "cell_type": "markdown",
   "metadata": {},
   "source": [
    "### Why `super()` keyword\n",
    "\n",
    "\n",
    "```python\n",
    "class Child(Parent):\n",
    "    def __init__(self, stuff)\n",
    "        self.stuff = stuff\n",
    "        super(Child, self).__init__()\n",
    "```"
   ]
  },
  {
   "cell_type": "markdown",
   "metadata": {},
   "source": [
    "### Private members of parent class\n",
    "\n"
   ]
  },
  {
   "cell_type": "code",
   "execution_count": 6,
   "metadata": {
    "ExecuteTime": {
     "end_time": "2021-06-20T19:10:36.334505Z",
     "start_time": "2021-06-20T19:10:36.021035Z"
    },
    "scrolled": false
   },
   "outputs": [
    {
     "ename": "AttributeError",
     "evalue": "type object 'D' has no attribute 'd'",
     "output_type": "error",
     "traceback": [
      "\u001b[1;31m---------------------------------------------------------------------------\u001b[0m",
      "\u001b[1;31mAttributeError\u001b[0m                            Traceback (most recent call last)",
      "\u001b[1;32m~\\AppData\\Local\\Temp/ipykernel_20408/40591809.py\u001b[0m in \u001b[0;36m<module>\u001b[1;34m\u001b[0m\n\u001b[0;32m     16\u001b[0m \u001b[0mobject1\u001b[0m \u001b[1;33m=\u001b[0m \u001b[0mD\u001b[0m\u001b[1;33m(\u001b[0m\u001b[1;33m)\u001b[0m\u001b[1;33m\u001b[0m\u001b[1;33m\u001b[0m\u001b[0m\n\u001b[0;32m     17\u001b[0m \u001b[1;31m# produces an error as d is private instance variable\u001b[0m\u001b[1;33m\u001b[0m\u001b[1;33m\u001b[0m\u001b[0m\n\u001b[1;32m---> 18\u001b[1;33m \u001b[0mprint\u001b[0m\u001b[1;33m(\u001b[0m\u001b[0mD\u001b[0m\u001b[1;33m.\u001b[0m\u001b[0md\u001b[0m\u001b[1;33m)\u001b[0m\u001b[1;33m\u001b[0m\u001b[1;33m\u001b[0m\u001b[0m\n\u001b[0m",
      "\u001b[1;31mAttributeError\u001b[0m: type object 'D' has no attribute 'd'"
     ]
    }
   ],
   "source": [
    "## Example:\n",
    "\n",
    "# Python program to demonstrate private members\n",
    "# of the parent class\n",
    "class C(object):\n",
    "    def __init__(self):\n",
    "            self.c = 21\n",
    "            # d is private instance variable\n",
    "            self.__d = 42  # Note: before 'd' there are two '_'\n",
    "\n",
    "class D(C):\n",
    "    def __init__(self):\n",
    "            self.e = 84\n",
    "            C.__init__(self)\n",
    "\n",
    "object1 = D()\n",
    "# produces an error as d is private instance variable\n",
    "print(D.d)"
   ]
  },
  {
   "cell_type": "markdown",
   "metadata": {},
   "source": [
    "## Python Multilevel Inheritance\n",
    "\n",
    "\n",
    "\n",
    "<div>\n",
    "<img src=\"img/mli.png\" width=\"150\"/>\n",
    "</div>\n",
    "\n"
   ]
  },
  {
   "cell_type": "code",
   "execution_count": 7,
   "metadata": {
    "ExecuteTime": {
     "end_time": "2021-06-20T19:10:37.424343Z",
     "start_time": "2021-06-20T19:10:37.413604Z"
    }
   },
   "outputs": [
    {
     "name": "stdout",
     "output_type": "stream",
     "text": [
      "Inside Vehicle class\n",
      "Inside Car class\n",
      "Inside SportsCar class\n"
     ]
    }
   ],
   "source": [
    "# Example 1:\n",
    "\n",
    "# Base class\n",
    "class Vehicle:\n",
    "    def Vehicle_info(self):\n",
    "        print('Inside Vehicle class')\n",
    "\n",
    "# Child class\n",
    "class Car(Vehicle):\n",
    "    def car_info(self):\n",
    "        print('Inside Car class')\n",
    "\n",
    "# Child class\n",
    "class SportsCar(Car):\n",
    "    def sports_car_info(self):\n",
    "        print('Inside SportsCar class')\n",
    "\n",
    "# Create object of SportsCar\n",
    "s_car = SportsCar()\n",
    "\n",
    "# access Vehicle's and Car info using SportsCar object\n",
    "s_car.Vehicle_info()\n",
    "s_car.car_info()\n",
    "s_car.sports_car_info()\n"
   ]
  },
  {
   "cell_type": "code",
   "execution_count": 8,
   "metadata": {
    "ExecuteTime": {
     "end_time": "2021-06-20T19:10:38.178241Z",
     "start_time": "2021-06-20T19:10:38.156761Z"
    }
   },
   "outputs": [
    {
     "name": "stdout",
     "output_type": "stream",
     "text": [
      "Eating...\n",
      "Barking...\n",
      "Weeping...\n"
     ]
    }
   ],
   "source": [
    "# Example 2:\n",
    "\n",
    "class Animal:  # grandparent class\n",
    "    def eat(self):\n",
    "        print('Eating...')\n",
    "\n",
    "class Dog(Animal):  # parent class\n",
    "    def bark(self):\n",
    "        print('Barking...')\n",
    "\n",
    "class BabyDog(Dog):  # child class\n",
    "    def weep(self):\n",
    "        print('Weeping...')\n",
    "\n",
    "d=BabyDog()\n",
    "d.eat()\n",
    "d.bark()\n",
    "d.weep()"
   ]
  },
  {
   "cell_type": "markdown",
   "metadata": {},
   "source": [
    "## Hierarchical Inheritance\n",
    "\n",
    "\n",
    "<div>\n",
    "<img src=\"img/hi.png\" width=\"500\"/>\n",
    "</div>"
   ]
  },
  {
   "cell_type": "code",
   "execution_count": 9,
   "metadata": {
    "ExecuteTime": {
     "end_time": "2021-06-20T19:10:39.548350Z",
     "start_time": "2021-06-20T19:10:39.526867Z"
    }
   },
   "outputs": [
    {
     "name": "stdout",
     "output_type": "stream",
     "text": [
      "This is Vehicle\n",
      "Car name is: BMW\n",
      "This is Vehicle\n",
      "Truck name is: Ford\n"
     ]
    }
   ],
   "source": [
    "# Example 1:\n",
    "\n",
    "class Vehicle:\n",
    "    def info(self):\n",
    "        print(\"This is Vehicle\")\n",
    "\n",
    "class Car(Vehicle):\n",
    "    def car_info(self, name):\n",
    "        print(\"Car name is:\", name)\n",
    "\n",
    "class Truck(Vehicle):\n",
    "    def truck_info(self, name):\n",
    "        print(\"Truck name is:\", name)\n",
    "\n",
    "obj1 = Car()\n",
    "obj1.info()\n",
    "obj1.car_info('BMW')\n",
    "\n",
    "obj2 = Truck()\n",
    "obj2.info()\n",
    "obj2.truck_info('Ford')"
   ]
  },
  {
   "cell_type": "markdown",
   "metadata": {},
   "source": [
    "## Hybrid Inheritance\n",
    "\n",
    "\n",
    "\n",
    "<div>\n",
    "<img src=\"img/hbi.png\" width=\"500\"/>\n",
    "</div>"
   ]
  },
  {
   "cell_type": "code",
   "execution_count": 10,
   "metadata": {
    "ExecuteTime": {
     "end_time": "2021-06-20T19:10:40.928707Z",
     "start_time": "2021-06-20T19:10:40.909180Z"
    },
    "scrolled": true
   },
   "outputs": [
    {
     "name": "stdout",
     "output_type": "stream",
     "text": [
      "Inside Vehicle class\n",
      "Inside Car class\n",
      "Inside SportsCar class\n"
     ]
    }
   ],
   "source": [
    "# Example 1:\n",
    "\n",
    "class Vehicle:\n",
    "    def vehicle_info(self):\n",
    "        print(\"Inside Vehicle class\")\n",
    "\n",
    "class Car(Vehicle):\n",
    "    def car_info(self):\n",
    "        print(\"Inside Car class\")\n",
    "\n",
    "class Truck(Vehicle):\n",
    "    def truck_info(self):\n",
    "        print(\"Inside Truck class\")\n",
    "\n",
    "# Sports Car can inherits properties of Vehicle and Car\n",
    "class SportsCar(Car, Vehicle):\n",
    "    def sports_car_info(self):\n",
    "        print(\"Inside SportsCar class\")\n",
    "\n",
    "# create object\n",
    "s_car = SportsCar()\n",
    "\n",
    "s_car.vehicle_info()\n",
    "s_car.car_info()\n",
    "s_car.sports_car_info()"
   ]
  },
  {
   "cell_type": "markdown",
   "metadata": {},
   "source": [
    "## Example of Inheritance in Python\n",
    "\n"
   ]
  },
  {
   "cell_type": "code",
   "execution_count": 11,
   "metadata": {
    "ExecuteTime": {
     "end_time": "2021-06-20T19:10:42.466782Z",
     "start_time": "2021-06-20T19:10:42.446277Z"
    }
   },
   "outputs": [],
   "source": [
    "class Polygon:\n",
    "    def __init__(self, no_of_sides):\n",
    "        self.n = no_of_sides\n",
    "        self.sides = [0 for i in range(no_of_sides)]\n",
    "\n",
    "    def inputSides(self):\n",
    "        self.sides = [float(input(\"Enter side \"+str(i+1)+\" : \")) for i in range(self.n)]\n",
    "\n",
    "    def dispSides(self):\n",
    "        for i in range(self.n):\n",
    "            print(\"Side\",i+1,\"is\",self.sides[i])"
   ]
  },
  {
   "cell_type": "code",
   "execution_count": 12,
   "metadata": {
    "ExecuteTime": {
     "end_time": "2021-06-20T19:10:44.046846Z",
     "start_time": "2021-06-20T19:10:44.028297Z"
    }
   },
   "outputs": [],
   "source": [
    "class Triangle(Polygon):\n",
    "    def __init__(self):\n",
    "        Polygon.__init__(self,3)\n",
    "\n",
    "    def findArea(self):\n",
    "        a, b, c = self.sides\n",
    "        # calculate the semi-perimeter\n",
    "        s = (a + b + c) / 2\n",
    "        area = (s*(s-a)*(s-b)*(s-c)) ** 0.5\n",
    "        print('The area of the triangle is %0.2f' %area)"
   ]
  },
  {
   "cell_type": "code",
   "execution_count": 13,
   "metadata": {
    "ExecuteTime": {
     "end_time": "2021-06-20T19:11:05.921680Z",
     "start_time": "2021-06-20T19:10:52.909576Z"
    }
   },
   "outputs": [
    {
     "name": "stdout",
     "output_type": "stream",
     "text": [
      "Enter side 1 : 3\n",
      "Enter side 2 : 5\n",
      "Enter side 3 : 6\n"
     ]
    }
   ],
   "source": [
    "t = Triangle()\n",
    "t.inputSides()"
   ]
  },
  {
   "cell_type": "code",
   "execution_count": 14,
   "metadata": {
    "ExecuteTime": {
     "end_time": "2021-06-20T19:11:09.085226Z",
     "start_time": "2021-06-20T19:11:09.064722Z"
    }
   },
   "outputs": [
    {
     "name": "stdout",
     "output_type": "stream",
     "text": [
      "Side 1 is 3.0\n",
      "Side 2 is 5.0\n",
      "Side 3 is 6.0\n"
     ]
    }
   ],
   "source": [
    "t.dispSides()"
   ]
  },
  {
   "cell_type": "code",
   "execution_count": 15,
   "metadata": {
    "ExecuteTime": {
     "end_time": "2021-06-20T19:11:10.205335Z",
     "start_time": "2021-06-20T19:11:10.189714Z"
    }
   },
   "outputs": [
    {
     "name": "stdout",
     "output_type": "stream",
     "text": [
      "The area of the triangle is 7.48\n"
     ]
    }
   ],
   "source": [
    "t.findArea()"
   ]
  },
  {
   "cell_type": "code",
   "execution_count": 16,
   "metadata": {
    "ExecuteTime": {
     "end_time": "2021-06-20T19:11:13.287342Z",
     "start_time": "2021-06-20T19:11:13.262931Z"
    },
    "scrolled": false
   },
   "outputs": [
    {
     "name": "stdout",
     "output_type": "stream",
     "text": [
      "Calling child constructor\n",
      "Calling child method\n",
      "Calling parent method\n",
      "Parent attribute : 200\n"
     ]
    }
   ],
   "source": [
    "# Example 1:\n",
    "\n",
    "class Parent: # define parent class\n",
    "    parentAttr = 100\n",
    "\n",
    "    def __init__(self):\n",
    "        print (\"Calling parent constructor\")\n",
    "\n",
    "    def parentMethod(self):\n",
    "        print ('Calling parent method')\n",
    "\n",
    "    def setAttr(self, attr):\n",
    "        Parent.parentAttr = attr\n",
    "\n",
    "    def getAttr(self):\n",
    "        print (\"Parent attribute :\", Parent.parentAttr)\n",
    "\n",
    "class Child(Parent): # define child class\n",
    "    def __init__(self):\n",
    "        print (\"Calling child constructor\")\n",
    "\n",
    "    def childMethod(self):\n",
    "        print ('Calling child method')\n",
    "\n",
    "c = Child() # instance of child\n",
    "c.childMethod() # child calls its method\n",
    "c.parentMethod() # calls parent's method\n",
    "c.setAttr(200) # again call parent's method\n",
    "c.getAttr() # again call parent's method"
   ]
  },
  {
   "cell_type": "markdown",
   "metadata": {},
   "source": [
    "## Python `super()` function\n",
    "\n"
   ]
  },
  {
   "cell_type": "code",
   "execution_count": 17,
   "metadata": {
    "ExecuteTime": {
     "end_time": "2021-06-20T19:11:16.481163Z",
     "start_time": "2021-06-20T19:11:16.462613Z"
    }
   },
   "outputs": [
    {
     "name": "stdout",
     "output_type": "stream",
     "text": [
      "Arthur works at Google\n"
     ]
    }
   ],
   "source": [
    "# Example 1:\n",
    "\n",
    "class Company:\n",
    "    def company_name(self):\n",
    "        return 'Google'\n",
    "\n",
    "class Employee(Company):\n",
    "    def info(self):\n",
    "        # Calling the superclass method using super()function\n",
    "        c_name = super().company_name()\n",
    "        print(\"Arthur works at\", c_name)\n",
    "\n",
    "# Creating object of child class\n",
    "emp = Employee()\n",
    "emp.info()"
   ]
  },
  {
   "cell_type": "markdown",
   "metadata": {},
   "source": [
    "## `issubclass()`\n",
    "\n",
    "\n",
    "**Syntax:**\n",
    "\n",
    "```python\n",
    "issubclass(class, classinfo)\n",
    "```\n"
   ]
  },
  {
   "cell_type": "code",
   "execution_count": 18,
   "metadata": {
    "ExecuteTime": {
     "end_time": "2021-06-20T19:11:19.120794Z",
     "start_time": "2021-06-20T19:11:19.103217Z"
    }
   },
   "outputs": [
    {
     "name": "stdout",
     "output_type": "stream",
     "text": [
      "True\n",
      "False\n",
      "False\n",
      "True\n",
      "True\n"
     ]
    }
   ],
   "source": [
    "# Example 1:\n",
    "\n",
    "class Company:\n",
    "    def fun1(self):\n",
    "        print(\"Inside parent class\")\n",
    "\n",
    "class Employee(Company):\n",
    "    def fun2(self):\n",
    "        print(\"Inside child class.\")\n",
    "\n",
    "class Player:\n",
    "    def fun3(self):\n",
    "        print(\"Inside Player class.\")\n",
    "\n",
    "# Result True\n",
    "print(issubclass(Employee, Company))\n",
    "\n",
    "# Result False\n",
    "print(issubclass(Employee, list))\n",
    "\n",
    "# Result False\n",
    "print(issubclass(Player, Company))\n",
    "\n",
    "# Result True\n",
    "print(issubclass(Employee, (list, Company)))\n",
    "\n",
    "# Result True\n",
    "print(issubclass(Company, (list, Company)))"
   ]
  },
  {
   "cell_type": "code",
   "execution_count": null,
   "metadata": {},
   "outputs": [],
   "source": []
  }
 ],
 "metadata": {
  "hide_input": false,
  "kernelspec": {
   "display_name": "Python 3 (ipykernel)",
   "language": "python",
   "name": "python3"
  },
  "language_info": {
   "codemirror_mode": {
    "name": "ipython",
    "version": 3
   },
   "file_extension": ".py",
   "mimetype": "text/x-python",
   "name": "python",
   "nbconvert_exporter": "python",
   "pygments_lexer": "ipython3",
   "version": "3.9.7"
  },
  "toc": {
   "base_numbering": 1,
   "nav_menu": {},
   "number_sections": true,
   "sideBar": true,
   "skip_h1_title": false,
   "title_cell": "Table of Contents",
   "title_sidebar": "Contents",
   "toc_cell": false,
   "toc_position": {},
   "toc_section_display": true,
   "toc_window_display": false
  },
  "varInspector": {
   "cols": {
    "lenName": 16,
    "lenType": 16,
    "lenVar": 40
   },
   "kernels_config": {
    "python": {
     "delete_cmd_postfix": "",
     "delete_cmd_prefix": "del ",
     "library": "var_list.py",
     "varRefreshCmd": "print(var_dic_list())"
    },
    "r": {
     "delete_cmd_postfix": ") ",
     "delete_cmd_prefix": "rm(",
     "library": "var_list.r",
     "varRefreshCmd": "cat(var_dic_list()) "
    }
   },
   "types_to_exclude": [
    "module",
    "function",
    "builtin_function_or_method",
    "instance",
    "_Feature"
   ],
   "window_display": false
  }
 },
 "nbformat": 4,
 "nbformat_minor": 2
}
