{
 "cells": [
  {
   "cell_type": "markdown",
   "metadata": {},
   "source": [
    "# Python Functions\n",
    "\n",
    "In this session, you'll learn about functions."
   ]
  },
  {
   "cell_type": "markdown",
   "metadata": {},
   "source": [
    "# What is a function in Python?\n",
    "\n"
   ]
  },
  {
   "cell_type": "markdown",
   "metadata": {},
   "source": [
    "## Types of Functions\n",
    "\n",
    "Python support two types of functions\n",
    "\n",
    "1. **Built-in** function\n",
    "2. **User-defined** function\n",
    "\n",
    "1.**Built-in function**\n",
    "\n",
    "The functions which are come along with Python itself are called a built-in function or predefined function. Some of them are:\n",
    "**`range()`**, **`print()`**, **`input()`**, **`type()`**, **`id()`**, **`eval()`** etc.\n",
    "\n",
    "**Example:** Python **`range()`** function generates the immutable sequence of numbers starting from the given start integer to the stop integer.\n",
    "\n",
    "```python\n",
    ">>> for i in range(1, 10):\n",
    ">>>     print(i, end=' ')\n",
    "\n",
    "1 2 3 4 5 6 7 8 9\n",
    "```\n",
    "\n",
    "2. **User-defined function**\n",
    "\n",
    "Functions which are created by programmer explicitly according to the requirement are called a user-defined function."
   ]
  },
  {
   "cell_type": "markdown",
   "metadata": {},
   "source": [
    "**Syntax:**\n",
    "\n",
    "```python\n",
    "def function_name(parameter1, parameter2):\n",
    "    \"\"\"docstring\"\"\"\n",
    "    # function body    \n",
    "    # write some action\n",
    "return value\n",
    "```\n",
    "\n",
    "<div>\n",
    "<img src=\"img/f1.png\" width=\"550\"/>\n",
    "</div>"
   ]
  },
  {
   "cell_type": "markdown",
   "metadata": {},
   "source": [
    "## Defining a Function\n",
    "\n",
    "\n",
    "\n",
    "**Example:**\n",
    "\n",
    "```python\n",
    ">>> def add(num1,num2):           # Function name: 'add', Parameters: 'num1', 'num2'\n",
    ">>>     print(\"Number 1: \", num1) #  Function body\n",
    ">>>     print(\"Number 2: \", num2) #  Function body\n",
    ">>>     addition = num1 + num2    #  Function body\n",
    ">>>     return addition           # return value\n",
    "\n",
    "\n",
    ">>> res = add(2, 4)   # Function call\n",
    ">>> print(\"Result: \", res)\n",
    "```"
   ]
  },
  {
   "cell_type": "markdown",
   "metadata": {},
   "source": [
    "## Defining a function without any parameters\n",
    "\n",
    "Function can be declared without parameters."
   ]
  },
  {
   "cell_type": "code",
   "execution_count": 1,
   "metadata": {
    "ExecuteTime": {
     "end_time": "2021-10-08T17:47:57.838353Z",
     "start_time": "2021-10-08T17:47:57.814918Z"
    },
    "scrolled": true
   },
   "outputs": [
    {
     "name": "stdout",
     "output_type": "stream",
     "text": [
      "Welcome to Python for Data Science\n"
     ]
    }
   ],
   "source": [
    "# Example 1: \n",
    "    \n",
    "def greet():\n",
    "    print(\"Welcome to Python for Data Science\")\n",
    "\n",
    "# call function using its name\n",
    "greet()"
   ]
  },
  {
   "cell_type": "code",
   "execution_count": 2,
   "metadata": {
    "ExecuteTime": {
     "end_time": "2021-10-08T17:47:57.946753Z",
     "start_time": "2021-10-08T17:47:57.840309Z"
    }
   },
   "outputs": [
    {
     "name": "stdout",
     "output_type": "stream",
     "text": [
      "9\n"
     ]
    }
   ],
   "source": [
    "# Example 2: \n",
    "\n",
    "def add_two_numbers ():\n",
    "    num_one = 3\n",
    "    num_two = 6\n",
    "    total = num_one + num_two\n",
    "    print(total)\n",
    "add_two_numbers() # calling a function"
   ]
  },
  {
   "cell_type": "code",
   "execution_count": 3,
   "metadata": {
    "ExecuteTime": {
     "end_time": "2021-10-08T17:47:58.053200Z",
     "start_time": "2021-10-08T17:47:57.950659Z"
    },
    "scrolled": true
   },
   "outputs": [
    {
     "name": "stdout",
     "output_type": "stream",
     "text": [
      "Ajantha Devi\n"
     ]
    }
   ],
   "source": [
    "# Example 3: \n",
    "\n",
    "def generate_full_name ():\n",
    "    first_name = 'Ajantha'\n",
    "    last_name = 'Devi'\n",
    "    space = ' '\n",
    "    full_name = first_name + space + last_name\n",
    "    print(full_name)\n",
    "generate_full_name () # calling a function"
   ]
  },
  {
   "cell_type": "markdown",
   "metadata": {},
   "source": [
    "## Defining a function without parameters and `return` value\n",
    "\n"
   ]
  },
  {
   "cell_type": "code",
   "execution_count": 4,
   "metadata": {
    "ExecuteTime": {
     "end_time": "2021-10-08T17:47:58.176733Z",
     "start_time": "2021-10-08T17:47:58.057106Z"
    }
   },
   "outputs": [
    {
     "name": "stdout",
     "output_type": "stream",
     "text": [
      "9\n"
     ]
    }
   ],
   "source": [
    "# Example 1: \n",
    "\n",
    "def add_two_numbers ():\n",
    "    num_one = 3\n",
    "    num_two = 6\n",
    "    total = num_one + num_two\n",
    "    return total\n",
    "print(add_two_numbers())"
   ]
  },
  {
   "cell_type": "code",
   "execution_count": 5,
   "metadata": {
    "ExecuteTime": {
     "end_time": "2021-10-08T17:47:58.298319Z",
     "start_time": "2021-10-08T17:47:58.185523Z"
    },
    "scrolled": true
   },
   "outputs": [
    {
     "name": "stdout",
     "output_type": "stream",
     "text": [
      "Ajantha Devi\n"
     ]
    }
   ],
   "source": [
    "# Example 2: \n",
    "\n",
    "def generate_full_name ():\n",
    "    first_name = 'Ajantha'\n",
    "    last_name = 'Devi'\n",
    "    space = ' '\n",
    "    full_name = first_name + space + last_name\n",
    "    return full_name\n",
    "print(generate_full_name())"
   ]
  },
  {
   "cell_type": "markdown",
   "metadata": {},
   "source": [
    "## Defining a function with parameters\n",
    "\n"
   ]
  },
  {
   "cell_type": "markdown",
   "metadata": {},
   "source": [
    "### Single Parameter: \n",
    "\n"
   ]
  },
  {
   "cell_type": "code",
   "execution_count": 8,
   "metadata": {
    "ExecuteTime": {
     "end_time": "2021-10-08T17:47:58.422343Z",
     "start_time": "2021-10-08T17:47:58.301246Z"
    }
   },
   "outputs": [
    {
     "name": "stdout",
     "output_type": "stream",
     "text": [
      "Hello, Ajantha. Good morning!\n"
     ]
    }
   ],
   "source": [
    "# Example 1: Gereeting\n",
    "\n",
    "def greet(name):\n",
    "    \"\"\"\n",
    "    This function greets to the person passed in as a parameter\n",
    "    \"\"\"\n",
    "    print(\"Hello, \" + name + \". Good morning!\")   # No output!\n",
    "greet('Ajantha')"
   ]
  },
  {
   "cell_type": "code",
   "execution_count": 9,
   "metadata": {
    "ExecuteTime": {
     "end_time": "2021-10-08T17:47:58.545876Z",
     "start_time": "2021-10-08T17:47:58.430154Z"
    },
    "scrolled": true
   },
   "outputs": [
    {
     "name": "stdout",
     "output_type": "stream",
     "text": [
      "55\n",
      "None\n",
      "5050\n",
      "None\n"
     ]
    }
   ],
   "source": [
    "# Example 2: \n",
    "\n",
    "def sum_of_numbers(n):\n",
    "    total = 0\n",
    "    for i in range(n+1):\n",
    "        total+=i\n",
    "    print(total)\n",
    "print(sum_of_numbers(10))  # 55\n",
    "print(sum_of_numbers(100)) # 5050"
   ]
  },
  {
   "cell_type": "markdown",
   "metadata": {},
   "source": [
    "### Two Parameter: \n"
   ]
  },
  {
   "cell_type": "code",
   "execution_count": 10,
   "metadata": {
    "ExecuteTime": {
     "end_time": "2021-10-08T17:47:58.652810Z",
     "start_time": "2021-10-08T17:47:58.552712Z"
    },
    "scrolled": false
   },
   "outputs": [
    {
     "name": "stdout",
     "output_type": "stream",
     "text": [
      "Hello Ajantha Welcome to Python for Data Science\n",
      "Your course name is Python\n"
     ]
    }
   ],
   "source": [
    "# Example 1: \n",
    "\n",
    "def course(name, course_name):\n",
    "    print(\"Hello\", name, \"Welcome to Python for Data Science\")\n",
    "    print(\"Your course name is\", course_name)\n",
    "\n",
    "course('Ajantha', 'Python')   # call function"
   ]
  },
  {
   "cell_type": "markdown",
   "metadata": {},
   "source": [
    "## Defining a function with parameters and `return` value"
   ]
  },
  {
   "cell_type": "code",
   "execution_count": 11,
   "metadata": {
    "ExecuteTime": {
     "end_time": "2021-10-08T17:47:58.761206Z",
     "start_time": "2021-10-08T17:47:58.657692Z"
    }
   },
   "outputs": [
    {
     "name": "stdout",
     "output_type": "stream",
     "text": [
      "Ajantha, welcome to Python for Data Science\n"
     ]
    }
   ],
   "source": [
    "# Example 1: \n",
    "\n",
    "def greetings (name):  # single parameter\n",
    "    message = name + ', welcome to Python for Data Science'\n",
    "    return message\n",
    "\n",
    "print(greetings('Ajantha'))"
   ]
  },
  {
   "cell_type": "code",
   "execution_count": 12,
   "metadata": {
    "ExecuteTime": {
     "end_time": "2021-10-08T17:47:58.853005Z",
     "start_time": "2021-10-08T17:47:58.764137Z"
    }
   },
   "outputs": [
    {
     "name": "stdout",
     "output_type": "stream",
     "text": [
      "100\n"
     ]
    }
   ],
   "source": [
    "# Example 2: \n",
    "\n",
    "def add_ten(num):  # single parameter\n",
    "    ten = 10\n",
    "    return num + ten\n",
    "print(add_ten(90))"
   ]
  },
  {
   "cell_type": "code",
   "execution_count": 13,
   "metadata": {
    "ExecuteTime": {
     "end_time": "2021-10-08T17:47:58.976051Z",
     "start_time": "2021-10-08T17:47:58.855934Z"
    }
   },
   "outputs": [
    {
     "name": "stdout",
     "output_type": "stream",
     "text": [
      "9\n"
     ]
    }
   ],
   "source": [
    "# Example 3: \n",
    "\n",
    "def square_number(x):  # single parameter\n",
    "    return x * x\n",
    "print(square_number(3))"
   ]
  },
  {
   "cell_type": "code",
   "execution_count": 14,
   "metadata": {
    "ExecuteTime": {
     "end_time": "2021-10-08T17:47:59.084452Z",
     "start_time": "2021-10-08T17:47:58.978980Z"
    }
   },
   "outputs": [
    {
     "name": "stdout",
     "output_type": "stream",
     "text": [
      "314.0\n"
     ]
    }
   ],
   "source": [
    "# Example 4: \n",
    "\n",
    "def area_of_circle (r):  # single parameter\n",
    "    PI = 3.14\n",
    "    area = PI * r ** 2\n",
    "    return area\n",
    "print(area_of_circle(10))"
   ]
  },
  {
   "cell_type": "code",
   "execution_count": 15,
   "metadata": {
    "ExecuteTime": {
     "end_time": "2021-10-08T17:47:59.192846Z",
     "start_time": "2021-10-08T17:47:59.087380Z"
    }
   },
   "outputs": [
    {
     "name": "stdout",
     "output_type": "stream",
     "text": [
      "Addition : 36\n"
     ]
    }
   ],
   "source": [
    "# Example 5: \n",
    "\n",
    "def calculator(a, b):  # two parameter\n",
    "    add = a + b   \n",
    "    return add    # return the addition\n",
    "\n",
    "result = calculator(30, 6)   # call function & take return value in variable\n",
    "print(\"Addition :\", result)   # Output Addition : 36"
   ]
  },
  {
   "cell_type": "code",
   "execution_count": 16,
   "metadata": {
    "ExecuteTime": {
     "end_time": "2021-10-08T17:47:59.299295Z",
     "start_time": "2021-10-08T17:47:59.199687Z"
    }
   },
   "outputs": [
    {
     "name": "stdout",
     "output_type": "stream",
     "text": [
      "Full Name:  Ajantha Devi\n"
     ]
    }
   ],
   "source": [
    "# Example 6: \n",
    "\n",
    "def generate_full_name (first_name, last_name):  # two parameter\n",
    "    space = ' '\n",
    "    full_name = first_name + space + last_name\n",
    "    return full_name\n",
    "print('Full Name: ', generate_full_name('Ajantha','Devi'))"
   ]
  },
  {
   "cell_type": "code",
   "execution_count": 17,
   "metadata": {
    "ExecuteTime": {
     "end_time": "2021-10-08T17:47:59.422342Z",
     "start_time": "2021-10-08T17:47:59.302224Z"
    }
   },
   "outputs": [
    {
     "name": "stdout",
     "output_type": "stream",
     "text": [
      "Sum of two numbers:  10\n"
     ]
    }
   ],
   "source": [
    "# Example 7: \n",
    "\n",
    "def sum_two_numbers (num_one, num_two):  # two parameter\n",
    "    sum = num_one + num_two\n",
    "    return sum\n",
    "print('Sum of two numbers: ', sum_two_numbers(1, 9))"
   ]
  },
  {
   "cell_type": "code",
   "execution_count": 18,
   "metadata": {
    "ExecuteTime": {
     "end_time": "2021-10-08T17:47:59.530738Z",
     "start_time": "2021-10-08T17:47:59.425271Z"
    }
   },
   "outputs": [
    {
     "name": "stdout",
     "output_type": "stream",
     "text": [
      "Age:  203\n"
     ]
    }
   ],
   "source": [
    "# Example 8: \n",
    "\n",
    "def calculate_age (current_year, birth_year):  # two parameter\n",
    "    age = current_year - birth_year\n",
    "    return age;\n",
    "\n",
    "print('Age: ', calculate_age(2022, 1819))"
   ]
  },
  {
   "cell_type": "code",
   "execution_count": 19,
   "metadata": {
    "ExecuteTime": {
     "end_time": "2021-10-08T17:47:59.623513Z",
     "start_time": "2021-10-08T17:47:59.533669Z"
    }
   },
   "outputs": [
    {
     "name": "stdout",
     "output_type": "stream",
     "text": [
      "Weight of an object in Newtons:  981.0 N\n"
     ]
    }
   ],
   "source": [
    "# Example 9: \n",
    "\n",
    "def weight_of_object (mass, gravity):  # two parameter\n",
    "    weight = str(mass * gravity)+ ' N' # the value has to be changed to a string first\n",
    "    return weight\n",
    "print('Weight of an object in Newtons: ', weight_of_object(100, 9.81))"
   ]
  },
  {
   "cell_type": "code",
   "execution_count": null,
   "metadata": {},
   "outputs": [],
   "source": []
  }
 ],
 "metadata": {
  "gist": {
   "data": {
    "description": "01_Learn_Python4Data/04_Python_Functions/001_Python_Functions.ipynb",
    "public": true
   },
   "id": ""
  },
  "hide_input": false,
  "kernelspec": {
   "display_name": "Python 3 (ipykernel)",
   "language": "python",
   "name": "python3"
  },
  "language_info": {
   "codemirror_mode": {
    "name": "ipython",
    "version": 3
   },
   "file_extension": ".py",
   "mimetype": "text/x-python",
   "name": "python",
   "nbconvert_exporter": "python",
   "pygments_lexer": "ipython3",
   "version": "3.9.7"
  },
  "toc": {
   "base_numbering": 1,
   "nav_menu": {},
   "number_sections": true,
   "sideBar": true,
   "skip_h1_title": false,
   "title_cell": "Table of Contents",
   "title_sidebar": "Contents",
   "toc_cell": false,
   "toc_position": {},
   "toc_section_display": true,
   "toc_window_display": false
  },
  "varInspector": {
   "cols": {
    "lenName": 16,
    "lenType": 16,
    "lenVar": 40
   },
   "kernels_config": {
    "python": {
     "delete_cmd_postfix": "",
     "delete_cmd_prefix": "del ",
     "library": "var_list.py",
     "varRefreshCmd": "print(var_dic_list())"
    },
    "r": {
     "delete_cmd_postfix": ") ",
     "delete_cmd_prefix": "rm(",
     "library": "var_list.r",
     "varRefreshCmd": "cat(var_dic_list()) "
    }
   },
   "types_to_exclude": [
    "module",
    "function",
    "builtin_function_or_method",
    "instance",
    "_Feature"
   ],
   "window_display": false
  }
 },
 "nbformat": 4,
 "nbformat_minor": 2
}
