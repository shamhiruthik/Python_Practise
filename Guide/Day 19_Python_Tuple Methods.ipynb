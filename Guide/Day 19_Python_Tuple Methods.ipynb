{
 "cells": [
  {
   "cell_type": "markdown",
   "metadata": {},
   "source": [
    "# Python Tuple\n",
    "\n",
    "In this session, you'll learn everything about Python tuples."
   ]
  },
  {
   "cell_type": "markdown",
   "metadata": {},
   "source": [
    "## Tuple Operations"
   ]
  },
  {
   "cell_type": "markdown",
   "metadata": {},
   "source": [
    "### 1. Changing a Tuple\n",
    "\n"
   ]
  },
  {
   "cell_type": "code",
   "execution_count": 1,
   "metadata": {
    "ExecuteTime": {
     "end_time": "2021-10-03T13:20:26.516318Z",
     "start_time": "2021-10-03T13:20:26.366893Z"
    }
   },
   "outputs": [
    {
     "name": "stdout",
     "output_type": "stream",
     "text": [
      "(4, 2, 3, [9, 5])\n",
      "('p', 'r', 'o', 'g', 'r', 'a', 'm', 'i', 'n', 'g')\n"
     ]
    }
   ],
   "source": [
    "# Changing tuple values\n",
    "my_tuple = (4, 2, 3, [6, 5])\n",
    "\n",
    "# my_tuple[1] = 9     # ▶ TypeError: 'tuple' object does not support item assignment\n",
    "\n",
    "# However, item of mutable element can be changed\n",
    "my_tuple[3][0] = 9    \n",
    "print(my_tuple)  # ▶ (4, 2, 3, [9, 5])\n",
    "\n",
    "# Tuples can be reassigned\n",
    "my_tuple = ('p', 'r', 'o', 'g', 'r', 'a', 'm', 'i', 'n', 'g')\n",
    "print(my_tuple)  # ▶ ('p', 'r', 'o', 'g', 'r', 'a', 'm', 'i', ''n', 'g')"
   ]
  },
  {
   "cell_type": "code",
   "execution_count": 2,
   "metadata": {
    "ExecuteTime": {
     "end_time": "2021-10-03T13:20:26.623261Z",
     "start_time": "2021-10-03T13:20:26.521201Z"
    }
   },
   "outputs": [
    {
     "name": "stdout",
     "output_type": "stream",
     "text": [
      "(1, 2, 3, 4, 5, 6)\n",
      "('Repeat', 'Repeat', 'Repeat')\n"
     ]
    }
   ],
   "source": [
    "# Example 1:\n",
    "\n",
    "# Concatenation\n",
    "print((1, 2, 3) + (4, 5, 6))  # ▶ (1, 2, 3, 4, 5, 6)\n",
    "\n",
    "# Repeat\n",
    "print((\"Repeat\",) * 3)       # ▶ ('Repeat', 'Repeat', 'Repeat')"
   ]
  },
  {
   "cell_type": "code",
   "execution_count": 3,
   "metadata": {
    "ExecuteTime": {
     "end_time": "2021-10-03T13:20:26.778056Z",
     "start_time": "2021-10-03T13:20:26.629119Z"
    }
   },
   "outputs": [
    {
     "name": "stdout",
     "output_type": "stream",
     "text": [
      "(1, 2, 3, 'x', 'y', 'z')\n",
      "(1, 2, 3, 1, 2, 3)\n",
      "('x', 'y', 'z', 'x', 'y', 'z', 'x', 'y', 'z')\n"
     ]
    }
   ],
   "source": [
    "# Example 2:\n",
    "\n",
    "t1=(1,2,3)\n",
    "t2=('x','y','z')\n",
    "t3=t1+t2\n",
    "print(t3)   # ▶ (1, 2, 3, 'x', 'y', 'z')\n",
    "print(t1*2) # ▶ (1, 2, 3, 1, 2, 3)\n",
    "print(t2*3) # ▶ ('x', 'y', 'z', 'x', 'y', 'z', 'x', 'y', 'z')"
   ]
  },
  {
   "cell_type": "code",
   "execution_count": 4,
   "metadata": {
    "ExecuteTime": {
     "end_time": "2021-10-03T13:20:26.931386Z",
     "start_time": "2021-10-03T13:20:26.780985Z"
    }
   },
   "outputs": [
    {
     "name": "stdout",
     "output_type": "stream",
     "text": [
      "(1, 2, 3, 'abc', 'xyz', 'hey')\n"
     ]
    }
   ],
   "source": [
    "# Example 3:\n",
    "\n",
    "t1 = (1, 2,3)\n",
    "t2 = ('abc', 'xyz')\n",
    "\n",
    "# Following action is not valid for tuples\n",
    "# t1[0] = 4;\n",
    "# So let's create a new tuple as follows\n",
    "t3 = t1 + t2 + (\"hey\",)  # ∵ () is must when adding or multiply tuples\n",
    "print (t3)               # ▶ (1, 2, 3, 'abc', 'xyz', 'hey')"
   ]
  },
  {
   "cell_type": "markdown",
   "metadata": {},
   "source": [
    "### 2. Deleting a Tuple\n"
   ]
  },
  {
   "cell_type": "code",
   "execution_count": 7,
   "metadata": {
    "ExecuteTime": {
     "end_time": "2021-10-03T13:20:27.619422Z",
     "start_time": "2021-10-03T13:20:26.934805Z"
    }
   },
   "outputs": [
    {
     "ename": "NameError",
     "evalue": "name 'my_tuple' is not defined",
     "output_type": "error",
     "traceback": [
      "\u001b[1;31m---------------------------------------------------------------------------\u001b[0m",
      "\u001b[1;31mNameError\u001b[0m                                 Traceback (most recent call last)",
      "\u001b[1;32m~\\AppData\\Local\\Temp/ipykernel_23452/2617935786.py\u001b[0m in \u001b[0;36m<module>\u001b[1;34m\u001b[0m\n\u001b[0;32m      8\u001b[0m \u001b[1;31m# Can delete an entire tuple\u001b[0m\u001b[1;33m\u001b[0m\u001b[1;33m\u001b[0m\u001b[0m\n\u001b[0;32m      9\u001b[0m \u001b[1;32mdel\u001b[0m \u001b[0mmy_tuple\u001b[0m\u001b[1;33m\u001b[0m\u001b[1;33m\u001b[0m\u001b[0m\n\u001b[1;32m---> 10\u001b[1;33m \u001b[0mprint\u001b[0m\u001b[1;33m(\u001b[0m\u001b[0mmy_tuple\u001b[0m\u001b[1;33m)\u001b[0m   \u001b[1;31m# ▶ NameError: name 'my_tuple' is not defined\u001b[0m\u001b[1;33m\u001b[0m\u001b[1;33m\u001b[0m\u001b[0m\n\u001b[0m",
      "\u001b[1;31mNameError\u001b[0m: name 'my_tuple' is not defined"
     ]
    }
   ],
   "source": [
    "# Example 1: Deleting tuples\n",
    "\n",
    "my_tuple = ('p', 'r', 'o', 'g', 'r', 'a', 'm', 'i', 'n', 'g')\n",
    "\n",
    "# can't delete items\n",
    "#del my_tuple[3]  # ▶ TypeError: 'tuple' object doesn't support item deletion\n",
    "\n",
    "# Can delete an entire tuple\n",
    "del my_tuple\n",
    "print(my_tuple)   # ▶ NameError: name 'my_tuple' is not defined"
   ]
  },
  {
   "cell_type": "code",
   "execution_count": 9,
   "metadata": {
    "ExecuteTime": {
     "end_time": "2021-10-03T13:20:45.518587Z",
     "start_time": "2021-10-03T13:20:45.493198Z"
    },
    "scrolled": false
   },
   "outputs": [
    {
     "name": "stdout",
     "output_type": "stream",
     "text": [
      "('helloWorld', 'python', 1, 2.7)\n",
      "After deleting t :\n"
     ]
    },
    {
     "ename": "NameError",
     "evalue": "name 't' is not defined",
     "output_type": "error",
     "traceback": [
      "\u001b[1;31m---------------------------------------------------------------------------\u001b[0m",
      "\u001b[1;31mNameError\u001b[0m                                 Traceback (most recent call last)",
      "\u001b[1;32m~\\AppData\\Local\\Temp/ipykernel_23452/58764380.py\u001b[0m in \u001b[0;36m<module>\u001b[1;34m\u001b[0m\n\u001b[0;32m      9\u001b[0m \u001b[1;32mdel\u001b[0m \u001b[0mt\u001b[0m\u001b[1;33m\u001b[0m\u001b[1;33m\u001b[0m\u001b[0m\n\u001b[0;32m     10\u001b[0m \u001b[0mprint\u001b[0m \u001b[1;33m(\u001b[0m\u001b[1;34m\"After deleting t :\"\u001b[0m\u001b[1;33m)\u001b[0m  \u001b[1;31m# ▶ After deleting t :\u001b[0m\u001b[1;33m\u001b[0m\u001b[1;33m\u001b[0m\u001b[0m\n\u001b[1;32m---> 11\u001b[1;33m \u001b[0mprint\u001b[0m \u001b[1;33m(\u001b[0m\u001b[0mt\u001b[0m\u001b[1;33m)\u001b[0m                     \u001b[1;31m# ▶ NameError: name 't' is not defined\u001b[0m\u001b[1;33m\u001b[0m\u001b[1;33m\u001b[0m\u001b[0m\n\u001b[0m",
      "\u001b[1;31mNameError\u001b[0m: name 't' is not defined"
     ]
    }
   ],
   "source": [
    "# Example 2:\n",
    "\n",
    "t = ('helloWorld', \"python\", 1, 2.7);\n",
    "print (t)          # ▶ ('helloWorld', 'python', 1, 2.7)\n",
    "\n",
    "# can't delete items\n",
    "#del my_tuple[3]  # ▶ TypeError: 'tuple' object doesn't support item deletion\n",
    "\n",
    "del t\n",
    "print (\"After deleting t :\")  # ▶ After deleting t :\n",
    "print (t)                     # ▶ NameError: name 't' is not defined"
   ]
  },
  {
   "cell_type": "markdown",
   "metadata": {},
   "source": [
    "## Python Built-in Tuple Functions\n",
    "\n",
    "| Function | Description |\n",
    "|:----| :--- |\n",
    "| **[len()](https://github.com/milaan9/04_Python_Functions/blob/main/002_Python_Functions_Built_in/040_Python_len%28%29.ipynb)** |  Returns number of elements in a tuple. | \n",
    "| **[max()](https://github.com/milaan9/04_Python_Functions/blob/main/002_Python_Functions_Built_in/041_Python_max%28%29.ipynb)** |  Returns item from the tuple with max value. | \n",
    "| **[min()](https://github.com/milaan9/04_Python_Functions/blob/main/002_Python_Functions_Built_in/042_Python_min%28%29.ipynb)** |  Returns item from the tuple with min value.  | \n",
    "| **[sorted()](https://github.com/milaan9/04_Python_Functions/blob/main/002_Python_Functions_Built_in/060_Python_sorted%28%29.ipynb)** |  Returns a new sorted list of sequence in the tuple. | \n",
    "| **tuple()** |  Converts a sequence into tuple.  | \n",
    "| **cmp()** |  Compares items of two tuples. (Not available in Python 3).  | "
   ]
  },
  {
   "cell_type": "markdown",
   "metadata": {},
   "source": [
    "### **`len(tuple)`** "
   ]
  },
  {
   "cell_type": "code",
   "execution_count": 10,
   "metadata": {
    "ExecuteTime": {
     "end_time": "2021-10-03T13:20:48.359114Z",
     "start_time": "2021-10-03T13:20:48.348370Z"
    }
   },
   "outputs": [
    {
     "name": "stdout",
     "output_type": "stream",
     "text": [
      "5\n",
      "5\n"
     ]
    }
   ],
   "source": [
    "# Example:\n",
    "\n",
    "t1= (1,2,3,4,5)\n",
    "t2 = ('x','y','z',[1,2],3)\n",
    "print(len(t1))  # ▶ 5\n",
    "print(len(t2))  # ▶ 5"
   ]
  },
  {
   "cell_type": "markdown",
   "metadata": {},
   "source": [
    "### **`max(tuple)`** "
   ]
  },
  {
   "cell_type": "code",
   "execution_count": 11,
   "metadata": {
    "ExecuteTime": {
     "end_time": "2021-10-03T13:20:49.362113Z",
     "start_time": "2021-10-03T13:20:49.349414Z"
    }
   },
   "outputs": [
    {
     "name": "stdout",
     "output_type": "stream",
     "text": [
      "5\n",
      "z\n"
     ]
    }
   ],
   "source": [
    "# Example:\n",
    "\n",
    "t1= (1,2,3,4,5)\n",
    "t2 = ('x','y','z')\n",
    "print(max(t1))  # ▶ 5\n",
    "print(max(t2))  # ▶ z"
   ]
  },
  {
   "cell_type": "markdown",
   "metadata": {},
   "source": [
    "### **`min(tuple)`** "
   ]
  },
  {
   "cell_type": "code",
   "execution_count": 12,
   "metadata": {
    "ExecuteTime": {
     "end_time": "2021-10-03T13:20:50.532114Z",
     "start_time": "2021-10-03T13:20:50.524300Z"
    },
    "scrolled": true
   },
   "outputs": [
    {
     "name": "stdout",
     "output_type": "stream",
     "text": [
      "1\n",
      "x\n"
     ]
    }
   ],
   "source": [
    "# Example:\n",
    "\n",
    "t1= (1,2,3,4,5)\n",
    "t2 = ('x','y','z')\n",
    "print(min(t1))  # ▶ 1\n",
    "print(min(t2))  # ▶ x"
   ]
  },
  {
   "cell_type": "markdown",
   "metadata": {},
   "source": [
    "### **`sorted(dict)`** "
   ]
  },
  {
   "cell_type": "code",
   "execution_count": 13,
   "metadata": {
    "ExecuteTime": {
     "end_time": "2021-10-03T13:20:51.132248Z",
     "start_time": "2021-10-03T13:20:51.116627Z"
    }
   },
   "outputs": [
    {
     "name": "stdout",
     "output_type": "stream",
     "text": [
      "['a', 'e', 'i', 'o', 'u']\n",
      "['u', 'o', 'i', 'e', 'a']\n"
     ]
    }
   ],
   "source": [
    "# vowels tuple\n",
    "py_tuple = ('e', 'a', 'u', 'o', 'i')\n",
    "print(sorted(py_tuple))                # ▶ ['a', 'e', 'i', 'o', 'u']\n",
    "print(sorted(py_tuple, reverse=True))  # ▶ ['u', 'o', 'i', 'e', 'a']"
   ]
  },
  {
   "cell_type": "markdown",
   "metadata": {},
   "source": [
    "### **`tuple(seq)`** "
   ]
  },
  {
   "cell_type": "code",
   "execution_count": 14,
   "metadata": {
    "ExecuteTime": {
     "end_time": "2021-10-03T13:20:51.858862Z",
     "start_time": "2021-10-03T13:20:51.839333Z"
    }
   },
   "outputs": [
    {
     "name": "stdout",
     "output_type": "stream",
     "text": [
      "('h', 'e', 'l', 'l', 'o', 'w', 'o', 'r', 'l', 'd')\n",
      "(1, 2, 3)\n"
     ]
    }
   ],
   "source": [
    "# Example:\n",
    "\n",
    "s=\"helloworld\"\n",
    "t1=tuple(s)\n",
    "list=[1,2,3]\n",
    "t2=tuple(list)\n",
    "\n",
    "print(t1)  # ▶ ('h', 'e', 'l', 'l', 'o', 'w', 'o', 'r', 'l', 'd')\n",
    "print(t2)  # ▶ (1, 2, 3)"
   ]
  },
  {
   "cell_type": "code",
   "execution_count": 16,
   "metadata": {},
   "outputs": [
    {
     "data": {
      "text/plain": [
       "10"
      ]
     },
     "execution_count": 16,
     "metadata": {},
     "output_type": "execute_result"
    }
   ],
   "source": [
    "len(t1)\n",
    "len(s)\n"
   ]
  },
  {
   "cell_type": "markdown",
   "metadata": {},
   "source": [
    "## Tuple Methods\n",
    "\n"
   ]
  },
  {
   "cell_type": "code",
   "execution_count": 17,
   "metadata": {
    "ExecuteTime": {
     "end_time": "2021-10-03T13:20:52.503440Z",
     "start_time": "2021-10-03T13:20:52.492699Z"
    }
   },
   "outputs": [
    {
     "name": "stdout",
     "output_type": "stream",
     "text": [
      "2\n",
      "3\n"
     ]
    }
   ],
   "source": [
    "# Example:\n",
    "\n",
    "my_tuple = ('a', 'p', 'p', 'l', 'e',)\n",
    "\n",
    "print(my_tuple.count('p'))   # ▶  2\n",
    "print(my_tuple.index('l'))   # ▶  3"
   ]
  },
  {
   "cell_type": "markdown",
   "metadata": {},
   "source": [
    "## Other Tuple Operations"
   ]
  },
  {
   "cell_type": "markdown",
   "metadata": {},
   "source": [
    "### 1. Tuple Membership Test\n",
    "\n",
    "We can test if an item exists in a tuple or not, using the keyword **`in`**."
   ]
  },
  {
   "cell_type": "code",
   "execution_count": 18,
   "metadata": {
    "ExecuteTime": {
     "end_time": "2021-10-03T13:20:53.796496Z",
     "start_time": "2021-10-03T13:20:53.775009Z"
    }
   },
   "outputs": [
    {
     "name": "stdout",
     "output_type": "stream",
     "text": [
      "True\n",
      "False\n",
      "True\n"
     ]
    }
   ],
   "source": [
    "# Example: Membership test in tuple\n",
    "\n",
    "my_tuple = ('a', 'p', 'p', 'l', 'e',)\n",
    "\n",
    "# In operation\n",
    "print('a' in my_tuple)      # ▶ True\n",
    "print('b' in my_tuple)      # ▶ False\n",
    "\n",
    "# Not in operation\n",
    "print('g' not in my_tuple)  # ▶ True"
   ]
  },
  {
   "cell_type": "markdown",
   "metadata": {},
   "source": [
    "### 2. Iterating Through a Tuple\n",
    "\n",
    "We can use a **`for`** loop to iterate through each item in a tuple."
   ]
  },
  {
   "cell_type": "code",
   "execution_count": null,
   "metadata": {
    "ExecuteTime": {
     "end_time": "2021-10-03T13:20:54.393216Z",
     "start_time": "2021-10-03T13:20:54.383451Z"
    }
   },
   "outputs": [],
   "source": [
    "# Example: Using a for loop to iterate through a tuple\n",
    "\n",
    "for name in ('John', 'Kate'):\n",
    "    print(\"Hello\", name)"
   ]
  },
  {
   "cell_type": "markdown",
   "metadata": {},
   "source": [
    "## Why should we use Tuple? (Advantages of Tuple)\n",
    "\n",
    "* Processing of Tuples are **faster** than Lists. \n",
    "* It makes the data **safe** as Tuples are **immutable** and hence cannot be changed.\n",
    "* Tuples are used for **string formatting**."
   ]
  },
  {
   "cell_type": "markdown",
   "metadata": {},
   "source": [
    "## Advantages of Tuple over List\n",
    "\n",
    "Since tuples are quite similar to lists, both of them are used in similar situations. However, there are certain advantages of implementing a tuple over a list. \n"
   ]
  },
  {
   "cell_type": "markdown",
   "metadata": {},
   "source": [
    "## 💻 Exercises ➞ <span class='label label-default'>Tuple</span>\n",
    "\n",
    "### Exercises ➞ <span class='label label-default'>Level 1</span>\n",
    "\n",
    "1. Create a tuple containing names of **`fruits`** and **`vegetables`**\n",
    "2. Join **`fruits`** and **`vegetables`** tuples and assign it to **`fruits_vegetables`**\n",
    "3. How many **`fruits_vegetables`** do you have?\n",
    "4. Modify the **`fruits_vegetables`** tuple and add the name of your favorite mushroom and beverage and assign it to **`food_tuple`**\n",
    "\n",
    "### Exercises ➞ <span class='label label-default'>Level 2</span>\n",
    "\n",
    "1. Unpack **`fruits_vegetables`** and mushroom and beverage from **`food_tuple`**\n",
    "2. Change the about **`food_tuple`** tuple to a **`food_list`** list\n",
    "3. Slice out the middle item or items from the **`food_tuple`** tuple or **`food_list`** list.\n",
    "4. Slice out the first three items and the last three items from **`food_list`** list\n",
    "5. Delete the **`food_tuple`** tuple completely\n",
    "6. Check if an item exists in tuple:\n",
    "    - Check if **`'Finland'`** is a asian country\n",
    "    - Check if **`'India'`** is a asian country\n",
    "    ```python\n",
    "asian_countries = ('India','China','Singapore','Thailand','Indonesia')\n",
    "    ```"
   ]
  },
  {
   "cell_type": "code",
   "execution_count": null,
   "metadata": {},
   "outputs": [],
   "source": []
  }
 ],
 "metadata": {
  "hide_input": false,
  "kernelspec": {
   "display_name": "Python 3 (ipykernel)",
   "language": "python",
   "name": "python3"
  },
  "language_info": {
   "codemirror_mode": {
    "name": "ipython",
    "version": 3
   },
   "file_extension": ".py",
   "mimetype": "text/x-python",
   "name": "python",
   "nbconvert_exporter": "python",
   "pygments_lexer": "ipython3",
   "version": "3.9.7"
  },
  "toc": {
   "base_numbering": 1,
   "nav_menu": {},
   "number_sections": true,
   "sideBar": true,
   "skip_h1_title": false,
   "title_cell": "Table of Contents",
   "title_sidebar": "Contents",
   "toc_cell": false,
   "toc_position": {},
   "toc_section_display": true,
   "toc_window_display": false
  },
  "varInspector": {
   "cols": {
    "lenName": 16,
    "lenType": 16,
    "lenVar": 40
   },
   "kernels_config": {
    "python": {
     "delete_cmd_postfix": "",
     "delete_cmd_prefix": "del ",
     "library": "var_list.py",
     "varRefreshCmd": "print(var_dic_list())"
    },
    "r": {
     "delete_cmd_postfix": ") ",
     "delete_cmd_prefix": "rm(",
     "library": "var_list.r",
     "varRefreshCmd": "cat(var_dic_list()) "
    }
   },
   "types_to_exclude": [
    "module",
    "function",
    "builtin_function_or_method",
    "instance",
    "_Feature"
   ],
   "window_display": false
  }
 },
 "nbformat": 4,
 "nbformat_minor": 2
}
