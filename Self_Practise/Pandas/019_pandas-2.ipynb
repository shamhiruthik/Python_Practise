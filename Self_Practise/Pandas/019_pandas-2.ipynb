{
 "cells": [
  {
   "cell_type": "code",
   "execution_count": 1,
   "id": "c67f9d4f",
   "metadata": {},
   "outputs": [],
   "source": [
    "import pandas as pd\n"
   ]
  },
  {
   "cell_type": "code",
   "execution_count": 2,
   "id": "97ab590f",
   "metadata": {},
   "outputs": [
    {
     "name": "stdout",
     "output_type": "stream",
     "text": [
      "   a  b\n",
      "0  1  2\n",
      "1  3  4\n",
      "0  5  6\n",
      "1  7  8\n"
     ]
    },
    {
     "name": "stderr",
     "output_type": "stream",
     "text": [
      "C:\\Users\\shamh\\AppData\\Local\\Temp\\ipykernel_16900\\2855893277.py:3: FutureWarning: The frame.append method is deprecated and will be removed from pandas in a future version. Use pandas.concat instead.\n",
      "  df = df.append(df2)\n"
     ]
    }
   ],
   "source": [
    "df = pd.DataFrame([[1,2],[3,4]], columns = ['a','b'])      #adding another by append\n",
    "df2 = pd.DataFrame([[5,6],[7,8]], columns = ['a','b'])\n",
    "df = df.append(df2)\n",
    "print(df)\n",
    "\n",
    "\n",
    "\n"
   ]
  },
  {
   "cell_type": "code",
   "execution_count": 3,
   "id": "736bb0e1",
   "metadata": {},
   "outputs": [],
   "source": [
    "df =df.drop(0)"
   ]
  },
  {
   "cell_type": "code",
   "execution_count": 4,
   "id": "1ef76c15",
   "metadata": {},
   "outputs": [
    {
     "name": "stdout",
     "output_type": "stream",
     "text": [
      "   a  b\n",
      "1  3  4\n",
      "1  7  8\n"
     ]
    }
   ],
   "source": [
    "print(df)"
   ]
  },
  {
   "cell_type": "code",
   "execution_count": 5,
   "id": "a8427c88",
   "metadata": {},
   "outputs": [
    {
     "name": "stdout",
     "output_type": "stream",
     "text": [
      "     a    b    c    d\n",
      "0  1.0  2.0  NaN  NaN\n",
      "1  3.0  4.0  NaN  NaN\n",
      "0  NaN  NaN  5.0  6.0\n",
      "1  NaN  NaN  7.0  8.0\n"
     ]
    },
    {
     "name": "stderr",
     "output_type": "stream",
     "text": [
      "C:\\Users\\shamh\\AppData\\Local\\Temp\\ipykernel_16900\\3503085641.py:3: FutureWarning: The frame.append method is deprecated and will be removed from pandas in a future version. Use pandas.concat instead.\n",
      "  df = df.append(df2)\n"
     ]
    }
   ],
   "source": [
    "df = pd.DataFrame([[1,2],[3,4]], columns = ['a','b'])      #adding another by append\n",
    "df2 = pd.DataFrame([[5,6],[7,8]], columns = ['c','d'])\n",
    "df = df.append(df2)\n",
    "print(df)\n",
    "\n",
    "\n"
   ]
  },
  {
   "cell_type": "code",
   "execution_count": 6,
   "id": "3d4e7f88",
   "metadata": {},
   "outputs": [
    {
     "name": "stdout",
     "output_type": "stream",
     "text": [
      "(4, 4)\n"
     ]
    }
   ],
   "source": [
    "print(df.shape)"
   ]
  },
  {
   "cell_type": "code",
   "execution_count": 8,
   "id": "bf10dd3a",
   "metadata": {},
   "outputs": [
    {
     "name": "stdout",
     "output_type": "stream",
     "text": [
      "     a    b    c    d\n",
      "0  1.0  2.0  NaN  NaN\n",
      "1  3.0  4.0  NaN  NaN\n",
      "0  NaN  NaN  5.0  6.0\n"
     ]
    }
   ],
   "source": [
    "#head first 5 default\n",
    "print(df.head(3))"
   ]
  },
  {
   "cell_type": "code",
   "execution_count": 10,
   "id": "2187b249",
   "metadata": {},
   "outputs": [
    {
     "name": "stdout",
     "output_type": "stream",
     "text": [
      "    a   b    c    d\n",
      "0 NaN NaN  5.0  6.0\n",
      "1 NaN NaN  7.0  8.0\n"
     ]
    }
   ],
   "source": [
    "print(df.tail(2)) #last 5 default"
   ]
  },
  {
   "cell_type": "code",
   "execution_count": 11,
   "id": "deaabae5",
   "metadata": {},
   "outputs": [
    {
     "name": "stdout",
     "output_type": "stream",
     "text": [
      "    Name  AGE\n",
      "0    tom   28\n",
      "1   jack   29\n",
      "2  steve   29\n",
      "3  ricky   40\n"
     ]
    }
   ],
   "source": [
    "data = {'Name':['tom','jack','steve','ricky'], 'AGE':[28,29,29,40]}\n",
    "df = pd.DataFrame(data)\n",
    "print(df)"
   ]
  },
  {
   "cell_type": "code",
   "execution_count": 12,
   "id": "2030a2f0",
   "metadata": {},
   "outputs": [
    {
     "name": "stdout",
     "output_type": "stream",
     "text": [
      "Name    tomjackstevericky\n",
      "AGE                   126\n",
      "dtype: object\n"
     ]
    }
   ],
   "source": [
    "print(df.sum())"
   ]
  },
  {
   "cell_type": "code",
   "execution_count": 13,
   "id": "f064ee3d",
   "metadata": {},
   "outputs": [
    {
     "name": "stdout",
     "output_type": "stream",
     "text": [
      "AGE    31.5\n",
      "dtype: float64\n"
     ]
    },
    {
     "name": "stderr",
     "output_type": "stream",
     "text": [
      "C:\\Users\\shamh\\AppData\\Local\\Temp\\ipykernel_16900\\130528764.py:2: FutureWarning: Dropping of nuisance columns in DataFrame reductions (with 'numeric_only=None') is deprecated; in a future version this will raise TypeError.  Select only valid columns before calling the reduction.\n",
      "  print(df.mean())\n"
     ]
    }
   ],
   "source": [
    "#mean - average\n",
    "print(df.mean())"
   ]
  },
  {
   "cell_type": "code",
   "execution_count": 14,
   "id": "d3b0658f",
   "metadata": {},
   "outputs": [
    {
     "name": "stdout",
     "output_type": "stream",
     "text": [
      "AGE    5.686241\n",
      "dtype: float64\n"
     ]
    },
    {
     "name": "stderr",
     "output_type": "stream",
     "text": [
      "C:\\Users\\shamh\\AppData\\Local\\Temp\\ipykernel_16900\\543400487.py:2: FutureWarning: Dropping of nuisance columns in DataFrame reductions (with 'numeric_only=None') is deprecated; in a future version this will raise TypeError.  Select only valid columns before calling the reduction.\n",
      "  print(df.std())\n"
     ]
    }
   ],
   "source": [
    "#standard  deviation\n",
    "print(df.std())"
   ]
  },
  {
   "cell_type": "code",
   "execution_count": 15,
   "id": "ac54d0b9",
   "metadata": {},
   "outputs": [
    {
     "name": "stdout",
     "output_type": "stream",
     "text": [
      "Name    4\n",
      "AGE     4\n",
      "dtype: int64\n"
     ]
    }
   ],
   "source": [
    "#count\n",
    "print(df.count())"
   ]
  },
  {
   "cell_type": "code",
   "execution_count": 16,
   "id": "699d04b5",
   "metadata": {},
   "outputs": [
    {
     "name": "stdout",
     "output_type": "stream",
     "text": [
      "             AGE\n",
      "count   4.000000\n",
      "mean   31.500000\n",
      "std     5.686241\n",
      "min    28.000000\n",
      "25%    28.750000\n",
      "50%    29.000000\n",
      "75%    31.750000\n",
      "max    40.000000\n"
     ]
    }
   ],
   "source": [
    "#get all function of summarization\n",
    "print(df.describe())"
   ]
  },
  {
   "cell_type": "code",
   "execution_count": 17,
   "id": "5ba47d6b",
   "metadata": {},
   "outputs": [
    {
     "ename": "NameError",
     "evalue": "name 'np' is not defined",
     "output_type": "error",
     "traceback": [
      "\u001b[1;31m---------------------------------------------------------------------------\u001b[0m",
      "\u001b[1;31mNameError\u001b[0m                                 Traceback (most recent call last)",
      "\u001b[1;32m~\\AppData\\Local\\Temp\\ipykernel_16900\\1084143040.py\u001b[0m in \u001b[0;36m<module>\u001b[1;34m\u001b[0m\n\u001b[0;32m      2\u001b[0m \u001b[1;32mdef\u001b[0m \u001b[0madder\u001b[0m\u001b[1;33m(\u001b[0m\u001b[0melm_1\u001b[0m\u001b[1;33m,\u001b[0m\u001b[0melm_2\u001b[0m\u001b[1;33m)\u001b[0m\u001b[1;33m:\u001b[0m\u001b[1;33m\u001b[0m\u001b[1;33m\u001b[0m\u001b[0m\n\u001b[0;32m      3\u001b[0m     \u001b[1;32mreturn\u001b[0m \u001b[0melm_1\u001b[0m\u001b[1;33m+\u001b[0m\u001b[0melm_2\u001b[0m\u001b[1;33m\u001b[0m\u001b[1;33m\u001b[0m\u001b[0m\n\u001b[1;32m----> 4\u001b[1;33m \u001b[0mdf\u001b[0m \u001b[1;33m=\u001b[0m \u001b[0mpd\u001b[0m\u001b[1;33m.\u001b[0m\u001b[0mDataFrame\u001b[0m\u001b[1;33m(\u001b[0m\u001b[0mnp\u001b[0m\u001b[1;33m.\u001b[0m\u001b[0mrandn\u001b[0m\u001b[1;33m(\u001b[0m\u001b[1;36m5\u001b[0m\u001b[1;33m,\u001b[0m\u001b[1;36m3\u001b[0m\u001b[1;33m)\u001b[0m\u001b[1;33m,\u001b[0m \u001b[0mcolumns\u001b[0m \u001b[1;33m=\u001b[0m \u001b[1;33m[\u001b[0m\u001b[1;34m'col1'\u001b[0m\u001b[1;33m,\u001b[0m\u001b[1;34m'col2'\u001b[0m\u001b[1;33m,\u001b[0m\u001b[1;34m'col3'\u001b[0m\u001b[1;33m]\u001b[0m\u001b[1;33m)\u001b[0m\u001b[1;33m\u001b[0m\u001b[1;33m\u001b[0m\u001b[0m\n\u001b[0m\u001b[0;32m      5\u001b[0m \u001b[0mdf\u001b[0m\u001b[1;33m.\u001b[0m\u001b[0mpipe\u001b[0m\u001b[1;33m(\u001b[0m\u001b[0madder\u001b[0m\u001b[1;33m,\u001b[0m\u001b[1;36m2\u001b[0m\u001b[1;33m)\u001b[0m\u001b[1;33m\u001b[0m\u001b[1;33m\u001b[0m\u001b[0m\n\u001b[0;32m      6\u001b[0m \u001b[0mprint\u001b[0m\u001b[1;33m(\u001b[0m\u001b[0mdf\u001b[0m\u001b[1;33m.\u001b[0m\u001b[0mapply\u001b[0m\u001b[1;33m(\u001b[0m\u001b[0mnp\u001b[0m\u001b[1;33m.\u001b[0m\u001b[0mmean\u001b[0m\u001b[1;33m)\u001b[0m\u001b[1;33m)\u001b[0m\u001b[1;33m\u001b[0m\u001b[1;33m\u001b[0m\u001b[0m\n",
      "\u001b[1;31mNameError\u001b[0m: name 'np' is not defined"
     ]
    }
   ],
   "source": [
    "#table wise\n",
    "def adder(elm_1,elm_2):\n",
    "    return elm_1+elm_2\n",
    "df = pd.DataFrame(np.randn(5,3), columns = ['col1','col2','col3'])\n",
    "df.pipe(adder,2)\n",
    "print(df.apply(np.mean))"
   ]
  },
  {
   "cell_type": "code",
   "execution_count": 18,
   "id": "8e877d88",
   "metadata": {},
   "outputs": [],
   "source": [
    "import numpy as np"
   ]
  },
  {
   "cell_type": "code",
   "execution_count": 20,
   "id": "ce36d644",
   "metadata": {},
   "outputs": [
    {
     "name": "stdout",
     "output_type": "stream",
     "text": [
      "col1   -0.202636\n",
      "col2    0.480505\n",
      "col3    0.500972\n",
      "dtype: float64\n"
     ]
    }
   ],
   "source": [
    "#table wise\n",
    "def adder(elm_1,elm_2):\n",
    "    return elm_1+elm_2\n",
    "df = pd.DataFrame(np.random.randn(5,3), columns = ['col1','col2','col3'])\n",
    "df.pipe(adder,2)\n",
    "print(df.apply(np.mean))"
   ]
  },
  {
   "cell_type": "code",
   "execution_count": 21,
   "id": "765d901c",
   "metadata": {},
   "outputs": [
    {
     "name": "stdout",
     "output_type": "stream",
     "text": [
      "       col1      col2      col3\n",
      "0 -0.793211  0.844362  0.159770\n",
      "1 -0.100959 -0.311964 -0.081613\n",
      "2 -1.468288  0.412207 -0.211642\n",
      "3  0.679553  1.091648  0.299290\n",
      "4 -3.670593 -1.490234 -0.983305\n"
     ]
    }
   ],
   "source": [
    "df = pd.DataFrame(np.random.randn(5,3), columns = ['col1','col2','col3'])\n",
    "print(df)"
   ]
  },
  {
   "cell_type": "code",
   "execution_count": 26,
   "id": "b17cd361",
   "metadata": {},
   "outputs": [
    {
     "name": "stdout",
     "output_type": "stream",
     "text": [
      "            A   C\n",
      "0   98.444610 NaN\n",
      "2  105.060478 NaN\n",
      "5  100.758134 NaN\n"
     ]
    }
   ],
   "source": [
    "N=20\n",
    "df = pd.DataFrame({'A':np.random.normal(100,10,size=(N)).tolist(),\n",
    "                  'x':np.random.rand(N),\n",
    "                    'c':np.random.choice(['Low','Medium','High'],N).tolist()\n",
    "                  })\n",
    "df_reindexed = df.reindex(index=[0,2,5], columns = ['A','C'])\n",
    "print(df_reindexed)                   \n",
    "                   "
   ]
  },
  {
   "cell_type": "code",
   "execution_count": 30,
   "id": "d463ccd6",
   "metadata": {},
   "outputs": [
    {
     "name": "stdout",
     "output_type": "stream",
     "text": [
      "          A         B         C         D\n",
      "a  0.056368  0.855529  1.336842 -0.322357\n",
      "b  3.419232  0.831254  0.536662 -1.866243\n",
      "c  0.339510  0.170222 -0.813928  0.507791\n",
      "d -0.480157  0.775759  0.893946  0.349717\n",
      "e -0.007248  0.898319 -0.693831 -0.891526\n",
      "f -0.000387  1.803799  1.067118 -1.111036\n",
      "g  0.560815 -0.323385  0.598955  0.738388\n",
      "h  1.249557 -0.314760  0.385071  0.197373\n"
     ]
    }
   ],
   "source": [
    "#INDEXING \n",
    "#SELCTING\n",
    "df = pd.DataFrame(np.random.randn(8,4), index = ['a','b','c','d','e','f','g','h'], columns = ['A','B','C','D'])\n",
    "print(df)\n",
    "#loc()\n",
    "#iloc()\n",
    "#ix()\n",
    "\n"
   ]
  },
  {
   "cell_type": "code",
   "execution_count": 31,
   "id": "f47c2782",
   "metadata": {},
   "outputs": [
    {
     "name": "stdout",
     "output_type": "stream",
     "text": [
      "          A         C\n",
      "a  0.056368  1.336842\n",
      "b  3.419232  0.536662\n",
      "c  0.339510 -0.813928\n",
      "d -0.480157  0.893946\n",
      "e -0.007248 -0.693831\n",
      "f -0.000387  1.067118\n",
      "g  0.560815  0.598955\n",
      "h  1.249557  0.385071\n"
     ]
    }
   ],
   "source": [
    "print(df.loc[:,['A','C']])"
   ]
  },
  {
   "cell_type": "code",
   "execution_count": 32,
   "id": "9473fb1d",
   "metadata": {},
   "outputs": [
    {
     "name": "stdout",
     "output_type": "stream",
     "text": [
      "          A         B         C         D\n",
      "a  0.056368  0.855529  1.336842 -0.322357\n",
      "b  3.419232  0.831254  0.536662 -1.866243\n",
      "c  0.339510  0.170222 -0.813928  0.507791\n",
      "d -0.480157  0.775759  0.893946  0.349717\n"
     ]
    }
   ],
   "source": [
    "print(df.iloc[:4])"
   ]
  },
  {
   "cell_type": "code",
   "execution_count": 33,
   "id": "22465cb7",
   "metadata": {},
   "outputs": [
    {
     "name": "stdout",
     "output_type": "stream",
     "text": [
      "          A         B         C         D\n",
      "a  0.056368  0.855529  1.336842 -0.322357\n",
      "b  3.419232  0.831254  0.536662 -1.866243\n"
     ]
    }
   ],
   "source": [
    "print(df.iloc[:2])"
   ]
  },
  {
   "cell_type": "code",
   "execution_count": 34,
   "id": "470b4070",
   "metadata": {},
   "outputs": [
    {
     "name": "stdout",
     "output_type": "stream",
     "text": [
      "          A         B         C         D\n",
      "d -0.480157  0.775759  0.893946  0.349717\n",
      "e -0.007248  0.898319 -0.693831 -0.891526\n",
      "f -0.000387  1.803799  1.067118 -1.111036\n",
      "g  0.560815 -0.323385  0.598955  0.738388\n"
     ]
    }
   ],
   "source": [
    "print(df.iloc[3:7])"
   ]
  },
  {
   "cell_type": "code",
   "execution_count": 35,
   "id": "7c90e7f3",
   "metadata": {
    "scrolled": false
   },
   "outputs": [
    {
     "name": "stdout",
     "output_type": "stream",
     "text": [
      "          A         B         C         D\n",
      "a  0.056368  0.855529  1.336842 -0.322357\n",
      "b  3.419232  0.831254  0.536662 -1.866243\n",
      "c  0.339510  0.170222 -0.813928  0.507791\n",
      "d -0.480157  0.775759  0.893946  0.349717\n",
      "e -0.007248  0.898319 -0.693831 -0.891526\n",
      "f -0.000387  1.803799  1.067118 -1.111036\n",
      "g  0.560815 -0.323385  0.598955  0.738388\n",
      "h  1.249557 -0.314760  0.385071  0.197373\n"
     ]
    }
   ],
   "source": [
    "print(df)"
   ]
  },
  {
   "cell_type": "code",
   "execution_count": 36,
   "id": "6cbdc88a",
   "metadata": {},
   "outputs": [
    {
     "name": "stdout",
     "output_type": "stream",
     "text": [
      "      Team  Rank  Year  Points\n",
      "0   Riders     1  2014     876\n",
      "1   Riders     2  2015     789\n",
      "2   Devils     2  2014     863\n",
      "3   Devils     3  2015     673\n",
      "4    Kings     3  2014     741\n",
      "5    kings     4  2015     812\n",
      "6    Kings     1  2016     756\n",
      "7    Kings     1  2017     788\n",
      "8   Riders     2  2016     694\n",
      "9   Royals     4  2014     701\n",
      "10  Royals     1  2015     804\n",
      "11  Riders     2  2017     690\n"
     ]
    }
   ],
   "source": [
    "#split -> group by\n",
    "import pandas as pd\n",
    "ipl_data = {\n",
    "    'Team': ['Riders', 'Riders', 'Devils', 'Devils', 'Kings','kings', 'Kings', 'Kings', 'Riders', 'Royals', 'Royals', 'Riders'],\n",
    "    'Rank': [1, 2, 2, 3, 3,4 ,1 ,1,2 , 4,1,2],\n",
    "    'Year': [2014,2015,2014,2015,2014,2015,2016,2017,2016,2014,2015,2017],\n",
    "    'Points':[876,789,863,673,741,812,756,788,694,701,804,690]    \n",
    "}\n",
    "\n",
    "df = pd.DataFrame(ipl_data)\n",
    "print(df)\n"
   ]
  },
  {
   "cell_type": "code",
   "execution_count": 37,
   "id": "bb2e79a7",
   "metadata": {},
   "outputs": [
    {
     "name": "stdout",
     "output_type": "stream",
     "text": [
      "   id    Name subject_id\n",
      "0   1    Alex       sub1\n",
      "1   2     Amy       sub2\n",
      "2   3   Allen       sub4\n",
      "3   4   Alice       sub6\n",
      "4   5  Ayoung       sub5\n",
      "   id   Name subject_id\n",
      "0   1  Billy       sub2\n",
      "1   2  Brian       sub4\n",
      "2   3   Bran       sub3\n",
      "3   4  Bryce       sub6\n",
      "4   5  Betty       sub5\n"
     ]
    }
   ],
   "source": [
    "import pandas as pd\n",
    "left = pd.DataFrame({'id':[1,2,3,4,5],\n",
    "                     'Name': ['Alex', 'Amy', 'Allen', 'Alice', 'Ayoung'],\n",
    "                     'subject_id':['sub1','sub2','sub4','sub6','sub5']})\n",
    "right = pd.DataFrame({'id':[1,2,3,4,5],\n",
    "                      'Name': ['Billy', 'Brian', 'Bran', 'Bryce', 'Betty'],\n",
    "                      'subject_id':['sub2','sub4','sub3','sub6','sub5']})\n",
    "print(left)\n",
    "print(right)"
   ]
  },
  {
   "cell_type": "code",
   "execution_count": 38,
   "id": "8154ba35",
   "metadata": {},
   "outputs": [
    {
     "name": "stdout",
     "output_type": "stream",
     "text": [
      "   id  Name_x subject_id_x Name_y subject_id_y\n",
      "0   1    Alex         sub1  Billy         sub2\n",
      "1   2     Amy         sub2  Brian         sub4\n",
      "2   3   Allen         sub4   Bran         sub3\n",
      "3   4   Alice         sub6  Bryce         sub6\n",
      "4   5  Ayoung         sub5  Betty         sub5\n"
     ]
    }
   ],
   "source": [
    "print(pd.merge(left,right, on ='id'))"
   ]
  },
  {
   "cell_type": "code",
   "execution_count": 40,
   "id": "ed0a6265",
   "metadata": {},
   "outputs": [
    {
     "name": "stdout",
     "output_type": "stream",
     "text": [
      "   id  Name_x subject_id Name_y\n",
      "0   4   Alice       sub6  Bryce\n",
      "1   5  Ayoung       sub5  Betty\n"
     ]
    }
   ],
   "source": [
    "print(pd.merge(left,right, on =['id','subject_id']))"
   ]
  },
  {
   "cell_type": "code",
   "execution_count": 41,
   "id": "4e872238",
   "metadata": {},
   "outputs": [
    {
     "name": "stdout",
     "output_type": "stream",
     "text": [
      "2023-02-07 20:32:38.367288\n"
     ]
    },
    {
     "name": "stderr",
     "output_type": "stream",
     "text": [
      "C:\\Users\\shamh\\AppData\\Local\\Temp\\ipykernel_16900\\429486783.py:1: FutureWarning: The pandas.datetime class is deprecated and will be removed from pandas in a future version. Import from datetime module instead.\n",
      "  print(pd.datetime.now())\n"
     ]
    }
   ],
   "source": [
    "print(pd.datetime.now())"
   ]
  },
  {
   "cell_type": "code",
   "execution_count": 44,
   "id": "f04b8590",
   "metadata": {},
   "outputs": [
    {
     "name": "stdout",
     "output_type": "stream",
     "text": [
      "[datetime.time(11, 0) datetime.time(11, 30) datetime.time(12, 0)\n",
      " datetime.time(12, 30) datetime.time(13, 0) datetime.time(13, 30)]\n"
     ]
    }
   ],
   "source": [
    "#making data with specifictime\n",
    "print(pd.date_range(\"11:00\",\"13:30\",freq = \"30min\").time)"
   ]
  },
  {
   "cell_type": "code",
   "execution_count": 47,
   "id": "09ec9870",
   "metadata": {},
   "outputs": [
    {
     "name": "stdout",
     "output_type": "stream",
     "text": [
      "DatetimeIndex(['2023-11-30', '2023-12-31', '2024-01-31', '2024-02-29',\n",
      "               '2024-03-31'],\n",
      "              dtype='datetime64[ns]', freq='M')\n"
     ]
    }
   ],
   "source": [
    "#making data with specific days\n",
    "print(pd.date_range(\"11/02/2023\",periods = 5, freq = 'M'))"
   ]
  },
  {
   "cell_type": "code",
   "execution_count": null,
   "id": "7236890d",
   "metadata": {},
   "outputs": [],
   "source": []
  }
 ],
 "metadata": {
  "kernelspec": {
   "display_name": "Python 3 (ipykernel)",
   "language": "python",
   "name": "python3"
  },
  "language_info": {
   "codemirror_mode": {
    "name": "ipython",
    "version": 3
   },
   "file_extension": ".py",
   "mimetype": "text/x-python",
   "name": "python",
   "nbconvert_exporter": "python",
   "pygments_lexer": "ipython3",
   "version": "3.9.13"
  }
 },
 "nbformat": 4,
 "nbformat_minor": 5
}
