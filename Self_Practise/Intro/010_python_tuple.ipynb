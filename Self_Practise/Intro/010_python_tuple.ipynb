{
 "cells": [
  {
   "cell_type": "code",
   "execution_count": 1,
   "id": "a790a9a9",
   "metadata": {},
   "outputs": [
    {
     "name": "stdout",
     "output_type": "stream",
     "text": [
      "()\n",
      "(1, 2, 3)\n",
      "('fresh', 2.0, 3, [1, 2, 3, (4+5j)])\n"
     ]
    }
   ],
   "source": [
    "my_tup = ()\n",
    "print(my_tup)\n",
    "my_tup1 = (1,2,3)\n",
    "print(my_tup1)\n",
    "my_tup2 = ('fresh',2.0,3,[1,2,3,4+5j])\n",
    "print(my_tup2)\n",
    "\n"
   ]
  },
  {
   "cell_type": "code",
   "execution_count": 4,
   "id": "fc82891b",
   "metadata": {},
   "outputs": [
    {
     "name": "stdout",
     "output_type": "stream",
     "text": [
      "5\n",
      "<class 'int'>\n",
      "(5,)\n",
      "<class 'tuple'>\n"
     ]
    }
   ],
   "source": [
    "t1 = 5\n",
    "print(t1)\n",
    "print(type(t1))\n",
    "t2 = 5,\n",
    "print(t2)\n",
    "print(type(t2))"
   ]
  },
  {
   "cell_type": "code",
   "execution_count": 5,
   "id": "3de2c296",
   "metadata": {},
   "outputs": [
    {
     "name": "stdout",
     "output_type": "stream",
     "text": [
      "5\n",
      "<class 'int'>\n"
     ]
    }
   ],
   "source": [
    "t3 = (5)\n",
    "print(t3)\n",
    "print(type(t3))"
   ]
  },
  {
   "cell_type": "code",
   "execution_count": 7,
   "id": "e036851e",
   "metadata": {},
   "outputs": [
    {
     "name": "stdout",
     "output_type": "stream",
     "text": [
      "[1, 2, 3, (4+5j)]\n"
     ]
    }
   ],
   "source": [
    "my_tup2 = ('fresh',2.0,3,[1,2,3,4+5j])\n",
    "print(my_tup2[3])"
   ]
  },
  {
   "cell_type": "code",
   "execution_count": 8,
   "id": "e1394e3a",
   "metadata": {},
   "outputs": [
    {
     "name": "stdout",
     "output_type": "stream",
     "text": [
      "(4+5j)\n"
     ]
    }
   ],
   "source": [
    "print(my_tup2[3][3])"
   ]
  },
  {
   "cell_type": "code",
   "execution_count": 9,
   "id": "70c83eda",
   "metadata": {},
   "outputs": [
    {
     "name": "stdout",
     "output_type": "stream",
     "text": [
      "(2.0, 3)\n"
     ]
    }
   ],
   "source": [
    "print(my_tup2[-3:-1])"
   ]
  },
  {
   "cell_type": "code",
   "execution_count": 10,
   "id": "8c60f18d",
   "metadata": {},
   "outputs": [
    {
     "name": "stdout",
     "output_type": "stream",
     "text": [
      "(2.0, 3)\n"
     ]
    }
   ],
   "source": [
    "print(my_tup2[1:3])"
   ]
  },
  {
   "cell_type": "code",
   "execution_count": 11,
   "id": "426cc228",
   "metadata": {},
   "outputs": [
    {
     "name": "stdout",
     "output_type": "stream",
     "text": [
      "('m', 'h', 'i', 'r')\n"
     ]
    }
   ],
   "source": [
    "sham = ('s','h','a','m','h','i','r','t','h','i','k')\n",
    "print(sham[3:7])"
   ]
  },
  {
   "cell_type": "code",
   "execution_count": 12,
   "id": "d46a8965",
   "metadata": {},
   "outputs": [
    {
     "name": "stdout",
     "output_type": "stream",
     "text": [
      "('s', 'h', 'a', 'm')\n"
     ]
    }
   ],
   "source": [
    "print(sham[:-7])"
   ]
  },
  {
   "cell_type": "code",
   "execution_count": 13,
   "id": "6c1e78ed",
   "metadata": {},
   "outputs": [
    {
     "name": "stdout",
     "output_type": "stream",
     "text": [
      "('m', 'h', 'i', 'r', 't', 'h', 'i', 'k')\n"
     ]
    }
   ],
   "source": [
    "print(sham[3:])"
   ]
  },
  {
   "cell_type": "code",
   "execution_count": 14,
   "id": "053a7829",
   "metadata": {},
   "outputs": [
    {
     "ename": "TypeError",
     "evalue": "'tuple' object does not support item assignment",
     "output_type": "error",
     "traceback": [
      "\u001b[1;31m---------------------------------------------------------------------------\u001b[0m",
      "\u001b[1;31mTypeError\u001b[0m                                 Traceback (most recent call last)",
      "\u001b[1;32m~\\AppData\\Local\\Temp\\ipykernel_5320\\2676613205.py\u001b[0m in \u001b[0;36m<module>\u001b[1;34m\u001b[0m\n\u001b[0;32m      1\u001b[0m \u001b[0mmy_tup2\u001b[0m \u001b[1;33m=\u001b[0m \u001b[1;33m(\u001b[0m\u001b[1;34m'fresh'\u001b[0m\u001b[1;33m,\u001b[0m\u001b[1;36m2.0\u001b[0m\u001b[1;33m,\u001b[0m\u001b[1;36m3\u001b[0m\u001b[1;33m,\u001b[0m\u001b[1;33m[\u001b[0m\u001b[1;36m1\u001b[0m\u001b[1;33m,\u001b[0m\u001b[1;36m2\u001b[0m\u001b[1;33m,\u001b[0m\u001b[1;36m3\u001b[0m\u001b[1;33m,\u001b[0m\u001b[1;36m4\u001b[0m\u001b[1;33m+\u001b[0m\u001b[1;36m5j\u001b[0m\u001b[1;33m]\u001b[0m\u001b[1;33m)\u001b[0m\u001b[1;33m\u001b[0m\u001b[1;33m\u001b[0m\u001b[0m\n\u001b[1;32m----> 2\u001b[1;33m \u001b[0mmy_tup2\u001b[0m\u001b[1;33m[\u001b[0m\u001b[1;36m1\u001b[0m\u001b[1;33m]\u001b[0m \u001b[1;33m=\u001b[0m \u001b[1;34m's'\u001b[0m\u001b[1;33m\u001b[0m\u001b[1;33m\u001b[0m\u001b[0m\n\u001b[0m",
      "\u001b[1;31mTypeError\u001b[0m: 'tuple' object does not support item assignment"
     ]
    }
   ],
   "source": [
    "my_tup2 = ('fresh',2.0,3,[1,2,3,4+5j])\n",
    "my_tup2[1] = 's'\n"
   ]
  },
  {
   "cell_type": "code",
   "execution_count": 17,
   "id": "3ae40777",
   "metadata": {},
   "outputs": [],
   "source": [
    "my_tup2[3][0] = 9"
   ]
  },
  {
   "cell_type": "code",
   "execution_count": 18,
   "id": "b23a45ea",
   "metadata": {},
   "outputs": [
    {
     "name": "stdout",
     "output_type": "stream",
     "text": [
      "('fresh', 2.0, 3, [9, 2, 3, (4+5j)])\n"
     ]
    }
   ],
   "source": [
    "print(my_tup2)"
   ]
  },
  {
   "cell_type": "code",
   "execution_count": 20,
   "id": "de8bbeb8",
   "metadata": {},
   "outputs": [
    {
     "name": "stdout",
     "output_type": "stream",
     "text": [
      "(1, 2, 3, 'fresh', 2.0, 3, [9, 2, 3, (4+5j)])\n"
     ]
    }
   ],
   "source": [
    "print(my_tup1 + my_tup2)"
   ]
  },
  {
   "cell_type": "code",
   "execution_count": 22,
   "id": "095da83d",
   "metadata": {},
   "outputs": [
    {
     "name": "stdout",
     "output_type": "stream",
     "text": [
      "('hi', 'hi', 'hi')\n"
     ]
    }
   ],
   "source": [
    "print((\"hi\",)*3)"
   ]
  },
  {
   "cell_type": "code",
   "execution_count": 26,
   "id": "8fdacde4",
   "metadata": {},
   "outputs": [
    {
     "name": "stdout",
     "output_type": "stream",
     "text": [
      "('h', 'e', 'l', 'l', 'o')\n",
      "<class 'tuple'>\n"
     ]
    }
   ],
   "source": [
    "s= 'hello'\n",
    "t1 = tuple(s)\n",
    "print(t1)\n",
    "print(type(t1))"
   ]
  },
  {
   "cell_type": "code",
   "execution_count": 27,
   "id": "0e7fa806",
   "metadata": {},
   "outputs": [
    {
     "name": "stdout",
     "output_type": "stream",
     "text": [
      "2\n",
      "4\n"
     ]
    }
   ],
   "source": [
    "print(t1.count('l'))\n",
    "print(t1.index('o'))"
   ]
  },
  {
   "cell_type": "code",
   "execution_count": null,
   "id": "8014f482",
   "metadata": {},
   "outputs": [],
   "source": []
  }
 ],
 "metadata": {
  "kernelspec": {
   "display_name": "Python 3 (ipykernel)",
   "language": "python",
   "name": "python3"
  },
  "language_info": {
   "codemirror_mode": {
    "name": "ipython",
    "version": 3
   },
   "file_extension": ".py",
   "mimetype": "text/x-python",
   "name": "python",
   "nbconvert_exporter": "python",
   "pygments_lexer": "ipython3",
   "version": "3.9.13"
  }
 },
 "nbformat": 4,
 "nbformat_minor": 5
}
