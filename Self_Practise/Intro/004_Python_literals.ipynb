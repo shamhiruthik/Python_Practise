{
 "cells": [
  {
   "cell_type": "code",
   "execution_count": 1,
   "id": "59e4c5a3",
   "metadata": {},
   "outputs": [
    {
     "data": {
      "text/plain": [
       "150.0"
      ]
     },
     "execution_count": 1,
     "metadata": {},
     "output_type": "execute_result"
    }
   ],
   "source": [
    "f1_3 = 1.5e2\n",
    "f1_3"
   ]
  },
  {
   "cell_type": "code",
   "execution_count": null,
   "id": "f4ba176d",
   "metadata": {},
   "outputs": [],
   "source": [
    "# its 10power 2"
   ]
  },
  {
   "cell_type": "code",
   "execution_count": 2,
   "id": "b4f2b931",
   "metadata": {},
   "outputs": [
    {
     "name": "stdout",
     "output_type": "stream",
     "text": [
      "(3+4.5j)\n",
      "3.0\n",
      "4.5\n"
     ]
    }
   ],
   "source": [
    "x = 3+4.5j\n",
    "\n",
    "print(x)\n",
    "print(x.real)\n",
    "print(x.imag)"
   ]
  },
  {
   "cell_type": "code",
   "execution_count": 4,
   "id": "f648dd1b",
   "metadata": {},
   "outputs": [
    {
     "name": "stdout",
     "output_type": "stream",
     "text": [
      "4\n"
     ]
    }
   ],
   "source": [
    "f = 4.5\n",
    "print(int(f))"
   ]
  },
  {
   "cell_type": "code",
   "execution_count": 5,
   "id": "75be8076",
   "metadata": {},
   "outputs": [
    {
     "name": "stdout",
     "output_type": "stream",
     "text": [
      "(4.5+0j)\n"
     ]
    }
   ],
   "source": [
    "print(complex(f))"
   ]
  },
  {
   "cell_type": "code",
   "execution_count": null,
   "id": "95efc9af",
   "metadata": {},
   "outputs": [],
   "source": [
    "#boolean literals"
   ]
  },
  {
   "cell_type": "code",
   "execution_count": 6,
   "id": "07195cc0",
   "metadata": {},
   "outputs": [
    {
     "name": "stdout",
     "output_type": "stream",
     "text": [
      "True\n",
      "False\n",
      "9\n",
      "7\n"
     ]
    }
   ],
   "source": [
    "x = True\n",
    "y = False\n",
    "d = True + 8\n",
    "e = False + 7\n",
    "print(x)\n",
    "print(y)\n",
    "print(d)\n",
    "print(e)\n",
    "\n",
    "\n",
    "\n"
   ]
  },
  {
   "cell_type": "code",
   "execution_count": null,
   "id": "14a6122f",
   "metadata": {},
   "outputs": [],
   "source": []
  }
 ],
 "metadata": {
  "kernelspec": {
   "display_name": "Python 3 (ipykernel)",
   "language": "python",
   "name": "python3"
  },
  "language_info": {
   "codemirror_mode": {
    "name": "ipython",
    "version": 3
   },
   "file_extension": ".py",
   "mimetype": "text/x-python",
   "name": "python",
   "nbconvert_exporter": "python",
   "pygments_lexer": "ipython3",
   "version": "3.9.13"
  }
 },
 "nbformat": 4,
 "nbformat_minor": 5
}
