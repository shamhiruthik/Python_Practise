{
 "cells": [
  {
   "cell_type": "code",
   "execution_count": 28,
   "id": "8614a144",
   "metadata": {},
   "outputs": [
    {
     "name": "stdout",
     "output_type": "stream",
     "text": [
      "pathology\n",
      "biology\n",
      "psychology\n",
      "mathematics\n",
      "sociology\n"
     ]
    }
   ],
   "source": [
    "import re\n",
    "patter = '^p*y$'\n",
    "str_list = [\"pathology\",\"biology\",\"psychology\",\"mathematics\",\"sociology\"]\n",
    "for str1 in str_list:\n",
    "    result = re.match(patter,str1)\n",
    "    print(str1)\n",
    "    \n"
   ]
  },
  {
   "cell_type": "code",
   "execution_count": 17,
   "id": "8264d849",
   "metadata": {},
   "outputs": [
    {
     "name": "stdout",
     "output_type": "stream",
     "text": [
      "['A', 'e', 'G', 'e', 'S']\n"
     ]
    }
   ],
   "source": [
    "import re\n",
    "p= re.compile('[A,G,S,e]')\n",
    "print(p.findall(\"Aye said Mr.Gibsen Stark\"))\n"
   ]
  },
  {
   "cell_type": "code",
   "execution_count": 22,
   "id": "b0d73a38",
   "metadata": {},
   "outputs": [
    {
     "name": "stdout",
     "output_type": "stream",
     "text": [
      "['1', '1', '2', '0', '0', '2', '2', '0', '0', '4']\n"
     ]
    }
   ],
   "source": [
    "p= re.compile('\\d')\n",
    "print(p.findall(\"Aye said Mr.Gibsen Stark 11 sham you 2002 saru 2004\"))"
   ]
  },
  {
   "cell_type": "code",
   "execution_count": 23,
   "id": "806afa7f",
   "metadata": {},
   "outputs": [
    {
     "name": "stdout",
     "output_type": "stream",
     "text": [
      "['11', '2002', '2004']\n"
     ]
    }
   ],
   "source": [
    "p= re.compile('\\d+')\n",
    "print(p.findall(\"Aye said Mr.Gibsen Stark 11 sham you 2002 saru 2004\"))"
   ]
  },
  {
   "cell_type": "code",
   "execution_count": 25,
   "id": "b9bde5d7",
   "metadata": {},
   "outputs": [
    {
     "name": "stdout",
     "output_type": "stream",
     "text": [
      "['A', 'y', 'e', 's', 'a', 'i', 'd', 'M', 'r', 'G', 'i', 'b', 's', 'e', 'n', 'S', 't', 'a', 'r', 'k', '1', '1', 's', 'h', 'a', 'm', 'y', 'o', 'u', '2', '0', '0', '2', 's', 'a', 'r', 'u', '2', '0', '0', '4']\n"
     ]
    }
   ],
   "source": [
    "p= re.compile('\\w') #a-z A-Z 0-9\n",
    "print(p.findall(\"Aye said Mr.Gibsen Stark 11 sham you 2002 saru 2004\"))\n",
    "\n",
    "\n"
   ]
  },
  {
   "cell_type": "code",
   "execution_count": 26,
   "id": "19a36293",
   "metadata": {},
   "outputs": [
    {
     "name": "stdout",
     "output_type": "stream",
     "text": [
      "['Aye', 'said', 'Mr', 'Gibsen', 'Stark', '11', 'sham', 'you', '2002', 'saru', '2004']\n"
     ]
    }
   ],
   "source": [
    "p= re.compile('\\w+')#alphanumeric\n",
    "print(p.findall(\"Aye said Mr.Gibsen Stark 11 sham you 2002 saru 2004\"))\n",
    "\n"
   ]
  },
  {
   "cell_type": "code",
   "execution_count": 30,
   "id": "db38aa74",
   "metadata": {},
   "outputs": [
    {
     "name": "stdout",
     "output_type": "stream",
     "text": [
      "[' ', '#', ' ', ' ', '*', ' ', '.', ' ', '#', ' ', ' ', '%', ' ', ' ', ' ', ' ', ' ']\n"
     ]
    }
   ],
   "source": [
    "\n",
    "p= re.compile('\\W') #non alpha\n",
    "print(p.findall(\"Aye # said * Mr.Gibsen S#tark 11 % sham you 2002 saru 2004\"))"
   ]
  },
  {
   "cell_type": "code",
   "execution_count": 31,
   "id": "3319dcbb",
   "metadata": {},
   "outputs": [
    {
     "name": "stdout",
     "output_type": "stream",
     "text": [
      "[' # ', ' * ', '.', ' ', '#', ' ', ' % ', ' ', ' ', ' ', ' ']\n"
     ]
    }
   ],
   "source": [
    "\n",
    "p= re.compile('\\W+') #non alpha in seq\n",
    "print(p.findall(\"Aye # said * Mr.Gibsen S#tark 11 % sham you 2002 saru 2004\"))"
   ]
  },
  {
   "cell_type": "code",
   "execution_count": 33,
   "id": "16239bc1",
   "metadata": {},
   "outputs": [
    {
     "name": "stdout",
     "output_type": "stream",
     "text": [
      "['words, ', \"ords, word's, \", \"ord's\"]\n"
     ]
    }
   ],
   "source": [
    "# re.split(pattern,string, maxsplit =0, flags =0)\n",
    "from re import split\n",
    "print(split(\"W+\",\"words, Words, word's, Word's\"))"
   ]
  },
  {
   "cell_type": "code",
   "execution_count": 38,
   "id": "3549e900",
   "metadata": {},
   "outputs": [
    {
     "name": "stdout",
     "output_type": "stream",
     "text": [
      "['On', '12th', 'Jan', '2020', 'at', '11', '02', 'a', 'm', '']\n"
     ]
    }
   ],
   "source": [
    "from re import split\n",
    "print(split(\"\\W+\",\"On 12th Jan 2020, at 11.02 a.m \"))"
   ]
  },
  {
   "cell_type": "code",
   "execution_count": 40,
   "id": "bf319bc0",
   "metadata": {},
   "outputs": [
    {
     "name": "stdout",
     "output_type": "stream",
     "text": [
      "S~**ject has ~**er booked already\n"
     ]
    }
   ],
   "source": [
    "# re.sub(pattern,repl, count =0, flags =0)\n",
    "\n",
    "print(re.sub('ub',\"~**\",\"Subject has Uber booked already\", flags =re.IGNORECASE))"
   ]
  },
  {
   "cell_type": "code",
   "execution_count": 41,
   "id": "f534e0e6",
   "metadata": {},
   "outputs": [
    {
     "name": "stdout",
     "output_type": "stream",
     "text": [
      "S~**ject has Uber booked already\n"
     ]
    }
   ],
   "source": [
    "print(re.sub('ub',\"~**\",\"Subject has Uber booked already\"))"
   ]
  },
  {
   "cell_type": "code",
   "execution_count": 42,
   "id": "f1a5d16b",
   "metadata": {},
   "outputs": [
    {
     "name": "stdout",
     "output_type": "stream",
     "text": [
      "S~**ject has Uber booked already\n"
     ]
    }
   ],
   "source": [
    "print(re.sub('ub',\"~**\",\"Subject has Uber booked already\", count =1, flags =re.IGNORECASE)) #one time"
   ]
  },
  {
   "cell_type": "code",
   "execution_count": null,
   "id": "b1d47847",
   "metadata": {},
   "outputs": [],
   "source": []
  }
 ],
 "metadata": {
  "kernelspec": {
   "display_name": "Python 3 (ipykernel)",
   "language": "python",
   "name": "python3"
  },
  "language_info": {
   "codemirror_mode": {
    "name": "ipython",
    "version": 3
   },
   "file_extension": ".py",
   "mimetype": "text/x-python",
   "name": "python",
   "nbconvert_exporter": "python",
   "pygments_lexer": "ipython3",
   "version": "3.9.13"
  }
 },
 "nbformat": 4,
 "nbformat_minor": 5
}
