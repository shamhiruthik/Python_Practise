{
 "cells": [
  {
   "cell_type": "code",
   "execution_count": 2,
   "id": "13845706",
   "metadata": {},
   "outputs": [],
   "source": [
    "num = 9\n",
    "num = 9.1"
   ]
  },
  {
   "cell_type": "code",
   "execution_count": 3,
   "id": "b27596cb",
   "metadata": {},
   "outputs": [
    {
     "data": {
      "text/plain": [
       "9.1"
      ]
     },
     "execution_count": 3,
     "metadata": {},
     "output_type": "execute_result"
    }
   ],
   "source": [
    "num"
   ]
  },
  {
   "cell_type": "code",
   "execution_count": 5,
   "id": "73afd3da",
   "metadata": {},
   "outputs": [
    {
     "data": {
      "text/plain": [
       "'guvi.com'"
      ]
     },
     "execution_count": 5,
     "metadata": {},
     "output_type": "execute_result"
    }
   ],
   "source": [
    "web_link = \"guvi.com\"\n",
    "web_link"
   ]
  },
  {
   "cell_type": "code",
   "execution_count": 7,
   "id": "d024feba",
   "metadata": {},
   "outputs": [],
   "source": [
    "a,b,c,d = 2, 4, 7, \"Ajantha\""
   ]
  },
  {
   "cell_type": "code",
   "execution_count": 8,
   "id": "28421ca8",
   "metadata": {},
   "outputs": [
    {
     "name": "stdout",
     "output_type": "stream",
     "text": [
      "2 Ajantha\n"
     ]
    }
   ],
   "source": [
    "print(a,d)"
   ]
  },
  {
   "cell_type": "code",
   "execution_count": 9,
   "id": "18285d19",
   "metadata": {},
   "outputs": [
    {
     "name": "stdout",
     "output_type": "stream",
     "text": [
      "2\n",
      "4\n",
      "7\n"
     ]
    }
   ],
   "source": [
    "a = 2; b = 4; c = 7\n",
    "print(a)\n",
    "print(b)\n",
    "print(c)"
   ]
  },
  {
   "cell_type": "code",
   "execution_count": 10,
   "id": "d90bfc40",
   "metadata": {},
   "outputs": [
    {
     "name": "stdout",
     "output_type": "stream",
     "text": [
      "300 300 300\n"
     ]
    }
   ],
   "source": [
    "p= q= r= 300\n",
    "print(p,q,r)"
   ]
  },
  {
   "cell_type": "code",
   "execution_count": null,
   "id": "dd1e113f",
   "metadata": {},
   "outputs": [],
   "source": []
  }
 ],
 "metadata": {
  "kernelspec": {
   "display_name": "Python 3 (ipykernel)",
   "language": "python",
   "name": "python3"
  },
  "language_info": {
   "codemirror_mode": {
    "name": "ipython",
    "version": 3
   },
   "file_extension": ".py",
   "mimetype": "text/x-python",
   "name": "python",
   "nbconvert_exporter": "python",
   "pygments_lexer": "ipython3",
   "version": "3.9.13"
  }
 },
 "nbformat": 4,
 "nbformat_minor": 5
}
