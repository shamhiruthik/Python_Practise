{
 "cells": [
  {
   "cell_type": "code",
   "execution_count": 4,
   "id": "0a0c2579",
   "metadata": {},
   "outputs": [],
   "source": [
    "A = 7"
   ]
  },
  {
   "cell_type": "code",
   "execution_count": 5,
   "id": "81ff7f9f",
   "metadata": {},
   "outputs": [
    {
     "data": {
      "text/plain": [
       "7"
      ]
     },
     "execution_count": 5,
     "metadata": {},
     "output_type": "execute_result"
    }
   ],
   "source": [
    "A"
   ]
  },
  {
   "cell_type": "code",
   "execution_count": null,
   "id": "95675fa6",
   "metadata": {},
   "outputs": [],
   "source": [
    "# single line comment\n"
   ]
  },
  {
   "cell_type": "code",
   "execution_count": null,
   "id": "c30e376f",
   "metadata": {},
   "outputs": [],
   "source": [
    "a=3 # in line comment"
   ]
  },
  {
   "cell_type": "code",
   "execution_count": null,
   "id": "7ae96480",
   "metadata": {},
   "outputs": [],
   "source": [
    "# this is\n",
    "# a  multi line comment\n",
    "# comment example"
   ]
  },
  {
   "cell_type": "code",
   "execution_count": 7,
   "id": "bb8c68cd",
   "metadata": {},
   "outputs": [
    {
     "data": {
      "text/plain": [
       "'\\nthis is\\na\\nmulti line \\ncomment output in DOCUMENT STRING\\n'"
      ]
     },
     "execution_count": 7,
     "metadata": {},
     "output_type": "execute_result"
    }
   ],
   "source": [
    "\"\"\"\n",
    "this is\n",
    "a\n",
    "multi line \n",
    "comment output in DOCUMENT STRING\n",
    "\"\"\""
   ]
  },
  {
   "cell_type": "code",
   "execution_count": null,
   "id": "f55c7bcb",
   "metadata": {},
   "outputs": [],
   "source": []
  }
 ],
 "metadata": {
  "kernelspec": {
   "display_name": "Python 3 (ipykernel)",
   "language": "python",
   "name": "python3"
  },
  "language_info": {
   "codemirror_mode": {
    "name": "ipython",
    "version": 3
   },
   "file_extension": ".py",
   "mimetype": "text/x-python",
   "name": "python",
   "nbconvert_exporter": "python",
   "pygments_lexer": "ipython3",
   "version": "3.9.13"
  }
 },
 "nbformat": 4,
 "nbformat_minor": 5
}
