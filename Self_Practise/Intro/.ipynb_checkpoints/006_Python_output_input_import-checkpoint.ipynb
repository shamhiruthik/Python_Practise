{
 "cells": [
  {
   "cell_type": "code",
   "execution_count": 1,
   "id": "9400423d",
   "metadata": {},
   "outputs": [
    {
     "name": "stdout",
     "output_type": "stream",
     "text": [
      "sham\n"
     ]
    }
   ],
   "source": [
    "a = \"sham\"\n",
    "print(a)"
   ]
  },
  {
   "cell_type": "code",
   "execution_count": 2,
   "id": "d9fa8374",
   "metadata": {},
   "outputs": [
    {
     "name": "stdout",
     "output_type": "stream",
     "text": [
      "sham Hiruthik\n"
     ]
    }
   ],
   "source": [
    "b = \"sham\"\n",
    "print(a,\"Hiruthik\")"
   ]
  },
  {
   "cell_type": "code",
   "execution_count": null,
   "id": "63ac6e1a",
   "metadata": {},
   "outputs": [],
   "source": [
    "output formatting"
   ]
  },
  {
   "cell_type": "code",
   "execution_count": 4,
   "id": "36f3b4e0",
   "metadata": {},
   "outputs": [
    {
     "name": "stdout",
     "output_type": "stream",
     "text": [
      "sham got 6 and 7\n"
     ]
    }
   ],
   "source": [
    "x = 6\n",
    "y = 7\n",
    "print(\"sham got {} and {}\".format(x,y))"
   ]
  },
  {
   "cell_type": "code",
   "execution_count": 5,
   "id": "bdaac129",
   "metadata": {},
   "outputs": [
    {
     "name": "stdout",
     "output_type": "stream",
     "text": [
      "sham got tharun and abishek\n"
     ]
    }
   ],
   "source": [
    "print(\"sham got {name} and {name2}\".format(name=\"tharun\",name2=\"abishek\"))"
   ]
  },
  {
   "cell_type": "code",
   "execution_count": null,
   "id": "826266b9",
   "metadata": {},
   "outputs": [],
   "source": [
    "#input "
   ]
  },
  {
   "cell_type": "code",
   "execution_count": null,
   "id": "2c910856",
   "metadata": {},
   "outputs": [],
   "source": [
    "num =input(\"enter the no\")\n",
    "num"
   ]
  },
  {
   "cell_type": "code",
   "execution_count": 9,
   "id": "aa750ef7",
   "metadata": {},
   "outputs": [
    {
     "name": "stdout",
     "output_type": "stream",
     "text": [
      "enter the name, age, roll: sham 14 2345\n",
      "sham 14\n"
     ]
    }
   ],
   "source": [
    "name, age, roll = input(\"enter the name, age, roll: \").split()\n",
    "print(name,age)\n"
   ]
  },
  {
   "cell_type": "code",
   "execution_count": null,
   "id": "6820a035",
   "metadata": {},
   "outputs": [],
   "source": [
    "name = input(\"enter the name: \")\n",
    "age = int(input(\"enter the no: \"))\n",
    "year = int(input(\"enter the no: \"))"
   ]
  },
  {
   "cell_type": "code",
   "execution_count": null,
   "id": "c0dddcf6",
   "metadata": {},
   "outputs": [],
   "source": []
  },
  {
   "cell_type": "code",
   "execution_count": null,
   "id": "1e94a421",
   "metadata": {},
   "outputs": [],
   "source": []
  }
 ],
 "metadata": {
  "kernelspec": {
   "display_name": "Python 3 (ipykernel)",
   "language": "python",
   "name": "python3"
  },
  "language_info": {
   "codemirror_mode": {
    "name": "ipython",
    "version": 3
   },
   "file_extension": ".py",
   "mimetype": "text/x-python",
   "name": "python",
   "nbconvert_exporter": "python",
   "pygments_lexer": "ipython3",
   "version": "3.9.13"
  }
 },
 "nbformat": 4,
 "nbformat_minor": 5
}
