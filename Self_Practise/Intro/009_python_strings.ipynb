{
 "cells": [
  {
   "cell_type": "code",
   "execution_count": 7,
   "id": "841d72e5",
   "metadata": {},
   "outputs": [
    {
     "name": "stdout",
     "output_type": "stream",
     "text": [
      "p\n",
      "y\n",
      "t\n",
      "h\n",
      "o\n",
      "n\n"
     ]
    }
   ],
   "source": [
    "lang = \"python\"\n",
    "a,b,c,d,e,f = lang\n",
    "print(a)\n",
    "print(b)\n",
    "print(c)\n",
    "print(d)\n",
    "print(e)\n",
    "print(f)"
   ]
  },
  {
   "cell_type": "code",
   "execution_count": 8,
   "id": "108e0d86",
   "metadata": {},
   "outputs": [
    {
     "data": {
      "text/plain": [
       "'o'"
      ]
     },
     "execution_count": 8,
     "metadata": {},
     "output_type": "execute_result"
    }
   ],
   "source": [
    "lang[4]"
   ]
  },
  {
   "cell_type": "code",
   "execution_count": 9,
   "id": "d65868b4",
   "metadata": {},
   "outputs": [
    {
     "name": "stdout",
     "output_type": "stream",
     "text": [
      "a De\n",
      "Ajant\n",
      "iveD ahtnajA\n",
      "iveD ahtnajA\n",
      "Ajant\n",
      "ntha Devi\n",
      "Ajantha Devi\n"
     ]
    }
   ],
   "source": [
    "s = \"Ajantha Devi\"\n",
    "print(s[6:10])\n",
    "print(s[-12:-7])\n",
    "print(s[-1: : -1])\n",
    "print(s[::-1])\n",
    "print(s[:5])\n",
    "print(s[3:])\n",
    "print(s[:])"
   ]
  },
  {
   "cell_type": "code",
   "execution_count": 10,
   "id": "d3dd0b75",
   "metadata": {},
   "outputs": [
    {
     "name": "stdout",
     "output_type": "stream",
     "text": [
      "('one ', '#', ' two # three')\n"
     ]
    }
   ],
   "source": [
    "s = \"one # two # three\"\n",
    "print(s.partition(\"#\"))\n"
   ]
  },
  {
   "cell_type": "code",
   "execution_count": 11,
   "id": "506be98d",
   "metadata": {},
   "outputs": [
    {
     "data": {
      "text/plain": [
       "'this-was-a-aai'"
      ]
     },
     "execution_count": 11,
     "metadata": {},
     "output_type": "execute_result"
    }
   ],
   "source": [
    "s = ['this','was','a','aai']\n",
    "\"-\".join(s)"
   ]
  },
  {
   "cell_type": "code",
   "execution_count": 12,
   "id": "00f75214",
   "metadata": {},
   "outputs": [
    {
     "data": {
      "text/plain": [
       "'this  was  a  aai'"
      ]
     },
     "execution_count": 12,
     "metadata": {},
     "output_type": "execute_result"
    }
   ],
   "source": [
    "\"  \".join(s)"
   ]
  },
  {
   "cell_type": "code",
   "execution_count": 13,
   "id": "6a465430",
   "metadata": {},
   "outputs": [
    {
     "data": {
      "text/plain": [
       "['this', 'was', 'a', 'aai', 'da', 'thambi']"
      ]
     },
     "execution_count": 13,
     "metadata": {},
     "output_type": "execute_result"
    }
   ],
   "source": [
    "s1  = \"this was a aai da thambi\"\n",
    "s1.split()"
   ]
  },
  {
   "cell_type": "code",
   "execution_count": 14,
   "id": "02c56d02",
   "metadata": {},
   "outputs": [
    {
     "data": {
      "text/plain": [
       "'thiswasaaai'"
      ]
     },
     "execution_count": 14,
     "metadata": {},
     "output_type": "execute_result"
    }
   ],
   "source": [
    "\"\".join(s)"
   ]
  },
  {
   "cell_type": "code",
   "execution_count": 16,
   "id": "8828c870",
   "metadata": {},
   "outputs": [
    {
     "data": {
      "text/plain": [
       "11"
      ]
     },
     "execution_count": 16,
     "metadata": {},
     "output_type": "execute_result"
    }
   ],
   "source": [
    "s1.find(\"aa\")"
   ]
  },
  {
   "cell_type": "code",
   "execution_count": 17,
   "id": "6f533862",
   "metadata": {},
   "outputs": [
    {
     "data": {
      "text/plain": [
       "'this was a 2023 year'"
      ]
     },
     "execution_count": 17,
     "metadata": {},
     "output_type": "execute_result"
    }
   ],
   "source": [
    "v = \"this was a new year\"\n",
    "v.replace(\"new\",\"2023\")"
   ]
  },
  {
   "cell_type": "code",
   "execution_count": 19,
   "id": "08e230ce",
   "metadata": {},
   "outputs": [
    {
     "data": {
      "text/plain": [
       "'hellooo bellooo'"
      ]
     },
     "execution_count": 19,
     "metadata": {},
     "output_type": "execute_result"
    }
   ],
   "source": [
    "a = \"hellooo \"\n",
    "b = \"bellooo\"\n",
    "a+b"
   ]
  },
  {
   "cell_type": "code",
   "execution_count": 20,
   "id": "9fdf06d9",
   "metadata": {},
   "outputs": [
    {
     "data": {
      "text/plain": [
       "'hellooo hellooo '"
      ]
     },
     "execution_count": 20,
     "metadata": {},
     "output_type": "execute_result"
    }
   ],
   "source": [
    "a*2"
   ]
  },
  {
   "cell_type": "code",
   "execution_count": 21,
   "id": "be1a9c03",
   "metadata": {},
   "outputs": [
    {
     "data": {
      "text/plain": [
       "'hellooo  bellooo'"
      ]
     },
     "execution_count": 21,
     "metadata": {},
     "output_type": "execute_result"
    }
   ],
   "source": [
    "a+\" \"+b\n"
   ]
  },
  {
   "cell_type": "code",
   "execution_count": 22,
   "id": "20572470",
   "metadata": {},
   "outputs": [
    {
     "name": "stdout",
     "output_type": "stream",
     "text": [
      "True\n",
      "True\n",
      "False\n"
     ]
    }
   ],
   "source": [
    "str1= \"helloworld\"\n",
    "str2= \"hello\"\n",
    "str3= \"world\"\n",
    "str4= \"sham\"\n",
    "print(str2 in str1)\n",
    "print(str3 in str1)\n",
    "print(str4 in str1)"
   ]
  },
  {
   "cell_type": "code",
   "execution_count": null,
   "id": "6fafb535",
   "metadata": {},
   "outputs": [],
   "source": []
  }
 ],
 "metadata": {
  "kernelspec": {
   "display_name": "Python 3 (ipykernel)",
   "language": "python",
   "name": "python3"
  },
  "language_info": {
   "codemirror_mode": {
    "name": "ipython",
    "version": 3
   },
   "file_extension": ".py",
   "mimetype": "text/x-python",
   "name": "python",
   "nbconvert_exporter": "python",
   "pygments_lexer": "ipython3",
   "version": "3.9.13"
  }
 },
 "nbformat": 4,
 "nbformat_minor": 5
}
