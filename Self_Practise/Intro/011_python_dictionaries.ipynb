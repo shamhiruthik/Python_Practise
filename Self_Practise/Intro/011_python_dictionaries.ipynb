{
 "cells": [
  {
   "cell_type": "code",
   "execution_count": 12,
   "id": "574375d7",
   "metadata": {},
   "outputs": [
    {
     "name": "stdout",
     "output_type": "stream",
     "text": [
      "5\n",
      "{'s': 5, 'k': 7j, 7: [2, 2, 2]}\n"
     ]
    }
   ],
   "source": [
    "s1 = {'s':5,'k':7j, 7:[2,2,2]}\n",
    "print(s1['s'])\n",
    "print(s1)"
   ]
  },
  {
   "cell_type": "code",
   "execution_count": 14,
   "id": "aa71a753",
   "metadata": {},
   "outputs": [
    {
     "name": "stdout",
     "output_type": "stream",
     "text": [
      "[2, 2, 2]\n"
     ]
    }
   ],
   "source": [
    "print(s1[7])"
   ]
  },
  {
   "cell_type": "code",
   "execution_count": 15,
   "id": "13cdb91a",
   "metadata": {},
   "outputs": [],
   "source": [
    "s1[7] = [2,3,4,5,5]"
   ]
  },
  {
   "cell_type": "code",
   "execution_count": 16,
   "id": "db5f7213",
   "metadata": {},
   "outputs": [
    {
     "name": "stdout",
     "output_type": "stream",
     "text": [
      "{'s': 5, 'k': 7j, 7: [2, 3, 4, 5, 5]}\n"
     ]
    }
   ],
   "source": [
    "print(s1)"
   ]
  },
  {
   "cell_type": "code",
   "execution_count": 17,
   "id": "9a68e7aa",
   "metadata": {},
   "outputs": [
    {
     "name": "stdout",
     "output_type": "stream",
     "text": [
      "{'s': 5, 'k': 7j, 7: [2, 3, 4, 5, 5], 'sham': 'muttal'}\n"
     ]
    }
   ],
   "source": [
    "s1['sham'] = \"muttal\"\n",
    "print(s1)"
   ]
  },
  {
   "cell_type": "code",
   "execution_count": 18,
   "id": "1ad137ee",
   "metadata": {},
   "outputs": [
    {
     "data": {
      "text/plain": [
       "'muttal'"
      ]
     },
     "execution_count": 18,
     "metadata": {},
     "output_type": "execute_result"
    }
   ],
   "source": [
    "s1.pop('sham')"
   ]
  },
  {
   "cell_type": "code",
   "execution_count": 19,
   "id": "443fb4ee",
   "metadata": {},
   "outputs": [
    {
     "name": "stdout",
     "output_type": "stream",
     "text": [
      "{'s': 5, 'k': 7j, 7: [2, 3, 4, 5, 5]}\n"
     ]
    }
   ],
   "source": [
    "print(s1)"
   ]
  },
  {
   "cell_type": "code",
   "execution_count": 21,
   "id": "aae05630",
   "metadata": {},
   "outputs": [
    {
     "ename": "TypeError",
     "evalue": "'<' not supported between instances of 'int' and 'str'",
     "output_type": "error",
     "traceback": [
      "\u001b[1;31m---------------------------------------------------------------------------\u001b[0m",
      "\u001b[1;31mTypeError\u001b[0m                                 Traceback (most recent call last)",
      "\u001b[1;32m~\\AppData\\Local\\Temp\\ipykernel_13848\\653179097.py\u001b[0m in \u001b[0;36m<module>\u001b[1;34m\u001b[0m\n\u001b[1;32m----> 1\u001b[1;33m \u001b[0msorted\u001b[0m\u001b[1;33m(\u001b[0m\u001b[0ms1\u001b[0m\u001b[1;33m)\u001b[0m\u001b[1;33m\u001b[0m\u001b[1;33m\u001b[0m\u001b[0m\n\u001b[0m",
      "\u001b[1;31mTypeError\u001b[0m: '<' not supported between instances of 'int' and 'str'"
     ]
    }
   ],
   "source": [
    "sorted(s1)"
   ]
  },
  {
   "cell_type": "code",
   "execution_count": 23,
   "id": "0dc743d1",
   "metadata": {},
   "outputs": [
    {
     "data": {
      "text/plain": [
       "['7', 'k', 's']"
      ]
     },
     "execution_count": 23,
     "metadata": {},
     "output_type": "execute_result"
    }
   ],
   "source": [
    "s2 = {'s': 5, 'k': '7j', '7': [2, 3, 4, 5, 5]}\n",
    "sorted(s2)"
   ]
  },
  {
   "cell_type": "code",
   "execution_count": 24,
   "id": "f1cde0f9",
   "metadata": {},
   "outputs": [
    {
     "name": "stdout",
     "output_type": "stream",
     "text": [
      "{'s': 5, 'k': '7j', '7': [2, 3, 4, 5, 5]}\n"
     ]
    }
   ],
   "source": [
    "s3 = s2.copy()\n",
    "print(s3)"
   ]
  },
  {
   "cell_type": "code",
   "execution_count": 26,
   "id": "633c35e6",
   "metadata": {},
   "outputs": [
    {
     "data": {
      "text/plain": [
       "dict_items([('s', 5), ('k', '7j'), ('7', [2, 3, 4, 5, 5])])"
      ]
     },
     "execution_count": 26,
     "metadata": {},
     "output_type": "execute_result"
    }
   ],
   "source": [
    "s3.items()"
   ]
  },
  {
   "cell_type": "code",
   "execution_count": 27,
   "id": "05440150",
   "metadata": {},
   "outputs": [
    {
     "data": {
      "text/plain": [
       "dict_keys(['s', 'k', '7'])"
      ]
     },
     "execution_count": 27,
     "metadata": {},
     "output_type": "execute_result"
    }
   ],
   "source": [
    "s3.keys()"
   ]
  },
  {
   "cell_type": "code",
   "execution_count": null,
   "id": "da7ac276",
   "metadata": {},
   "outputs": [],
   "source": []
  }
 ],
 "metadata": {
  "kernelspec": {
   "display_name": "Python 3 (ipykernel)",
   "language": "python",
   "name": "python3"
  },
  "language_info": {
   "codemirror_mode": {
    "name": "ipython",
    "version": 3
   },
   "file_extension": ".py",
   "mimetype": "text/x-python",
   "name": "python",
   "nbconvert_exporter": "python",
   "pygments_lexer": "ipython3",
   "version": "3.9.13"
  }
 },
 "nbformat": 4,
 "nbformat_minor": 5
}
