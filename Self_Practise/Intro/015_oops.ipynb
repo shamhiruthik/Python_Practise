{
 "cells": [
  {
   "cell_type": "markdown",
   "id": "0beb96a7",
   "metadata": {},
   "source": [
    "# CLASS OBJECT "
   ]
  },
  {
   "cell_type": "code",
   "execution_count": 1,
   "id": "3a739529",
   "metadata": {},
   "outputs": [],
   "source": [
    "class new_class:\n",
    "    def class_method(self):\n",
    "        print(\"hello\")\n",
    "        "
   ]
  },
  {
   "cell_type": "code",
   "execution_count": 2,
   "id": "47356d69",
   "metadata": {},
   "outputs": [],
   "source": [
    "nc = new_class()"
   ]
  },
  {
   "cell_type": "code",
   "execution_count": 3,
   "id": "1d0423c6",
   "metadata": {},
   "outputs": [
    {
     "name": "stdout",
     "output_type": "stream",
     "text": [
      "hello\n"
     ]
    }
   ],
   "source": [
    "nc.class_method()"
   ]
  },
  {
   "cell_type": "code",
   "execution_count": 6,
   "id": "b290a2bb",
   "metadata": {},
   "outputs": [],
   "source": [
    "class new_class1:\n",
    "    def class_method(self):\n",
    "        self.colour = \"red\"\n",
    "        self.id = 55\n",
    "        print(\"hello\")\n",
    "        "
   ]
  },
  {
   "cell_type": "code",
   "execution_count": 7,
   "id": "901fe3bb",
   "metadata": {},
   "outputs": [],
   "source": [
    "nc1 = new_class1()"
   ]
  },
  {
   "cell_type": "code",
   "execution_count": 9,
   "id": "ea049b03",
   "metadata": {},
   "outputs": [
    {
     "name": "stdout",
     "output_type": "stream",
     "text": [
      "hello\n"
     ]
    }
   ],
   "source": [
    "nc1.class_method()"
   ]
  },
  {
   "cell_type": "code",
   "execution_count": 12,
   "id": "ab018394",
   "metadata": {},
   "outputs": [
    {
     "name": "stdout",
     "output_type": "stream",
     "text": [
      "red\n",
      "55\n"
     ]
    }
   ],
   "source": [
    "print(nc1.colour)\n",
    "print(nc1.id)"
   ]
  },
  {
   "cell_type": "code",
   "execution_count": 23,
   "id": "64776b1f",
   "metadata": {},
   "outputs": [],
   "source": [
    "class new_class1:\n",
    "    def class_method(self):\n",
    "        self.colour = \"red\"\n",
    "        self.id = 55\n",
    "        print(\"hello\")\n",
    "        "
   ]
  },
  {
   "cell_type": "code",
   "execution_count": 17,
   "id": "0bc8bb0d",
   "metadata": {},
   "outputs": [],
   "source": [
    "nc2 = new_class2()"
   ]
  },
  {
   "cell_type": "code",
   "execution_count": 24,
   "id": "6b128ec2",
   "metadata": {},
   "outputs": [
    {
     "name": "stdout",
     "output_type": "stream",
     "text": [
      "hello\n"
     ]
    }
   ],
   "source": [
    "nc2.class_method(\"yellow\",55)"
   ]
  },
  {
   "cell_type": "code",
   "execution_count": 26,
   "id": "38c3d57b",
   "metadata": {},
   "outputs": [
    {
     "name": "stdout",
     "output_type": "stream",
     "text": [
      "yellow\n",
      "55\n"
     ]
    }
   ],
   "source": [
    "print(nc2.colour)\n",
    "print(nc2.id)"
   ]
  },
  {
   "cell_type": "markdown",
   "id": "5a9f8c29",
   "metadata": {},
   "source": [
    "\n",
    "# Constructor "
   ]
  },
  {
   "cell_type": "code",
   "execution_count": 27,
   "id": "69d980d3",
   "metadata": {},
   "outputs": [],
   "source": [
    "class new_class3:\n",
    "    def __init__(self,my_col,my_id):\n",
    "        self.colour = my_col\n",
    "        self.id = my_id\n",
    "    def class_method3(self):\n",
    "        print(self.colour)\n",
    "        print(self.id)\n",
    "        "
   ]
  },
  {
   "cell_type": "code",
   "execution_count": 28,
   "id": "28da685e",
   "metadata": {},
   "outputs": [],
   "source": [
    "nc3 = new_class3(\"purple\",55)"
   ]
  },
  {
   "cell_type": "code",
   "execution_count": 29,
   "id": "a1880b1e",
   "metadata": {},
   "outputs": [
    {
     "name": "stdout",
     "output_type": "stream",
     "text": [
      "purple\n",
      "55\n"
     ]
    }
   ],
   "source": [
    "nc3.class_method3()"
   ]
  },
  {
   "cell_type": "markdown",
   "id": "089c842c",
   "metadata": {},
   "source": [
    "# class memebr vs instance member\n"
   ]
  },
  {
   "cell_type": "code",
   "execution_count": 31,
   "id": "582f800a",
   "metadata": {},
   "outputs": [
    {
     "name": "stdout",
     "output_type": "stream",
     "text": [
      "TN - 59\n",
      "AA 7359\n",
      "No of registration today:  1\n"
     ]
    }
   ],
   "source": [
    "class number_plate:\n",
    "    num_pl = 0 # instance members\n",
    "    def __init__(self,st,rt,num):#classmembers\n",
    "        #instance variables\n",
    "        self.state = st #instance\n",
    "        self.rto = rt\n",
    "        self.number = num\n",
    "        number_plate.num_pl +=1\n",
    "    #instance method    \n",
    "    def info(self):\n",
    "        print(self.state,\"-\", self.rto)\n",
    "        print(self.number)\n",
    "        print(\"No of registration today: \",number_plate.num_pl)\n",
    "num1 = number_plate(\"TN\",\"59\",\"AA 7359\")     \n",
    "num1.info()"
   ]
  },
  {
   "cell_type": "code",
   "execution_count": null,
   "id": "77be0cc1",
   "metadata": {},
   "outputs": [],
   "source": []
  },
  {
   "cell_type": "code",
   "execution_count": null,
   "id": "1c6adc93",
   "metadata": {},
   "outputs": [],
   "source": []
  },
  {
   "cell_type": "code",
   "execution_count": 35,
   "id": "b47b55d9",
   "metadata": {},
   "outputs": [
    {
     "name": "stdout",
     "output_type": "stream",
     "text": [
      "TN - 59\n",
      "AA 7359\n",
      "No of registration today:  1\n"
     ]
    }
   ],
   "source": [
    "class number_plate:\n",
    "    num_pl = 0 # instance members\n",
    "    def __init__(self,st,rt,num):#classmembers\n",
    "        #instance variables\n",
    "        self.state = st #instance\n",
    "        self.rto = rt\n",
    "        self.number = num\n",
    "        number_plate.num_pl +=1\n",
    "    #instance method    \n",
    "    def info(self):\n",
    "        print(self.state,\"-\", self.rto)\n",
    "        print(self.number)\n",
    "        print(\"No of registration today: \",number_plate.num_pl)\n",
    "num1 = number_plate(\"TN\",\"59\",\"AA 7359\")     \n",
    "num1.info()"
   ]
  },
  {
   "cell_type": "code",
   "execution_count": 33,
   "id": "a6ad1020",
   "metadata": {},
   "outputs": [
    {
     "name": "stdout",
     "output_type": "stream",
     "text": [
      "TN - 59\n",
      "AA 7359\n",
      "No of registration today:  2\n"
     ]
    }
   ],
   "source": [
    "num1 = number_plate(\"TN\",\"59\",\"AA 7359\")     \n",
    "num1.info()"
   ]
  },
  {
   "cell_type": "markdown",
   "id": "2e9e34a1",
   "metadata": {},
   "source": [
    "# Inheritance\n"
   ]
  },
  {
   "cell_type": "code",
   "execution_count": null,
   "id": "b1a61aee",
   "metadata": {},
   "outputs": [],
   "source": [
    "class parent():\n",
    "    def set_shape(self,name,area):\n",
    "        self.parent"
   ]
  }
 ],
 "metadata": {
  "kernelspec": {
   "display_name": "Python 3 (ipykernel)",
   "language": "python",
   "name": "python3"
  },
  "language_info": {
   "codemirror_mode": {
    "name": "ipython",
    "version": 3
   },
   "file_extension": ".py",
   "mimetype": "text/x-python",
   "name": "python",
   "nbconvert_exporter": "python",
   "pygments_lexer": "ipython3",
   "version": "3.9.13"
  }
 },
 "nbformat": 4,
 "nbformat_minor": 5
}
