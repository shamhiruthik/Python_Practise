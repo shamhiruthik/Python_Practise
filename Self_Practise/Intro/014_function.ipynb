{
 "cells": [
  {
   "cell_type": "code",
   "execution_count": 1,
   "id": "b26b598d",
   "metadata": {},
   "outputs": [],
   "source": [
    "def my_fun():\n",
    "    print(\"sham eyyyy\")"
   ]
  },
  {
   "cell_type": "code",
   "execution_count": 3,
   "id": "247a82bd",
   "metadata": {},
   "outputs": [
    {
     "name": "stdout",
     "output_type": "stream",
     "text": [
      "sham eyyyy\n"
     ]
    }
   ],
   "source": [
    "my_fun()\n"
   ]
  },
  {
   "cell_type": "code",
   "execution_count": 12,
   "id": "126fb6d9",
   "metadata": {},
   "outputs": [],
   "source": [
    "def eight_table():\n",
    "    for i in range(0,10):\n",
    "        print(\"8 X\",i+1,\"=\",8*(i+1))"
   ]
  },
  {
   "cell_type": "code",
   "execution_count": 13,
   "id": "07362af1",
   "metadata": {},
   "outputs": [
    {
     "name": "stdout",
     "output_type": "stream",
     "text": [
      "8 X 1 = 8\n",
      "8 X 2 = 16\n",
      "8 X 3 = 24\n",
      "8 X 4 = 32\n",
      "8 X 5 = 40\n",
      "8 X 6 = 48\n",
      "8 X 7 = 56\n",
      "8 X 8 = 64\n",
      "8 X 9 = 72\n",
      "8 X 10 = 80\n"
     ]
    }
   ],
   "source": [
    "eight_table()"
   ]
  },
  {
   "cell_type": "code",
   "execution_count": 14,
   "id": "2f616ec0",
   "metadata": {},
   "outputs": [],
   "source": [
    "def show_msg(my_msg, count):\n",
    "    for i in range(count):\n",
    "        print(my_msg)\n",
    "        "
   ]
  },
  {
   "cell_type": "code",
   "execution_count": 15,
   "id": "6b28c4c2",
   "metadata": {},
   "outputs": [
    {
     "name": "stdout",
     "output_type": "stream",
     "text": [
      "hi da sham\n",
      "hi da sham\n",
      "hi da sham\n",
      "hi da sham\n",
      "hi da sham\n"
     ]
    }
   ],
   "source": [
    "show_msg(\"hi da sham\",5)"
   ]
  },
  {
   "cell_type": "code",
   "execution_count": 16,
   "id": "283e0aa4",
   "metadata": {},
   "outputs": [],
   "source": [
    "def add(a,b,c):\n",
    "    result= a+b+c\n",
    "    print(result)\n",
    "    "
   ]
  },
  {
   "cell_type": "code",
   "execution_count": 17,
   "id": "cdfb6df4",
   "metadata": {},
   "outputs": [
    {
     "name": "stdout",
     "output_type": "stream",
     "text": [
      "15\n"
     ]
    }
   ],
   "source": [
    "add(5,5,5)"
   ]
  },
  {
   "cell_type": "markdown",
   "id": "f3b1b67d",
   "metadata": {},
   "source": [
    "# table any"
   ]
  },
  {
   "cell_type": "code",
   "execution_count": 24,
   "id": "55800f56",
   "metadata": {},
   "outputs": [],
   "source": [
    "def table(a):\n",
    "    for i in range(1,11):\n",
    "        print(a,'X',i,'=', a*i)\n",
    "        "
   ]
  },
  {
   "cell_type": "code",
   "execution_count": 25,
   "id": "713dfba9",
   "metadata": {},
   "outputs": [
    {
     "name": "stdout",
     "output_type": "stream",
     "text": [
      "5 X 1 = 5\n",
      "5 X 2 = 10\n",
      "5 X 3 = 15\n",
      "5 X 4 = 20\n",
      "5 X 5 = 25\n",
      "5 X 6 = 30\n",
      "5 X 7 = 35\n",
      "5 X 8 = 40\n",
      "5 X 9 = 45\n",
      "5 X 10 = 50\n"
     ]
    }
   ],
   "source": [
    "table(5)"
   ]
  },
  {
   "cell_type": "markdown",
   "id": "572a13a6",
   "metadata": {},
   "source": [
    "# global,local"
   ]
  },
  {
   "cell_type": "code",
   "execution_count": 30,
   "id": "f3e79233",
   "metadata": {},
   "outputs": [],
   "source": [
    "num1=10\n",
    "def add():\n",
    "    num2=5\n",
    "    result =num1+num2\n",
    "    print(result)\n",
    "    def sub():\n",
    "        num2=5\n",
    "        result =num1+num2\n",
    "        print(result)\n",
    "    "
   ]
  },
  {
   "cell_type": "code",
   "execution_count": 31,
   "id": "f717bd2c",
   "metadata": {},
   "outputs": [
    {
     "data": {
      "text/plain": [
       "10"
      ]
     },
     "execution_count": 31,
     "metadata": {},
     "output_type": "execute_result"
    }
   ],
   "source": [
    "num1\n"
   ]
  },
  {
   "cell_type": "code",
   "execution_count": 28,
   "id": "550958d7",
   "metadata": {},
   "outputs": [
    {
     "name": "stdout",
     "output_type": "stream",
     "text": [
      "15\n"
     ]
    }
   ],
   "source": [
    "add()"
   ]
  },
  {
   "cell_type": "code",
   "execution_count": 29,
   "id": "a73c767b",
   "metadata": {},
   "outputs": [
    {
     "ename": "NameError",
     "evalue": "name 'num2' is not defined",
     "output_type": "error",
     "traceback": [
      "\u001b[1;31m---------------------------------------------------------------------------\u001b[0m",
      "\u001b[1;31mNameError\u001b[0m                                 Traceback (most recent call last)",
      "\u001b[1;32m~\\AppData\\Local\\Temp\\ipykernel_6528\\4181962278.py\u001b[0m in \u001b[0;36m<module>\u001b[1;34m\u001b[0m\n\u001b[1;32m----> 1\u001b[1;33m \u001b[0mnum2\u001b[0m\u001b[1;33m\u001b[0m\u001b[1;33m\u001b[0m\u001b[0m\n\u001b[0m",
      "\u001b[1;31mNameError\u001b[0m: name 'num2' is not defined"
     ]
    }
   ],
   "source": [
    "num2"
   ]
  },
  {
   "cell_type": "code",
   "execution_count": 34,
   "id": "36136421",
   "metadata": {},
   "outputs": [
    {
     "name": "stdout",
     "output_type": "stream",
     "text": [
      "15\n"
     ]
    },
    {
     "ename": "AttributeError",
     "evalue": "'NoneType' object has no attribute 'sub'",
     "output_type": "error",
     "traceback": [
      "\u001b[1;31m---------------------------------------------------------------------------\u001b[0m",
      "\u001b[1;31mAttributeError\u001b[0m                            Traceback (most recent call last)",
      "\u001b[1;32m~\\AppData\\Local\\Temp\\ipykernel_6528\\549414196.py\u001b[0m in \u001b[0;36m<module>\u001b[1;34m\u001b[0m\n\u001b[1;32m----> 1\u001b[1;33m \u001b[0madd\u001b[0m\u001b[1;33m(\u001b[0m\u001b[1;33m)\u001b[0m\u001b[1;33m.\u001b[0m\u001b[0msub\u001b[0m\u001b[1;33m(\u001b[0m\u001b[1;33m)\u001b[0m\u001b[1;33m\u001b[0m\u001b[1;33m\u001b[0m\u001b[0m\n\u001b[0m",
      "\u001b[1;31mAttributeError\u001b[0m: 'NoneType' object has no attribute 'sub'"
     ]
    }
   ],
   "source": [
    "add().sub()"
   ]
  },
  {
   "cell_type": "code",
   "execution_count": null,
   "id": "2c97903f",
   "metadata": {},
   "outputs": [],
   "source": []
  }
 ],
 "metadata": {
  "kernelspec": {
   "display_name": "Python 3 (ipykernel)",
   "language": "python",
   "name": "python3"
  },
  "language_info": {
   "codemirror_mode": {
    "name": "ipython",
    "version": 3
   },
   "file_extension": ".py",
   "mimetype": "text/x-python",
   "name": "python",
   "nbconvert_exporter": "python",
   "pygments_lexer": "ipython3",
   "version": "3.9.13"
  }
 },
 "nbformat": 4,
 "nbformat_minor": 5
}
