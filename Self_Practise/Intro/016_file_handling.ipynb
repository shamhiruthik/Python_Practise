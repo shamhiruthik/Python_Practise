{
 "cells": [
  {
   "cell_type": "markdown",
   "id": "c3542d19",
   "metadata": {},
   "source": [
    "# create,open,write\n"
   ]
  },
  {
   "cell_type": "code",
   "execution_count": 16,
   "id": "5311a373",
   "metadata": {},
   "outputs": [
    {
     "ename": "SyntaxError",
     "evalue": "(unicode error) 'unicodeescape' codec can't decode bytes in position 2-3: truncated \\UXXXXXXXX escape (3234893321.py, line 1)",
     "output_type": "error",
     "traceback": [
      "\u001b[1;36m  File \u001b[1;32m\"C:\\Users\\shamh\\AppData\\Local\\Temp\\ipykernel_18116\\3234893321.py\"\u001b[1;36m, line \u001b[1;32m1\u001b[0m\n\u001b[1;33m    f = open(\"C:\\Users\\shamh\\Desktop\\Guvi\\DS\\Python\\Intro\\test.txt\")\u001b[0m\n\u001b[1;37m                                                                   ^\u001b[0m\n\u001b[1;31mSyntaxError\u001b[0m\u001b[1;31m:\u001b[0m (unicode error) 'unicodeescape' codec can't decode bytes in position 2-3: truncated \\UXXXXXXXX escape\n"
     ]
    }
   ],
   "source": [
    "f = open(\"C:\\Users\\shamh\\Desktop\\Guvi\\DS\\Python\\Intro\\test.txt\")\n",
    "print(f)"
   ]
  },
  {
   "cell_type": "code",
   "execution_count": 21,
   "id": "65a7531b",
   "metadata": {},
   "outputs": [],
   "source": [
    "with open(\"test_1.txt\", \"w\", encoding = \"utf-8\") as f:\n",
    "    f.write(\"hi da sham\\n\")\n",
    "    f.write(\"bye da sham\\n\")    "
   ]
  },
  {
   "cell_type": "code",
   "execution_count": 22,
   "id": "db4aa5d6",
   "metadata": {},
   "outputs": [
    {
     "name": "stdout",
     "output_type": "stream",
     "text": [
      "<_io.TextIOWrapper name='test_1.txt' mode='r' encoding='cp1252'>\n"
     ]
    }
   ],
   "source": [
    "f = open(\"test_1.txt\")\n",
    "print(f)"
   ]
  },
  {
   "cell_type": "code",
   "execution_count": 25,
   "id": "fd2f2e11",
   "metadata": {},
   "outputs": [],
   "source": [
    "with open(\"test_1.txt\", \"a\", encoding = \"utf-8\") as f:\n",
    "    f.write(\"hi da sham\\n\")\n",
    "    f.write(\"bye da sham\\n\")    \n",
    "f.close()    "
   ]
  },
  {
   "cell_type": "markdown",
   "id": "38dde51f",
   "metadata": {},
   "source": [
    "# reading"
   ]
  },
  {
   "cell_type": "code",
   "execution_count": 34,
   "id": "f931e860",
   "metadata": {},
   "outputs": [
    {
     "name": "stdout",
     "output_type": "stream",
     "text": [
      "<class 'str'>\n",
      "hi da sham\n",
      "bye da sham\n",
      "\n",
      "\n",
      "\n"
     ]
    }
   ],
   "source": [
    "f = open(\"test_1.txt\", 'r', encoding='utf-8')\n",
    "text = f.read()\n",
    "print(type(text))\n",
    "print(text)\n",
    "f.close()"
   ]
  },
  {
   "cell_type": "code",
   "execution_count": 35,
   "id": "7b8bd745",
   "metadata": {},
   "outputs": [
    {
     "data": {
      "text/plain": [
       "'hi da sh'"
      ]
     },
     "execution_count": 35,
     "metadata": {},
     "output_type": "execute_result"
    }
   ],
   "source": [
    "f = open(\"test_1.txt\", 'r', encoding='utf-8')\n",
    "f.read(8)"
   ]
  },
  {
   "cell_type": "code",
   "execution_count": 36,
   "id": "ad7a2916",
   "metadata": {},
   "outputs": [
    {
     "data": {
      "text/plain": [
       "'am'"
      ]
     },
     "execution_count": 36,
     "metadata": {},
     "output_type": "execute_result"
    }
   ],
   "source": [
    "f.read(2)"
   ]
  },
  {
   "cell_type": "code",
   "execution_count": 39,
   "id": "a81f3ce0",
   "metadata": {},
   "outputs": [
    {
     "data": {
      "text/plain": [
       "18446744073709551627"
      ]
     },
     "execution_count": 39,
     "metadata": {},
     "output_type": "execute_result"
    }
   ],
   "source": [
    "f.tell()"
   ]
  },
  {
   "cell_type": "code",
   "execution_count": 40,
   "id": "d7b84325",
   "metadata": {},
   "outputs": [],
   "source": [
    "f.close()"
   ]
  },
  {
   "cell_type": "code",
   "execution_count": 42,
   "id": "2125148b",
   "metadata": {},
   "outputs": [
    {
     "name": "stdout",
     "output_type": "stream",
     "text": [
      "current position of pointer: 14\n",
      "hi da sham you\n",
      "hi da sham you are a data scientist for sure\n",
      "bye da sham\n",
      "\n",
      "\n",
      "\n",
      "current position of pointer: 63\n"
     ]
    }
   ],
   "source": [
    "data = open(\"test_1.txt\", 'r', encoding='utf-8')\n",
    "file_data = data.read(14)\n",
    "print(\"current position of pointer:\",data.tell())\n",
    "data.seek(0)\n",
    "full_data = data.read()\n",
    "print(file_data)\n",
    "print(full_data)\n",
    "print(\"current position of pointer:\",data.tell())\n",
    "data.close()\n"
   ]
  },
  {
   "cell_type": "code",
   "execution_count": 43,
   "id": "40dd5437",
   "metadata": {},
   "outputs": [
    {
     "name": "stdout",
     "output_type": "stream",
     "text": [
      "current position of pointer: 14\n",
      "hi da sham you\n",
      "ntist for sure\n",
      "bye da sham\n",
      "\n",
      "\n",
      "\n",
      "current position of pointer: 63\n"
     ]
    }
   ],
   "source": [
    "data = open(\"test_1.txt\", 'r', encoding='utf-8')\n",
    "file_data = data.read(14)\n",
    "print(\"current position of pointer:\",data.tell())\n",
    "data.seek(30)\n",
    "full_data = data.read()\n",
    "print(file_data)\n",
    "print(full_data)\n",
    "print(\"current position of pointer:\",data.tell())\n",
    "data.close()"
   ]
  },
  {
   "cell_type": "code",
   "execution_count": null,
   "id": "45963be8",
   "metadata": {},
   "outputs": [],
   "source": []
  }
 ],
 "metadata": {
  "kernelspec": {
   "display_name": "Python 3 (ipykernel)",
   "language": "python",
   "name": "python3"
  },
  "language_info": {
   "codemirror_mode": {
    "name": "ipython",
    "version": 3
   },
   "file_extension": ".py",
   "mimetype": "text/x-python",
   "name": "python",
   "nbconvert_exporter": "python",
   "pygments_lexer": "ipython3",
   "version": "3.9.13"
  }
 },
 "nbformat": 4,
 "nbformat_minor": 5
}
