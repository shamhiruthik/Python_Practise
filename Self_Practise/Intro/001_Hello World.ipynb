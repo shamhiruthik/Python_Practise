{
 "cells": [
  {
   "cell_type": "code",
   "execution_count": 1,
   "id": "bc193e3c",
   "metadata": {},
   "outputs": [
    {
     "name": "stdout",
     "output_type": "stream",
     "text": [
      "Hello World\n"
     ]
    }
   ],
   "source": [
    "print(\"Hello World\")"
   ]
  },
  {
   "cell_type": "code",
   "execution_count": 3,
   "id": "8d75e749",
   "metadata": {},
   "outputs": [
    {
     "name": "stdout",
     "output_type": "stream",
     "text": [
      "\n",
      "\n",
      "\n",
      "\n",
      "\n",
      "\n",
      "see the blank spaces\n"
     ]
    }
   ],
   "source": [
    "print(5*\"\\n\")\n",
    "print(\"see the blank spaces\")"
   ]
  },
  {
   "cell_type": "code",
   "execution_count": 8,
   "id": "9bd66cba",
   "metadata": {},
   "outputs": [
    {
     "name": "stdout",
     "output_type": "stream",
     "text": [
      "Jan \n",
      "Feb \n",
      "March \n",
      "April\n"
     ]
    }
   ],
   "source": [
    "print(\"Jan \\nFeb \\nMarch \\nApril\")"
   ]
  },
  {
   "cell_type": "code",
   "execution_count": 9,
   "id": "555b57d0",
   "metadata": {},
   "outputs": [
    {
     "name": "stdout",
     "output_type": "stream",
     "text": [
      "Sham Hiruthik R"
     ]
    }
   ],
   "source": [
    "print(\"Sham\", end =' ')\n",
    "print(\"Hiruthik\", end =' R')"
   ]
  },
  {
   "cell_type": "code",
   "execution_count": null,
   "id": "1246b810",
   "metadata": {},
   "outputs": [],
   "source": []
  }
 ],
 "metadata": {
  "kernelspec": {
   "display_name": "Python 3 (ipykernel)",
   "language": "python",
   "name": "python3"
  },
  "language_info": {
   "codemirror_mode": {
    "name": "ipython",
    "version": 3
   },
   "file_extension": ".py",
   "mimetype": "text/x-python",
   "name": "python",
   "nbconvert_exporter": "python",
   "pygments_lexer": "ipython3",
   "version": "3.9.13"
  }
 },
 "nbformat": 4,
 "nbformat_minor": 5
}
