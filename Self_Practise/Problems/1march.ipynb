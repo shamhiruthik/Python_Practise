{
  "nbformat": 4,
  "nbformat_minor": 0,
  "metadata": {
    "colab": {
      "provenance": []
    },
    "kernelspec": {
      "name": "python3",
      "display_name": "Python 3"
    },
    "language_info": {
      "name": "python"
    }
  },
  "cells": [
    {
      "cell_type": "code",
      "execution_count": 7,
      "metadata": {
        "id": "DHtF2IkVWZQN"
      },
      "outputs": [],
      "source": [
        "#tabulate\n",
        "\n",
        "from tabulate import tabulate"
      ]
    },
    {
      "cell_type": "code",
      "source": [
        "data = [['abc',50,100],['ccc',70,100],['bbb',60,100]]"
      ],
      "metadata": {
        "id": "waNdpOX5WdJl"
      },
      "execution_count": 3,
      "outputs": []
    },
    {
      "cell_type": "code",
      "source": [
        "print(data)"
      ],
      "metadata": {
        "colab": {
          "base_uri": "https://localhost:8080/"
        },
        "id": "bZt8ZbWJWhrc",
        "outputId": "33ee0689-d98b-42e5-cf5e-abc0335e12da"
      },
      "execution_count": 4,
      "outputs": [
        {
          "output_type": "stream",
          "name": "stdout",
          "text": [
            "[['abc', 50, 100], ['ccc', 70, 100], ['bbb', 60, 100]]\n"
          ]
        }
      ]
    },
    {
      "cell_type": "code",
      "source": [
        "print(tabulate(data))"
      ],
      "metadata": {
        "colab": {
          "base_uri": "https://localhost:8080/"
        },
        "id": "Day2Q3_uW2Tl",
        "outputId": "00fdd8fe-7612-4732-8f73-9e4f7591a363"
      },
      "execution_count": 8,
      "outputs": [
        {
          "output_type": "stream",
          "name": "stdout",
          "text": [
            "---  --  ---\n",
            "abc  50  100\n",
            "ccc  70  100\n",
            "bbb  60  100\n",
            "---  --  ---\n"
          ]
        }
      ]
    },
    {
      "cell_type": "code",
      "source": [
        "print(tabulate(data,headers =['name','rollno','marks']))"
      ],
      "metadata": {
        "colab": {
          "base_uri": "https://localhost:8080/"
        },
        "id": "gh862XjKXBNn",
        "outputId": "ab18c27c-11e1-41d1-db8a-91cc85dba3ef"
      },
      "execution_count": 9,
      "outputs": [
        {
          "output_type": "stream",
          "name": "stdout",
          "text": [
            "name      rollno    marks\n",
            "------  --------  -------\n",
            "abc           50      100\n",
            "ccc           70      100\n",
            "bbb           60      100\n"
          ]
        }
      ]
    },
    {
      "cell_type": "code",
      "source": [
        "d1 = {'name':['alice','bob'], 'age':[30,70], 'rollno':[1001,1002]}\n",
        "print(d1)"
      ],
      "metadata": {
        "colab": {
          "base_uri": "https://localhost:8080/"
        },
        "id": "2xd-T3D3XMsu",
        "outputId": "bae9dcc4-8a44-42a3-c101-b5b70e1b923b"
      },
      "execution_count": 11,
      "outputs": [
        {
          "output_type": "stream",
          "name": "stdout",
          "text": [
            "{'name': ['alice', 'bob'], 'age': [30, 70], 'rollno': [1001, 1002]}\n"
          ]
        }
      ]
    },
    {
      "cell_type": "code",
      "source": [
        "print(tabulate(d1,headers ='keys'))"
      ],
      "metadata": {
        "colab": {
          "base_uri": "https://localhost:8080/"
        },
        "id": "2tENIXa1Xqg-",
        "outputId": "79741ba3-df37-42d2-f09e-a3abeaaae9fd"
      },
      "execution_count": 15,
      "outputs": [
        {
          "output_type": "stream",
          "name": "stdout",
          "text": [
            "name      age    rollno\n",
            "------  -----  --------\n",
            "alice      30      1001\n",
            "bob        70      1002\n"
          ]
        }
      ]
    },
    {
      "cell_type": "code",
      "source": [
        "print(tabulate(d1,headers = 'firstrow', showindex = 'always', tablefmt = 'html')) #html"
      ],
      "metadata": {
        "colab": {
          "base_uri": "https://localhost:8080/"
        },
        "id": "sDscjO8eY8hw",
        "outputId": "9c8505e6-f7ac-4764-bd3e-5218d7b70761"
      },
      "execution_count": 19,
      "outputs": [
        {
          "output_type": "stream",
          "name": "stdout",
          "text": [
            "<table>\n",
            "<thead>\n",
            "<tr><th style=\"text-align: right;\">  </th><th>alice  </th><th style=\"text-align: right;\">  30</th><th style=\"text-align: right;\">  1001</th></tr>\n",
            "</thead>\n",
            "<tbody>\n",
            "<tr><td style=\"text-align: right;\"> 0</td><td>bob    </td><td style=\"text-align: right;\">  70</td><td style=\"text-align: right;\">  1002</td></tr>\n",
            "</tbody>\n",
            "</table>\n"
          ]
        }
      ]
    },
    {
      "cell_type": "code",
      "source": [
        "print(tabulate(d1,headers = 'firstrow', showindex = 'always', tablefmt = 'fancy_grid'))"
      ],
      "metadata": {
        "colab": {
          "base_uri": "https://localhost:8080/"
        },
        "id": "KIOJUgI6Z8Y4",
        "outputId": "08a3a5e0-82d8-4f2e-a060-d095d3f076a7"
      },
      "execution_count": 22,
      "outputs": [
        {
          "output_type": "stream",
          "name": "stdout",
          "text": [
            "╒════╤═════════╤══════╤════════╕\n",
            "│    │ alice   │   30 │   1001 │\n",
            "╞════╪═════════╪══════╪════════╡\n",
            "│  0 │ bob     │   70 │   1002 │\n",
            "╘════╧═════════╧══════╧════════╛\n"
          ]
        }
      ]
    },
    {
      "cell_type": "code",
      "source": [
        "import numpy as np\n",
        "x1=np.random.randint(1,2000, size = (20,1))\n",
        "x2=np.random.randint(1,2000, size = (20,1))\n",
        "x3=np.random.randint(1,2000, size = (20,1))\n",
        "\n",
        "x1"
      ],
      "metadata": {
        "colab": {
          "base_uri": "https://localhost:8080/"
        },
        "id": "2IMIxTuKi5xj",
        "outputId": "2b3af182-303e-4be1-c024-ec3219899b7c"
      },
      "execution_count": 23,
      "outputs": [
        {
          "output_type": "execute_result",
          "data": {
            "text/plain": [
              "array([[1964],\n",
              "       [1988],\n",
              "       [1470],\n",
              "       [1413],\n",
              "       [ 313],\n",
              "       [ 356],\n",
              "       [1909],\n",
              "       [ 154],\n",
              "       [ 764],\n",
              "       [1533],\n",
              "       [ 548],\n",
              "       [ 350],\n",
              "       [ 290],\n",
              "       [1590],\n",
              "       [1925],\n",
              "       [ 408],\n",
              "       [1608],\n",
              "       [1230],\n",
              "       [ 493],\n",
              "       [ 483]])"
            ]
          },
          "metadata": {},
          "execution_count": 23
        }
      ]
    },
    {
      "cell_type": "code",
      "source": [
        "X = np.concatenate((x1,x2,x3), axis = 1)\n",
        "X"
      ],
      "metadata": {
        "colab": {
          "base_uri": "https://localhost:8080/"
        },
        "id": "OenbOke6ja5p",
        "outputId": "4789787f-dcc8-4648-a5d0-9937944294e7"
      },
      "execution_count": 27,
      "outputs": [
        {
          "output_type": "execute_result",
          "data": {
            "text/plain": [
              "array([[1964, 1083,  858],\n",
              "       [1988, 1858, 1922],\n",
              "       [1470,  796, 1829],\n",
              "       [1413, 1520,  788],\n",
              "       [ 313, 1935,  606],\n",
              "       [ 356, 1050, 1221],\n",
              "       [1909,  986,  486],\n",
              "       [ 154,  175,  827],\n",
              "       [ 764, 1558, 1908],\n",
              "       [1533, 1212,  624],\n",
              "       [ 548, 1396, 1747],\n",
              "       [ 350,   68, 1811],\n",
              "       [ 290, 1307,  143],\n",
              "       [1590,  518, 1837],\n",
              "       [1925,  303, 1114],\n",
              "       [ 408, 1123,  197],\n",
              "       [1608,  703, 1022],\n",
              "       [1230,  449, 1938],\n",
              "       [ 493, 1949,  869],\n",
              "       [ 483,  109,   23]])"
            ]
          },
          "metadata": {},
          "execution_count": 27
        }
      ]
    },
    {
      "cell_type": "code",
      "source": [
        "plt.plo(x1, '')"
      ],
      "metadata": {
        "id": "tXcogSiSj45Y"
      },
      "execution_count": null,
      "outputs": []
    },
    {
      "cell_type": "code",
      "source": [
        "from sklearn.preprocessing import MinMaxScaler"
      ],
      "metadata": {
        "id": "ti_kPPXkkZbX"
      },
      "execution_count": 28,
      "outputs": []
    },
    {
      "cell_type": "code",
      "source": [
        "MMS = MinMaxScaler()"
      ],
      "metadata": {
        "id": "RCf0iXxSkjKc"
      },
      "execution_count": 30,
      "outputs": []
    },
    {
      "cell_type": "code",
      "source": [
        "X_mms = MMS.fit_transform(X)\n",
        "X_mms"
      ],
      "metadata": {
        "colab": {
          "base_uri": "https://localhost:8080/"
        },
        "id": "XKlJaYxwkpar",
        "outputId": "3e8ed712-e388-4e56-9760-0e3bdd437b6b"
      },
      "execution_count": 31,
      "outputs": [
        {
          "output_type": "execute_result",
          "data": {
            "text/plain": [
              "array([[0.98691385, 0.53960659, 0.43603133],\n",
              "       [1.        , 0.95162148, 0.99164491],\n",
              "       [0.71755725, 0.38702818, 0.94308094],\n",
              "       [0.68647764, 0.77192982, 0.39947781],\n",
              "       [0.08669575, 0.99255715, 0.30443864],\n",
              "       [0.11014177, 0.52206273, 0.62558747],\n",
              "       [0.95692475, 0.48803828, 0.24177546],\n",
              "       [0.        , 0.05688464, 0.41984334],\n",
              "       [0.33260632, 0.79213184, 0.9843342 ],\n",
              "       [0.7519084 , 0.60818713, 0.31383812],\n",
              "       [0.21483097, 0.70600744, 0.9002611 ],\n",
              "       [0.10687023, 0.        , 0.93368146],\n",
              "       [0.07415485, 0.65869219, 0.06266319],\n",
              "       [0.782988  , 0.23923445, 0.94725849],\n",
              "       [0.96564885, 0.12493355, 0.56971279],\n",
              "       [0.13849509, 0.56087188, 0.09086162],\n",
              "       [0.79280262, 0.33758639, 0.52167102],\n",
              "       [0.58669575, 0.20255183, 1.        ],\n",
              "       [0.18484188, 1.        , 0.44177546],\n",
              "       [0.17938931, 0.02179692, 0.        ]])"
            ]
          },
          "metadata": {},
          "execution_count": 31
        }
      ]
    },
    {
      "cell_type": "code",
      "source": [
        "X_mms.std(axis = 0)"
      ],
      "metadata": {
        "colab": {
          "base_uri": "https://localhost:8080/"
        },
        "id": "c_tR35Iuk4BW",
        "outputId": "ac81ee98-ce20-46e7-c573-c4afe3fd100d"
      },
      "execution_count": 33,
      "outputs": [
        {
          "output_type": "execute_result",
          "data": {
            "text/plain": [
              "array([0.3589233 , 0.31243703, 0.33171398])"
            ]
          },
          "metadata": {},
          "execution_count": 33
        }
      ]
    }
  ]
}